{
 "cells": [
  {
   "cell_type": "code",
   "execution_count": 1,
   "id": "588ec3c2",
   "metadata": {},
   "outputs": [],
   "source": [
    "import pandas as pd\n",
    "from pandas import json_normalize\n",
    "import yaml\n",
    "import numpy as np\n",
    "\n",
    "import matplotlib.pyplot as plt\n",
    "%matplotlib inline\n",
    "\n",
    "import seaborn as sns\n",
    "from scipy import stats\n",
    "from scipy.stats import norm\n",
    "\n",
    "import sys\n",
    "from collections import defaultdict\n",
    "from collections import Counter\n",
    "\n",
    "import ds_utils_callum\n",
    "import priv_policy_manipulation_functions as priv_pol_funcs"
   ]
  },
  {
   "cell_type": "markdown",
   "id": "2182b009",
   "metadata": {},
   "source": [
    "Story et al. (2019) \"Natural Language Processing for Mobile App Privacy Compliance\", available from https://usableprivacy.org/publications"
   ]
  },
  {
   "cell_type": "code",
   "execution_count": 72,
   "id": "0792268f",
   "metadata": {},
   "outputs": [],
   "source": [
    "annotation_features = pd.read_pickle('annotation_features.pkl')"
   ]
  },
  {
   "cell_type": "code",
   "execution_count": 73,
   "id": "4e0cb869",
   "metadata": {},
   "outputs": [
    {
     "data": {
      "text/html": [
       "<div>\n",
       "<style scoped>\n",
       "    .dataframe tbody tr th:only-of-type {\n",
       "        vertical-align: middle;\n",
       "    }\n",
       "\n",
       "    .dataframe tbody tr th {\n",
       "        vertical-align: top;\n",
       "    }\n",
       "\n",
       "    .dataframe thead th {\n",
       "        text-align: right;\n",
       "    }\n",
       "</style>\n",
       "<table border=\"1\" class=\"dataframe\">\n",
       "  <thead>\n",
       "    <tr style=\"text-align: right;\">\n",
       "      <th></th>\n",
       "      <th>annotation</th>\n",
       "      <th>features</th>\n",
       "    </tr>\n",
       "  </thead>\n",
       "  <tbody>\n",
       "    <tr>\n",
       "      <th>0</th>\n",
       "      <td>Contact</td>\n",
       "      <td>[contact info, contact details, contact data, ...</td>\n",
       "    </tr>\n",
       "    <tr>\n",
       "      <th>1</th>\n",
       "      <td>Contact_Address_Book</td>\n",
       "      <td>[phone book, phonebook, contact information in...</td>\n",
       "    </tr>\n",
       "    <tr>\n",
       "      <th>2</th>\n",
       "      <td>Contact_City</td>\n",
       "      <td>[city, hometown]</td>\n",
       "    </tr>\n",
       "    <tr>\n",
       "      <th>3</th>\n",
       "      <td>Contact_E_Mail_Address</td>\n",
       "      <td>[e-mail address, email address, e-mail and mai...</td>\n",
       "    </tr>\n",
       "    <tr>\n",
       "      <th>4</th>\n",
       "      <td>Contact_Password</td>\n",
       "      <td>[password, authentication process, credential,...</td>\n",
       "    </tr>\n",
       "    <tr>\n",
       "      <th>5</th>\n",
       "      <td>Contact_Phone_Number</td>\n",
       "      <td>[phone, number call]</td>\n",
       "    </tr>\n",
       "    <tr>\n",
       "      <th>6</th>\n",
       "      <td>Contact_Postal_Address</td>\n",
       "      <td>[mailing address, street address,  address,,  ...</td>\n",
       "    </tr>\n",
       "    <tr>\n",
       "      <th>7</th>\n",
       "      <td>Contact_ZIP</td>\n",
       "      <td>[area code, zip code, zip-code, postal code, z...</td>\n",
       "    </tr>\n",
       "    <tr>\n",
       "      <th>8</th>\n",
       "      <td>Demographic</td>\n",
       "      <td>[demographic]</td>\n",
       "    </tr>\n",
       "    <tr>\n",
       "      <th>9</th>\n",
       "      <td>Demographic_Age</td>\n",
       "      <td>[ age , birth]</td>\n",
       "    </tr>\n",
       "    <tr>\n",
       "      <th>10</th>\n",
       "      <td>Demographic_Gender</td>\n",
       "      <td>[gender, male, sex]</td>\n",
       "    </tr>\n",
       "    <tr>\n",
       "      <th>11</th>\n",
       "      <td>Facebook_SSO</td>\n",
       "      <td>[login credentials from one of your accounts, ...</td>\n",
       "    </tr>\n",
       "    <tr>\n",
       "      <th>12</th>\n",
       "      <td>Identifier</td>\n",
       "      <td>[identifier, unique id]</td>\n",
       "    </tr>\n",
       "    <tr>\n",
       "      <th>13</th>\n",
       "      <td>Identifier_Ad_ID</td>\n",
       "      <td>[adid, ad id, advertising id, idfa, identifier...</td>\n",
       "    </tr>\n",
       "    <tr>\n",
       "      <th>14</th>\n",
       "      <td>Identifier_Cookie_or_similar_Tech</td>\n",
       "      <td>[cookie, web beacon, flash cookie, local share...</td>\n",
       "    </tr>\n",
       "    <tr>\n",
       "      <th>15</th>\n",
       "      <td>Identifier_Device_ID</td>\n",
       "      <td>[device id, android id, udid, iphone id, andro...</td>\n",
       "    </tr>\n",
       "    <tr>\n",
       "      <th>16</th>\n",
       "      <td>Identifier_IMEI</td>\n",
       "      <td>[imei, international mobile equipment, equipme...</td>\n",
       "    </tr>\n",
       "    <tr>\n",
       "      <th>17</th>\n",
       "      <td>Identifier_IMSI</td>\n",
       "      <td>[imsi, international mobile subscriber]</td>\n",
       "    </tr>\n",
       "    <tr>\n",
       "      <th>18</th>\n",
       "      <td>Identifier_IP_Address</td>\n",
       "      <td>[internet protocol, ip address, (ip) address, ...</td>\n",
       "    </tr>\n",
       "    <tr>\n",
       "      <th>19</th>\n",
       "      <td>Identifier_MAC</td>\n",
       "      <td>[ mac , media access control, machine id, hard...</td>\n",
       "    </tr>\n",
       "    <tr>\n",
       "      <th>20</th>\n",
       "      <td>Identifier_Mobile_Carrier</td>\n",
       "      <td>[mobile network, mobile carrier, mobile operat...</td>\n",
       "    </tr>\n",
       "    <tr>\n",
       "      <th>21</th>\n",
       "      <td>Identifier_SIM_Serial</td>\n",
       "      <td>[serial number,  sim , subscriber identificati...</td>\n",
       "    </tr>\n",
       "    <tr>\n",
       "      <th>22</th>\n",
       "      <td>Identifier_SSID_BSSID</td>\n",
       "      <td>[wifi name, wi-fi name, names of wifi, names o...</td>\n",
       "    </tr>\n",
       "    <tr>\n",
       "      <th>23</th>\n",
       "      <td>Location</td>\n",
       "      <td>[locat,  geo]</td>\n",
       "    </tr>\n",
       "    <tr>\n",
       "      <th>24</th>\n",
       "      <td>Location_Bluetooth</td>\n",
       "      <td>[devices beacon, device beacon, bluethooth,  p...</td>\n",
       "    </tr>\n",
       "    <tr>\n",
       "      <th>25</th>\n",
       "      <td>Location_Cell_Tower</td>\n",
       "      <td>[base station, cell tower, cell id, network-ba...</td>\n",
       "    </tr>\n",
       "    <tr>\n",
       "      <th>26</th>\n",
       "      <td>Location_GPS</td>\n",
       "      <td>[gps, global position, latitud, longitud,  pre...</td>\n",
       "    </tr>\n",
       "    <tr>\n",
       "      <th>27</th>\n",
       "      <td>Location_IP_Address</td>\n",
       "      <td>[internet protocol, ip address, (ip) address, ...</td>\n",
       "    </tr>\n",
       "    <tr>\n",
       "      <th>28</th>\n",
       "      <td>Location_WiFi</td>\n",
       "      <td>[wifi signal, wifi access point, wifi location...</td>\n",
       "    </tr>\n",
       "    <tr>\n",
       "      <th>29</th>\n",
       "      <td>SSO</td>\n",
       "      <td>[login credentials from one of your accounts, ...</td>\n",
       "    </tr>\n",
       "    <tr>\n",
       "      <th>30</th>\n",
       "      <td>1st_party</td>\n",
       "      <td>[ we ,  you ,  us ,  our , the app, the software]</td>\n",
       "    </tr>\n",
       "    <tr>\n",
       "      <th>31</th>\n",
       "      <td>3rd_party</td>\n",
       "      <td>[partner, third part, third-part, service prov...</td>\n",
       "    </tr>\n",
       "    <tr>\n",
       "      <th>32</th>\n",
       "      <td>PERFORMED</td>\n",
       "      <td>[consent, permission,  opt, collect, access, g...</td>\n",
       "    </tr>\n",
       "    <tr>\n",
       "      <th>33</th>\n",
       "      <td>NOT_PERFORMED</td>\n",
       "      <td>[not collect, no longer collect, not access, n...</td>\n",
       "    </tr>\n",
       "  </tbody>\n",
       "</table>\n",
       "</div>"
      ],
      "text/plain": [
       "                           annotation  \\\n",
       "0                             Contact   \n",
       "1                Contact_Address_Book   \n",
       "2                        Contact_City   \n",
       "3              Contact_E_Mail_Address   \n",
       "4                    Contact_Password   \n",
       "5                Contact_Phone_Number   \n",
       "6              Contact_Postal_Address   \n",
       "7                         Contact_ZIP   \n",
       "8                         Demographic   \n",
       "9                     Demographic_Age   \n",
       "10                 Demographic_Gender   \n",
       "11                       Facebook_SSO   \n",
       "12                         Identifier   \n",
       "13                   Identifier_Ad_ID   \n",
       "14  Identifier_Cookie_or_similar_Tech   \n",
       "15               Identifier_Device_ID   \n",
       "16                    Identifier_IMEI   \n",
       "17                    Identifier_IMSI   \n",
       "18              Identifier_IP_Address   \n",
       "19                     Identifier_MAC   \n",
       "20          Identifier_Mobile_Carrier   \n",
       "21              Identifier_SIM_Serial   \n",
       "22              Identifier_SSID_BSSID   \n",
       "23                           Location   \n",
       "24                 Location_Bluetooth   \n",
       "25                Location_Cell_Tower   \n",
       "26                       Location_GPS   \n",
       "27                Location_IP_Address   \n",
       "28                      Location_WiFi   \n",
       "29                                SSO   \n",
       "30                          1st_party   \n",
       "31                          3rd_party   \n",
       "32                          PERFORMED   \n",
       "33                      NOT_PERFORMED   \n",
       "\n",
       "                                             features  \n",
       "0   [contact info, contact details, contact data, ...  \n",
       "1   [phone book, phonebook, contact information in...  \n",
       "2                                    [city, hometown]  \n",
       "3   [e-mail address, email address, e-mail and mai...  \n",
       "4   [password, authentication process, credential,...  \n",
       "5                                [phone, number call]  \n",
       "6   [mailing address, street address,  address,,  ...  \n",
       "7   [area code, zip code, zip-code, postal code, z...  \n",
       "8                                       [demographic]  \n",
       "9                                      [ age , birth]  \n",
       "10                                [gender, male, sex]  \n",
       "11  [login credentials from one of your accounts, ...  \n",
       "12                            [identifier, unique id]  \n",
       "13  [adid, ad id, advertising id, idfa, identifier...  \n",
       "14  [cookie, web beacon, flash cookie, local share...  \n",
       "15  [device id, android id, udid, iphone id, andro...  \n",
       "16  [imei, international mobile equipment, equipme...  \n",
       "17            [imsi, international mobile subscriber]  \n",
       "18  [internet protocol, ip address, (ip) address, ...  \n",
       "19  [ mac , media access control, machine id, hard...  \n",
       "20  [mobile network, mobile carrier, mobile operat...  \n",
       "21  [serial number,  sim , subscriber identificati...  \n",
       "22  [wifi name, wi-fi name, names of wifi, names o...  \n",
       "23                                      [locat,  geo]  \n",
       "24  [devices beacon, device beacon, bluethooth,  p...  \n",
       "25  [base station, cell tower, cell id, network-ba...  \n",
       "26  [gps, global position, latitud, longitud,  pre...  \n",
       "27  [internet protocol, ip address, (ip) address, ...  \n",
       "28  [wifi signal, wifi access point, wifi location...  \n",
       "29  [login credentials from one of your accounts, ...  \n",
       "30  [ we ,  you ,  us ,  our , the app, the software]  \n",
       "31  [partner, third part, third-part, service prov...  \n",
       "32  [consent, permission,  opt, collect, access, g...  \n",
       "33  [not collect, no longer collect, not access, n...  "
      ]
     },
     "execution_count": 73,
     "metadata": {},
     "output_type": "execute_result"
    }
   ],
   "source": [
    "annotation_features"
   ]
  },
  {
   "cell_type": "markdown",
   "id": "3582f563",
   "metadata": {},
   "source": [
    "## Normalize Whitespace\n",
    "\n",
    "Using `new_string = \" \".join(old_string.split())`.  The `.split()` function considers a range of forms of whitespace.\n",
    "\n",
    "I want to check the length of all the text before and after to see any difference made."
   ]
  },
  {
   "cell_type": "code",
   "execution_count": 81,
   "id": "8ca81b8d",
   "metadata": {},
   "outputs": [
    {
     "data": {
      "text/plain": [
       "'not        collect'"
      ]
     },
     "execution_count": 81,
     "metadata": {},
     "output_type": "execute_result"
    }
   ],
   "source": [
    "annotation_features.iloc[-1,-1][0]"
   ]
  },
  {
   "cell_type": "code",
   "execution_count": 75,
   "id": "696b7366",
   "metadata": {},
   "outputs": [],
   "source": [
    "cleaned_annotation_features = annotation_features.copy()"
   ]
  },
  {
   "cell_type": "code",
   "execution_count": 76,
   "id": "404341f9",
   "metadata": {},
   "outputs": [],
   "source": [
    "# Calculate the total characters in all crafted features\n",
    "def calc_total_chars(df_of_annotation_features):\n",
    "    list_all_crafted_features = [feature for annotation in df_of_annotation_features['features'] for feature in annotation]\n",
    "    total_chars = 0\n",
    "    for phrase in list_all_crafted_features:\n",
    "        total_chars += len(phrase)\n",
    "    return total_chars"
   ]
  },
  {
   "cell_type": "markdown",
   "id": "6d6c8acc",
   "metadata": {},
   "source": [
    "Adding extra whitespace into the final feature to help verify:"
   ]
  },
  {
   "cell_type": "code",
   "execution_count": 77,
   "id": "1bc62de1",
   "metadata": {},
   "outputs": [
    {
     "name": "stdout",
     "output_type": "stream",
     "text": [
      "not collect\n"
     ]
    }
   ],
   "source": [
    "print(cleaned_annotation_features.iloc[-1,-1][0])"
   ]
  },
  {
   "cell_type": "code",
   "execution_count": 78,
   "id": "88804cba",
   "metadata": {},
   "outputs": [
    {
     "data": {
      "text/plain": [
       "9477"
      ]
     },
     "execution_count": 78,
     "metadata": {},
     "output_type": "execute_result"
    }
   ],
   "source": [
    "calc_total_chars(cleaned_annotation_features)"
   ]
  },
  {
   "cell_type": "code",
   "execution_count": 80,
   "id": "d7ac2165",
   "metadata": {},
   "outputs": [
    {
     "name": "stdout",
     "output_type": "stream",
     "text": [
      "not        collect\n"
     ]
    }
   ],
   "source": [
    "cleaned_annotation_features.iloc[-1,-1][0] = \"not        collect\"\n",
    "print(cleaned_annotation_features.iloc[-1,-1][0])"
   ]
  },
  {
   "cell_type": "code",
   "execution_count": 70,
   "id": "e16e42bf",
   "metadata": {},
   "outputs": [
    {
     "data": {
      "text/plain": [
       "9484"
      ]
     },
     "execution_count": 70,
     "metadata": {},
     "output_type": "execute_result"
    }
   ],
   "source": [
    "calc_total_chars(cleaned_annotation_features)"
   ]
  },
  {
   "cell_type": "code",
   "execution_count": null,
   "id": "fdf4d64f",
   "metadata": {},
   "outputs": [],
   "source": []
  },
  {
   "cell_type": "code",
   "execution_count": 82,
   "id": "a62d730f",
   "metadata": {},
   "outputs": [],
   "source": [
    "for list_of_annotations in cleaned_annotation_features['features']:\n",
    "    for feature in list_of_annotations:\n",
    "        feature = \" \".join(feature.split())"
   ]
  },
  {
   "cell_type": "code",
   "execution_count": 84,
   "id": "163c3104",
   "metadata": {},
   "outputs": [
    {
     "data": {
      "text/plain": [
       "9484"
      ]
     },
     "execution_count": 84,
     "metadata": {},
     "output_type": "execute_result"
    }
   ],
   "source": [
    "calc_total_chars(cleaned_annotation_features)"
   ]
  },
  {
   "cell_type": "code",
   "execution_count": 7,
   "id": "f72f8ce0",
   "metadata": {},
   "outputs": [],
   "source": [
    "\n",
    "print(\"The original total characters of all crafted features was: {}\")\n",
    "old_string = \"str\"\n",
    "new_string = \" \".join(old_string.split())"
   ]
  }
 ],
 "metadata": {
  "kernelspec": {
   "display_name": "priv_pol_nlp",
   "language": "python",
   "name": "priv_pol_nlp"
  },
  "language_info": {
   "codemirror_mode": {
    "name": "ipython",
    "version": 3
   },
   "file_extension": ".py",
   "mimetype": "text/x-python",
   "name": "python",
   "nbconvert_exporter": "python",
   "pygments_lexer": "ipython3",
   "version": "3.10.6"
  },
  "toc": {
   "base_numbering": 1,
   "nav_menu": {},
   "number_sections": true,
   "sideBar": true,
   "skip_h1_title": false,
   "title_cell": "Table of Contents",
   "title_sidebar": "Contents",
   "toc_cell": false,
   "toc_position": {},
   "toc_section_display": true,
   "toc_window_display": false
  }
 },
 "nbformat": 4,
 "nbformat_minor": 5
}
