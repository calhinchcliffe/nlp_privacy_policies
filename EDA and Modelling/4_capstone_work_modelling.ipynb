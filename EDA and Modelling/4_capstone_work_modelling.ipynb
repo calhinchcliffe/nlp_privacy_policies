{
 "cells": [
  {
   "cell_type": "markdown",
   "id": "35ceb32c",
   "metadata": {},
   "source": [
    "Dataset and related content taken from Natural Language Processing for Mobile App Privacy Compliance. Peter Story, Sebastian Zimmeck, Abhilasha Ravichander, Daniel Smullen, Ziqi Wang, Joel Reidenberg, N. Cameron Russell, and Norman Sadeh. AAAI Spring Symposium on Privacy Enhancing AI and Language Technologies (PAL 2019), Mar 2019.\n",
    "\n",
    "Available here – APP350: https://usableprivacy.org/data"
   ]
  },
  {
   "cell_type": "markdown",
   "id": "816694eb",
   "metadata": {},
   "source": [
    "EDA should be in the context of my data.  I should state what I expect BEFORE checking for it in the data.\n",
    "\n",
    "Also at the top I can include links, context, goals"
   ]
  },
  {
   "cell_type": "code",
   "execution_count": 1,
   "id": "09c92c4c",
   "metadata": {},
   "outputs": [],
   "source": [
    "import pandas as pd\n",
    "from pandas import json_normalize\n",
    "import yaml\n",
    "import numpy as np\n",
    "\n",
    "import matplotlib.pyplot as plt\n",
    "%matplotlib inline\n",
    "\n",
    "import seaborn as sns\n",
    "from scipy import stats\n",
    "from scipy.stats import norm\n",
    "import statsmodels.api as sm\n",
    "\n",
    "import sys\n",
    "from collections import defaultdict\n",
    "from collections import Counter\n",
    "\n",
    "import ds_utils_callum\n",
    "import priv_policy_manipulation_functions as priv_pol_funcs"
   ]
  },
  {
   "cell_type": "markdown",
   "id": "b562041b",
   "metadata": {},
   "source": [
    "Put the first policy into a df"
   ]
  },
  {
   "cell_type": "markdown",
   "id": "91a814ec",
   "metadata": {},
   "source": [
    "## Populating top-level df"
   ]
  },
  {
   "cell_type": "code",
   "execution_count": 2,
   "id": "78beb882",
   "metadata": {},
   "outputs": [
    {
     "data": {
      "text/html": [
       "<div>\n",
       "<style scoped>\n",
       "    .dataframe tbody tr th:only-of-type {\n",
       "        vertical-align: middle;\n",
       "    }\n",
       "\n",
       "    .dataframe tbody tr th {\n",
       "        vertical-align: top;\n",
       "    }\n",
       "\n",
       "    .dataframe thead th {\n",
       "        text-align: right;\n",
       "    }\n",
       "</style>\n",
       "<table border=\"1\" class=\"dataframe\">\n",
       "  <thead>\n",
       "    <tr style=\"text-align: right;\">\n",
       "      <th></th>\n",
       "      <th>policy_id</th>\n",
       "      <th>policy_name</th>\n",
       "      <th>policy_type</th>\n",
       "      <th>contains_synthetic</th>\n",
       "      <th>segments</th>\n",
       "    </tr>\n",
       "  </thead>\n",
       "  <tbody>\n",
       "    <tr>\n",
       "      <th>0</th>\n",
       "      <td>1</td>\n",
       "      <td>6677G</td>\n",
       "      <td>TEST</td>\n",
       "      <td>False</td>\n",
       "      <td>[{'segment_id': 0, 'segment_text': 'PRIVACY PO...</td>\n",
       "    </tr>\n",
       "    <tr>\n",
       "      <th>1</th>\n",
       "      <td>2</td>\n",
       "      <td>AIFactory</td>\n",
       "      <td>TEST</td>\n",
       "      <td>False</td>\n",
       "      <td>[{'segment_id': 0, 'segment_text': 'AI Factory...</td>\n",
       "    </tr>\n",
       "    <tr>\n",
       "      <th>2</th>\n",
       "      <td>3</td>\n",
       "      <td>AppliqatoSoftware</td>\n",
       "      <td>TEST</td>\n",
       "      <td>False</td>\n",
       "      <td>[{'segment_id': 0, 'segment_text': 'Automatic ...</td>\n",
       "    </tr>\n",
       "    <tr>\n",
       "      <th>3</th>\n",
       "      <td>4</td>\n",
       "      <td>BandaiNamco</td>\n",
       "      <td>TEST</td>\n",
       "      <td>False</td>\n",
       "      <td>[{'segment_id': 0, 'segment_text': 'MOBILE APP...</td>\n",
       "    </tr>\n",
       "    <tr>\n",
       "      <th>4</th>\n",
       "      <td>5</td>\n",
       "      <td>BarcodeScanner</td>\n",
       "      <td>TEST</td>\n",
       "      <td>False</td>\n",
       "      <td>[{'segment_id': 0, 'segment_text': 'Skip to co...</td>\n",
       "    </tr>\n",
       "  </tbody>\n",
       "</table>\n",
       "</div>"
      ],
      "text/plain": [
       "   policy_id        policy_name policy_type  contains_synthetic  \\\n",
       "0          1              6677G        TEST               False   \n",
       "1          2          AIFactory        TEST               False   \n",
       "2          3  AppliqatoSoftware        TEST               False   \n",
       "3          4        BandaiNamco        TEST               False   \n",
       "4          5     BarcodeScanner        TEST               False   \n",
       "\n",
       "                                            segments  \n",
       "0  [{'segment_id': 0, 'segment_text': 'PRIVACY PO...  \n",
       "1  [{'segment_id': 0, 'segment_text': 'AI Factory...  \n",
       "2  [{'segment_id': 0, 'segment_text': 'Automatic ...  \n",
       "3  [{'segment_id': 0, 'segment_text': 'MOBILE APP...  \n",
       "4  [{'segment_id': 0, 'segment_text': 'Skip to co...  "
      ]
     },
     "execution_count": 2,
     "metadata": {},
     "output_type": "execute_result"
    }
   ],
   "source": [
    "all_policies_df = priv_pol_funcs.load_all_policies()\n",
    "all_policies_df.head(5)"
   ]
  },
  {
   "cell_type": "code",
   "execution_count": 3,
   "id": "a07bc455",
   "metadata": {},
   "outputs": [
    {
     "data": {
      "text/html": [
       "<div>\n",
       "<style scoped>\n",
       "    .dataframe tbody tr th:only-of-type {\n",
       "        vertical-align: middle;\n",
       "    }\n",
       "\n",
       "    .dataframe tbody tr th {\n",
       "        vertical-align: top;\n",
       "    }\n",
       "\n",
       "    .dataframe thead th {\n",
       "        text-align: right;\n",
       "    }\n",
       "</style>\n",
       "<table border=\"1\" class=\"dataframe\">\n",
       "  <thead>\n",
       "    <tr style=\"text-align: right;\">\n",
       "      <th></th>\n",
       "      <th>policy_id</th>\n",
       "      <th>policy_name</th>\n",
       "      <th>policy_type</th>\n",
       "      <th>contains_synthetic</th>\n",
       "      <th>segments</th>\n",
       "      <th>num_segments</th>\n",
       "      <th>num_annotated_segs</th>\n",
       "      <th>total_characters</th>\n",
       "    </tr>\n",
       "  </thead>\n",
       "  <tbody>\n",
       "    <tr>\n",
       "      <th>0</th>\n",
       "      <td>1</td>\n",
       "      <td>6677G</td>\n",
       "      <td>TEST</td>\n",
       "      <td>False</td>\n",
       "      <td>[{'segment_id': 0, 'segment_text': 'PRIVACY PO...</td>\n",
       "      <td>36</td>\n",
       "      <td>11</td>\n",
       "      <td>12703</td>\n",
       "    </tr>\n",
       "    <tr>\n",
       "      <th>1</th>\n",
       "      <td>2</td>\n",
       "      <td>AIFactory</td>\n",
       "      <td>TEST</td>\n",
       "      <td>False</td>\n",
       "      <td>[{'segment_id': 0, 'segment_text': 'AI Factory...</td>\n",
       "      <td>14</td>\n",
       "      <td>5</td>\n",
       "      <td>5995</td>\n",
       "    </tr>\n",
       "    <tr>\n",
       "      <th>2</th>\n",
       "      <td>3</td>\n",
       "      <td>AppliqatoSoftware</td>\n",
       "      <td>TEST</td>\n",
       "      <td>False</td>\n",
       "      <td>[{'segment_id': 0, 'segment_text': 'Automatic ...</td>\n",
       "      <td>8</td>\n",
       "      <td>1</td>\n",
       "      <td>2450</td>\n",
       "    </tr>\n",
       "    <tr>\n",
       "      <th>3</th>\n",
       "      <td>4</td>\n",
       "      <td>BandaiNamco</td>\n",
       "      <td>TEST</td>\n",
       "      <td>False</td>\n",
       "      <td>[{'segment_id': 0, 'segment_text': 'MOBILE APP...</td>\n",
       "      <td>57</td>\n",
       "      <td>14</td>\n",
       "      <td>32323</td>\n",
       "    </tr>\n",
       "    <tr>\n",
       "      <th>4</th>\n",
       "      <td>5</td>\n",
       "      <td>BarcodeScanner</td>\n",
       "      <td>TEST</td>\n",
       "      <td>False</td>\n",
       "      <td>[{'segment_id': 0, 'segment_text': 'Skip to co...</td>\n",
       "      <td>32</td>\n",
       "      <td>3</td>\n",
       "      <td>6667</td>\n",
       "    </tr>\n",
       "  </tbody>\n",
       "</table>\n",
       "</div>"
      ],
      "text/plain": [
       "   policy_id        policy_name policy_type  contains_synthetic  \\\n",
       "0          1              6677G        TEST               False   \n",
       "1          2          AIFactory        TEST               False   \n",
       "2          3  AppliqatoSoftware        TEST               False   \n",
       "3          4        BandaiNamco        TEST               False   \n",
       "4          5     BarcodeScanner        TEST               False   \n",
       "\n",
       "                                            segments  num_segments  \\\n",
       "0  [{'segment_id': 0, 'segment_text': 'PRIVACY PO...            36   \n",
       "1  [{'segment_id': 0, 'segment_text': 'AI Factory...            14   \n",
       "2  [{'segment_id': 0, 'segment_text': 'Automatic ...             8   \n",
       "3  [{'segment_id': 0, 'segment_text': 'MOBILE APP...            57   \n",
       "4  [{'segment_id': 0, 'segment_text': 'Skip to co...            32   \n",
       "\n",
       "   num_annotated_segs  total_characters  \n",
       "0                  11             12703  \n",
       "1                   5              5995  \n",
       "2                   1              2450  \n",
       "3                  14             32323  \n",
       "4                   3              6667  "
      ]
     },
     "execution_count": 3,
     "metadata": {},
     "output_type": "execute_result"
    }
   ],
   "source": [
    "all_policies_df = priv_pol_funcs.add_metadata_to_policy_df(all_policies_df)\n",
    "all_policies_df.head(5)"
   ]
  },
  {
   "cell_type": "markdown",
   "id": "dc7e4abe",
   "metadata": {},
   "source": [
    "# Making segments"
   ]
  },
  {
   "cell_type": "markdown",
   "id": "839b9e7c",
   "metadata": {},
   "source": [
    "Now to make a new dataframe where each row represents a paragraph (segment).\n",
    "\n",
    "First I will get this to work for a single policy. Then I will loop through all the policies to apply the same manipulation."
   ]
  },
  {
   "cell_type": "code",
   "execution_count": 4,
   "id": "0c936160",
   "metadata": {
    "scrolled": false
   },
   "outputs": [
    {
     "data": {
      "text/html": [
       "<div>\n",
       "<style scoped>\n",
       "    .dataframe tbody tr th:only-of-type {\n",
       "        vertical-align: middle;\n",
       "    }\n",
       "\n",
       "    .dataframe tbody tr th {\n",
       "        vertical-align: top;\n",
       "    }\n",
       "\n",
       "    .dataframe thead th {\n",
       "        text-align: right;\n",
       "    }\n",
       "</style>\n",
       "<table border=\"1\" class=\"dataframe\">\n",
       "  <thead>\n",
       "    <tr style=\"text-align: right;\">\n",
       "      <th></th>\n",
       "      <th>source_policy_number</th>\n",
       "      <th>policy_segment_id</th>\n",
       "      <th>segment_text</th>\n",
       "      <th>annotations</th>\n",
       "      <th>sentences</th>\n",
       "    </tr>\n",
       "    <tr>\n",
       "      <th>segment_id</th>\n",
       "      <th></th>\n",
       "      <th></th>\n",
       "      <th></th>\n",
       "      <th></th>\n",
       "      <th></th>\n",
       "    </tr>\n",
       "  </thead>\n",
       "  <tbody>\n",
       "    <tr>\n",
       "      <th>0</th>\n",
       "      <td>1</td>\n",
       "      <td>0</td>\n",
       "      <td>PRIVACY POLICY This privacy policy (hereafter ...</td>\n",
       "      <td>[]</td>\n",
       "      <td>[]</td>\n",
       "    </tr>\n",
       "    <tr>\n",
       "      <th>1</th>\n",
       "      <td>1</td>\n",
       "      <td>1</td>\n",
       "      <td>1. ABOUT OUR PRODUCTS 1.1 Our products offer a...</td>\n",
       "      <td>[]</td>\n",
       "      <td>[]</td>\n",
       "    </tr>\n",
       "    <tr>\n",
       "      <th>2</th>\n",
       "      <td>1</td>\n",
       "      <td>2</td>\n",
       "      <td>2. THE INFORMATION WE COLLECT The information ...</td>\n",
       "      <td>[{'practice': 'Identifier_Cookie_or_similar_Te...</td>\n",
       "      <td>[{'sentence_text': 'IP ADDRESS, COOKIES, AND W...</td>\n",
       "    </tr>\n",
       "    <tr>\n",
       "      <th>3</th>\n",
       "      <td>1</td>\n",
       "      <td>3</td>\n",
       "      <td>2.2 In addition, we store certain information ...</td>\n",
       "      <td>[{'practice': 'Identifier_Cookie_or_similar_Te...</td>\n",
       "      <td>[{'sentence_text': '6677g may use cookies, web...</td>\n",
       "    </tr>\n",
       "    <tr>\n",
       "      <th>4</th>\n",
       "      <td>1</td>\n",
       "      <td>4</td>\n",
       "      <td>(c) to remember your preferences and registrat...</td>\n",
       "      <td>[]</td>\n",
       "      <td>[]</td>\n",
       "    </tr>\n",
       "  </tbody>\n",
       "</table>\n",
       "</div>"
      ],
      "text/plain": [
       "            source_policy_number  policy_segment_id  \\\n",
       "segment_id                                            \n",
       "0                              1                  0   \n",
       "1                              1                  1   \n",
       "2                              1                  2   \n",
       "3                              1                  3   \n",
       "4                              1                  4   \n",
       "\n",
       "                                                 segment_text  \\\n",
       "segment_id                                                      \n",
       "0           PRIVACY POLICY This privacy policy (hereafter ...   \n",
       "1           1. ABOUT OUR PRODUCTS 1.1 Our products offer a...   \n",
       "2           2. THE INFORMATION WE COLLECT The information ...   \n",
       "3           2.2 In addition, we store certain information ...   \n",
       "4           (c) to remember your preferences and registrat...   \n",
       "\n",
       "                                                  annotations  \\\n",
       "segment_id                                                      \n",
       "0                                                          []   \n",
       "1                                                          []   \n",
       "2           [{'practice': 'Identifier_Cookie_or_similar_Te...   \n",
       "3           [{'practice': 'Identifier_Cookie_or_similar_Te...   \n",
       "4                                                          []   \n",
       "\n",
       "                                                    sentences  \n",
       "segment_id                                                     \n",
       "0                                                          []  \n",
       "1                                                          []  \n",
       "2           [{'sentence_text': 'IP ADDRESS, COOKIES, AND W...  \n",
       "3           [{'sentence_text': '6677g may use cookies, web...  \n",
       "4                                                          []  "
      ]
     },
     "execution_count": 4,
     "metadata": {},
     "output_type": "execute_result"
    }
   ],
   "source": [
    "all_segments_df = priv_pol_funcs.generate_segment_df(all_policies_df)\n",
    "all_segments_df.head()"
   ]
  },
  {
   "cell_type": "code",
   "execution_count": 5,
   "id": "fd922f90",
   "metadata": {},
   "outputs": [
    {
     "data": {
      "text/plain": [
       "(15543, 5)"
      ]
     },
     "execution_count": 5,
     "metadata": {},
     "output_type": "execute_result"
    }
   ],
   "source": [
    "all_segments_df.shape"
   ]
  },
  {
   "cell_type": "code",
   "execution_count": 6,
   "id": "f736bc2e",
   "metadata": {},
   "outputs": [
    {
     "name": "stdout",
     "output_type": "stream",
     "text": [
      "<class 'pandas.core.frame.DataFrame'>\n",
      "RangeIndex: 15543 entries, 0 to 15542\n",
      "Data columns (total 5 columns):\n",
      " #   Column                Non-Null Count  Dtype \n",
      "---  ------                --------------  ----- \n",
      " 0   source_policy_number  15543 non-null  int64 \n",
      " 1   policy_segment_id     15543 non-null  int64 \n",
      " 2   segment_text          15543 non-null  object\n",
      " 3   annotations           15543 non-null  object\n",
      " 4   sentences             15543 non-null  object\n",
      "dtypes: int64(2), object(3)\n",
      "memory usage: 607.3+ KB\n"
     ]
    }
   ],
   "source": [
    "all_segments_df.info()"
   ]
  },
  {
   "cell_type": "markdown",
   "id": "817ac65c",
   "metadata": {},
   "source": [
    "# Next step of extraction"
   ]
  },
  {
   "cell_type": "markdown",
   "id": "f4980ec4",
   "metadata": {},
   "source": [
    "I probably want to separate it out to the sentence level, as that is the max granularity of the annotations and some paragraphs are just one sentence anyway."
   ]
  },
  {
   "cell_type": "code",
   "execution_count": 7,
   "id": "9615cce6",
   "metadata": {},
   "outputs": [
    {
     "data": {
      "text/plain": [
       "source_policy_number                                                    1\n",
       "policy_segment_id                                                       2\n",
       "segment_text            2. THE INFORMATION WE COLLECT The information ...\n",
       "annotations             [{'practice': 'Identifier_Cookie_or_similar_Te...\n",
       "sentences               [{'sentence_text': 'IP ADDRESS, COOKIES, AND W...\n",
       "Name: 2, dtype: object"
      ]
     },
     "execution_count": 7,
     "metadata": {},
     "output_type": "execute_result"
    }
   ],
   "source": [
    "all_segments_df.loc[2,:]"
   ]
  },
  {
   "cell_type": "code",
   "execution_count": 8,
   "id": "fb72a39a",
   "metadata": {},
   "outputs": [
    {
     "data": {
      "text/plain": [
       "\"2. THE INFORMATION WE COLLECT The information that our products collect includes (among others) the following: A) IP ADDRESS, COOKIES, AND WEB BEACONS 2.1 When you visit our products, our servers automatically save your computer's IP address. IP addresses will be collected, along with information about the actual web pages that you visit on our products. If you arrive at our products via a link from another product, the URL of the linking product and the URL of any product that you link to next will also be collected.\""
      ]
     },
     "execution_count": 8,
     "metadata": {},
     "output_type": "execute_result"
    }
   ],
   "source": [
    "all_segments_df.loc[2, 'segment_text']"
   ]
  },
  {
   "cell_type": "code",
   "execution_count": 9,
   "id": "8e4f3bfa",
   "metadata": {},
   "outputs": [
    {
     "data": {
      "text/plain": [
       "[{'practice': 'Identifier_Cookie_or_similar_Tech_1stParty',\n",
       "  'modality': 'PERFORMED'},\n",
       " {'practice': 'Identifier_IP_Address_1stParty', 'modality': 'PERFORMED'}]"
      ]
     },
     "execution_count": 9,
     "metadata": {},
     "output_type": "execute_result"
    }
   ],
   "source": [
    "all_segments_df.loc[2, 'annotations']"
   ]
  },
  {
   "cell_type": "code",
   "execution_count": 10,
   "id": "9c662776",
   "metadata": {},
   "outputs": [
    {
     "data": {
      "text/plain": [
       "[{'sentence_text': 'IP ADDRESS, COOKIES, AND WEB BEACONS',\n",
       "  'annotations': [{'practice': 'Identifier_Cookie_or_similar_Tech_1stParty',\n",
       "    'modality': 'PERFORMED'},\n",
       "   {'practice': 'Identifier_IP_Address_1stParty', 'modality': 'PERFORMED'}]},\n",
       " {'sentence_text': 'IP addresses will be collected, along with information about the actual web pages that you visit on our products.',\n",
       "  'annotations': [{'practice': 'Identifier_IP_Address_1stParty',\n",
       "    'modality': 'PERFORMED'}]},\n",
       " {'sentence_text': 'The information that our products collect includes (among others) the following:',\n",
       "  'annotations': [{'practice': 'Identifier_Cookie_or_similar_Tech_1stParty',\n",
       "    'modality': 'PERFORMED'},\n",
       "   {'practice': 'Identifier_IP_Address_1stParty', 'modality': 'PERFORMED'}]},\n",
       " {'sentence_text': \"When you visit our products, our servers automatically save your computer's IP address.\",\n",
       "  'annotations': [{'practice': 'Identifier_IP_Address_1stParty',\n",
       "    'modality': 'PERFORMED'}]}]"
      ]
     },
     "execution_count": 10,
     "metadata": {},
     "output_type": "execute_result"
    }
   ],
   "source": [
    "all_segments_df.loc[2, 'sentences']"
   ]
  },
  {
   "cell_type": "code",
   "execution_count": 11,
   "id": "5f4d8948",
   "metadata": {},
   "outputs": [
    {
     "data": {
      "text/plain": [
       "'2.2 In addition, we store certain information from your browser, using \"cookies.\" A cookie is a piece of data stored on the user\\'s computer and is tied to information about the user. 6677g may use cookies, web beacons (web bugs), or similar technologies to enhance and personalize your experience on our products, including the following: (a) to operate and improve offerings on our products; (b) to help authenticate you when you are on our products;'"
      ]
     },
     "execution_count": 11,
     "metadata": {},
     "output_type": "execute_result"
    }
   ],
   "source": [
    "all_segments_df.loc[3, 'segment_text']"
   ]
  },
  {
   "cell_type": "code",
   "execution_count": 12,
   "id": "3a1edebb",
   "metadata": {},
   "outputs": [
    {
     "data": {
      "text/plain": [
       "'(c) to remember your preferences and registration information, as applicable;'"
      ]
     },
     "execution_count": 12,
     "metadata": {},
     "output_type": "execute_result"
    }
   ],
   "source": [
    "all_segments_df.loc[4, 'segment_text']"
   ]
  },
  {
   "cell_type": "code",
   "execution_count": 13,
   "id": "8a0c85ed",
   "metadata": {},
   "outputs": [
    {
     "data": {
      "text/plain": [
       "'(d) to present and help measure and research the effectiveness of 6677g offerings, advertisements, and email communications; and'"
      ]
     },
     "execution_count": 13,
     "metadata": {},
     "output_type": "execute_result"
    }
   ],
   "source": [
    "all_segments_df.loc[5, 'segment_text']"
   ]
  },
  {
   "cell_type": "code",
   "execution_count": 14,
   "id": "c7259779",
   "metadata": {},
   "outputs": [
    {
     "data": {
      "text/plain": [
       "'(e) to customize the content and advertisements provided to you through our products.'"
      ]
     },
     "execution_count": 14,
     "metadata": {},
     "output_type": "execute_result"
    }
   ],
   "source": [
    "all_segments_df.loc[6, 'segment_text']"
   ]
  },
  {
   "cell_type": "code",
   "execution_count": 15,
   "id": "5b085dca",
   "metadata": {},
   "outputs": [
    {
     "data": {
      "text/plain": [
       "'2.3 6677g may also use ad network providers to help present advertisements on our products. These ad network providers use cookies, web beacons, or similar technologies to help the presenting, better targeting, and measuring of the effectiveness of their advertisements, using data gathered over time and across their networks of web pages to determine or predict the characteristics and preferences of their audiences. 6677g offers some services in connection with other products. Personal information that you provide to those sites may be sent to 6677g in order to deliver these services. 6677g processes such information in accordance with this Privacy Policy.'"
      ]
     },
     "execution_count": 15,
     "metadata": {},
     "output_type": "execute_result"
    }
   ],
   "source": [
    "all_segments_df.loc[7, 'segment_text']"
   ]
  },
  {
   "cell_type": "markdown",
   "id": "53abaef1",
   "metadata": {},
   "source": [
    "I probably want to separate it out to the sentence level, as that is the max granularity of the annotations and some paragraphs are just one sentence anyway."
   ]
  },
  {
   "cell_type": "markdown",
   "id": "afb62815",
   "metadata": {},
   "source": [
    "## Extracting list of practices"
   ]
  },
  {
   "cell_type": "markdown",
   "id": "44a03476",
   "metadata": {},
   "source": [
    "Employing my function to get the list of practices from the APP documentation"
   ]
  },
  {
   "cell_type": "code",
   "execution_count": 21,
   "id": "b0210c34",
   "metadata": {},
   "outputs": [
    {
     "name": "stdout",
     "output_type": "stream",
     "text": [
      "29 different groups of practices returned, containing 58 individual practices.\n"
     ]
    }
   ],
   "source": [
    "list_of_practice_groups = priv_pol_funcs.get_list_of_practice_groups()"
   ]
  },
  {
   "cell_type": "code",
   "execution_count": 27,
   "id": "9f867dbd",
   "metadata": {},
   "outputs": [
    {
     "name": "stdout",
     "output_type": "stream",
     "text": [
      "There are 58 different practices.\n"
     ]
    }
   ],
   "source": [
    "# Expand the list of list with a list comprehension\n",
    "list_of_practices = [practice for practice_group in list_of_practice_groups for practice in practice_group]\n",
    "print(f\"There are {len(list_of_practices)} different practices.\")"
   ]
  },
  {
   "cell_type": "code",
   "execution_count": 23,
   "id": "5cf00bf9",
   "metadata": {},
   "outputs": [
    {
     "data": {
      "text/plain": [
       "['Contact_1stParty',\n",
       " 'Contact_3rdParty',\n",
       " 'Contact_Address_Book_1stParty',\n",
       " 'Contact_Address_Book_3rdParty',\n",
       " 'Contact_City_1stParty']"
      ]
     },
     "execution_count": 23,
     "metadata": {},
     "output_type": "execute_result"
    }
   ],
   "source": [
    "list_of_practices[:5]"
   ]
  },
  {
   "cell_type": "markdown",
   "id": "5d99ae0e",
   "metadata": {},
   "source": [
    "## Applying all annotations to columns in segment dataframe"
   ]
  },
  {
   "cell_type": "code",
   "execution_count": 115,
   "id": "502cae48",
   "metadata": {},
   "outputs": [
    {
     "name": "stdout",
     "output_type": "stream",
     "text": [
      "The shape of the segment_annotations dataframe is (15543, 63)\n"
     ]
    }
   ],
   "source": [
    "segment_annotations = all_segments_df.copy()\n",
    "\n",
    "annotation_df = pd.DataFrame( data = 0, columns = list_of_practices, index = range(len(all_segments_df)) ) \n",
    "# make the list of annotations into columns\n",
    "\n",
    "segment_annotations = pd.concat([segment_annotations, annotation_df], axis=1) \n",
    "# put the columns onto the segment dataframe\n",
    "\n",
    "print(f\"The shape of the segment_annotations dataframe is {segment_annotations.shape}\") # Verify"
   ]
  },
  {
   "cell_type": "code",
   "execution_count": 50,
   "id": "585826f5",
   "metadata": {},
   "outputs": [],
   "source": [
    "# segment_annotations.head(2) # Verify columns added"
   ]
  },
  {
   "cell_type": "code",
   "execution_count": 117,
   "id": "8e237559",
   "metadata": {},
   "outputs": [],
   "source": [
    "for index in range(len(segment_annotations)):\n",
    "    practices_dictionaries = segment_annotations.loc[index, 'annotations']\n",
    "    for each_practice in practices_dictionaries:\n",
    "        segment_annotations.loc[index, each_practice['practice']] += 1"
   ]
  },
  {
   "cell_type": "code",
   "execution_count": 113,
   "id": "217dd145",
   "metadata": {},
   "outputs": [
    {
     "data": {
      "text/plain": [
       "4"
      ]
     },
     "execution_count": 113,
     "metadata": {},
     "output_type": "execute_result"
    }
   ],
   "source": [
    "# Verify final row annotated\n",
    "segment_annotations.iloc[15542,5:].sum()"
   ]
  },
  {
   "cell_type": "code",
   "execution_count": 123,
   "id": "18d7f3e9",
   "metadata": {},
   "outputs": [
    {
     "data": {
      "text/plain": [
       "Contact_1stParty                              1\n",
       "Contact_3rdParty                              1\n",
       "Contact_Address_Book_1stParty                 1\n",
       "Contact_Address_Book_3rdParty                 1\n",
       "Contact_City_1stParty                         1\n",
       "Contact_City_3rdParty                         1\n",
       "Contact_E_Mail_Address_1stParty               2\n",
       "Contact_E_Mail_Address_3rdParty               1\n",
       "Contact_Password_1stParty                     1\n",
       "Contact_Password_3rdParty                     1\n",
       "Contact_Phone_Number_1stParty                 1\n",
       "Contact_Phone_Number_3rdParty                 1\n",
       "Contact_Postal_Address_1stParty               1\n",
       "Contact_Postal_Address_3rdParty               1\n",
       "Contact_ZIP_1stParty                          1\n",
       "Contact_ZIP_3rdParty                          1\n",
       "Demographic_1stParty                          1\n",
       "Demographic_3rdParty                          1\n",
       "Demographic_Age_1stParty                      1\n",
       "Demographic_Age_3rdParty                      1\n",
       "Demographic_Gender_1stParty                   1\n",
       "Demographic_Gender_3rdParty                   1\n",
       "SSO                                           1\n",
       "Facebook_SSO                                  1\n",
       "Identifier_1stParty                           1\n",
       "Identifier_3rdParty                           1\n",
       "Identifier_Ad_ID_1stParty                     1\n",
       "Identifier_Ad_ID_3rdParty                     1\n",
       "Identifier_Cookie_or_similar_Tech_1stParty    1\n",
       "Identifier_Cookie_or_similar_Tech_3rdParty    1\n",
       "Identifier_Device_ID_1stParty                 1\n",
       "Identifier_Device_ID_3rdParty                 1\n",
       "Identifier_IMEI_1stParty                      1\n",
       "Identifier_IMEI_3rdParty                      1\n",
       "Identifier_IMSI_1stParty                      1\n",
       "Identifier_IMSI_3rdParty                      1\n",
       "Identifier_IP_Address_1stParty                1\n",
       "Identifier_IP_Address_3rdParty                1\n",
       "Identifier_MAC_1stParty                       1\n",
       "Identifier_MAC_3rdParty                       1\n",
       "Identifier_Mobile_Carrier_1stParty            1\n",
       "Identifier_Mobile_Carrier_3rdParty            1\n",
       "Identifier_SIM_Serial_1stParty                1\n",
       "Identifier_SIM_Serial_3rdParty                1\n",
       "Identifier_SSID_BSSID_1stParty                1\n",
       "Identifier_SSID_BSSID_3rdParty                1\n",
       "Location_1stParty                             2\n",
       "Location_3rdParty                             1\n",
       "Location_Bluetooth_1stParty                   1\n",
       "Location_Bluetooth_3rdParty                   1\n",
       "Location_Cell_Tower_1stParty                  1\n",
       "Location_Cell_Tower_3rdParty                  1\n",
       "Location_GPS_1stParty                         1\n",
       "Location_GPS_3rdParty                         1\n",
       "Location_IP_Address_1stParty                  1\n",
       "Location_IP_Address_3rdParty                  1\n",
       "Location_WiFi_1stParty                        1\n",
       "Location_WiFi_3rdParty                        1\n",
       "dtype: int64"
      ]
     },
     "execution_count": 123,
     "metadata": {},
     "output_type": "execute_result"
    }
   ],
   "source": [
    "# Any paragraphs with more than one of the same annotation?\n",
    "segment_annotations.iloc[:,5:].max() # axis? Is this a pandas function?"
   ]
  },
  {
   "cell_type": "markdown",
   "id": "9a00aff3",
   "metadata": {},
   "source": [
    "Two rows to investigate."
   ]
  },
  {
   "cell_type": "code",
   "execution_count": 124,
   "id": "43aad65e",
   "metadata": {},
   "outputs": [
    {
     "ename": "KeyError",
     "evalue": "0",
     "output_type": "error",
     "traceback": [
      "\u001b[0;31m---------------------------------------------------------------------------\u001b[0m",
      "\u001b[0;31mKeyError\u001b[0m                                  Traceback (most recent call last)",
      "File \u001b[0;32m~/opt/anaconda3/lib/python3.9/site-packages/pandas/core/indexes/base.py:3621\u001b[0m, in \u001b[0;36mIndex.get_loc\u001b[0;34m(self, key, method, tolerance)\u001b[0m\n\u001b[1;32m   3620\u001b[0m \u001b[38;5;28;01mtry\u001b[39;00m:\n\u001b[0;32m-> 3621\u001b[0m     \u001b[38;5;28;01mreturn\u001b[39;00m \u001b[38;5;28;43mself\u001b[39;49m\u001b[38;5;241;43m.\u001b[39;49m\u001b[43m_engine\u001b[49m\u001b[38;5;241;43m.\u001b[39;49m\u001b[43mget_loc\u001b[49m\u001b[43m(\u001b[49m\u001b[43mcasted_key\u001b[49m\u001b[43m)\u001b[49m\n\u001b[1;32m   3622\u001b[0m \u001b[38;5;28;01mexcept\u001b[39;00m \u001b[38;5;167;01mKeyError\u001b[39;00m \u001b[38;5;28;01mas\u001b[39;00m err:\n",
      "File \u001b[0;32m~/opt/anaconda3/lib/python3.9/site-packages/pandas/_libs/index.pyx:136\u001b[0m, in \u001b[0;36mpandas._libs.index.IndexEngine.get_loc\u001b[0;34m()\u001b[0m\n",
      "File \u001b[0;32m~/opt/anaconda3/lib/python3.9/site-packages/pandas/_libs/index.pyx:163\u001b[0m, in \u001b[0;36mpandas._libs.index.IndexEngine.get_loc\u001b[0;34m()\u001b[0m\n",
      "File \u001b[0;32mpandas/_libs/hashtable_class_helper.pxi:5198\u001b[0m, in \u001b[0;36mpandas._libs.hashtable.PyObjectHashTable.get_item\u001b[0;34m()\u001b[0m\n",
      "File \u001b[0;32mpandas/_libs/hashtable_class_helper.pxi:5206\u001b[0m, in \u001b[0;36mpandas._libs.hashtable.PyObjectHashTable.get_item\u001b[0;34m()\u001b[0m\n",
      "\u001b[0;31mKeyError\u001b[0m: 0",
      "\nThe above exception was the direct cause of the following exception:\n",
      "\u001b[0;31mKeyError\u001b[0m                                  Traceback (most recent call last)",
      "Input \u001b[0;32mIn [124]\u001b[0m, in \u001b[0;36m<cell line: 3>\u001b[0;34m()\u001b[0m\n\u001b[1;32m      1\u001b[0m \u001b[38;5;66;03m# What does this mean?\u001b[39;00m\n\u001b[1;32m      2\u001b[0m \u001b[38;5;28mmax\u001b[39m(segment_annotations\u001b[38;5;241m.\u001b[39miloc[:,\u001b[38;5;241m5\u001b[39m:])\n\u001b[0;32m----> 3\u001b[0m \u001b[43msegment_annotations\u001b[49m\u001b[38;5;241;43m.\u001b[39;49m\u001b[43miloc\u001b[49m\u001b[43m[\u001b[49m\u001b[43m:\u001b[49m\u001b[43m,\u001b[49m\u001b[38;5;241;43m5\u001b[39;49m\u001b[43m:\u001b[49m\u001b[43m]\u001b[49m\u001b[43m[\u001b[49m\u001b[38;5;241;43m0\u001b[39;49m\u001b[43m]\u001b[49m\n",
      "File \u001b[0;32m~/opt/anaconda3/lib/python3.9/site-packages/pandas/core/frame.py:3505\u001b[0m, in \u001b[0;36mDataFrame.__getitem__\u001b[0;34m(self, key)\u001b[0m\n\u001b[1;32m   3503\u001b[0m \u001b[38;5;28;01mif\u001b[39;00m \u001b[38;5;28mself\u001b[39m\u001b[38;5;241m.\u001b[39mcolumns\u001b[38;5;241m.\u001b[39mnlevels \u001b[38;5;241m>\u001b[39m \u001b[38;5;241m1\u001b[39m:\n\u001b[1;32m   3504\u001b[0m     \u001b[38;5;28;01mreturn\u001b[39;00m \u001b[38;5;28mself\u001b[39m\u001b[38;5;241m.\u001b[39m_getitem_multilevel(key)\n\u001b[0;32m-> 3505\u001b[0m indexer \u001b[38;5;241m=\u001b[39m \u001b[38;5;28;43mself\u001b[39;49m\u001b[38;5;241;43m.\u001b[39;49m\u001b[43mcolumns\u001b[49m\u001b[38;5;241;43m.\u001b[39;49m\u001b[43mget_loc\u001b[49m\u001b[43m(\u001b[49m\u001b[43mkey\u001b[49m\u001b[43m)\u001b[49m\n\u001b[1;32m   3506\u001b[0m \u001b[38;5;28;01mif\u001b[39;00m is_integer(indexer):\n\u001b[1;32m   3507\u001b[0m     indexer \u001b[38;5;241m=\u001b[39m [indexer]\n",
      "File \u001b[0;32m~/opt/anaconda3/lib/python3.9/site-packages/pandas/core/indexes/base.py:3623\u001b[0m, in \u001b[0;36mIndex.get_loc\u001b[0;34m(self, key, method, tolerance)\u001b[0m\n\u001b[1;32m   3621\u001b[0m     \u001b[38;5;28;01mreturn\u001b[39;00m \u001b[38;5;28mself\u001b[39m\u001b[38;5;241m.\u001b[39m_engine\u001b[38;5;241m.\u001b[39mget_loc(casted_key)\n\u001b[1;32m   3622\u001b[0m \u001b[38;5;28;01mexcept\u001b[39;00m \u001b[38;5;167;01mKeyError\u001b[39;00m \u001b[38;5;28;01mas\u001b[39;00m err:\n\u001b[0;32m-> 3623\u001b[0m     \u001b[38;5;28;01mraise\u001b[39;00m \u001b[38;5;167;01mKeyError\u001b[39;00m(key) \u001b[38;5;28;01mfrom\u001b[39;00m \u001b[38;5;21;01merr\u001b[39;00m\n\u001b[1;32m   3624\u001b[0m \u001b[38;5;28;01mexcept\u001b[39;00m \u001b[38;5;167;01mTypeError\u001b[39;00m:\n\u001b[1;32m   3625\u001b[0m     \u001b[38;5;66;03m# If we have a listlike key, _check_indexing_error will raise\u001b[39;00m\n\u001b[1;32m   3626\u001b[0m     \u001b[38;5;66;03m#  InvalidIndexError. Otherwise we fall through and re-raise\u001b[39;00m\n\u001b[1;32m   3627\u001b[0m     \u001b[38;5;66;03m#  the TypeError.\u001b[39;00m\n\u001b[1;32m   3628\u001b[0m     \u001b[38;5;28mself\u001b[39m\u001b[38;5;241m.\u001b[39m_check_indexing_error(key)\n",
      "\u001b[0;31mKeyError\u001b[0m: 0"
     ]
    }
   ],
   "source": [
    "# What does this mean?\n",
    "max(segment_annotations.iloc[:,5:])"
   ]
  },
  {
   "cell_type": "code",
   "execution_count": 102,
   "id": "33a6d872",
   "metadata": {},
   "outputs": [
    {
     "data": {
      "text/plain": [
       "Contact_1stParty                               211\n",
       "Contact_3rdParty                                36\n",
       "Contact_Address_Book_1stParty                  219\n",
       "Contact_Address_Book_3rdParty                   14\n",
       "Contact_City_1stParty                           65\n",
       "Contact_City_3rdParty                            8\n",
       "Contact_E_Mail_Address_1stParty               1111\n",
       "Contact_E_Mail_Address_3rdParty                143\n",
       "Contact_Password_1stParty                      224\n",
       "Contact_Password_3rdParty                       18\n",
       "Contact_Phone_Number_1stParty                  565\n",
       "Contact_Phone_Number_3rdParty                   69\n",
       "Contact_Postal_Address_1stParty                364\n",
       "Contact_Postal_Address_3rdParty                 62\n",
       "Contact_ZIP_1stParty                            93\n",
       "Contact_ZIP_3rdParty                            24\n",
       "Demographic_1stParty                           146\n",
       "Demographic_3rdParty                            73\n",
       "Demographic_Age_1stParty                       260\n",
       "Demographic_Age_3rdParty                        50\n",
       "Demographic_Gender_1stParty                    200\n",
       "Demographic_Gender_3rdParty                     36\n",
       "SSO                                            274\n",
       "Facebook_SSO                                   199\n",
       "Identifier_1stParty                            104\n",
       "Identifier_3rdParty                             46\n",
       "Identifier_Ad_ID_1stParty                      152\n",
       "Identifier_Ad_ID_3rdParty                      107\n",
       "Identifier_Cookie_or_similar_Tech_1stParty     861\n",
       "Identifier_Cookie_or_similar_Tech_3rdParty     525\n",
       "Identifier_Device_ID_1stParty                  446\n",
       "Identifier_Device_ID_3rdParty                  179\n",
       "Identifier_IMEI_1stParty                        76\n",
       "Identifier_IMEI_3rdParty                        23\n",
       "Identifier_IMSI_1stParty                        11\n",
       "Identifier_IMSI_3rdParty                         3\n",
       "Identifier_IP_Address_1stParty                 591\n",
       "Identifier_IP_Address_3rdParty                 241\n",
       "Identifier_MAC_1stParty                        111\n",
       "Identifier_MAC_3rdParty                         49\n",
       "Identifier_Mobile_Carrier_1stParty             100\n",
       "Identifier_Mobile_Carrier_3rdParty              21\n",
       "Identifier_SIM_Serial_1stParty                  29\n",
       "Identifier_SIM_Serial_3rdParty                   3\n",
       "Identifier_SSID_BSSID_1stParty                  16\n",
       "Identifier_SSID_BSSID_3rdParty                   2\n",
       "Location_1stParty                              821\n",
       "Location_3rdParty                              213\n",
       "Location_Bluetooth_1stParty                    127\n",
       "Location_Bluetooth_3rdParty                     42\n",
       "Location_Cell_Tower_1stParty                   121\n",
       "Location_Cell_Tower_3rdParty                    45\n",
       "Location_GPS_1stParty                          218\n",
       "Location_GPS_3rdParty                           62\n",
       "Location_IP_Address_1stParty                   129\n",
       "Location_IP_Address_3rdParty                    55\n",
       "Location_WiFi_1stParty                         169\n",
       "Location_WiFi_3rdParty                          53\n",
       "dtype: int64"
      ]
     },
     "execution_count": 102,
     "metadata": {},
     "output_type": "execute_result"
    }
   ],
   "source": [
    "segment_annotations.iloc[:,5:].sum() # Number of paragraphs with each annotation"
   ]
  },
  {
   "cell_type": "code",
   "execution_count": 101,
   "id": "6055fe7d",
   "metadata": {},
   "outputs": [
    {
     "data": {
      "text/plain": [
       "10215"
      ]
     },
     "execution_count": 101,
     "metadata": {},
     "output_type": "execute_result"
    }
   ],
   "source": [
    "segment_annotations.iloc[:,5:].sum().sum() # Total paragraph annotations"
   ]
  },
  {
   "cell_type": "markdown",
   "id": "52c0a43e",
   "metadata": {},
   "source": [
    "Need to investigate Identifier_SSID_BSSID_3rdParty because only has 2. \n",
    "Would also like to check Contact_City_3rdParty (has 8)"
   ]
  },
  {
   "cell_type": "code",
   "execution_count": null,
   "id": "163b9139",
   "metadata": {},
   "outputs": [],
   "source": []
  },
  {
   "cell_type": "code",
   "execution_count": null,
   "id": "84e34465",
   "metadata": {},
   "outputs": [],
   "source": []
  },
  {
   "cell_type": "markdown",
   "id": "0d41b435",
   "metadata": {},
   "source": [
    "## Loop through the segments to encode the annotations"
   ]
  },
  {
   "cell_type": "code",
   "execution_count": null,
   "id": "f4dee059",
   "metadata": {},
   "outputs": [],
   "source": []
  },
  {
   "cell_type": "code",
   "execution_count": null,
   "id": "f624a7ec",
   "metadata": {},
   "outputs": [],
   "source": []
  },
  {
   "cell_type": "markdown",
   "id": "3cbcd6db",
   "metadata": {},
   "source": [
    "## Demo EDA"
   ]
  },
  {
   "cell_type": "markdown",
   "id": "3b0079d6",
   "metadata": {},
   "source": []
  }
 ],
 "metadata": {
  "kernelspec": {
   "display_name": "Python 3 (ipykernel)",
   "language": "python",
   "name": "python3"
  },
  "language_info": {
   "codemirror_mode": {
    "name": "ipython",
    "version": 3
   },
   "file_extension": ".py",
   "mimetype": "text/x-python",
   "name": "python",
   "nbconvert_exporter": "python",
   "pygments_lexer": "ipython3",
   "version": "3.9.12"
  },
  "toc": {
   "base_numbering": 1,
   "nav_menu": {},
   "number_sections": true,
   "sideBar": true,
   "skip_h1_title": false,
   "title_cell": "Table of Contents",
   "title_sidebar": "Contents",
   "toc_cell": false,
   "toc_position": {},
   "toc_section_display": true,
   "toc_window_display": false
  }
 },
 "nbformat": 4,
 "nbformat_minor": 5
}
