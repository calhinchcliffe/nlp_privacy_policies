{
 "cells": [
  {
   "cell_type": "markdown",
   "id": "35ceb32c",
   "metadata": {},
   "source": [
    "Dataset and related content taken from Natural Language Processing for Mobile App Privacy Compliance. Peter Story, Sebastian Zimmeck, Abhilasha Ravichander, Daniel Smullen, Ziqi Wang, Joel Reidenberg, N. Cameron Russell, and Norman Sadeh. AAAI Spring Symposium on Privacy Enhancing AI and Language Technologies (PAL 2019), Mar 2019.\n",
    "\n",
    "Available here – APP350: https://usableprivacy.org/data"
   ]
  },
  {
   "cell_type": "markdown",
   "id": "816694eb",
   "metadata": {},
   "source": [
    "EDA should be in the context of my data.  I should state what I expect BEFORE checking for it in the data.\n",
    "\n",
    "Also at the top I can include links, context, goals"
   ]
  },
  {
   "cell_type": "code",
   "execution_count": 1,
   "id": "09c92c4c",
   "metadata": {},
   "outputs": [],
   "source": [
    "import pandas as pd\n",
    "from pandas import json_normalize\n",
    "import yaml\n",
    "import numpy as np\n",
    "\n",
    "import matplotlib.pyplot as plt\n",
    "%matplotlib inline\n",
    "\n",
    "import seaborn as sns\n",
    "from scipy import stats\n",
    "from scipy.stats import norm\n",
    "import statsmodels.api as sm\n",
    "\n",
    "import sys\n",
    "from collections import defaultdict\n",
    "from collections import Counter\n",
    "\n",
    "import ds_utils_callum\n",
    "import priv_policy_manipulation_functions as priv_pol_funcs"
   ]
  },
  {
   "cell_type": "markdown",
   "id": "b562041b",
   "metadata": {},
   "source": [
    "Put the first policy into a df"
   ]
  },
  {
   "cell_type": "markdown",
   "id": "91a814ec",
   "metadata": {},
   "source": [
    "## Populating top-level df"
   ]
  },
  {
   "cell_type": "code",
   "execution_count": 2,
   "id": "78beb882",
   "metadata": {},
   "outputs": [
    {
     "data": {
      "text/html": [
       "<div>\n",
       "<style scoped>\n",
       "    .dataframe tbody tr th:only-of-type {\n",
       "        vertical-align: middle;\n",
       "    }\n",
       "\n",
       "    .dataframe tbody tr th {\n",
       "        vertical-align: top;\n",
       "    }\n",
       "\n",
       "    .dataframe thead th {\n",
       "        text-align: right;\n",
       "    }\n",
       "</style>\n",
       "<table border=\"1\" class=\"dataframe\">\n",
       "  <thead>\n",
       "    <tr style=\"text-align: right;\">\n",
       "      <th></th>\n",
       "      <th>policy_id</th>\n",
       "      <th>policy_name</th>\n",
       "      <th>policy_type</th>\n",
       "      <th>contains_synthetic</th>\n",
       "      <th>segments</th>\n",
       "    </tr>\n",
       "  </thead>\n",
       "  <tbody>\n",
       "    <tr>\n",
       "      <th>0</th>\n",
       "      <td>1</td>\n",
       "      <td>6677G</td>\n",
       "      <td>TEST</td>\n",
       "      <td>False</td>\n",
       "      <td>[{'segment_id': 0, 'segment_text': 'PRIVACY PO...</td>\n",
       "    </tr>\n",
       "    <tr>\n",
       "      <th>1</th>\n",
       "      <td>2</td>\n",
       "      <td>AIFactory</td>\n",
       "      <td>TEST</td>\n",
       "      <td>False</td>\n",
       "      <td>[{'segment_id': 0, 'segment_text': 'AI Factory...</td>\n",
       "    </tr>\n",
       "    <tr>\n",
       "      <th>2</th>\n",
       "      <td>3</td>\n",
       "      <td>AppliqatoSoftware</td>\n",
       "      <td>TEST</td>\n",
       "      <td>False</td>\n",
       "      <td>[{'segment_id': 0, 'segment_text': 'Automatic ...</td>\n",
       "    </tr>\n",
       "    <tr>\n",
       "      <th>3</th>\n",
       "      <td>4</td>\n",
       "      <td>BandaiNamco</td>\n",
       "      <td>TEST</td>\n",
       "      <td>False</td>\n",
       "      <td>[{'segment_id': 0, 'segment_text': 'MOBILE APP...</td>\n",
       "    </tr>\n",
       "    <tr>\n",
       "      <th>4</th>\n",
       "      <td>5</td>\n",
       "      <td>BarcodeScanner</td>\n",
       "      <td>TEST</td>\n",
       "      <td>False</td>\n",
       "      <td>[{'segment_id': 0, 'segment_text': 'Skip to co...</td>\n",
       "    </tr>\n",
       "  </tbody>\n",
       "</table>\n",
       "</div>"
      ],
      "text/plain": [
       "   policy_id        policy_name policy_type  contains_synthetic  \\\n",
       "0          1              6677G        TEST               False   \n",
       "1          2          AIFactory        TEST               False   \n",
       "2          3  AppliqatoSoftware        TEST               False   \n",
       "3          4        BandaiNamco        TEST               False   \n",
       "4          5     BarcodeScanner        TEST               False   \n",
       "\n",
       "                                            segments  \n",
       "0  [{'segment_id': 0, 'segment_text': 'PRIVACY PO...  \n",
       "1  [{'segment_id': 0, 'segment_text': 'AI Factory...  \n",
       "2  [{'segment_id': 0, 'segment_text': 'Automatic ...  \n",
       "3  [{'segment_id': 0, 'segment_text': 'MOBILE APP...  \n",
       "4  [{'segment_id': 0, 'segment_text': 'Skip to co...  "
      ]
     },
     "execution_count": 2,
     "metadata": {},
     "output_type": "execute_result"
    }
   ],
   "source": [
    "all_policies_df = priv_pol_funcs.load_all_policies()\n",
    "all_policies_df.head(5)"
   ]
  },
  {
   "cell_type": "code",
   "execution_count": 3,
   "id": "a07bc455",
   "metadata": {},
   "outputs": [
    {
     "data": {
      "text/html": [
       "<div>\n",
       "<style scoped>\n",
       "    .dataframe tbody tr th:only-of-type {\n",
       "        vertical-align: middle;\n",
       "    }\n",
       "\n",
       "    .dataframe tbody tr th {\n",
       "        vertical-align: top;\n",
       "    }\n",
       "\n",
       "    .dataframe thead th {\n",
       "        text-align: right;\n",
       "    }\n",
       "</style>\n",
       "<table border=\"1\" class=\"dataframe\">\n",
       "  <thead>\n",
       "    <tr style=\"text-align: right;\">\n",
       "      <th></th>\n",
       "      <th>policy_id</th>\n",
       "      <th>policy_name</th>\n",
       "      <th>policy_type</th>\n",
       "      <th>contains_synthetic</th>\n",
       "      <th>segments</th>\n",
       "      <th>num_segments</th>\n",
       "      <th>num_annotated_segs</th>\n",
       "      <th>total_characters</th>\n",
       "    </tr>\n",
       "  </thead>\n",
       "  <tbody>\n",
       "    <tr>\n",
       "      <th>0</th>\n",
       "      <td>1</td>\n",
       "      <td>6677G</td>\n",
       "      <td>TEST</td>\n",
       "      <td>False</td>\n",
       "      <td>[{'segment_id': 0, 'segment_text': 'PRIVACY PO...</td>\n",
       "      <td>36</td>\n",
       "      <td>11</td>\n",
       "      <td>12703</td>\n",
       "    </tr>\n",
       "    <tr>\n",
       "      <th>1</th>\n",
       "      <td>2</td>\n",
       "      <td>AIFactory</td>\n",
       "      <td>TEST</td>\n",
       "      <td>False</td>\n",
       "      <td>[{'segment_id': 0, 'segment_text': 'AI Factory...</td>\n",
       "      <td>14</td>\n",
       "      <td>5</td>\n",
       "      <td>5995</td>\n",
       "    </tr>\n",
       "    <tr>\n",
       "      <th>2</th>\n",
       "      <td>3</td>\n",
       "      <td>AppliqatoSoftware</td>\n",
       "      <td>TEST</td>\n",
       "      <td>False</td>\n",
       "      <td>[{'segment_id': 0, 'segment_text': 'Automatic ...</td>\n",
       "      <td>8</td>\n",
       "      <td>1</td>\n",
       "      <td>2450</td>\n",
       "    </tr>\n",
       "    <tr>\n",
       "      <th>3</th>\n",
       "      <td>4</td>\n",
       "      <td>BandaiNamco</td>\n",
       "      <td>TEST</td>\n",
       "      <td>False</td>\n",
       "      <td>[{'segment_id': 0, 'segment_text': 'MOBILE APP...</td>\n",
       "      <td>57</td>\n",
       "      <td>14</td>\n",
       "      <td>32323</td>\n",
       "    </tr>\n",
       "    <tr>\n",
       "      <th>4</th>\n",
       "      <td>5</td>\n",
       "      <td>BarcodeScanner</td>\n",
       "      <td>TEST</td>\n",
       "      <td>False</td>\n",
       "      <td>[{'segment_id': 0, 'segment_text': 'Skip to co...</td>\n",
       "      <td>32</td>\n",
       "      <td>3</td>\n",
       "      <td>6667</td>\n",
       "    </tr>\n",
       "  </tbody>\n",
       "</table>\n",
       "</div>"
      ],
      "text/plain": [
       "   policy_id        policy_name policy_type  contains_synthetic  \\\n",
       "0          1              6677G        TEST               False   \n",
       "1          2          AIFactory        TEST               False   \n",
       "2          3  AppliqatoSoftware        TEST               False   \n",
       "3          4        BandaiNamco        TEST               False   \n",
       "4          5     BarcodeScanner        TEST               False   \n",
       "\n",
       "                                            segments  num_segments  \\\n",
       "0  [{'segment_id': 0, 'segment_text': 'PRIVACY PO...            36   \n",
       "1  [{'segment_id': 0, 'segment_text': 'AI Factory...            14   \n",
       "2  [{'segment_id': 0, 'segment_text': 'Automatic ...             8   \n",
       "3  [{'segment_id': 0, 'segment_text': 'MOBILE APP...            57   \n",
       "4  [{'segment_id': 0, 'segment_text': 'Skip to co...            32   \n",
       "\n",
       "   num_annotated_segs  total_characters  \n",
       "0                  11             12703  \n",
       "1                   5              5995  \n",
       "2                   1              2450  \n",
       "3                  14             32323  \n",
       "4                   3              6667  "
      ]
     },
     "execution_count": 3,
     "metadata": {},
     "output_type": "execute_result"
    }
   ],
   "source": [
    "all_policies_df = priv_pol_funcs.add_metadata_to_policy_df(all_policies_df)\n",
    "all_policies_df.head(5)"
   ]
  },
  {
   "cell_type": "markdown",
   "id": "dc7e4abe",
   "metadata": {},
   "source": [
    "# Making segments"
   ]
  },
  {
   "cell_type": "markdown",
   "id": "839b9e7c",
   "metadata": {},
   "source": [
    "Now to make a new dataframe where each row represents a paragraph (segment).\n",
    "\n",
    "First I will get this to work for a single policy. Then I will loop through all the policies to apply the same manipulation."
   ]
  },
  {
   "cell_type": "code",
   "execution_count": 4,
   "id": "0c936160",
   "metadata": {
    "scrolled": false
   },
   "outputs": [
    {
     "data": {
      "text/html": [
       "<div>\n",
       "<style scoped>\n",
       "    .dataframe tbody tr th:only-of-type {\n",
       "        vertical-align: middle;\n",
       "    }\n",
       "\n",
       "    .dataframe tbody tr th {\n",
       "        vertical-align: top;\n",
       "    }\n",
       "\n",
       "    .dataframe thead th {\n",
       "        text-align: right;\n",
       "    }\n",
       "</style>\n",
       "<table border=\"1\" class=\"dataframe\">\n",
       "  <thead>\n",
       "    <tr style=\"text-align: right;\">\n",
       "      <th></th>\n",
       "      <th>source_policy_number</th>\n",
       "      <th>policy_segment_id</th>\n",
       "      <th>segment_text</th>\n",
       "      <th>annotations</th>\n",
       "      <th>sentences</th>\n",
       "    </tr>\n",
       "    <tr>\n",
       "      <th>segment_id</th>\n",
       "      <th></th>\n",
       "      <th></th>\n",
       "      <th></th>\n",
       "      <th></th>\n",
       "      <th></th>\n",
       "    </tr>\n",
       "  </thead>\n",
       "  <tbody>\n",
       "    <tr>\n",
       "      <th>0</th>\n",
       "      <td>1</td>\n",
       "      <td>0</td>\n",
       "      <td>PRIVACY POLICY This privacy policy (hereafter ...</td>\n",
       "      <td>[]</td>\n",
       "      <td>[]</td>\n",
       "    </tr>\n",
       "    <tr>\n",
       "      <th>1</th>\n",
       "      <td>1</td>\n",
       "      <td>1</td>\n",
       "      <td>1. ABOUT OUR PRODUCTS 1.1 Our products offer a...</td>\n",
       "      <td>[]</td>\n",
       "      <td>[]</td>\n",
       "    </tr>\n",
       "    <tr>\n",
       "      <th>2</th>\n",
       "      <td>1</td>\n",
       "      <td>2</td>\n",
       "      <td>2. THE INFORMATION WE COLLECT The information ...</td>\n",
       "      <td>[{'practice': 'Identifier_Cookie_or_similar_Te...</td>\n",
       "      <td>[{'sentence_text': 'IP ADDRESS, COOKIES, AND W...</td>\n",
       "    </tr>\n",
       "    <tr>\n",
       "      <th>3</th>\n",
       "      <td>1</td>\n",
       "      <td>3</td>\n",
       "      <td>2.2 In addition, we store certain information ...</td>\n",
       "      <td>[{'practice': 'Identifier_Cookie_or_similar_Te...</td>\n",
       "      <td>[{'sentence_text': '6677g may use cookies, web...</td>\n",
       "    </tr>\n",
       "    <tr>\n",
       "      <th>4</th>\n",
       "      <td>1</td>\n",
       "      <td>4</td>\n",
       "      <td>(c) to remember your preferences and registrat...</td>\n",
       "      <td>[]</td>\n",
       "      <td>[]</td>\n",
       "    </tr>\n",
       "  </tbody>\n",
       "</table>\n",
       "</div>"
      ],
      "text/plain": [
       "            source_policy_number  policy_segment_id  \\\n",
       "segment_id                                            \n",
       "0                              1                  0   \n",
       "1                              1                  1   \n",
       "2                              1                  2   \n",
       "3                              1                  3   \n",
       "4                              1                  4   \n",
       "\n",
       "                                                 segment_text  \\\n",
       "segment_id                                                      \n",
       "0           PRIVACY POLICY This privacy policy (hereafter ...   \n",
       "1           1. ABOUT OUR PRODUCTS 1.1 Our products offer a...   \n",
       "2           2. THE INFORMATION WE COLLECT The information ...   \n",
       "3           2.2 In addition, we store certain information ...   \n",
       "4           (c) to remember your preferences and registrat...   \n",
       "\n",
       "                                                  annotations  \\\n",
       "segment_id                                                      \n",
       "0                                                          []   \n",
       "1                                                          []   \n",
       "2           [{'practice': 'Identifier_Cookie_or_similar_Te...   \n",
       "3           [{'practice': 'Identifier_Cookie_or_similar_Te...   \n",
       "4                                                          []   \n",
       "\n",
       "                                                    sentences  \n",
       "segment_id                                                     \n",
       "0                                                          []  \n",
       "1                                                          []  \n",
       "2           [{'sentence_text': 'IP ADDRESS, COOKIES, AND W...  \n",
       "3           [{'sentence_text': '6677g may use cookies, web...  \n",
       "4                                                          []  "
      ]
     },
     "execution_count": 4,
     "metadata": {},
     "output_type": "execute_result"
    }
   ],
   "source": [
    "all_segments_df = priv_pol_funcs.generate_segment_df(all_policies_df)\n",
    "all_segments_df.head()"
   ]
  },
  {
   "cell_type": "code",
   "execution_count": 6,
   "id": "fd922f90",
   "metadata": {},
   "outputs": [
    {
     "data": {
      "text/plain": [
       "(15543, 5)"
      ]
     },
     "execution_count": 6,
     "metadata": {},
     "output_type": "execute_result"
    }
   ],
   "source": [
    "all_segments_df.shape"
   ]
  },
  {
   "cell_type": "code",
   "execution_count": 7,
   "id": "f736bc2e",
   "metadata": {},
   "outputs": [
    {
     "name": "stdout",
     "output_type": "stream",
     "text": [
      "<class 'pandas.core.frame.DataFrame'>\n",
      "RangeIndex: 15543 entries, 0 to 15542\n",
      "Data columns (total 5 columns):\n",
      " #   Column                Non-Null Count  Dtype \n",
      "---  ------                --------------  ----- \n",
      " 0   source_policy_number  15543 non-null  int64 \n",
      " 1   policy_segment_id     15543 non-null  int64 \n",
      " 2   segment_text          15543 non-null  object\n",
      " 3   annotations           15543 non-null  object\n",
      " 4   sentences             15543 non-null  object\n",
      "dtypes: int64(2), object(3)\n",
      "memory usage: 607.3+ KB\n"
     ]
    }
   ],
   "source": [
    "all_segments_df.info()"
   ]
  },
  {
   "cell_type": "markdown",
   "id": "817ac65c",
   "metadata": {},
   "source": [
    "# Next step of extraction"
   ]
  },
  {
   "cell_type": "markdown",
   "id": "f4980ec4",
   "metadata": {},
   "source": [
    "I probably want to separate it out to the sentence level, as that is the max granularity of the annotations and some paragraphs are just one sentence anyway."
   ]
  },
  {
   "cell_type": "code",
   "execution_count": 8,
   "id": "9615cce6",
   "metadata": {},
   "outputs": [
    {
     "data": {
      "text/plain": [
       "source_policy_number                                                    1\n",
       "policy_segment_id                                                       2\n",
       "segment_text            2. THE INFORMATION WE COLLECT The information ...\n",
       "annotations             [{'practice': 'Identifier_Cookie_or_similar_Te...\n",
       "sentences               [{'sentence_text': 'IP ADDRESS, COOKIES, AND W...\n",
       "Name: 2, dtype: object"
      ]
     },
     "execution_count": 8,
     "metadata": {},
     "output_type": "execute_result"
    }
   ],
   "source": [
    "all_segments_df.loc[2,:]"
   ]
  },
  {
   "cell_type": "code",
   "execution_count": 9,
   "id": "fb72a39a",
   "metadata": {},
   "outputs": [
    {
     "data": {
      "text/plain": [
       "\"2. THE INFORMATION WE COLLECT The information that our products collect includes (among others) the following: A) IP ADDRESS, COOKIES, AND WEB BEACONS 2.1 When you visit our products, our servers automatically save your computer's IP address. IP addresses will be collected, along with information about the actual web pages that you visit on our products. If you arrive at our products via a link from another product, the URL of the linking product and the URL of any product that you link to next will also be collected.\""
      ]
     },
     "execution_count": 9,
     "metadata": {},
     "output_type": "execute_result"
    }
   ],
   "source": [
    "all_segments_df.loc[2, 'segment_text']"
   ]
  },
  {
   "cell_type": "code",
   "execution_count": 10,
   "id": "8e4f3bfa",
   "metadata": {},
   "outputs": [
    {
     "data": {
      "text/plain": [
       "[{'practice': 'Identifier_Cookie_or_similar_Tech_1stParty',\n",
       "  'modality': 'PERFORMED'},\n",
       " {'practice': 'Identifier_IP_Address_1stParty', 'modality': 'PERFORMED'}]"
      ]
     },
     "execution_count": 10,
     "metadata": {},
     "output_type": "execute_result"
    }
   ],
   "source": [
    "all_segments_df.loc[2, 'annotations']"
   ]
  },
  {
   "cell_type": "code",
   "execution_count": 11,
   "id": "9c662776",
   "metadata": {},
   "outputs": [
    {
     "data": {
      "text/plain": [
       "[{'sentence_text': 'IP ADDRESS, COOKIES, AND WEB BEACONS',\n",
       "  'annotations': [{'practice': 'Identifier_Cookie_or_similar_Tech_1stParty',\n",
       "    'modality': 'PERFORMED'},\n",
       "   {'practice': 'Identifier_IP_Address_1stParty', 'modality': 'PERFORMED'}]},\n",
       " {'sentence_text': 'IP addresses will be collected, along with information about the actual web pages that you visit on our products.',\n",
       "  'annotations': [{'practice': 'Identifier_IP_Address_1stParty',\n",
       "    'modality': 'PERFORMED'}]},\n",
       " {'sentence_text': 'The information that our products collect includes (among others) the following:',\n",
       "  'annotations': [{'practice': 'Identifier_Cookie_or_similar_Tech_1stParty',\n",
       "    'modality': 'PERFORMED'},\n",
       "   {'practice': 'Identifier_IP_Address_1stParty', 'modality': 'PERFORMED'}]},\n",
       " {'sentence_text': \"When you visit our products, our servers automatically save your computer's IP address.\",\n",
       "  'annotations': [{'practice': 'Identifier_IP_Address_1stParty',\n",
       "    'modality': 'PERFORMED'}]}]"
      ]
     },
     "execution_count": 11,
     "metadata": {},
     "output_type": "execute_result"
    }
   ],
   "source": [
    "all_segments_df.loc[2, 'sentences']"
   ]
  },
  {
   "cell_type": "code",
   "execution_count": 12,
   "id": "5f4d8948",
   "metadata": {},
   "outputs": [
    {
     "data": {
      "text/plain": [
       "'2.2 In addition, we store certain information from your browser, using \"cookies.\" A cookie is a piece of data stored on the user\\'s computer and is tied to information about the user. 6677g may use cookies, web beacons (web bugs), or similar technologies to enhance and personalize your experience on our products, including the following: (a) to operate and improve offerings on our products; (b) to help authenticate you when you are on our products;'"
      ]
     },
     "execution_count": 12,
     "metadata": {},
     "output_type": "execute_result"
    }
   ],
   "source": [
    "all_segments_df.loc[3, 'segment_text']"
   ]
  },
  {
   "cell_type": "code",
   "execution_count": 13,
   "id": "3a1edebb",
   "metadata": {},
   "outputs": [
    {
     "data": {
      "text/plain": [
       "'(c) to remember your preferences and registration information, as applicable;'"
      ]
     },
     "execution_count": 13,
     "metadata": {},
     "output_type": "execute_result"
    }
   ],
   "source": [
    "all_segments_df.loc[4, 'segment_text']"
   ]
  },
  {
   "cell_type": "code",
   "execution_count": 14,
   "id": "8a0c85ed",
   "metadata": {},
   "outputs": [
    {
     "data": {
      "text/plain": [
       "'(d) to present and help measure and research the effectiveness of 6677g offerings, advertisements, and email communications; and'"
      ]
     },
     "execution_count": 14,
     "metadata": {},
     "output_type": "execute_result"
    }
   ],
   "source": [
    "all_segments_df.loc[5, 'segment_text']"
   ]
  },
  {
   "cell_type": "code",
   "execution_count": 15,
   "id": "c7259779",
   "metadata": {},
   "outputs": [
    {
     "data": {
      "text/plain": [
       "'(e) to customize the content and advertisements provided to you through our products.'"
      ]
     },
     "execution_count": 15,
     "metadata": {},
     "output_type": "execute_result"
    }
   ],
   "source": [
    "all_segments_df.loc[6, 'segment_text']"
   ]
  },
  {
   "cell_type": "code",
   "execution_count": 16,
   "id": "5b085dca",
   "metadata": {},
   "outputs": [
    {
     "data": {
      "text/plain": [
       "'2.3 6677g may also use ad network providers to help present advertisements on our products. These ad network providers use cookies, web beacons, or similar technologies to help the presenting, better targeting, and measuring of the effectiveness of their advertisements, using data gathered over time and across their networks of web pages to determine or predict the characteristics and preferences of their audiences. 6677g offers some services in connection with other products. Personal information that you provide to those sites may be sent to 6677g in order to deliver these services. 6677g processes such information in accordance with this Privacy Policy.'"
      ]
     },
     "execution_count": 16,
     "metadata": {},
     "output_type": "execute_result"
    }
   ],
   "source": [
    "all_segments_df.loc[7, 'segment_text']"
   ]
  },
  {
   "cell_type": "markdown",
   "id": "53abaef1",
   "metadata": {},
   "source": [
    "I probably want to separate it out to the sentence level, as that is the max granularity of the annotations and some paragraphs are just one sentence anyway."
   ]
  },
  {
   "cell_type": "markdown",
   "id": "afb62815",
   "metadata": {},
   "source": [
    "## Extracting list of practices"
   ]
  },
  {
   "cell_type": "code",
   "execution_count": 17,
   "id": "7ed62ae3",
   "metadata": {},
   "outputs": [],
   "source": [
    "with open(\"APP_350_v1_1/features.yml\", \"r\") as stream:\n",
    "    try:\n",
    "        features_yml = (json_normalize(yaml.safe_load(stream)))\n",
    "    except yaml.YAMLError as exc:\n",
    "        print(exc)"
   ]
  },
  {
   "cell_type": "code",
   "execution_count": 18,
   "id": "f00d179b",
   "metadata": {},
   "outputs": [
    {
     "data": {
      "text/html": [
       "<div>\n",
       "<style scoped>\n",
       "    .dataframe tbody tr th:only-of-type {\n",
       "        vertical-align: middle;\n",
       "    }\n",
       "\n",
       "    .dataframe tbody tr th {\n",
       "        vertical-align: top;\n",
       "    }\n",
       "\n",
       "    .dataframe thead th {\n",
       "        text-align: right;\n",
       "    }\n",
       "</style>\n",
       "<table border=\"1\" class=\"dataframe\">\n",
       "  <thead>\n",
       "    <tr style=\"text-align: right;\">\n",
       "      <th></th>\n",
       "      <th>data_types</th>\n",
       "      <th>modalities.PERFORMED</th>\n",
       "      <th>modalities.NOT_PERFORMED</th>\n",
       "      <th>parties.FirstParty</th>\n",
       "      <th>parties.ThirdParty</th>\n",
       "    </tr>\n",
       "  </thead>\n",
       "  <tbody>\n",
       "    <tr>\n",
       "      <th>0</th>\n",
       "      <td>[{'practices': ['Contact_1stParty', 'Contact_3...</td>\n",
       "      <td>[consent, permission,  opt, collect, access, g...</td>\n",
       "      <td>[not collect, no longer collect, not access, n...</td>\n",
       "      <td>[ we ,  you ,  us ,  our , the app, the software]</td>\n",
       "      <td>[partner, third part, third-part, service prov...</td>\n",
       "    </tr>\n",
       "  </tbody>\n",
       "</table>\n",
       "</div>"
      ],
      "text/plain": [
       "                                          data_types  \\\n",
       "0  [{'practices': ['Contact_1stParty', 'Contact_3...   \n",
       "\n",
       "                                modalities.PERFORMED  \\\n",
       "0  [consent, permission,  opt, collect, access, g...   \n",
       "\n",
       "                            modalities.NOT_PERFORMED  \\\n",
       "0  [not collect, no longer collect, not access, n...   \n",
       "\n",
       "                                  parties.FirstParty  \\\n",
       "0  [ we ,  you ,  us ,  our , the app, the software]   \n",
       "\n",
       "                                  parties.ThirdParty  \n",
       "0  [partner, third part, third-part, service prov...  "
      ]
     },
     "execution_count": 18,
     "metadata": {},
     "output_type": "execute_result"
    }
   ],
   "source": [
    "features_yml"
   ]
  },
  {
   "cell_type": "code",
   "execution_count": 20,
   "id": "99eb1a14",
   "metadata": {},
   "outputs": [],
   "source": [
    "data_types = json_normalize(features_yml['data_types'])"
   ]
  },
  {
   "cell_type": "code",
   "execution_count": 21,
   "id": "90c2f2b7",
   "metadata": {},
   "outputs": [
    {
     "data": {
      "text/html": [
       "<div>\n",
       "<style scoped>\n",
       "    .dataframe tbody tr th:only-of-type {\n",
       "        vertical-align: middle;\n",
       "    }\n",
       "\n",
       "    .dataframe tbody tr th {\n",
       "        vertical-align: top;\n",
       "    }\n",
       "\n",
       "    .dataframe thead th {\n",
       "        text-align: right;\n",
       "    }\n",
       "</style>\n",
       "<table border=\"1\" class=\"dataframe\">\n",
       "  <thead>\n",
       "    <tr style=\"text-align: right;\">\n",
       "      <th></th>\n",
       "      <th>0</th>\n",
       "      <th>1</th>\n",
       "      <th>2</th>\n",
       "      <th>3</th>\n",
       "      <th>4</th>\n",
       "      <th>5</th>\n",
       "      <th>6</th>\n",
       "      <th>7</th>\n",
       "      <th>8</th>\n",
       "      <th>9</th>\n",
       "      <th>...</th>\n",
       "      <th>19</th>\n",
       "      <th>20</th>\n",
       "      <th>21</th>\n",
       "      <th>22</th>\n",
       "      <th>23</th>\n",
       "      <th>24</th>\n",
       "      <th>25</th>\n",
       "      <th>26</th>\n",
       "      <th>27</th>\n",
       "      <th>28</th>\n",
       "    </tr>\n",
       "  </thead>\n",
       "  <tbody>\n",
       "    <tr>\n",
       "      <th>0</th>\n",
       "      <td>{'practices': ['Contact_1stParty', 'Contact_3r...</td>\n",
       "      <td>{'practices': ['Contact_Address_Book_1stParty'...</td>\n",
       "      <td>{'practices': ['Contact_City_1stParty', 'Conta...</td>\n",
       "      <td>{'practices': ['Contact_E_Mail_Address_1stPart...</td>\n",
       "      <td>{'practices': ['Contact_Password_1stParty', 'C...</td>\n",
       "      <td>{'practices': ['Contact_Phone_Number_1stParty'...</td>\n",
       "      <td>{'practices': ['Contact_Postal_Address_1stPart...</td>\n",
       "      <td>{'practices': ['Contact_ZIP_1stParty', 'Contac...</td>\n",
       "      <td>{'practices': ['Demographic_1stParty', 'Demogr...</td>\n",
       "      <td>{'practices': ['Demographic_Age_1stParty', 'De...</td>\n",
       "      <td>...</td>\n",
       "      <td>{'practices': ['Identifier_MAC_1stParty', 'Ide...</td>\n",
       "      <td>{'practices': ['Identifier_Mobile_Carrier_1stP...</td>\n",
       "      <td>{'practices': ['Identifier_SIM_Serial_1stParty...</td>\n",
       "      <td>{'practices': ['Identifier_SSID_BSSID_1stParty...</td>\n",
       "      <td>{'practices': ['Location_1stParty', 'Location_...</td>\n",
       "      <td>{'practices': ['Location_Bluetooth_1stParty', ...</td>\n",
       "      <td>{'practices': ['Location_Cell_Tower_1stParty',...</td>\n",
       "      <td>{'practices': ['Location_GPS_1stParty', 'Locat...</td>\n",
       "      <td>{'practices': ['Location_IP_Address_1stParty',...</td>\n",
       "      <td>{'practices': ['Location_WiFi_1stParty', 'Loca...</td>\n",
       "    </tr>\n",
       "  </tbody>\n",
       "</table>\n",
       "<p>1 rows × 29 columns</p>\n",
       "</div>"
      ],
      "text/plain": [
       "                                                  0   \\\n",
       "0  {'practices': ['Contact_1stParty', 'Contact_3r...   \n",
       "\n",
       "                                                  1   \\\n",
       "0  {'practices': ['Contact_Address_Book_1stParty'...   \n",
       "\n",
       "                                                  2   \\\n",
       "0  {'practices': ['Contact_City_1stParty', 'Conta...   \n",
       "\n",
       "                                                  3   \\\n",
       "0  {'practices': ['Contact_E_Mail_Address_1stPart...   \n",
       "\n",
       "                                                  4   \\\n",
       "0  {'practices': ['Contact_Password_1stParty', 'C...   \n",
       "\n",
       "                                                  5   \\\n",
       "0  {'practices': ['Contact_Phone_Number_1stParty'...   \n",
       "\n",
       "                                                  6   \\\n",
       "0  {'practices': ['Contact_Postal_Address_1stPart...   \n",
       "\n",
       "                                                  7   \\\n",
       "0  {'practices': ['Contact_ZIP_1stParty', 'Contac...   \n",
       "\n",
       "                                                  8   \\\n",
       "0  {'practices': ['Demographic_1stParty', 'Demogr...   \n",
       "\n",
       "                                                  9   ...  \\\n",
       "0  {'practices': ['Demographic_Age_1stParty', 'De...  ...   \n",
       "\n",
       "                                                  19  \\\n",
       "0  {'practices': ['Identifier_MAC_1stParty', 'Ide...   \n",
       "\n",
       "                                                  20  \\\n",
       "0  {'practices': ['Identifier_Mobile_Carrier_1stP...   \n",
       "\n",
       "                                                  21  \\\n",
       "0  {'practices': ['Identifier_SIM_Serial_1stParty...   \n",
       "\n",
       "                                                  22  \\\n",
       "0  {'practices': ['Identifier_SSID_BSSID_1stParty...   \n",
       "\n",
       "                                                  23  \\\n",
       "0  {'practices': ['Location_1stParty', 'Location_...   \n",
       "\n",
       "                                                  24  \\\n",
       "0  {'practices': ['Location_Bluetooth_1stParty', ...   \n",
       "\n",
       "                                                  25  \\\n",
       "0  {'practices': ['Location_Cell_Tower_1stParty',...   \n",
       "\n",
       "                                                  26  \\\n",
       "0  {'practices': ['Location_GPS_1stParty', 'Locat...   \n",
       "\n",
       "                                                  27  \\\n",
       "0  {'practices': ['Location_IP_Address_1stParty',...   \n",
       "\n",
       "                                                  28  \n",
       "0  {'practices': ['Location_WiFi_1stParty', 'Loca...  \n",
       "\n",
       "[1 rows x 29 columns]"
      ]
     },
     "execution_count": 21,
     "metadata": {},
     "output_type": "execute_result"
    }
   ],
   "source": [
    "data_types"
   ]
  },
  {
   "cell_type": "code",
   "execution_count": 22,
   "id": "76223616",
   "metadata": {},
   "outputs": [
    {
     "data": {
      "text/html": [
       "<div>\n",
       "<style scoped>\n",
       "    .dataframe tbody tr th:only-of-type {\n",
       "        vertical-align: middle;\n",
       "    }\n",
       "\n",
       "    .dataframe tbody tr th {\n",
       "        vertical-align: top;\n",
       "    }\n",
       "\n",
       "    .dataframe thead th {\n",
       "        text-align: right;\n",
       "    }\n",
       "</style>\n",
       "<table border=\"1\" class=\"dataframe\">\n",
       "  <thead>\n",
       "    <tr style=\"text-align: right;\">\n",
       "      <th></th>\n",
       "      <th>practices</th>\n",
       "      <th>features</th>\n",
       "    </tr>\n",
       "  </thead>\n",
       "  <tbody>\n",
       "    <tr>\n",
       "      <th>0</th>\n",
       "      <td>[Contact_1stParty, Contact_3rdParty]</td>\n",
       "      <td>[contact info, contact details, contact data, ...</td>\n",
       "    </tr>\n",
       "  </tbody>\n",
       "</table>\n",
       "</div>"
      ],
      "text/plain": [
       "                              practices  \\\n",
       "0  [Contact_1stParty, Contact_3rdParty]   \n",
       "\n",
       "                                            features  \n",
       "0  [contact info, contact details, contact data, ...  "
      ]
     },
     "execution_count": 22,
     "metadata": {},
     "output_type": "execute_result"
    }
   ],
   "source": [
    "first_feature = json_normalize(data_types[0])\n",
    "first_feature"
   ]
  },
  {
   "cell_type": "markdown",
   "id": "23d9eff4",
   "metadata": {},
   "source": [
    "## Full extraction route"
   ]
  },
  {
   "cell_type": "code",
   "execution_count": 44,
   "id": "82902f77",
   "metadata": {},
   "outputs": [],
   "source": [
    "def get_list_of_practice_groups():\n",
    "    \"\"\"\n",
    "    Requires the folder \"APP_350_v1_1\" to be in the same directory as this file.\n",
    "    \n",
    "    Returns a list where each element is a list of practices, representing a category of practices\n",
    "    e.g. ['Contact_E_Mail_Address_1stParty', 'Contact_E_Mail_Address_3rdParty']\n",
    "    There are 29 categories.    \n",
    "    \n",
    "    A full list of individual practices can then be optained with a list comprehension: \n",
    "    \n",
    "    list_of_practices = [practice for practice_group in list_of_practice_groups for practice in practice_group]\n",
    "    There are 58 individual practices.\n",
    "   \n",
    "    \"\"\"\n",
    "    with open(\"APP_350_v1_1/features.yml\", \"r\") as stream:\n",
    "        try:\n",
    "            features_yml = (json_normalize(yaml.safe_load(stream)))\n",
    "        except yaml.YAMLError as exc:\n",
    "            print(exc)\n",
    "    \n",
    "    data_types = json_normalize(features_yml['data_types'])\n",
    "    \n",
    "    list_of_practice_groups = []\n",
    "    practice_groups = range(len(data_types.columns))\n",
    "    \n",
    "    for i in practice_groups:\n",
    "        practices_and_features = json_normalize(data_types[i])\n",
    "\n",
    "        list_of_practice_groups.extend(practices_and_features['practices'])\n",
    "    \n",
    "    print(f\"{len(list_of_practice_groups)} different groups of practices returned, containing {len([practice for practice_group in list_of_practice_groups for practice in practice_group])} individual practices.\")\n",
    "    \n",
    "    return list_of_practice_groups"
   ]
  },
  {
   "cell_type": "code",
   "execution_count": 45,
   "id": "f14f501c",
   "metadata": {},
   "outputs": [
    {
     "name": "stdout",
     "output_type": "stream",
     "text": [
      "29 different groups of practices returned, containing 58 individual practices.\n"
     ]
    }
   ],
   "source": [
    "list_of_practice_groups = get_list_of_practice_groups()"
   ]
  },
  {
   "cell_type": "code",
   "execution_count": 46,
   "id": "cb1214c4",
   "metadata": {},
   "outputs": [
    {
     "data": {
      "text/plain": [
       "58"
      ]
     },
     "execution_count": 46,
     "metadata": {},
     "output_type": "execute_result"
    }
   ],
   "source": [
    "list_of_practices = [practice for practice_group in list_of_practice_groups for practice in practice_group]"
   ]
  },
  {
   "cell_type": "code",
   "execution_count": 2,
   "id": "b0210c34",
   "metadata": {},
   "outputs": [
    {
     "name": "stdout",
     "output_type": "stream",
     "text": [
      "29 different groups of practices returned, containing 58 individual practices.\n"
     ]
    }
   ],
   "source": [
    "list_of_practice_groups = priv_pol_funcs.get_list_of_practice_groups()"
   ]
  },
  {
   "cell_type": "code",
   "execution_count": 3,
   "id": "9f867dbd",
   "metadata": {},
   "outputs": [],
   "source": [
    "list_of_practices = [practice for practice_group in list_of_practice_groups for practice in practice_group]"
   ]
  },
  {
   "cell_type": "code",
   "execution_count": 5,
   "id": "5cf00bf9",
   "metadata": {},
   "outputs": [
    {
     "data": {
      "text/plain": [
       "['Contact_1stParty',\n",
       " 'Contact_3rdParty',\n",
       " 'Contact_Address_Book_1stParty',\n",
       " 'Contact_Address_Book_3rdParty',\n",
       " 'Contact_City_1stParty']"
      ]
     },
     "execution_count": 5,
     "metadata": {},
     "output_type": "execute_result"
    }
   ],
   "source": [
    "list_of_practices[:5]"
   ]
  },
  {
   "cell_type": "code",
   "execution_count": null,
   "id": "93830a3b",
   "metadata": {},
   "outputs": [],
   "source": []
  },
  {
   "cell_type": "code",
   "execution_count": null,
   "id": "cb60a536",
   "metadata": {},
   "outputs": [],
   "source": [
    "with open(\"APP_350_v1_1/features.yml\", \"r\") as stream:\n",
    "    try:\n",
    "        features_yml = (json_normalize(yaml.safe_load(stream)))\n",
    "    except yaml.YAMLError as exc:\n",
    "        print(exc)\n",
    "data_types = json_normalize(features_yml['data_types'])"
   ]
  },
  {
   "cell_type": "code",
   "execution_count": 23,
   "id": "9dfb08e9",
   "metadata": {},
   "outputs": [
    {
     "data": {
      "text/plain": [
       "0    [Contact_1stParty, Contact_3rdParty]\n",
       "Name: practices, dtype: object"
      ]
     },
     "execution_count": 23,
     "metadata": {},
     "output_type": "execute_result"
    }
   ],
   "source": [
    "first_feature = json_normalize(data_types[0])\n",
    "first_list_of_practices = first_feature['practices']\n",
    "first_list_of_practices"
   ]
  },
  {
   "cell_type": "code",
   "execution_count": 27,
   "id": "78b42bbb",
   "metadata": {},
   "outputs": [
    {
     "data": {
      "text/plain": [
       "[1, 2, 1, 2, 3]"
      ]
     },
     "execution_count": 27,
     "metadata": {},
     "output_type": "execute_result"
    }
   ],
   "source": [
    "list_of_practices = []\n",
    "m_list = [1, 2]\n",
    "list_of_practices.extend(m_list)\n",
    "list_of_practices.extend([1,2,3])\n",
    "list_of_practices"
   ]
  },
  {
   "cell_type": "code",
   "execution_count": 35,
   "id": "f2d75ea0",
   "metadata": {},
   "outputs": [],
   "source": [
    "list_of_practice_groups = []\n",
    "practice_groups = range(len(data_types.columns))\n",
    "for i in practice_groups:\n",
    "    practices_and_features = json_normalize(data_types[i])\n",
    "    \n",
    "    list_of_practice_groups.extend(practices_and_features['practices'])"
   ]
  },
  {
   "cell_type": "code",
   "execution_count": 36,
   "id": "af2ecfbf",
   "metadata": {},
   "outputs": [
    {
     "data": {
      "text/plain": [
       "[['Contact_1stParty', 'Contact_3rdParty'],\n",
       " ['Contact_Address_Book_1stParty', 'Contact_Address_Book_3rdParty'],\n",
       " ['Contact_City_1stParty', 'Contact_City_3rdParty'],\n",
       " ['Contact_E_Mail_Address_1stParty', 'Contact_E_Mail_Address_3rdParty'],\n",
       " ['Contact_Password_1stParty', 'Contact_Password_3rdParty'],\n",
       " ['Contact_Phone_Number_1stParty', 'Contact_Phone_Number_3rdParty'],\n",
       " ['Contact_Postal_Address_1stParty', 'Contact_Postal_Address_3rdParty'],\n",
       " ['Contact_ZIP_1stParty', 'Contact_ZIP_3rdParty'],\n",
       " ['Demographic_1stParty', 'Demographic_3rdParty'],\n",
       " ['Demographic_Age_1stParty', 'Demographic_Age_3rdParty'],\n",
       " ['Demographic_Gender_1stParty', 'Demographic_Gender_3rdParty'],\n",
       " ['SSO', 'Facebook_SSO'],\n",
       " ['Identifier_1stParty', 'Identifier_3rdParty'],\n",
       " ['Identifier_Ad_ID_1stParty', 'Identifier_Ad_ID_3rdParty'],\n",
       " ['Identifier_Cookie_or_similar_Tech_1stParty',\n",
       "  'Identifier_Cookie_or_similar_Tech_3rdParty'],\n",
       " ['Identifier_Device_ID_1stParty', 'Identifier_Device_ID_3rdParty'],\n",
       " ['Identifier_IMEI_1stParty', 'Identifier_IMEI_3rdParty'],\n",
       " ['Identifier_IMSI_1stParty', 'Identifier_IMSI_3rdParty'],\n",
       " ['Identifier_IP_Address_1stParty', 'Identifier_IP_Address_3rdParty'],\n",
       " ['Identifier_MAC_1stParty', 'Identifier_MAC_3rdParty'],\n",
       " ['Identifier_Mobile_Carrier_1stParty', 'Identifier_Mobile_Carrier_3rdParty'],\n",
       " ['Identifier_SIM_Serial_1stParty', 'Identifier_SIM_Serial_3rdParty'],\n",
       " ['Identifier_SSID_BSSID_1stParty', 'Identifier_SSID_BSSID_3rdParty'],\n",
       " ['Location_1stParty', 'Location_3rdParty'],\n",
       " ['Location_Bluetooth_1stParty', 'Location_Bluetooth_3rdParty'],\n",
       " ['Location_Cell_Tower_1stParty', 'Location_Cell_Tower_3rdParty'],\n",
       " ['Location_GPS_1stParty', 'Location_GPS_3rdParty'],\n",
       " ['Location_IP_Address_1stParty', 'Location_IP_Address_3rdParty'],\n",
       " ['Location_WiFi_1stParty', 'Location_WiFi_3rdParty']]"
      ]
     },
     "execution_count": 36,
     "metadata": {},
     "output_type": "execute_result"
    }
   ],
   "source": [
    "list_of_practice_groups"
   ]
  },
  {
   "cell_type": "code",
   "execution_count": 42,
   "id": "058f9278",
   "metadata": {},
   "outputs": [
    {
     "data": {
      "text/plain": [
       "29"
      ]
     },
     "execution_count": 42,
     "metadata": {},
     "output_type": "execute_result"
    }
   ],
   "source": [
    "len(list_of_practice_groups)"
   ]
  },
  {
   "cell_type": "code",
   "execution_count": 38,
   "id": "c33fa35b",
   "metadata": {},
   "outputs": [],
   "source": [
    "list_of_practices = [practice for practice_group in list_of_practice_groups for practice in practice_group]"
   ]
  },
  {
   "cell_type": "code",
   "execution_count": 41,
   "id": "7ac19a2d",
   "metadata": {},
   "outputs": [
    {
     "data": {
      "text/plain": [
       "['Contact_1stParty',\n",
       " 'Contact_3rdParty',\n",
       " 'Contact_Address_Book_1stParty',\n",
       " 'Contact_Address_Book_3rdParty',\n",
       " 'Contact_City_1stParty',\n",
       " 'Contact_City_3rdParty',\n",
       " 'Contact_E_Mail_Address_1stParty',\n",
       " 'Contact_E_Mail_Address_3rdParty',\n",
       " 'Contact_Password_1stParty',\n",
       " 'Contact_Password_3rdParty',\n",
       " 'Contact_Phone_Number_1stParty',\n",
       " 'Contact_Phone_Number_3rdParty',\n",
       " 'Contact_Postal_Address_1stParty',\n",
       " 'Contact_Postal_Address_3rdParty',\n",
       " 'Contact_ZIP_1stParty',\n",
       " 'Contact_ZIP_3rdParty',\n",
       " 'Demographic_1stParty',\n",
       " 'Demographic_3rdParty',\n",
       " 'Demographic_Age_1stParty',\n",
       " 'Demographic_Age_3rdParty',\n",
       " 'Demographic_Gender_1stParty',\n",
       " 'Demographic_Gender_3rdParty',\n",
       " 'SSO',\n",
       " 'Facebook_SSO',\n",
       " 'Identifier_1stParty',\n",
       " 'Identifier_3rdParty',\n",
       " 'Identifier_Ad_ID_1stParty',\n",
       " 'Identifier_Ad_ID_3rdParty',\n",
       " 'Identifier_Cookie_or_similar_Tech_1stParty',\n",
       " 'Identifier_Cookie_or_similar_Tech_3rdParty',\n",
       " 'Identifier_Device_ID_1stParty',\n",
       " 'Identifier_Device_ID_3rdParty',\n",
       " 'Identifier_IMEI_1stParty',\n",
       " 'Identifier_IMEI_3rdParty',\n",
       " 'Identifier_IMSI_1stParty',\n",
       " 'Identifier_IMSI_3rdParty',\n",
       " 'Identifier_IP_Address_1stParty',\n",
       " 'Identifier_IP_Address_3rdParty',\n",
       " 'Identifier_MAC_1stParty',\n",
       " 'Identifier_MAC_3rdParty',\n",
       " 'Identifier_Mobile_Carrier_1stParty',\n",
       " 'Identifier_Mobile_Carrier_3rdParty',\n",
       " 'Identifier_SIM_Serial_1stParty',\n",
       " 'Identifier_SIM_Serial_3rdParty',\n",
       " 'Identifier_SSID_BSSID_1stParty',\n",
       " 'Identifier_SSID_BSSID_3rdParty',\n",
       " 'Location_1stParty',\n",
       " 'Location_3rdParty',\n",
       " 'Location_Bluetooth_1stParty',\n",
       " 'Location_Bluetooth_3rdParty',\n",
       " 'Location_Cell_Tower_1stParty',\n",
       " 'Location_Cell_Tower_3rdParty',\n",
       " 'Location_GPS_1stParty',\n",
       " 'Location_GPS_3rdParty',\n",
       " 'Location_IP_Address_1stParty',\n",
       " 'Location_IP_Address_3rdParty',\n",
       " 'Location_WiFi_1stParty',\n",
       " 'Location_WiFi_3rdParty']"
      ]
     },
     "execution_count": 41,
     "metadata": {},
     "output_type": "execute_result"
    }
   ],
   "source": [
    "list_of_practices"
   ]
  },
  {
   "cell_type": "markdown",
   "id": "3cbcd6db",
   "metadata": {},
   "source": [
    "## Demo EDA"
   ]
  },
  {
   "cell_type": "markdown",
   "id": "3b0079d6",
   "metadata": {},
   "source": []
  }
 ],
 "metadata": {
  "kernelspec": {
   "display_name": "Python 3 (ipykernel)",
   "language": "python",
   "name": "python3"
  },
  "language_info": {
   "codemirror_mode": {
    "name": "ipython",
    "version": 3
   },
   "file_extension": ".py",
   "mimetype": "text/x-python",
   "name": "python",
   "nbconvert_exporter": "python",
   "pygments_lexer": "ipython3",
   "version": "3.9.12"
  },
  "toc": {
   "base_numbering": 1,
   "nav_menu": {},
   "number_sections": true,
   "sideBar": true,
   "skip_h1_title": false,
   "title_cell": "Table of Contents",
   "title_sidebar": "Contents",
   "toc_cell": false,
   "toc_position": {},
   "toc_section_display": true,
   "toc_window_display": false
  }
 },
 "nbformat": 4,
 "nbformat_minor": 5
}
