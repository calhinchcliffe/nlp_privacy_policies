{
 "cells": [
  {
   "cell_type": "markdown",
   "id": "35ceb32c",
   "metadata": {},
   "source": [
    "Dataset and related content taken from Natural Language Processing for Mobile App Privacy Compliance. Peter Story, Sebastian Zimmeck, Abhilasha Ravichander, Daniel Smullen, Ziqi Wang, Joel Reidenberg, N. Cameron Russell, and Norman Sadeh. AAAI Spring Symposium on Privacy Enhancing AI and Language Technologies (PAL 2019), Mar 2019.\n",
    "\n",
    "Available here – APP350: https://usableprivacy.org/data"
   ]
  },
  {
   "cell_type": "markdown",
   "id": "816694eb",
   "metadata": {},
   "source": [
    "EDA should be in the context of my data.  I should state what I expect BEFORE checking for it in the data.\n",
    "\n",
    "Also at the top I can include links, context, goals"
   ]
  },
  {
   "cell_type": "code",
   "execution_count": 3,
   "id": "09c92c4c",
   "metadata": {},
   "outputs": [],
   "source": [
    "import pandas as pd\n",
    "from pandas import json_normalize\n",
    "import yaml\n",
    "import numpy as np\n",
    "\n",
    "import matplotlib.pyplot as plt\n",
    "%matplotlib inline\n",
    "\n",
    "import seaborn as sns\n",
    "from scipy import stats\n",
    "from scipy.stats import norm\n",
    "\n",
    "import sys\n",
    "from collections import defaultdict\n",
    "from collections import Counter\n",
    "\n",
    "import ds_utils_callum\n",
    "import priv_policy_manipulation_functions as priv_pol_funcs"
   ]
  },
  {
   "cell_type": "markdown",
   "id": "b562041b",
   "metadata": {},
   "source": [
    "Put the first policy into a df"
   ]
  },
  {
   "cell_type": "markdown",
   "id": "91a814ec",
   "metadata": {},
   "source": [
    "## Populating top-level df"
   ]
  },
  {
   "cell_type": "code",
   "execution_count": 63,
   "id": "78beb882",
   "metadata": {},
   "outputs": [
    {
     "data": {
      "text/html": [
       "<div>\n",
       "<style scoped>\n",
       "    .dataframe tbody tr th:only-of-type {\n",
       "        vertical-align: middle;\n",
       "    }\n",
       "\n",
       "    .dataframe tbody tr th {\n",
       "        vertical-align: top;\n",
       "    }\n",
       "\n",
       "    .dataframe thead th {\n",
       "        text-align: right;\n",
       "    }\n",
       "</style>\n",
       "<table border=\"1\" class=\"dataframe\">\n",
       "  <thead>\n",
       "    <tr style=\"text-align: right;\">\n",
       "      <th></th>\n",
       "      <th>policy_id</th>\n",
       "      <th>policy_name</th>\n",
       "      <th>policy_type</th>\n",
       "      <th>contains_synthetic</th>\n",
       "      <th>segments</th>\n",
       "    </tr>\n",
       "  </thead>\n",
       "  <tbody>\n",
       "    <tr>\n",
       "      <th>0</th>\n",
       "      <td>1</td>\n",
       "      <td>6677G</td>\n",
       "      <td>TEST</td>\n",
       "      <td>False</td>\n",
       "      <td>[{'segment_id': 0, 'segment_text': 'PRIVACY PO...</td>\n",
       "    </tr>\n",
       "    <tr>\n",
       "      <th>1</th>\n",
       "      <td>2</td>\n",
       "      <td>AIFactory</td>\n",
       "      <td>TEST</td>\n",
       "      <td>False</td>\n",
       "      <td>[{'segment_id': 0, 'segment_text': 'AI Factory...</td>\n",
       "    </tr>\n",
       "    <tr>\n",
       "      <th>2</th>\n",
       "      <td>3</td>\n",
       "      <td>AppliqatoSoftware</td>\n",
       "      <td>TEST</td>\n",
       "      <td>False</td>\n",
       "      <td>[{'segment_id': 0, 'segment_text': 'Automatic ...</td>\n",
       "    </tr>\n",
       "    <tr>\n",
       "      <th>3</th>\n",
       "      <td>4</td>\n",
       "      <td>BandaiNamco</td>\n",
       "      <td>TEST</td>\n",
       "      <td>False</td>\n",
       "      <td>[{'segment_id': 0, 'segment_text': 'MOBILE APP...</td>\n",
       "    </tr>\n",
       "    <tr>\n",
       "      <th>4</th>\n",
       "      <td>5</td>\n",
       "      <td>BarcodeScanner</td>\n",
       "      <td>TEST</td>\n",
       "      <td>False</td>\n",
       "      <td>[{'segment_id': 0, 'segment_text': 'Skip to co...</td>\n",
       "    </tr>\n",
       "  </tbody>\n",
       "</table>\n",
       "</div>"
      ],
      "text/plain": [
       "   policy_id        policy_name policy_type  contains_synthetic  \\\n",
       "0          1              6677G        TEST               False   \n",
       "1          2          AIFactory        TEST               False   \n",
       "2          3  AppliqatoSoftware        TEST               False   \n",
       "3          4        BandaiNamco        TEST               False   \n",
       "4          5     BarcodeScanner        TEST               False   \n",
       "\n",
       "                                            segments  \n",
       "0  [{'segment_id': 0, 'segment_text': 'PRIVACY PO...  \n",
       "1  [{'segment_id': 0, 'segment_text': 'AI Factory...  \n",
       "2  [{'segment_id': 0, 'segment_text': 'Automatic ...  \n",
       "3  [{'segment_id': 0, 'segment_text': 'MOBILE APP...  \n",
       "4  [{'segment_id': 0, 'segment_text': 'Skip to co...  "
      ]
     },
     "execution_count": 63,
     "metadata": {},
     "output_type": "execute_result"
    }
   ],
   "source": [
    "all_policies_df = priv_pol_funcs.load_all_policies()\n",
    "all_policies_df.head(5)"
   ]
  },
  {
   "cell_type": "code",
   "execution_count": 64,
   "id": "a07bc455",
   "metadata": {},
   "outputs": [
    {
     "data": {
      "text/html": [
       "<div>\n",
       "<style scoped>\n",
       "    .dataframe tbody tr th:only-of-type {\n",
       "        vertical-align: middle;\n",
       "    }\n",
       "\n",
       "    .dataframe tbody tr th {\n",
       "        vertical-align: top;\n",
       "    }\n",
       "\n",
       "    .dataframe thead th {\n",
       "        text-align: right;\n",
       "    }\n",
       "</style>\n",
       "<table border=\"1\" class=\"dataframe\">\n",
       "  <thead>\n",
       "    <tr style=\"text-align: right;\">\n",
       "      <th></th>\n",
       "      <th>policy_id</th>\n",
       "      <th>policy_name</th>\n",
       "      <th>policy_type</th>\n",
       "      <th>contains_synthetic</th>\n",
       "      <th>segments</th>\n",
       "      <th>num_segments</th>\n",
       "      <th>num_annotated_segs</th>\n",
       "      <th>total_characters</th>\n",
       "    </tr>\n",
       "  </thead>\n",
       "  <tbody>\n",
       "    <tr>\n",
       "      <th>0</th>\n",
       "      <td>1</td>\n",
       "      <td>6677G</td>\n",
       "      <td>TEST</td>\n",
       "      <td>False</td>\n",
       "      <td>[{'segment_id': 0, 'segment_text': 'PRIVACY PO...</td>\n",
       "      <td>36</td>\n",
       "      <td>11</td>\n",
       "      <td>12703</td>\n",
       "    </tr>\n",
       "    <tr>\n",
       "      <th>1</th>\n",
       "      <td>2</td>\n",
       "      <td>AIFactory</td>\n",
       "      <td>TEST</td>\n",
       "      <td>False</td>\n",
       "      <td>[{'segment_id': 0, 'segment_text': 'AI Factory...</td>\n",
       "      <td>14</td>\n",
       "      <td>5</td>\n",
       "      <td>5995</td>\n",
       "    </tr>\n",
       "    <tr>\n",
       "      <th>2</th>\n",
       "      <td>3</td>\n",
       "      <td>AppliqatoSoftware</td>\n",
       "      <td>TEST</td>\n",
       "      <td>False</td>\n",
       "      <td>[{'segment_id': 0, 'segment_text': 'Automatic ...</td>\n",
       "      <td>8</td>\n",
       "      <td>1</td>\n",
       "      <td>2450</td>\n",
       "    </tr>\n",
       "    <tr>\n",
       "      <th>3</th>\n",
       "      <td>4</td>\n",
       "      <td>BandaiNamco</td>\n",
       "      <td>TEST</td>\n",
       "      <td>False</td>\n",
       "      <td>[{'segment_id': 0, 'segment_text': 'MOBILE APP...</td>\n",
       "      <td>57</td>\n",
       "      <td>14</td>\n",
       "      <td>32323</td>\n",
       "    </tr>\n",
       "    <tr>\n",
       "      <th>4</th>\n",
       "      <td>5</td>\n",
       "      <td>BarcodeScanner</td>\n",
       "      <td>TEST</td>\n",
       "      <td>False</td>\n",
       "      <td>[{'segment_id': 0, 'segment_text': 'Skip to co...</td>\n",
       "      <td>32</td>\n",
       "      <td>3</td>\n",
       "      <td>6667</td>\n",
       "    </tr>\n",
       "  </tbody>\n",
       "</table>\n",
       "</div>"
      ],
      "text/plain": [
       "   policy_id        policy_name policy_type  contains_synthetic  \\\n",
       "0          1              6677G        TEST               False   \n",
       "1          2          AIFactory        TEST               False   \n",
       "2          3  AppliqatoSoftware        TEST               False   \n",
       "3          4        BandaiNamco        TEST               False   \n",
       "4          5     BarcodeScanner        TEST               False   \n",
       "\n",
       "                                            segments  num_segments  \\\n",
       "0  [{'segment_id': 0, 'segment_text': 'PRIVACY PO...            36   \n",
       "1  [{'segment_id': 0, 'segment_text': 'AI Factory...            14   \n",
       "2  [{'segment_id': 0, 'segment_text': 'Automatic ...             8   \n",
       "3  [{'segment_id': 0, 'segment_text': 'MOBILE APP...            57   \n",
       "4  [{'segment_id': 0, 'segment_text': 'Skip to co...            32   \n",
       "\n",
       "   num_annotated_segs  total_characters  \n",
       "0                  11             12703  \n",
       "1                   5              5995  \n",
       "2                   1              2450  \n",
       "3                  14             32323  \n",
       "4                   3              6667  "
      ]
     },
     "execution_count": 64,
     "metadata": {},
     "output_type": "execute_result"
    }
   ],
   "source": [
    "all_policies_df = priv_pol_funcs.add_metadata_to_policy_df(all_policies_df)\n",
    "all_policies_df.head(5)"
   ]
  },
  {
   "cell_type": "markdown",
   "id": "dc7e4abe",
   "metadata": {},
   "source": [
    "# Making segments"
   ]
  },
  {
   "cell_type": "markdown",
   "id": "839b9e7c",
   "metadata": {},
   "source": [
    "Now to make a new dataframe where each row represents a paragraph (segment).\n",
    "\n",
    "First I will get this to work for a single policy. Then I will loop through all the policies to apply the same manipulation."
   ]
  },
  {
   "cell_type": "code",
   "execution_count": 65,
   "id": "0c936160",
   "metadata": {
    "scrolled": false
   },
   "outputs": [
    {
     "data": {
      "text/html": [
       "<div>\n",
       "<style scoped>\n",
       "    .dataframe tbody tr th:only-of-type {\n",
       "        vertical-align: middle;\n",
       "    }\n",
       "\n",
       "    .dataframe tbody tr th {\n",
       "        vertical-align: top;\n",
       "    }\n",
       "\n",
       "    .dataframe thead th {\n",
       "        text-align: right;\n",
       "    }\n",
       "</style>\n",
       "<table border=\"1\" class=\"dataframe\">\n",
       "  <thead>\n",
       "    <tr style=\"text-align: right;\">\n",
       "      <th></th>\n",
       "      <th>source_policy_number</th>\n",
       "      <th>policy_type</th>\n",
       "      <th>contains_synthetic</th>\n",
       "      <th>policy_segment_id</th>\n",
       "      <th>segment_text</th>\n",
       "      <th>annotations</th>\n",
       "      <th>sentences</th>\n",
       "    </tr>\n",
       "    <tr>\n",
       "      <th>segment_id</th>\n",
       "      <th></th>\n",
       "      <th></th>\n",
       "      <th></th>\n",
       "      <th></th>\n",
       "      <th></th>\n",
       "      <th></th>\n",
       "      <th></th>\n",
       "    </tr>\n",
       "  </thead>\n",
       "  <tbody>\n",
       "    <tr>\n",
       "      <th>0</th>\n",
       "      <td>1</td>\n",
       "      <td>TEST</td>\n",
       "      <td>False</td>\n",
       "      <td>0</td>\n",
       "      <td>PRIVACY POLICY This privacy policy (hereafter ...</td>\n",
       "      <td>[]</td>\n",
       "      <td>[]</td>\n",
       "    </tr>\n",
       "    <tr>\n",
       "      <th>1</th>\n",
       "      <td>1</td>\n",
       "      <td>TEST</td>\n",
       "      <td>False</td>\n",
       "      <td>1</td>\n",
       "      <td>1. ABOUT OUR PRODUCTS 1.1 Our products offer a...</td>\n",
       "      <td>[]</td>\n",
       "      <td>[]</td>\n",
       "    </tr>\n",
       "    <tr>\n",
       "      <th>2</th>\n",
       "      <td>1</td>\n",
       "      <td>TEST</td>\n",
       "      <td>False</td>\n",
       "      <td>2</td>\n",
       "      <td>2. THE INFORMATION WE COLLECT The information ...</td>\n",
       "      <td>[{'practice': 'Identifier_Cookie_or_similar_Te...</td>\n",
       "      <td>[{'sentence_text': 'IP ADDRESS, COOKIES, AND W...</td>\n",
       "    </tr>\n",
       "    <tr>\n",
       "      <th>3</th>\n",
       "      <td>1</td>\n",
       "      <td>TEST</td>\n",
       "      <td>False</td>\n",
       "      <td>3</td>\n",
       "      <td>2.2 In addition, we store certain information ...</td>\n",
       "      <td>[{'practice': 'Identifier_Cookie_or_similar_Te...</td>\n",
       "      <td>[{'sentence_text': '6677g may use cookies, web...</td>\n",
       "    </tr>\n",
       "    <tr>\n",
       "      <th>4</th>\n",
       "      <td>1</td>\n",
       "      <td>TEST</td>\n",
       "      <td>False</td>\n",
       "      <td>4</td>\n",
       "      <td>(c) to remember your preferences and registrat...</td>\n",
       "      <td>[]</td>\n",
       "      <td>[]</td>\n",
       "    </tr>\n",
       "  </tbody>\n",
       "</table>\n",
       "</div>"
      ],
      "text/plain": [
       "            source_policy_number policy_type  contains_synthetic  \\\n",
       "segment_id                                                         \n",
       "0                              1        TEST               False   \n",
       "1                              1        TEST               False   \n",
       "2                              1        TEST               False   \n",
       "3                              1        TEST               False   \n",
       "4                              1        TEST               False   \n",
       "\n",
       "            policy_segment_id  \\\n",
       "segment_id                      \n",
       "0                           0   \n",
       "1                           1   \n",
       "2                           2   \n",
       "3                           3   \n",
       "4                           4   \n",
       "\n",
       "                                                 segment_text  \\\n",
       "segment_id                                                      \n",
       "0           PRIVACY POLICY This privacy policy (hereafter ...   \n",
       "1           1. ABOUT OUR PRODUCTS 1.1 Our products offer a...   \n",
       "2           2. THE INFORMATION WE COLLECT The information ...   \n",
       "3           2.2 In addition, we store certain information ...   \n",
       "4           (c) to remember your preferences and registrat...   \n",
       "\n",
       "                                                  annotations  \\\n",
       "segment_id                                                      \n",
       "0                                                          []   \n",
       "1                                                          []   \n",
       "2           [{'practice': 'Identifier_Cookie_or_similar_Te...   \n",
       "3           [{'practice': 'Identifier_Cookie_or_similar_Te...   \n",
       "4                                                          []   \n",
       "\n",
       "                                                    sentences  \n",
       "segment_id                                                     \n",
       "0                                                          []  \n",
       "1                                                          []  \n",
       "2           [{'sentence_text': 'IP ADDRESS, COOKIES, AND W...  \n",
       "3           [{'sentence_text': '6677g may use cookies, web...  \n",
       "4                                                          []  "
      ]
     },
     "execution_count": 65,
     "metadata": {},
     "output_type": "execute_result"
    }
   ],
   "source": [
    "all_segments_df = priv_pol_funcs.generate_segment_df(all_policies_df)\n",
    "all_segments_df.head()"
   ]
  },
  {
   "cell_type": "code",
   "execution_count": 66,
   "id": "fd922f90",
   "metadata": {},
   "outputs": [
    {
     "data": {
      "text/plain": [
       "(15543, 7)"
      ]
     },
     "execution_count": 66,
     "metadata": {},
     "output_type": "execute_result"
    }
   ],
   "source": [
    "all_segments_df.shape"
   ]
  },
  {
   "cell_type": "code",
   "execution_count": 67,
   "id": "f736bc2e",
   "metadata": {},
   "outputs": [
    {
     "name": "stdout",
     "output_type": "stream",
     "text": [
      "<class 'pandas.core.frame.DataFrame'>\n",
      "RangeIndex: 15543 entries, 0 to 15542\n",
      "Data columns (total 7 columns):\n",
      " #   Column                Non-Null Count  Dtype \n",
      "---  ------                --------------  ----- \n",
      " 0   source_policy_number  15543 non-null  int64 \n",
      " 1   policy_type           15543 non-null  object\n",
      " 2   contains_synthetic    15543 non-null  bool  \n",
      " 3   policy_segment_id     15543 non-null  int64 \n",
      " 4   segment_text          15543 non-null  object\n",
      " 5   annotations           15543 non-null  object\n",
      " 6   sentences             15543 non-null  object\n",
      "dtypes: bool(1), int64(2), object(4)\n",
      "memory usage: 743.9+ KB\n"
     ]
    }
   ],
   "source": [
    "all_segments_df.info()"
   ]
  },
  {
   "cell_type": "markdown",
   "id": "94a791be",
   "metadata": {},
   "source": [
    "### Export all segments"
   ]
  },
  {
   "cell_type": "markdown",
   "id": "3282d7eb",
   "metadata": {},
   "source": [
    "To make it faster to load this dataframe in this notebook and others, I will save it as a pickle file.\n",
    "\n",
    "`pd.to_pickle()` is better than `pd.to_csv()` because:\n",
    "- The stored file size is smaller\n",
    "- List objects in the dataframe are *not* converted to strings, as with csv."
   ]
  },
  {
   "cell_type": "code",
   "execution_count": 68,
   "id": "27287da7",
   "metadata": {},
   "outputs": [],
   "source": [
    "all_segments_df.to_pickle('all_segments_df.pkl')"
   ]
  },
  {
   "cell_type": "markdown",
   "id": "f5f2f7e9",
   "metadata": {},
   "source": [
    "Verifying that the file was correctly saved and can be imported properly:"
   ]
  },
  {
   "cell_type": "code",
   "execution_count": 74,
   "id": "78b7a7d8",
   "metadata": {},
   "outputs": [
    {
     "name": "stdout",
     "output_type": "stream",
     "text": [
      "True\n",
      "True\n"
     ]
    }
   ],
   "source": [
    "confirm_save_1 = pd.read_pickle('all_segments_df.pkl')\n",
    "print(all_segments_df.shape == confirm_save_1.shape)\n",
    "print(confirm_save_1.equals(all_segments_df))"
   ]
  },
  {
   "cell_type": "markdown",
   "id": "9c44fa4c",
   "metadata": {},
   "source": [
    "Now the below code can all be ran using the dataframe produced from the pickle file, instead of having to wait for the above code to run."
   ]
  },
  {
   "cell_type": "markdown",
   "id": "817ac65c",
   "metadata": {},
   "source": [
    "# Next step of extraction"
   ]
  },
  {
   "cell_type": "markdown",
   "id": "f4980ec4",
   "metadata": {},
   "source": [
    "I probably want to separate it out to the sentence level, as that is the max granularity of the annotations and some paragraphs are just one sentence anyway."
   ]
  },
  {
   "cell_type": "markdown",
   "id": "afb62815",
   "metadata": {},
   "source": [
    "## Extracting list of practices"
   ]
  },
  {
   "cell_type": "markdown",
   "id": "44a03476",
   "metadata": {},
   "source": [
    "Employing my function to get the list of practices from the APP documentation"
   ]
  },
  {
   "cell_type": "code",
   "execution_count": 10,
   "id": "b0210c34",
   "metadata": {},
   "outputs": [
    {
     "name": "stdout",
     "output_type": "stream",
     "text": [
      "29 different groups of practices returned, containing 58 individual practices.\n"
     ]
    }
   ],
   "source": [
    "list_of_practice_groups = priv_pol_funcs.get_list_of_practice_groups()"
   ]
  },
  {
   "cell_type": "code",
   "execution_count": 11,
   "id": "9f867dbd",
   "metadata": {},
   "outputs": [
    {
     "name": "stdout",
     "output_type": "stream",
     "text": [
      "There are 58 different practices.\n"
     ]
    }
   ],
   "source": [
    "# Expand the list of list with a list comprehension\n",
    "list_of_practices = [practice for practice_group in list_of_practice_groups for practice in practice_group]\n",
    "print(f\"There are {len(list_of_practices)} different practices.\")"
   ]
  },
  {
   "cell_type": "code",
   "execution_count": 12,
   "id": "5cf00bf9",
   "metadata": {},
   "outputs": [
    {
     "data": {
      "text/plain": [
       "['Contact_1stParty',\n",
       " 'Contact_3rdParty',\n",
       " 'Contact_Address_Book_1stParty',\n",
       " 'Contact_Address_Book_3rdParty',\n",
       " 'Contact_City_1stParty']"
      ]
     },
     "execution_count": 12,
     "metadata": {},
     "output_type": "execute_result"
    }
   ],
   "source": [
    "list_of_practices[:5]"
   ]
  },
  {
   "cell_type": "markdown",
   "id": "5d99ae0e",
   "metadata": {},
   "source": [
    "## Applying all annotations to columns in segment dataframe"
   ]
  },
  {
   "cell_type": "code",
   "execution_count": 92,
   "id": "03f6d75b",
   "metadata": {},
   "outputs": [],
   "source": [
    "# Can be used to read in the dataframe without running the above code\n",
    "# all_segments_df = pd.read_pickle('all_segments_df.pkl')"
   ]
  },
  {
   "cell_type": "code",
   "execution_count": 80,
   "id": "255a9a8e",
   "metadata": {},
   "outputs": [
    {
     "name": "stdout",
     "output_type": "stream",
     "text": [
      "The shape of the returned dataframe is (15543, 65)\n"
     ]
    }
   ],
   "source": [
    "segment_annotations = priv_pol_funcs.add_empty_annotation_columns(all_segments_df, list_of_practices)"
   ]
  },
  {
   "cell_type": "code",
   "execution_count": 81,
   "id": "585826f5",
   "metadata": {},
   "outputs": [],
   "source": [
    "# segment_annotations.head(2) # Verify columns added"
   ]
  },
  {
   "cell_type": "code",
   "execution_count": 82,
   "id": "8e237559",
   "metadata": {},
   "outputs": [],
   "source": [
    "# populate the columns with the annotations\n",
    "for index in range(len(segment_annotations)):\n",
    "    practices_dictionaries = segment_annotations.loc[index, 'annotations']\n",
    "    for each_practice in practices_dictionaries:\n",
    "        segment_annotations.loc[index, each_practice['practice']] += 1"
   ]
  },
  {
   "cell_type": "code",
   "execution_count": 83,
   "id": "217dd145",
   "metadata": {},
   "outputs": [
    {
     "data": {
      "text/plain": [
       "4"
      ]
     },
     "execution_count": 83,
     "metadata": {},
     "output_type": "execute_result"
    }
   ],
   "source": [
    "# Verify final row annotated\n",
    "segment_annotations.iloc[15542,7:].sum() # columns after 7 cover all annotation columns"
   ]
  },
  {
   "cell_type": "code",
   "execution_count": 84,
   "id": "6055fe7d",
   "metadata": {},
   "outputs": [
    {
     "data": {
      "text/plain": [
       "10215"
      ]
     },
     "execution_count": 84,
     "metadata": {},
     "output_type": "execute_result"
    }
   ],
   "source": [
    "segment_annotations.iloc[:,7:].sum().sum() # Total paragraph annotations"
   ]
  },
  {
   "cell_type": "markdown",
   "id": "310489b5",
   "metadata": {},
   "source": [
    "Further confirmation that all the annotations are added:"
   ]
  },
  {
   "cell_type": "code",
   "execution_count": 85,
   "id": "524ba89f",
   "metadata": {},
   "outputs": [
    {
     "data": {
      "text/html": [
       "<div>\n",
       "<style scoped>\n",
       "    .dataframe tbody tr th:only-of-type {\n",
       "        vertical-align: middle;\n",
       "    }\n",
       "\n",
       "    .dataframe tbody tr th {\n",
       "        vertical-align: top;\n",
       "    }\n",
       "\n",
       "    .dataframe thead th {\n",
       "        text-align: right;\n",
       "    }\n",
       "</style>\n",
       "<table border=\"1\" class=\"dataframe\">\n",
       "  <thead>\n",
       "    <tr style=\"text-align: right;\">\n",
       "      <th></th>\n",
       "      <th>source_policy_number</th>\n",
       "      <th>policy_type</th>\n",
       "      <th>contains_synthetic</th>\n",
       "      <th>policy_segment_id</th>\n",
       "      <th>segment_text</th>\n",
       "      <th>annotations</th>\n",
       "      <th>sentences</th>\n",
       "      <th>Contact_1stParty</th>\n",
       "      <th>Contact_3rdParty</th>\n",
       "      <th>Contact_Address_Book_1stParty</th>\n",
       "      <th>...</th>\n",
       "      <th>Location_Bluetooth_1stParty</th>\n",
       "      <th>Location_Bluetooth_3rdParty</th>\n",
       "      <th>Location_Cell_Tower_1stParty</th>\n",
       "      <th>Location_Cell_Tower_3rdParty</th>\n",
       "      <th>Location_GPS_1stParty</th>\n",
       "      <th>Location_GPS_3rdParty</th>\n",
       "      <th>Location_IP_Address_1stParty</th>\n",
       "      <th>Location_IP_Address_3rdParty</th>\n",
       "      <th>Location_WiFi_1stParty</th>\n",
       "      <th>Location_WiFi_3rdParty</th>\n",
       "    </tr>\n",
       "  </thead>\n",
       "  <tbody>\n",
       "    <tr>\n",
       "      <th>0</th>\n",
       "      <td>1</td>\n",
       "      <td>TEST</td>\n",
       "      <td>False</td>\n",
       "      <td>0</td>\n",
       "      <td>PRIVACY POLICY This privacy policy (hereafter ...</td>\n",
       "      <td>[]</td>\n",
       "      <td>[]</td>\n",
       "      <td>0</td>\n",
       "      <td>0</td>\n",
       "      <td>0</td>\n",
       "      <td>...</td>\n",
       "      <td>0</td>\n",
       "      <td>0</td>\n",
       "      <td>0</td>\n",
       "      <td>0</td>\n",
       "      <td>0</td>\n",
       "      <td>0</td>\n",
       "      <td>0</td>\n",
       "      <td>0</td>\n",
       "      <td>0</td>\n",
       "      <td>0</td>\n",
       "    </tr>\n",
       "    <tr>\n",
       "      <th>1</th>\n",
       "      <td>1</td>\n",
       "      <td>TEST</td>\n",
       "      <td>False</td>\n",
       "      <td>1</td>\n",
       "      <td>1. ABOUT OUR PRODUCTS 1.1 Our products offer a...</td>\n",
       "      <td>[]</td>\n",
       "      <td>[]</td>\n",
       "      <td>0</td>\n",
       "      <td>0</td>\n",
       "      <td>0</td>\n",
       "      <td>...</td>\n",
       "      <td>0</td>\n",
       "      <td>0</td>\n",
       "      <td>0</td>\n",
       "      <td>0</td>\n",
       "      <td>0</td>\n",
       "      <td>0</td>\n",
       "      <td>0</td>\n",
       "      <td>0</td>\n",
       "      <td>0</td>\n",
       "      <td>0</td>\n",
       "    </tr>\n",
       "    <tr>\n",
       "      <th>2</th>\n",
       "      <td>1</td>\n",
       "      <td>TEST</td>\n",
       "      <td>False</td>\n",
       "      <td>2</td>\n",
       "      <td>2. THE INFORMATION WE COLLECT The information ...</td>\n",
       "      <td>[{'practice': 'Identifier_Cookie_or_similar_Te...</td>\n",
       "      <td>[{'sentence_text': 'IP ADDRESS, COOKIES, AND W...</td>\n",
       "      <td>0</td>\n",
       "      <td>0</td>\n",
       "      <td>0</td>\n",
       "      <td>...</td>\n",
       "      <td>0</td>\n",
       "      <td>0</td>\n",
       "      <td>0</td>\n",
       "      <td>0</td>\n",
       "      <td>0</td>\n",
       "      <td>0</td>\n",
       "      <td>0</td>\n",
       "      <td>0</td>\n",
       "      <td>0</td>\n",
       "      <td>0</td>\n",
       "    </tr>\n",
       "    <tr>\n",
       "      <th>3</th>\n",
       "      <td>1</td>\n",
       "      <td>TEST</td>\n",
       "      <td>False</td>\n",
       "      <td>3</td>\n",
       "      <td>2.2 In addition, we store certain information ...</td>\n",
       "      <td>[{'practice': 'Identifier_Cookie_or_similar_Te...</td>\n",
       "      <td>[{'sentence_text': '6677g may use cookies, web...</td>\n",
       "      <td>0</td>\n",
       "      <td>0</td>\n",
       "      <td>0</td>\n",
       "      <td>...</td>\n",
       "      <td>0</td>\n",
       "      <td>0</td>\n",
       "      <td>0</td>\n",
       "      <td>0</td>\n",
       "      <td>0</td>\n",
       "      <td>0</td>\n",
       "      <td>0</td>\n",
       "      <td>0</td>\n",
       "      <td>0</td>\n",
       "      <td>0</td>\n",
       "    </tr>\n",
       "    <tr>\n",
       "      <th>4</th>\n",
       "      <td>1</td>\n",
       "      <td>TEST</td>\n",
       "      <td>False</td>\n",
       "      <td>4</td>\n",
       "      <td>(c) to remember your preferences and registrat...</td>\n",
       "      <td>[]</td>\n",
       "      <td>[]</td>\n",
       "      <td>0</td>\n",
       "      <td>0</td>\n",
       "      <td>0</td>\n",
       "      <td>...</td>\n",
       "      <td>0</td>\n",
       "      <td>0</td>\n",
       "      <td>0</td>\n",
       "      <td>0</td>\n",
       "      <td>0</td>\n",
       "      <td>0</td>\n",
       "      <td>0</td>\n",
       "      <td>0</td>\n",
       "      <td>0</td>\n",
       "      <td>0</td>\n",
       "    </tr>\n",
       "  </tbody>\n",
       "</table>\n",
       "<p>5 rows × 65 columns</p>\n",
       "</div>"
      ],
      "text/plain": [
       "   source_policy_number policy_type  contains_synthetic  policy_segment_id  \\\n",
       "0                     1        TEST               False                  0   \n",
       "1                     1        TEST               False                  1   \n",
       "2                     1        TEST               False                  2   \n",
       "3                     1        TEST               False                  3   \n",
       "4                     1        TEST               False                  4   \n",
       "\n",
       "                                        segment_text  \\\n",
       "0  PRIVACY POLICY This privacy policy (hereafter ...   \n",
       "1  1. ABOUT OUR PRODUCTS 1.1 Our products offer a...   \n",
       "2  2. THE INFORMATION WE COLLECT The information ...   \n",
       "3  2.2 In addition, we store certain information ...   \n",
       "4  (c) to remember your preferences and registrat...   \n",
       "\n",
       "                                         annotations  \\\n",
       "0                                                 []   \n",
       "1                                                 []   \n",
       "2  [{'practice': 'Identifier_Cookie_or_similar_Te...   \n",
       "3  [{'practice': 'Identifier_Cookie_or_similar_Te...   \n",
       "4                                                 []   \n",
       "\n",
       "                                           sentences  Contact_1stParty  \\\n",
       "0                                                 []                 0   \n",
       "1                                                 []                 0   \n",
       "2  [{'sentence_text': 'IP ADDRESS, COOKIES, AND W...                 0   \n",
       "3  [{'sentence_text': '6677g may use cookies, web...                 0   \n",
       "4                                                 []                 0   \n",
       "\n",
       "   Contact_3rdParty  Contact_Address_Book_1stParty  ...  \\\n",
       "0                 0                              0  ...   \n",
       "1                 0                              0  ...   \n",
       "2                 0                              0  ...   \n",
       "3                 0                              0  ...   \n",
       "4                 0                              0  ...   \n",
       "\n",
       "   Location_Bluetooth_1stParty  Location_Bluetooth_3rdParty  \\\n",
       "0                            0                            0   \n",
       "1                            0                            0   \n",
       "2                            0                            0   \n",
       "3                            0                            0   \n",
       "4                            0                            0   \n",
       "\n",
       "   Location_Cell_Tower_1stParty  Location_Cell_Tower_3rdParty  \\\n",
       "0                             0                             0   \n",
       "1                             0                             0   \n",
       "2                             0                             0   \n",
       "3                             0                             0   \n",
       "4                             0                             0   \n",
       "\n",
       "   Location_GPS_1stParty  Location_GPS_3rdParty  Location_IP_Address_1stParty  \\\n",
       "0                      0                      0                             0   \n",
       "1                      0                      0                             0   \n",
       "2                      0                      0                             0   \n",
       "3                      0                      0                             0   \n",
       "4                      0                      0                             0   \n",
       "\n",
       "   Location_IP_Address_3rdParty  Location_WiFi_1stParty  \\\n",
       "0                             0                       0   \n",
       "1                             0                       0   \n",
       "2                             0                       0   \n",
       "3                             0                       0   \n",
       "4                             0                       0   \n",
       "\n",
       "   Location_WiFi_3rdParty  \n",
       "0                       0  \n",
       "1                       0  \n",
       "2                       0  \n",
       "3                       0  \n",
       "4                       0  \n",
       "\n",
       "[5 rows x 65 columns]"
      ]
     },
     "execution_count": 85,
     "metadata": {},
     "output_type": "execute_result"
    }
   ],
   "source": [
    "segment_annotations.head()"
   ]
  },
  {
   "cell_type": "markdown",
   "id": "e7077411",
   "metadata": {},
   "source": [
    "## Investigating rows with multiple of same annotation"
   ]
  },
  {
   "cell_type": "markdown",
   "id": "5f50f1c1",
   "metadata": {},
   "source": [
    "It will be interesting to know whether there are any paragraphs with more than one of the same annotation, and why."
   ]
  },
  {
   "cell_type": "code",
   "execution_count": 86,
   "id": "18d7f3e9",
   "metadata": {},
   "outputs": [
    {
     "data": {
      "text/plain": [
       "Contact_E_Mail_Address_1stParty    2\n",
       "Location_1stParty                  2\n",
       "dtype: int64"
      ]
     },
     "execution_count": 86,
     "metadata": {},
     "output_type": "execute_result"
    }
   ],
   "source": [
    "(segment_annotations.iloc[:,7:].max() == 2)\n",
    "max_of_each_annotation_per_paragraph = segment_annotations.iloc[:,7:].max()\n",
    "max_of_each_annotation_per_paragraph.loc[max_of_each_annotation_per_paragraph.values > 1]"
   ]
  },
  {
   "cell_type": "markdown",
   "id": "9a00aff3",
   "metadata": {},
   "source": [
    "Two annotations were investigated:\n",
    "- Contact_E_Mail_Address_1stParty: only applied twice in one paragraph:\n",
    "    - paragraph 7194: the paragraph mentioned that it both performed AND did not perform this practice.\n",
    "- Location_1stParty: only applied twice in one paragraph:\n",
    "    - paragraph 11150: it is a very long paragraph and has the annotation as both performed and not performed. (I note that the annotated sentences seem questionable.)\n",
    "    \n",
    "In conclusion, almost no segments have duplicate annotations."
   ]
  },
  {
   "cell_type": "markdown",
   "id": "6ad3724b",
   "metadata": {},
   "source": [
    "## Investigating annotations that occur very rarely"
   ]
  },
  {
   "cell_type": "code",
   "execution_count": 87,
   "id": "ebe01bc0",
   "metadata": {},
   "outputs": [],
   "source": [
    "annotation_segment_frequencies = segment_annotations.iloc[:,7:].sum() # Number of paragraphs with each annotation"
   ]
  },
  {
   "cell_type": "code",
   "execution_count": 88,
   "id": "8222bf75",
   "metadata": {},
   "outputs": [
    {
     "data": {
      "text/plain": [
       "10215"
      ]
     },
     "execution_count": 88,
     "metadata": {},
     "output_type": "execute_result"
    }
   ],
   "source": [
    "annotation_segment_frequencies.sum()"
   ]
  },
  {
   "cell_type": "code",
   "execution_count": 89,
   "id": "4975aeea",
   "metadata": {},
   "outputs": [
    {
     "data": {
      "text/plain": [
       "Contact_City_3rdParty             8\n",
       "Identifier_IMSI_3rdParty          3\n",
       "Identifier_SIM_Serial_3rdParty    3\n",
       "Identifier_SSID_BSSID_3rdParty    2\n",
       "dtype: int64"
      ]
     },
     "execution_count": 89,
     "metadata": {},
     "output_type": "execute_result"
    }
   ],
   "source": [
    "annotation_segment_frequencies.loc[annotation_segment_frequencies.values < 10]"
   ]
  },
  {
   "cell_type": "markdown",
   "id": "380e7672",
   "metadata": {},
   "source": [
    "Some examples:\n",
    "- Contact_City_3rdParty: Tends to be describing a level of abstraction/annonimisation of location data\n",
    "- Identifier_SSID_BSSID_3rdParty: A couple of apps use an advertising service that collects internet network info"
   ]
  },
  {
   "cell_type": "markdown",
   "id": "8c5e456c",
   "metadata": {},
   "source": [
    "## Export segment_annotations"
   ]
  },
  {
   "cell_type": "markdown",
   "id": "f2939e23",
   "metadata": {},
   "source": [
    "To make it faster to load this dataframe in this notebook and others, I will save it as a pickle file.  This allows the below code to be ran without waiting for the above code."
   ]
  },
  {
   "cell_type": "code",
   "execution_count": 90,
   "id": "a45aebf1",
   "metadata": {},
   "outputs": [],
   "source": [
    "segment_annotations.to_pickle('segment_annotations.pkl')"
   ]
  },
  {
   "cell_type": "markdown",
   "id": "8328be6f",
   "metadata": {},
   "source": [
    "Verifying that the file was correctly saved and can be imported properly:"
   ]
  },
  {
   "cell_type": "code",
   "execution_count": 93,
   "id": "df8fbecc",
   "metadata": {},
   "outputs": [
    {
     "name": "stdout",
     "output_type": "stream",
     "text": [
      "True\n",
      "True\n"
     ]
    }
   ],
   "source": [
    "confirm_save_2 = pd.read_pickle('segment_annotations.pkl')\n",
    "print(segment_annotations.shape == confirm_save_2.shape)\n",
    "print(confirm_save_2.equals(segment_annotations))"
   ]
  },
  {
   "cell_type": "code",
   "execution_count": 7,
   "id": "f90ac158",
   "metadata": {},
   "outputs": [],
   "source": [
    "confirm_save_2 = pd.read_pickle('segment_annotations.pkl')"
   ]
  },
  {
   "cell_type": "code",
   "execution_count": 8,
   "id": "b2c233a3",
   "metadata": {},
   "outputs": [
    {
     "data": {
      "text/plain": [
       "(15543, 65)"
      ]
     },
     "execution_count": 8,
     "metadata": {},
     "output_type": "execute_result"
    }
   ],
   "source": [
    "confirm_save_2.shape"
   ]
  },
  {
   "cell_type": "markdown",
   "id": "9b80367e",
   "metadata": {},
   "source": [
    "---"
   ]
  },
  {
   "cell_type": "markdown",
   "id": "7d4f2d86",
   "metadata": {},
   "source": [
    "# Reduce Segment Annotations to [1st/3rd party] / [Practice]"
   ]
  },
  {
   "cell_type": "code",
   "execution_count": 94,
   "id": "69199fa6",
   "metadata": {},
   "outputs": [],
   "source": [
    "# Can be used to read in the dataframe without running the above code\n",
    "# segment_annotations = pd.read_pickle('segment_annotations.pkl')"
   ]
  },
  {
   "cell_type": "code",
   "execution_count": 95,
   "id": "e50fad2b",
   "metadata": {},
   "outputs": [
    {
     "data": {
      "text/html": [
       "<div>\n",
       "<style scoped>\n",
       "    .dataframe tbody tr th:only-of-type {\n",
       "        vertical-align: middle;\n",
       "    }\n",
       "\n",
       "    .dataframe tbody tr th {\n",
       "        vertical-align: top;\n",
       "    }\n",
       "\n",
       "    .dataframe thead th {\n",
       "        text-align: right;\n",
       "    }\n",
       "</style>\n",
       "<table border=\"1\" class=\"dataframe\">\n",
       "  <thead>\n",
       "    <tr style=\"text-align: right;\">\n",
       "      <th></th>\n",
       "      <th>source_policy_number</th>\n",
       "      <th>policy_type</th>\n",
       "      <th>contains_synthetic</th>\n",
       "      <th>policy_segment_id</th>\n",
       "      <th>segment_text</th>\n",
       "      <th>annotations</th>\n",
       "      <th>sentences</th>\n",
       "      <th>Contact_1stParty</th>\n",
       "      <th>Contact_3rdParty</th>\n",
       "      <th>Contact_Address_Book_1stParty</th>\n",
       "      <th>...</th>\n",
       "      <th>Location_Bluetooth_1stParty</th>\n",
       "      <th>Location_Bluetooth_3rdParty</th>\n",
       "      <th>Location_Cell_Tower_1stParty</th>\n",
       "      <th>Location_Cell_Tower_3rdParty</th>\n",
       "      <th>Location_GPS_1stParty</th>\n",
       "      <th>Location_GPS_3rdParty</th>\n",
       "      <th>Location_IP_Address_1stParty</th>\n",
       "      <th>Location_IP_Address_3rdParty</th>\n",
       "      <th>Location_WiFi_1stParty</th>\n",
       "      <th>Location_WiFi_3rdParty</th>\n",
       "    </tr>\n",
       "  </thead>\n",
       "  <tbody>\n",
       "    <tr>\n",
       "      <th>0</th>\n",
       "      <td>1</td>\n",
       "      <td>TEST</td>\n",
       "      <td>False</td>\n",
       "      <td>0</td>\n",
       "      <td>PRIVACY POLICY This privacy policy (hereafter ...</td>\n",
       "      <td>[]</td>\n",
       "      <td>[]</td>\n",
       "      <td>0</td>\n",
       "      <td>0</td>\n",
       "      <td>0</td>\n",
       "      <td>...</td>\n",
       "      <td>0</td>\n",
       "      <td>0</td>\n",
       "      <td>0</td>\n",
       "      <td>0</td>\n",
       "      <td>0</td>\n",
       "      <td>0</td>\n",
       "      <td>0</td>\n",
       "      <td>0</td>\n",
       "      <td>0</td>\n",
       "      <td>0</td>\n",
       "    </tr>\n",
       "    <tr>\n",
       "      <th>1</th>\n",
       "      <td>1</td>\n",
       "      <td>TEST</td>\n",
       "      <td>False</td>\n",
       "      <td>1</td>\n",
       "      <td>1. ABOUT OUR PRODUCTS 1.1 Our products offer a...</td>\n",
       "      <td>[]</td>\n",
       "      <td>[]</td>\n",
       "      <td>0</td>\n",
       "      <td>0</td>\n",
       "      <td>0</td>\n",
       "      <td>...</td>\n",
       "      <td>0</td>\n",
       "      <td>0</td>\n",
       "      <td>0</td>\n",
       "      <td>0</td>\n",
       "      <td>0</td>\n",
       "      <td>0</td>\n",
       "      <td>0</td>\n",
       "      <td>0</td>\n",
       "      <td>0</td>\n",
       "      <td>0</td>\n",
       "    </tr>\n",
       "    <tr>\n",
       "      <th>2</th>\n",
       "      <td>1</td>\n",
       "      <td>TEST</td>\n",
       "      <td>False</td>\n",
       "      <td>2</td>\n",
       "      <td>2. THE INFORMATION WE COLLECT The information ...</td>\n",
       "      <td>[{'practice': 'Identifier_Cookie_or_similar_Te...</td>\n",
       "      <td>[{'sentence_text': 'IP ADDRESS, COOKIES, AND W...</td>\n",
       "      <td>0</td>\n",
       "      <td>0</td>\n",
       "      <td>0</td>\n",
       "      <td>...</td>\n",
       "      <td>0</td>\n",
       "      <td>0</td>\n",
       "      <td>0</td>\n",
       "      <td>0</td>\n",
       "      <td>0</td>\n",
       "      <td>0</td>\n",
       "      <td>0</td>\n",
       "      <td>0</td>\n",
       "      <td>0</td>\n",
       "      <td>0</td>\n",
       "    </tr>\n",
       "  </tbody>\n",
       "</table>\n",
       "<p>3 rows × 65 columns</p>\n",
       "</div>"
      ],
      "text/plain": [
       "   source_policy_number policy_type  contains_synthetic  policy_segment_id  \\\n",
       "0                     1        TEST               False                  0   \n",
       "1                     1        TEST               False                  1   \n",
       "2                     1        TEST               False                  2   \n",
       "\n",
       "                                        segment_text  \\\n",
       "0  PRIVACY POLICY This privacy policy (hereafter ...   \n",
       "1  1. ABOUT OUR PRODUCTS 1.1 Our products offer a...   \n",
       "2  2. THE INFORMATION WE COLLECT The information ...   \n",
       "\n",
       "                                         annotations  \\\n",
       "0                                                 []   \n",
       "1                                                 []   \n",
       "2  [{'practice': 'Identifier_Cookie_or_similar_Te...   \n",
       "\n",
       "                                           sentences  Contact_1stParty  \\\n",
       "0                                                 []                 0   \n",
       "1                                                 []                 0   \n",
       "2  [{'sentence_text': 'IP ADDRESS, COOKIES, AND W...                 0   \n",
       "\n",
       "   Contact_3rdParty  Contact_Address_Book_1stParty  ...  \\\n",
       "0                 0                              0  ...   \n",
       "1                 0                              0  ...   \n",
       "2                 0                              0  ...   \n",
       "\n",
       "   Location_Bluetooth_1stParty  Location_Bluetooth_3rdParty  \\\n",
       "0                            0                            0   \n",
       "1                            0                            0   \n",
       "2                            0                            0   \n",
       "\n",
       "   Location_Cell_Tower_1stParty  Location_Cell_Tower_3rdParty  \\\n",
       "0                             0                             0   \n",
       "1                             0                             0   \n",
       "2                             0                             0   \n",
       "\n",
       "   Location_GPS_1stParty  Location_GPS_3rdParty  Location_IP_Address_1stParty  \\\n",
       "0                      0                      0                             0   \n",
       "1                      0                      0                             0   \n",
       "2                      0                      0                             0   \n",
       "\n",
       "   Location_IP_Address_3rdParty  Location_WiFi_1stParty  \\\n",
       "0                             0                       0   \n",
       "1                             0                       0   \n",
       "2                             0                       0   \n",
       "\n",
       "   Location_WiFi_3rdParty  \n",
       "0                       0  \n",
       "1                       0  \n",
       "2                       0  \n",
       "\n",
       "[3 rows x 65 columns]"
      ]
     },
     "execution_count": 95,
     "metadata": {},
     "output_type": "execute_result"
    }
   ],
   "source": [
    "segment_annotations.head(3)"
   ]
  },
  {
   "cell_type": "code",
   "execution_count": 96,
   "id": "602f387e",
   "metadata": {},
   "outputs": [],
   "source": [
    "segment_annotations[\"1st_party\"] = 0\n",
    "segment_annotations[\"3rd_party\"] = 0"
   ]
  },
  {
   "cell_type": "code",
   "execution_count": 97,
   "id": "62750c94",
   "metadata": {},
   "outputs": [],
   "source": [
    "_1st_party_practices = [column_name for column_name in segment_annotations.columns if \"1stParty\" in column_name]\n",
    "_3rd_party_practices = [column_name for column_name in segment_annotations.columns if \"3rdParty\" in column_name]"
   ]
  },
  {
   "cell_type": "markdown",
   "id": "9759812d",
   "metadata": {},
   "source": [
    "I could use `_3rd_party_practices.extend(['SSO', 'Facebook_SSO'])` to add these to the 3rd party practices, but I'm not going to use these for training the 3rd party classifier, so I don't need to include them, although it is a variable that I should try to change with training the classifier."
   ]
  },
  {
   "cell_type": "code",
   "execution_count": 98,
   "id": "241b017d",
   "metadata": {},
   "outputs": [],
   "source": [
    "for annotation_column in _1st_party_practices:\n",
    "    for index in range(len(segment_annotations.index)):\n",
    "        if segment_annotations.at[index, annotation_column] == 1:\n",
    "            segment_annotations.at[index, \"1st_party\"] += 1"
   ]
  },
  {
   "cell_type": "code",
   "execution_count": 99,
   "id": "4c03b936",
   "metadata": {},
   "outputs": [],
   "source": [
    "for annotation_column in _3rd_party_practices:\n",
    "    for index in range(len(segment_annotations.index)):\n",
    "        if segment_annotations.at[index, annotation_column] == 1:\n",
    "            segment_annotations.at[index, \"3rd_party\"] += 1"
   ]
  },
  {
   "cell_type": "code",
   "execution_count": 100,
   "id": "29435698",
   "metadata": {},
   "outputs": [
    {
     "name": "stdout",
     "output_type": "stream",
     "text": [
      "7536\n",
      "2202\n"
     ]
    }
   ],
   "source": [
    "print(segment_annotations[\"1st_party\"].sum())\n",
    "print(segment_annotations[\"3rd_party\"].sum())"
   ]
  },
  {
   "cell_type": "code",
   "execution_count": 101,
   "id": "2d977d9a",
   "metadata": {},
   "outputs": [
    {
     "data": {
      "text/plain": [
       "10215"
      ]
     },
     "execution_count": 101,
     "metadata": {},
     "output_type": "execute_result"
    }
   ],
   "source": [
    "annotation_segment_frequencies.sum() # Verify"
   ]
  },
  {
   "cell_type": "markdown",
   "id": "085ae3c8",
   "metadata": {},
   "source": [
    "### Review of steps to complete"
   ]
  },
  {
   "cell_type": "markdown",
   "id": "ec860de3",
   "metadata": {},
   "source": [
    "- Add target columns for each practice to all segments\n",
    "- Add target columns for each modality to all segments\n",
    "- Save this as the basic dataframe (Segments; targets)\n",
    "- Add crafted feature columns for each target\n",
    "- Save this as another dataframe\n",
    "- Split away the Test data\n",
    "- Now it's ready for grid search.\n",
    "- Now for each target, can test a classifier on vectorized version, with CV grid search including dropping the created feature columns\n",
    "- Compare results to MAPS\n",
    "- Then think about how to exclude sentences (apply sentence filtering) for each classifier"
   ]
  },
  {
   "cell_type": "markdown",
   "id": "c1c1d6bf",
   "metadata": {},
   "source": [
    "# Add target columns for each practice to all segments"
   ]
  },
  {
   "cell_type": "code",
   "execution_count": 102,
   "id": "229ca6b5",
   "metadata": {},
   "outputs": [
    {
     "data": {
      "text/html": [
       "<div>\n",
       "<style scoped>\n",
       "    .dataframe tbody tr th:only-of-type {\n",
       "        vertical-align: middle;\n",
       "    }\n",
       "\n",
       "    .dataframe tbody tr th {\n",
       "        vertical-align: top;\n",
       "    }\n",
       "\n",
       "    .dataframe thead th {\n",
       "        text-align: right;\n",
       "    }\n",
       "</style>\n",
       "<table border=\"1\" class=\"dataframe\">\n",
       "  <thead>\n",
       "    <tr style=\"text-align: right;\">\n",
       "      <th></th>\n",
       "      <th>source_policy_number</th>\n",
       "      <th>policy_type</th>\n",
       "      <th>contains_synthetic</th>\n",
       "      <th>policy_segment_id</th>\n",
       "      <th>segment_text</th>\n",
       "      <th>annotations</th>\n",
       "      <th>sentences</th>\n",
       "      <th>Contact_1stParty</th>\n",
       "      <th>Contact_3rdParty</th>\n",
       "      <th>Contact_Address_Book_1stParty</th>\n",
       "      <th>...</th>\n",
       "      <th>Location_Cell_Tower_1stParty</th>\n",
       "      <th>Location_Cell_Tower_3rdParty</th>\n",
       "      <th>Location_GPS_1stParty</th>\n",
       "      <th>Location_GPS_3rdParty</th>\n",
       "      <th>Location_IP_Address_1stParty</th>\n",
       "      <th>Location_IP_Address_3rdParty</th>\n",
       "      <th>Location_WiFi_1stParty</th>\n",
       "      <th>Location_WiFi_3rdParty</th>\n",
       "      <th>1st_party</th>\n",
       "      <th>3rd_party</th>\n",
       "    </tr>\n",
       "  </thead>\n",
       "  <tbody>\n",
       "    <tr>\n",
       "      <th>0</th>\n",
       "      <td>1</td>\n",
       "      <td>TEST</td>\n",
       "      <td>False</td>\n",
       "      <td>0</td>\n",
       "      <td>PRIVACY POLICY This privacy policy (hereafter ...</td>\n",
       "      <td>[]</td>\n",
       "      <td>[]</td>\n",
       "      <td>0</td>\n",
       "      <td>0</td>\n",
       "      <td>0</td>\n",
       "      <td>...</td>\n",
       "      <td>0</td>\n",
       "      <td>0</td>\n",
       "      <td>0</td>\n",
       "      <td>0</td>\n",
       "      <td>0</td>\n",
       "      <td>0</td>\n",
       "      <td>0</td>\n",
       "      <td>0</td>\n",
       "      <td>0</td>\n",
       "      <td>0</td>\n",
       "    </tr>\n",
       "    <tr>\n",
       "      <th>1</th>\n",
       "      <td>1</td>\n",
       "      <td>TEST</td>\n",
       "      <td>False</td>\n",
       "      <td>1</td>\n",
       "      <td>1. ABOUT OUR PRODUCTS 1.1 Our products offer a...</td>\n",
       "      <td>[]</td>\n",
       "      <td>[]</td>\n",
       "      <td>0</td>\n",
       "      <td>0</td>\n",
       "      <td>0</td>\n",
       "      <td>...</td>\n",
       "      <td>0</td>\n",
       "      <td>0</td>\n",
       "      <td>0</td>\n",
       "      <td>0</td>\n",
       "      <td>0</td>\n",
       "      <td>0</td>\n",
       "      <td>0</td>\n",
       "      <td>0</td>\n",
       "      <td>0</td>\n",
       "      <td>0</td>\n",
       "    </tr>\n",
       "    <tr>\n",
       "      <th>2</th>\n",
       "      <td>1</td>\n",
       "      <td>TEST</td>\n",
       "      <td>False</td>\n",
       "      <td>2</td>\n",
       "      <td>2. THE INFORMATION WE COLLECT The information ...</td>\n",
       "      <td>[{'practice': 'Identifier_Cookie_or_similar_Te...</td>\n",
       "      <td>[{'sentence_text': 'IP ADDRESS, COOKIES, AND W...</td>\n",
       "      <td>0</td>\n",
       "      <td>0</td>\n",
       "      <td>0</td>\n",
       "      <td>...</td>\n",
       "      <td>0</td>\n",
       "      <td>0</td>\n",
       "      <td>0</td>\n",
       "      <td>0</td>\n",
       "      <td>0</td>\n",
       "      <td>0</td>\n",
       "      <td>0</td>\n",
       "      <td>0</td>\n",
       "      <td>2</td>\n",
       "      <td>0</td>\n",
       "    </tr>\n",
       "  </tbody>\n",
       "</table>\n",
       "<p>3 rows × 67 columns</p>\n",
       "</div>"
      ],
      "text/plain": [
       "   source_policy_number policy_type  contains_synthetic  policy_segment_id  \\\n",
       "0                     1        TEST               False                  0   \n",
       "1                     1        TEST               False                  1   \n",
       "2                     1        TEST               False                  2   \n",
       "\n",
       "                                        segment_text  \\\n",
       "0  PRIVACY POLICY This privacy policy (hereafter ...   \n",
       "1  1. ABOUT OUR PRODUCTS 1.1 Our products offer a...   \n",
       "2  2. THE INFORMATION WE COLLECT The information ...   \n",
       "\n",
       "                                         annotations  \\\n",
       "0                                                 []   \n",
       "1                                                 []   \n",
       "2  [{'practice': 'Identifier_Cookie_or_similar_Te...   \n",
       "\n",
       "                                           sentences  Contact_1stParty  \\\n",
       "0                                                 []                 0   \n",
       "1                                                 []                 0   \n",
       "2  [{'sentence_text': 'IP ADDRESS, COOKIES, AND W...                 0   \n",
       "\n",
       "   Contact_3rdParty  Contact_Address_Book_1stParty  ...  \\\n",
       "0                 0                              0  ...   \n",
       "1                 0                              0  ...   \n",
       "2                 0                              0  ...   \n",
       "\n",
       "   Location_Cell_Tower_1stParty  Location_Cell_Tower_3rdParty  \\\n",
       "0                             0                             0   \n",
       "1                             0                             0   \n",
       "2                             0                             0   \n",
       "\n",
       "   Location_GPS_1stParty  Location_GPS_3rdParty  Location_IP_Address_1stParty  \\\n",
       "0                      0                      0                             0   \n",
       "1                      0                      0                             0   \n",
       "2                      0                      0                             0   \n",
       "\n",
       "   Location_IP_Address_3rdParty  Location_WiFi_1stParty  \\\n",
       "0                             0                       0   \n",
       "1                             0                       0   \n",
       "2                             0                       0   \n",
       "\n",
       "   Location_WiFi_3rdParty  1st_party  3rd_party  \n",
       "0                       0          0          0  \n",
       "1                       0          0          0  \n",
       "2                       0          2          0  \n",
       "\n",
       "[3 rows x 67 columns]"
      ]
     },
     "execution_count": 102,
     "metadata": {},
     "output_type": "execute_result"
    }
   ],
   "source": [
    "segment_annotations.head(3)"
   ]
  },
  {
   "cell_type": "code",
   "execution_count": 103,
   "id": "69655d91",
   "metadata": {},
   "outputs": [],
   "source": [
    "# Do it for one column, then do it for all columns\n",
    "practice_columns_df = segment_annotations.copy()"
   ]
  },
  {
   "cell_type": "markdown",
   "id": "1e938c3f",
   "metadata": {},
   "source": [
    "### Column for each practice"
   ]
  },
  {
   "cell_type": "code",
   "execution_count": 13,
   "id": "cc3e8ed2",
   "metadata": {},
   "outputs": [],
   "source": [
    "the_30_practices = [practice.removesuffix(\"_1stParty\").removesuffix(\"_3rdParty\") for practice in list_of_practices]\n",
    "# Get the practices from features.yaml\n",
    "the_30_practices = list(dict.fromkeys(the_30_practices)) # remove duplicates"
   ]
  },
  {
   "cell_type": "code",
   "execution_count": 14,
   "id": "7e3071fe",
   "metadata": {},
   "outputs": [],
   "source": [
    "# Don't need to add \"SSO\" and \"Facebook_SSO\" because they were already added.\n",
    "the_28_practices = [practice for practice in the_30_practices if practice not in [\"SSO\", \"Facebook_SSO\"] ]"
   ]
  },
  {
   "cell_type": "code",
   "execution_count": 106,
   "id": "ba33e9f8",
   "metadata": {},
   "outputs": [],
   "source": [
    "practice_columns_df = practice_columns_df.reindex(\n",
    "    columns = practice_columns_df.columns.tolist() + the_28_practices) # add the practices to the dataframe"
   ]
  },
  {
   "cell_type": "markdown",
   "id": "a7d6b873",
   "metadata": {},
   "source": [
    "#### Practice-pairs for each practice"
   ]
  },
  {
   "cell_type": "code",
   "execution_count": 108,
   "id": "6bfd963a",
   "metadata": {},
   "outputs": [],
   "source": [
    "practice_pair_dict = dict.fromkeys(the_30_practices)\n",
    "for practice in practice_pair_dict.keys():\n",
    "    practice_pair_dict[practice] = [sub_practice for sub_practice in list_of_practices\n",
    "                                    if sub_practice.removesuffix(\"_1stParty\").removesuffix(\"_3rdParty\") == practice]"
   ]
  },
  {
   "cell_type": "markdown",
   "id": "9fb51f2e",
   "metadata": {},
   "source": [
    "Populate each practice column:"
   ]
  },
  {
   "cell_type": "code",
   "execution_count": 109,
   "id": "41391e1c",
   "metadata": {},
   "outputs": [
    {
     "name": "stdout",
     "output_type": "stream",
     "text": [
      "Finished processing Contact\n",
      "Finished processing Contact_Address_Book\n",
      "Finished processing Contact_City\n",
      "Finished processing Contact_E_Mail_Address\n",
      "Finished processing Contact_Password\n",
      "Finished processing Contact_Phone_Number\n",
      "Finished processing Contact_Postal_Address\n",
      "Finished processing Contact_ZIP\n",
      "Finished processing Demographic\n",
      "Finished processing Demographic_Age\n",
      "Finished processing Demographic_Gender\n",
      "Finished processing Identifier\n",
      "Finished processing Identifier_Ad_ID\n",
      "Finished processing Identifier_Cookie_or_similar_Tech\n",
      "Finished processing Identifier_Device_ID\n",
      "Finished processing Identifier_IMEI\n",
      "Finished processing Identifier_IMSI\n",
      "Finished processing Identifier_IP_Address\n",
      "Finished processing Identifier_MAC\n",
      "Finished processing Identifier_Mobile_Carrier\n",
      "Finished processing Identifier_SIM_Serial\n",
      "Finished processing Identifier_SSID_BSSID\n",
      "Finished processing Location\n",
      "Finished processing Location_Bluetooth\n",
      "Finished processing Location_Cell_Tower\n",
      "Finished processing Location_GPS\n",
      "Finished processing Location_IP_Address\n",
      "Finished processing Location_WiFi\n",
      "CPU times: user 4min 5s, sys: 2.04 s, total: 4min 7s\n",
      "Wall time: 4min 11s\n"
     ]
    }
   ],
   "source": [
    "%%time\n",
    "\n",
    "for practice_column in the_28_practices: # only 28 because SSO and Facebook_SSO were populated earlier\n",
    "    for index in range(len(practice_columns_df.index)):\n",
    "        practice_columns_df.at[index, practice_column] = practice_columns_df.loc[index, practice_pair_dict[practice_column] ].sum()\n",
    "    print(f\"Finished processing {practice_column}\", end=\"\\r\")"
   ]
  },
  {
   "cell_type": "code",
   "execution_count": 110,
   "id": "276c9c12",
   "metadata": {
    "scrolled": true
   },
   "outputs": [
    {
     "data": {
      "text/plain": [
       "166.0"
      ]
     },
     "execution_count": 110,
     "metadata": {},
     "output_type": "execute_result"
    }
   ],
   "source": [
    "practice_columns_df[\"Location_Cell_Tower\"].sum() # Verify"
   ]
  },
  {
   "cell_type": "code",
   "execution_count": 111,
   "id": "1843f77c",
   "metadata": {},
   "outputs": [
    {
     "data": {
      "text/plain": [
       "10215"
      ]
     },
     "execution_count": 111,
     "metadata": {},
     "output_type": "execute_result"
    }
   ],
   "source": [
    "annotation_segment_frequencies.sum() # Verify"
   ]
  },
  {
   "cell_type": "code",
   "execution_count": 112,
   "id": "37333b12",
   "metadata": {},
   "outputs": [],
   "source": [
    "_30_practices_filter = practice_columns_df[ the_30_practices ] > 0"
   ]
  },
  {
   "cell_type": "code",
   "execution_count": 113,
   "id": "037e94f7",
   "metadata": {},
   "outputs": [
    {
     "data": {
      "text/html": [
       "<div>\n",
       "<style scoped>\n",
       "    .dataframe tbody tr th:only-of-type {\n",
       "        vertical-align: middle;\n",
       "    }\n",
       "\n",
       "    .dataframe tbody tr th {\n",
       "        vertical-align: top;\n",
       "    }\n",
       "\n",
       "    .dataframe thead th {\n",
       "        text-align: right;\n",
       "    }\n",
       "</style>\n",
       "<table border=\"1\" class=\"dataframe\">\n",
       "  <thead>\n",
       "    <tr style=\"text-align: right;\">\n",
       "      <th></th>\n",
       "      <th>Contact</th>\n",
       "      <th>Contact_Address_Book</th>\n",
       "      <th>Contact_City</th>\n",
       "      <th>Contact_E_Mail_Address</th>\n",
       "      <th>Contact_Password</th>\n",
       "      <th>Contact_Phone_Number</th>\n",
       "      <th>Contact_Postal_Address</th>\n",
       "      <th>Contact_ZIP</th>\n",
       "      <th>Demographic</th>\n",
       "      <th>Demographic_Age</th>\n",
       "      <th>...</th>\n",
       "      <th>Identifier_MAC</th>\n",
       "      <th>Identifier_Mobile_Carrier</th>\n",
       "      <th>Identifier_SIM_Serial</th>\n",
       "      <th>Identifier_SSID_BSSID</th>\n",
       "      <th>Location</th>\n",
       "      <th>Location_Bluetooth</th>\n",
       "      <th>Location_Cell_Tower</th>\n",
       "      <th>Location_GPS</th>\n",
       "      <th>Location_IP_Address</th>\n",
       "      <th>Location_WiFi</th>\n",
       "    </tr>\n",
       "  </thead>\n",
       "  <tbody>\n",
       "    <tr>\n",
       "      <th>0</th>\n",
       "      <td>0.0</td>\n",
       "      <td>0.0</td>\n",
       "      <td>0.0</td>\n",
       "      <td>0.0</td>\n",
       "      <td>0.0</td>\n",
       "      <td>0.0</td>\n",
       "      <td>0.0</td>\n",
       "      <td>0.0</td>\n",
       "      <td>0.0</td>\n",
       "      <td>0.0</td>\n",
       "      <td>...</td>\n",
       "      <td>0.0</td>\n",
       "      <td>0.0</td>\n",
       "      <td>0.0</td>\n",
       "      <td>0.0</td>\n",
       "      <td>0.0</td>\n",
       "      <td>0.0</td>\n",
       "      <td>0.0</td>\n",
       "      <td>0.0</td>\n",
       "      <td>0.0</td>\n",
       "      <td>0.0</td>\n",
       "    </tr>\n",
       "    <tr>\n",
       "      <th>1</th>\n",
       "      <td>0.0</td>\n",
       "      <td>0.0</td>\n",
       "      <td>0.0</td>\n",
       "      <td>0.0</td>\n",
       "      <td>0.0</td>\n",
       "      <td>0.0</td>\n",
       "      <td>0.0</td>\n",
       "      <td>0.0</td>\n",
       "      <td>0.0</td>\n",
       "      <td>0.0</td>\n",
       "      <td>...</td>\n",
       "      <td>0.0</td>\n",
       "      <td>0.0</td>\n",
       "      <td>0.0</td>\n",
       "      <td>0.0</td>\n",
       "      <td>0.0</td>\n",
       "      <td>0.0</td>\n",
       "      <td>0.0</td>\n",
       "      <td>0.0</td>\n",
       "      <td>0.0</td>\n",
       "      <td>0.0</td>\n",
       "    </tr>\n",
       "    <tr>\n",
       "      <th>2</th>\n",
       "      <td>0.0</td>\n",
       "      <td>0.0</td>\n",
       "      <td>0.0</td>\n",
       "      <td>0.0</td>\n",
       "      <td>0.0</td>\n",
       "      <td>0.0</td>\n",
       "      <td>0.0</td>\n",
       "      <td>0.0</td>\n",
       "      <td>0.0</td>\n",
       "      <td>0.0</td>\n",
       "      <td>...</td>\n",
       "      <td>0.0</td>\n",
       "      <td>0.0</td>\n",
       "      <td>0.0</td>\n",
       "      <td>0.0</td>\n",
       "      <td>0.0</td>\n",
       "      <td>0.0</td>\n",
       "      <td>0.0</td>\n",
       "      <td>0.0</td>\n",
       "      <td>0.0</td>\n",
       "      <td>0.0</td>\n",
       "    </tr>\n",
       "    <tr>\n",
       "      <th>3</th>\n",
       "      <td>0.0</td>\n",
       "      <td>0.0</td>\n",
       "      <td>0.0</td>\n",
       "      <td>0.0</td>\n",
       "      <td>0.0</td>\n",
       "      <td>0.0</td>\n",
       "      <td>0.0</td>\n",
       "      <td>0.0</td>\n",
       "      <td>0.0</td>\n",
       "      <td>0.0</td>\n",
       "      <td>...</td>\n",
       "      <td>0.0</td>\n",
       "      <td>0.0</td>\n",
       "      <td>0.0</td>\n",
       "      <td>0.0</td>\n",
       "      <td>0.0</td>\n",
       "      <td>0.0</td>\n",
       "      <td>0.0</td>\n",
       "      <td>0.0</td>\n",
       "      <td>0.0</td>\n",
       "      <td>0.0</td>\n",
       "    </tr>\n",
       "    <tr>\n",
       "      <th>4</th>\n",
       "      <td>0.0</td>\n",
       "      <td>0.0</td>\n",
       "      <td>0.0</td>\n",
       "      <td>0.0</td>\n",
       "      <td>0.0</td>\n",
       "      <td>0.0</td>\n",
       "      <td>0.0</td>\n",
       "      <td>0.0</td>\n",
       "      <td>0.0</td>\n",
       "      <td>0.0</td>\n",
       "      <td>...</td>\n",
       "      <td>0.0</td>\n",
       "      <td>0.0</td>\n",
       "      <td>0.0</td>\n",
       "      <td>0.0</td>\n",
       "      <td>0.0</td>\n",
       "      <td>0.0</td>\n",
       "      <td>0.0</td>\n",
       "      <td>0.0</td>\n",
       "      <td>0.0</td>\n",
       "      <td>0.0</td>\n",
       "    </tr>\n",
       "    <tr>\n",
       "      <th>...</th>\n",
       "      <td>...</td>\n",
       "      <td>...</td>\n",
       "      <td>...</td>\n",
       "      <td>...</td>\n",
       "      <td>...</td>\n",
       "      <td>...</td>\n",
       "      <td>...</td>\n",
       "      <td>...</td>\n",
       "      <td>...</td>\n",
       "      <td>...</td>\n",
       "      <td>...</td>\n",
       "      <td>...</td>\n",
       "      <td>...</td>\n",
       "      <td>...</td>\n",
       "      <td>...</td>\n",
       "      <td>...</td>\n",
       "      <td>...</td>\n",
       "      <td>...</td>\n",
       "      <td>...</td>\n",
       "      <td>...</td>\n",
       "      <td>...</td>\n",
       "    </tr>\n",
       "    <tr>\n",
       "      <th>15538</th>\n",
       "      <td>0.0</td>\n",
       "      <td>0.0</td>\n",
       "      <td>0.0</td>\n",
       "      <td>0.0</td>\n",
       "      <td>0.0</td>\n",
       "      <td>0.0</td>\n",
       "      <td>0.0</td>\n",
       "      <td>0.0</td>\n",
       "      <td>0.0</td>\n",
       "      <td>0.0</td>\n",
       "      <td>...</td>\n",
       "      <td>0.0</td>\n",
       "      <td>0.0</td>\n",
       "      <td>0.0</td>\n",
       "      <td>0.0</td>\n",
       "      <td>0.0</td>\n",
       "      <td>0.0</td>\n",
       "      <td>0.0</td>\n",
       "      <td>0.0</td>\n",
       "      <td>0.0</td>\n",
       "      <td>0.0</td>\n",
       "    </tr>\n",
       "    <tr>\n",
       "      <th>15539</th>\n",
       "      <td>0.0</td>\n",
       "      <td>0.0</td>\n",
       "      <td>0.0</td>\n",
       "      <td>0.0</td>\n",
       "      <td>0.0</td>\n",
       "      <td>0.0</td>\n",
       "      <td>0.0</td>\n",
       "      <td>0.0</td>\n",
       "      <td>0.0</td>\n",
       "      <td>0.0</td>\n",
       "      <td>...</td>\n",
       "      <td>0.0</td>\n",
       "      <td>0.0</td>\n",
       "      <td>0.0</td>\n",
       "      <td>0.0</td>\n",
       "      <td>0.0</td>\n",
       "      <td>0.0</td>\n",
       "      <td>0.0</td>\n",
       "      <td>0.0</td>\n",
       "      <td>0.0</td>\n",
       "      <td>0.0</td>\n",
       "    </tr>\n",
       "    <tr>\n",
       "      <th>15540</th>\n",
       "      <td>0.0</td>\n",
       "      <td>0.0</td>\n",
       "      <td>0.0</td>\n",
       "      <td>0.0</td>\n",
       "      <td>0.0</td>\n",
       "      <td>0.0</td>\n",
       "      <td>0.0</td>\n",
       "      <td>0.0</td>\n",
       "      <td>0.0</td>\n",
       "      <td>0.0</td>\n",
       "      <td>...</td>\n",
       "      <td>0.0</td>\n",
       "      <td>0.0</td>\n",
       "      <td>0.0</td>\n",
       "      <td>0.0</td>\n",
       "      <td>0.0</td>\n",
       "      <td>0.0</td>\n",
       "      <td>0.0</td>\n",
       "      <td>0.0</td>\n",
       "      <td>0.0</td>\n",
       "      <td>0.0</td>\n",
       "    </tr>\n",
       "    <tr>\n",
       "      <th>15541</th>\n",
       "      <td>0.0</td>\n",
       "      <td>0.0</td>\n",
       "      <td>0.0</td>\n",
       "      <td>0.0</td>\n",
       "      <td>0.0</td>\n",
       "      <td>0.0</td>\n",
       "      <td>0.0</td>\n",
       "      <td>0.0</td>\n",
       "      <td>0.0</td>\n",
       "      <td>0.0</td>\n",
       "      <td>...</td>\n",
       "      <td>0.0</td>\n",
       "      <td>0.0</td>\n",
       "      <td>0.0</td>\n",
       "      <td>0.0</td>\n",
       "      <td>0.0</td>\n",
       "      <td>0.0</td>\n",
       "      <td>0.0</td>\n",
       "      <td>0.0</td>\n",
       "      <td>0.0</td>\n",
       "      <td>0.0</td>\n",
       "    </tr>\n",
       "    <tr>\n",
       "      <th>15542</th>\n",
       "      <td>0.0</td>\n",
       "      <td>0.0</td>\n",
       "      <td>0.0</td>\n",
       "      <td>1.0</td>\n",
       "      <td>0.0</td>\n",
       "      <td>0.0</td>\n",
       "      <td>0.0</td>\n",
       "      <td>0.0</td>\n",
       "      <td>0.0</td>\n",
       "      <td>1.0</td>\n",
       "      <td>...</td>\n",
       "      <td>0.0</td>\n",
       "      <td>0.0</td>\n",
       "      <td>0.0</td>\n",
       "      <td>0.0</td>\n",
       "      <td>1.0</td>\n",
       "      <td>0.0</td>\n",
       "      <td>0.0</td>\n",
       "      <td>0.0</td>\n",
       "      <td>0.0</td>\n",
       "      <td>0.0</td>\n",
       "    </tr>\n",
       "  </tbody>\n",
       "</table>\n",
       "<p>15543 rows × 30 columns</p>\n",
       "</div>"
      ],
      "text/plain": [
       "       Contact  Contact_Address_Book  Contact_City  Contact_E_Mail_Address  \\\n",
       "0          0.0                   0.0           0.0                     0.0   \n",
       "1          0.0                   0.0           0.0                     0.0   \n",
       "2          0.0                   0.0           0.0                     0.0   \n",
       "3          0.0                   0.0           0.0                     0.0   \n",
       "4          0.0                   0.0           0.0                     0.0   \n",
       "...        ...                   ...           ...                     ...   \n",
       "15538      0.0                   0.0           0.0                     0.0   \n",
       "15539      0.0                   0.0           0.0                     0.0   \n",
       "15540      0.0                   0.0           0.0                     0.0   \n",
       "15541      0.0                   0.0           0.0                     0.0   \n",
       "15542      0.0                   0.0           0.0                     1.0   \n",
       "\n",
       "       Contact_Password  Contact_Phone_Number  Contact_Postal_Address  \\\n",
       "0                   0.0                   0.0                     0.0   \n",
       "1                   0.0                   0.0                     0.0   \n",
       "2                   0.0                   0.0                     0.0   \n",
       "3                   0.0                   0.0                     0.0   \n",
       "4                   0.0                   0.0                     0.0   \n",
       "...                 ...                   ...                     ...   \n",
       "15538               0.0                   0.0                     0.0   \n",
       "15539               0.0                   0.0                     0.0   \n",
       "15540               0.0                   0.0                     0.0   \n",
       "15541               0.0                   0.0                     0.0   \n",
       "15542               0.0                   0.0                     0.0   \n",
       "\n",
       "       Contact_ZIP  Demographic  Demographic_Age  ...  Identifier_MAC  \\\n",
       "0              0.0          0.0              0.0  ...             0.0   \n",
       "1              0.0          0.0              0.0  ...             0.0   \n",
       "2              0.0          0.0              0.0  ...             0.0   \n",
       "3              0.0          0.0              0.0  ...             0.0   \n",
       "4              0.0          0.0              0.0  ...             0.0   \n",
       "...            ...          ...              ...  ...             ...   \n",
       "15538          0.0          0.0              0.0  ...             0.0   \n",
       "15539          0.0          0.0              0.0  ...             0.0   \n",
       "15540          0.0          0.0              0.0  ...             0.0   \n",
       "15541          0.0          0.0              0.0  ...             0.0   \n",
       "15542          0.0          0.0              1.0  ...             0.0   \n",
       "\n",
       "       Identifier_Mobile_Carrier  Identifier_SIM_Serial  \\\n",
       "0                            0.0                    0.0   \n",
       "1                            0.0                    0.0   \n",
       "2                            0.0                    0.0   \n",
       "3                            0.0                    0.0   \n",
       "4                            0.0                    0.0   \n",
       "...                          ...                    ...   \n",
       "15538                        0.0                    0.0   \n",
       "15539                        0.0                    0.0   \n",
       "15540                        0.0                    0.0   \n",
       "15541                        0.0                    0.0   \n",
       "15542                        0.0                    0.0   \n",
       "\n",
       "       Identifier_SSID_BSSID  Location  Location_Bluetooth  \\\n",
       "0                        0.0       0.0                 0.0   \n",
       "1                        0.0       0.0                 0.0   \n",
       "2                        0.0       0.0                 0.0   \n",
       "3                        0.0       0.0                 0.0   \n",
       "4                        0.0       0.0                 0.0   \n",
       "...                      ...       ...                 ...   \n",
       "15538                    0.0       0.0                 0.0   \n",
       "15539                    0.0       0.0                 0.0   \n",
       "15540                    0.0       0.0                 0.0   \n",
       "15541                    0.0       0.0                 0.0   \n",
       "15542                    0.0       1.0                 0.0   \n",
       "\n",
       "       Location_Cell_Tower  Location_GPS  Location_IP_Address  Location_WiFi  \n",
       "0                      0.0           0.0                  0.0            0.0  \n",
       "1                      0.0           0.0                  0.0            0.0  \n",
       "2                      0.0           0.0                  0.0            0.0  \n",
       "3                      0.0           0.0                  0.0            0.0  \n",
       "4                      0.0           0.0                  0.0            0.0  \n",
       "...                    ...           ...                  ...            ...  \n",
       "15538                  0.0           0.0                  0.0            0.0  \n",
       "15539                  0.0           0.0                  0.0            0.0  \n",
       "15540                  0.0           0.0                  0.0            0.0  \n",
       "15541                  0.0           0.0                  0.0            0.0  \n",
       "15542                  0.0           0.0                  0.0            0.0  \n",
       "\n",
       "[15543 rows x 30 columns]"
      ]
     },
     "execution_count": 113,
     "metadata": {},
     "output_type": "execute_result"
    }
   ],
   "source": [
    "practice_columns_df[the_30_practices]"
   ]
  },
  {
   "cell_type": "code",
   "execution_count": 114,
   "id": "992f87c9",
   "metadata": {},
   "outputs": [
    {
     "data": {
      "text/plain": [
       "10215.0"
      ]
     },
     "execution_count": 114,
     "metadata": {},
     "output_type": "execute_result"
    }
   ],
   "source": [
    "practice_columns_df[the_30_practices][(_30_practices_filter)].sum().sum() # Verify"
   ]
  },
  {
   "cell_type": "markdown",
   "id": "1368c20c",
   "metadata": {},
   "source": [
    "It matches! Success!"
   ]
  },
  {
   "cell_type": "markdown",
   "id": "60952c56",
   "metadata": {},
   "source": [
    "### Export practice_columns_df"
   ]
  },
  {
   "cell_type": "markdown",
   "id": "f6d92e34",
   "metadata": {},
   "source": [
    "As before, to make it faster to load this dataframe in this notebook and others, I will save it as a pickle file.  This allows the below code to be ran without waiting for the above code."
   ]
  },
  {
   "cell_type": "code",
   "execution_count": 115,
   "id": "8a01d810",
   "metadata": {},
   "outputs": [],
   "source": [
    "practice_columns_df.to_pickle('practice_columns_df.pkl')"
   ]
  },
  {
   "cell_type": "markdown",
   "id": "5318ee72",
   "metadata": {},
   "source": [
    "Verifying that the file was correctly saved and can be imported properly:"
   ]
  },
  {
   "cell_type": "code",
   "execution_count": 116,
   "id": "d7715748",
   "metadata": {},
   "outputs": [
    {
     "name": "stdout",
     "output_type": "stream",
     "text": [
      "True\n",
      "True\n"
     ]
    }
   ],
   "source": [
    "confirm_save_3 = pd.read_pickle('practice_columns_df.pkl')\n",
    "print(practice_columns_df.shape == confirm_save_3.shape)\n",
    "print(confirm_save_3.equals(practice_columns_df))"
   ]
  },
  {
   "cell_type": "markdown",
   "id": "191a9abf",
   "metadata": {},
   "source": [
    "## Add target columns for each Modality to all segments"
   ]
  },
  {
   "cell_type": "code",
   "execution_count": 28,
   "id": "124f4e36",
   "metadata": {},
   "outputs": [],
   "source": [
    "# Can be used to read in the dataframe without running the above code\n",
    "# practice_columns_df = pd.read_pickle('practice_columns_df.pkl')"
   ]
  },
  {
   "cell_type": "code",
   "execution_count": 29,
   "id": "35851d4f",
   "metadata": {},
   "outputs": [],
   "source": [
    "modality_columns_df = practice_columns_df.copy()"
   ]
  },
  {
   "cell_type": "code",
   "execution_count": 30,
   "id": "26356a1f",
   "metadata": {},
   "outputs": [],
   "source": [
    "# Instantiate modality columns"
   ]
  },
  {
   "cell_type": "code",
   "execution_count": 31,
   "id": "cb8990a6",
   "metadata": {},
   "outputs": [],
   "source": [
    "modality_columns_df[\"PERFORMED\"] = 0\n",
    "modality_columns_df[\"NOT_PERFORMED\"] = 0"
   ]
  },
  {
   "cell_type": "code",
   "execution_count": 32,
   "id": "3d0296ae",
   "metadata": {},
   "outputs": [],
   "source": [
    "# populate the modality columns with the annotations\n",
    "for index in range(len(modality_columns_df)):\n",
    "    practices_dictionaries = modality_columns_df.at[index, 'annotations']\n",
    "    for each_practice in practices_dictionaries:\n",
    "        modality_columns_df.at[index, each_practice['modality']] += 1"
   ]
  },
  {
   "cell_type": "code",
   "execution_count": 33,
   "id": "bfdd94eb",
   "metadata": {},
   "outputs": [
    {
     "data": {
      "text/plain": [
       "8205"
      ]
     },
     "execution_count": 33,
     "metadata": {},
     "output_type": "execute_result"
    }
   ],
   "source": [
    "modality_columns_df[\"PERFORMED\"].sum()"
   ]
  },
  {
   "cell_type": "code",
   "execution_count": 34,
   "id": "8e03f352",
   "metadata": {},
   "outputs": [
    {
     "data": {
      "text/plain": [
       "2010"
      ]
     },
     "execution_count": 34,
     "metadata": {},
     "output_type": "execute_result"
    }
   ],
   "source": [
    "modality_columns_df[\"NOT_PERFORMED\"].sum()"
   ]
  },
  {
   "cell_type": "markdown",
   "id": "49cb3622",
   "metadata": {},
   "source": [
    "It adds up! Success!"
   ]
  },
  {
   "cell_type": "code",
   "execution_count": 35,
   "id": "9c0f50b8",
   "metadata": {},
   "outputs": [
    {
     "data": {
      "text/plain": [
       "Index(['source_policy_number', 'policy_type', 'contains_synthetic',\n",
       "       'policy_segment_id', 'segment_text', 'annotations', 'sentences',\n",
       "       'Contact_1stParty', 'Contact_3rdParty', 'Contact_Address_Book_1stParty',\n",
       "       'Contact_Address_Book_3rdParty', 'Contact_City_1stParty',\n",
       "       'Contact_City_3rdParty', 'Contact_E_Mail_Address_1stParty',\n",
       "       'Contact_E_Mail_Address_3rdParty', 'Contact_Password_1stParty',\n",
       "       'Contact_Password_3rdParty', 'Contact_Phone_Number_1stParty',\n",
       "       'Contact_Phone_Number_3rdParty', 'Contact_Postal_Address_1stParty',\n",
       "       'Contact_Postal_Address_3rdParty', 'Contact_ZIP_1stParty',\n",
       "       'Contact_ZIP_3rdParty', 'Demographic_1stParty', 'Demographic_3rdParty',\n",
       "       'Demographic_Age_1stParty', 'Demographic_Age_3rdParty',\n",
       "       'Demographic_Gender_1stParty', 'Demographic_Gender_3rdParty', 'SSO',\n",
       "       'Facebook_SSO', 'Identifier_1stParty', 'Identifier_3rdParty',\n",
       "       'Identifier_Ad_ID_1stParty', 'Identifier_Ad_ID_3rdParty',\n",
       "       'Identifier_Cookie_or_similar_Tech_1stParty',\n",
       "       'Identifier_Cookie_or_similar_Tech_3rdParty',\n",
       "       'Identifier_Device_ID_1stParty', 'Identifier_Device_ID_3rdParty',\n",
       "       'Identifier_IMEI_1stParty', 'Identifier_IMEI_3rdParty',\n",
       "       'Identifier_IMSI_1stParty', 'Identifier_IMSI_3rdParty',\n",
       "       'Identifier_IP_Address_1stParty', 'Identifier_IP_Address_3rdParty',\n",
       "       'Identifier_MAC_1stParty', 'Identifier_MAC_3rdParty',\n",
       "       'Identifier_Mobile_Carrier_1stParty',\n",
       "       'Identifier_Mobile_Carrier_3rdParty', 'Identifier_SIM_Serial_1stParty',\n",
       "       'Identifier_SIM_Serial_3rdParty', 'Identifier_SSID_BSSID_1stParty',\n",
       "       'Identifier_SSID_BSSID_3rdParty', 'Location_1stParty',\n",
       "       'Location_3rdParty', 'Location_Bluetooth_1stParty',\n",
       "       'Location_Bluetooth_3rdParty', 'Location_Cell_Tower_1stParty',\n",
       "       'Location_Cell_Tower_3rdParty', 'Location_GPS_1stParty',\n",
       "       'Location_GPS_3rdParty', 'Location_IP_Address_1stParty',\n",
       "       'Location_IP_Address_3rdParty', 'Location_WiFi_1stParty',\n",
       "       'Location_WiFi_3rdParty', '1st_party', '3rd_party', 'Contact',\n",
       "       'Contact_Address_Book', 'Contact_City', 'Contact_E_Mail_Address',\n",
       "       'Contact_Password', 'Contact_Phone_Number', 'Contact_Postal_Address',\n",
       "       'Contact_ZIP', 'Demographic', 'Demographic_Age', 'Demographic_Gender',\n",
       "       'Identifier', 'Identifier_Ad_ID', 'Identifier_Cookie_or_similar_Tech',\n",
       "       'Identifier_Device_ID', 'Identifier_IMEI', 'Identifier_IMSI',\n",
       "       'Identifier_IP_Address', 'Identifier_MAC', 'Identifier_Mobile_Carrier',\n",
       "       'Identifier_SIM_Serial', 'Identifier_SSID_BSSID', 'Location',\n",
       "       'Location_Bluetooth', 'Location_Cell_Tower', 'Location_GPS',\n",
       "       'Location_IP_Address', 'Location_WiFi', 'PERFORMED', 'NOT_PERFORMED'],\n",
       "      dtype='object')"
      ]
     },
     "execution_count": 35,
     "metadata": {},
     "output_type": "execute_result"
    }
   ],
   "source": [
    "modality_columns_df.columns"
   ]
  },
  {
   "cell_type": "markdown",
   "id": "37f9af1f",
   "metadata": {},
   "source": [
    "Since we now have a dataframe at the segment level with columns for each combination of annotations and columns for the specific annotations of practice, party and modality, I will name this `segment_all_targets_df`."
   ]
  },
  {
   "cell_type": "code",
   "execution_count": 36,
   "id": "6deec0f4",
   "metadata": {},
   "outputs": [],
   "source": [
    "segment_all_targets_df = modality_columns_df.copy()"
   ]
  },
  {
   "cell_type": "markdown",
   "id": "9afcf1b0",
   "metadata": {},
   "source": [
    "**Next:**\n",
    "\n",
    "I will now remove some columns to create a new dataframe where the only target columns correspond to the specific annotations for a specific practice, the party and modality.  I will also change the target columns to be binary instead of a sum."
   ]
  },
  {
   "cell_type": "markdown",
   "id": "0736bd7e",
   "metadata": {},
   "source": [
    "## Remove columns"
   ]
  },
  {
   "cell_type": "code",
   "execution_count": 37,
   "id": "3a93e8e1",
   "metadata": {},
   "outputs": [],
   "source": [
    "segment_annots_df = segment_all_targets_df.copy()"
   ]
  },
  {
   "cell_type": "markdown",
   "id": "6cf06a09",
   "metadata": {},
   "source": [
    "The `list_of_practices` has all 58 specific annotations (the *practice* and whether it's *1st or 3rd party*), but two in this list (\"SSO\" and \"Facebook_SSO\") are 3rd party by default. We need to remove all the specific annotations from the current dataframe, except for those two, since they are already in the correct form."
   ]
  },
  {
   "cell_type": "code",
   "execution_count": 42,
   "id": "dce09ea3",
   "metadata": {},
   "outputs": [],
   "source": [
    "the_56_specific_practices = [practice for practice in list_of_practices if practice not in [\"SSO\", \"Facebook_SSO\"] ]"
   ]
  },
  {
   "cell_type": "code",
   "execution_count": 43,
   "id": "b29fed4f",
   "metadata": {},
   "outputs": [],
   "source": [
    "segment_annots_df = segment_annots_df.drop(columns = the_56_specific_practices)"
   ]
  },
  {
   "cell_type": "code",
   "execution_count": 44,
   "id": "546c1fa0",
   "metadata": {},
   "outputs": [
    {
     "data": {
      "text/plain": [
       "(15543, 41)"
      ]
     },
     "execution_count": 44,
     "metadata": {},
     "output_type": "execute_result"
    }
   ],
   "source": [
    "segment_annots_df.shape"
   ]
  },
  {
   "cell_type": "code",
   "execution_count": 51,
   "id": "bb04d128",
   "metadata": {},
   "outputs": [
    {
     "data": {
      "text/plain": [
       "Index(['source_policy_number', 'policy_type', 'contains_synthetic',\n",
       "       'policy_segment_id', 'segment_text', 'annotations', 'sentences', 'SSO',\n",
       "       'Facebook_SSO', '1st_party', '3rd_party', 'Contact',\n",
       "       'Contact_Address_Book', 'Contact_City', 'Contact_E_Mail_Address',\n",
       "       'Contact_Password', 'Contact_Phone_Number', 'Contact_Postal_Address',\n",
       "       'Contact_ZIP', 'Demographic', 'Demographic_Age', 'Demographic_Gender',\n",
       "       'Identifier', 'Identifier_Ad_ID', 'Identifier_Cookie_or_similar_Tech',\n",
       "       'Identifier_Device_ID', 'Identifier_IMEI', 'Identifier_IMSI',\n",
       "       'Identifier_IP_Address', 'Identifier_MAC', 'Identifier_Mobile_Carrier',\n",
       "       'Identifier_SIM_Serial', 'Identifier_SSID_BSSID', 'Location',\n",
       "       'Location_Bluetooth', 'Location_Cell_Tower', 'Location_GPS',\n",
       "       'Location_IP_Address', 'Location_WiFi', 'PERFORMED', 'NOT_PERFORMED'],\n",
       "      dtype='object')"
      ]
     },
     "execution_count": 51,
     "metadata": {},
     "output_type": "execute_result"
    }
   ],
   "source": [
    "segment_annots_df.columns"
   ]
  },
  {
   "cell_type": "markdown",
   "id": "1e31e04f",
   "metadata": {},
   "source": [
    "## Convert to binary"
   ]
  },
  {
   "cell_type": "code",
   "execution_count": 90,
   "id": "4c8afa6b",
   "metadata": {
    "scrolled": true
   },
   "outputs": [
    {
     "name": "stdout",
     "output_type": "stream",
     "text": [
      "There are 510617 cells with 0\n",
      "There are 17845 cells above 0\n"
     ]
    }
   ],
   "source": [
    "# number of cells greater than 0 should not change\n",
    "print(f\"There are {(segment_annots_df.loc[:,'SSO':] == 0).sum().sum()} cells with 0\")\n",
    "print(f\"There are {(segment_annots_df.loc[:,'SSO':] > 0).sum().sum()} cells above 0\")"
   ]
  },
  {
   "cell_type": "code",
   "execution_count": 67,
   "id": "5fc11425",
   "metadata": {},
   "outputs": [
    {
     "data": {
      "text/plain": [
       "(15543, 34)"
      ]
     },
     "execution_count": 67,
     "metadata": {},
     "output_type": "execute_result"
    }
   ],
   "source": [
    "segment_annots_df.loc[:,'SSO':].shape"
   ]
  },
  {
   "cell_type": "code",
   "execution_count": 92,
   "id": "ac54a355",
   "metadata": {},
   "outputs": [
    {
     "name": "stdout",
     "output_type": "stream",
     "text": [
      "CPU times: user 2.01 s, sys: 12.4 ms, total: 2.02 s\n",
      "Wall time: 2.04 s\n"
     ]
    }
   ],
   "source": [
    "%%time\n",
    "# For each column from SSO onwards, go into every cell, and if it's above 1, set it to 1.\n",
    "\n",
    "for column in segment_annots_df.loc[:,'SSO':].columns:\n",
    "    for i in range(len(segment_annots_df[column])):\n",
    "\n",
    "        if segment_annots_df.at[i, column] > 1:\n",
    "            segment_annots_df.at[i, column] = 1"
   ]
  },
  {
   "cell_type": "code",
   "execution_count": 93,
   "id": "1a551fa0",
   "metadata": {},
   "outputs": [
    {
     "name": "stdout",
     "output_type": "stream",
     "text": [
      "There are 510617 cells with 0\n",
      "There are 17845 cells above 0\n"
     ]
    }
   ],
   "source": [
    "# number of cells greater than 0 should be same as above\n",
    "print(f\"There are {(segment_annots_df.loc[:,'SSO':] == 0).sum().sum()} cells with 0\")\n",
    "print(f\"There are {(segment_annots_df.loc[:,'SSO':] > 0).sum().sum()} cells above 0\")"
   ]
  },
  {
   "cell_type": "code",
   "execution_count": 96,
   "id": "1bcac6cd",
   "metadata": {},
   "outputs": [
    {
     "data": {
      "text/plain": [
       "1.0"
      ]
     },
     "execution_count": 96,
     "metadata": {},
     "output_type": "execute_result"
    }
   ],
   "source": [
    "# should now be no target cells with more than 1\n",
    "segment_annots_df.loc[:,'SSO':].max().max() # shows the max value from all target columns"
   ]
  },
  {
   "cell_type": "markdown",
   "id": "319e9c4d",
   "metadata": {},
   "source": [
    "### Save to pkl"
   ]
  },
  {
   "cell_type": "markdown",
   "id": "92e5114a",
   "metadata": {},
   "source": [
    "As before, to make it faster to load this dataframe in this notebook and others, I will save this dataframe as a pickle file.  This allows the below code to be ran without waiting for the above code."
   ]
  },
  {
   "cell_type": "code",
   "execution_count": 97,
   "id": "5a397a13",
   "metadata": {},
   "outputs": [],
   "source": [
    "segment_annots_df.to_pickle('segment_annots_df.pkl')"
   ]
  },
  {
   "cell_type": "markdown",
   "id": "aa3dee05",
   "metadata": {},
   "source": [
    "Verifying that the file was correctly saved and can be imported properly:"
   ]
  },
  {
   "cell_type": "code",
   "execution_count": 98,
   "id": "2ae3db96",
   "metadata": {},
   "outputs": [
    {
     "name": "stdout",
     "output_type": "stream",
     "text": [
      "True\n",
      "True\n"
     ]
    }
   ],
   "source": [
    "confirm_save_4 = pd.read_pickle('segment_annots_df.pkl')\n",
    "print(segment_annots_df.shape == confirm_save_4.shape)\n",
    "print(confirm_save_4.equals(segment_annots_df))"
   ]
  },
  {
   "cell_type": "markdown",
   "id": "605c512b",
   "metadata": {},
   "source": [
    "This above dataframe now has the granularity and target columns required to run a baseline model.  I will conduct the same preprocessing steps as done by Usable Privacy.org in the paper to create additional dataframes to use for modelling,"
   ]
  },
  {
   "cell_type": "markdown",
   "id": "b23129fd",
   "metadata": {},
   "source": [
    "# Load crafted features for each target"
   ]
  },
  {
   "cell_type": "markdown",
   "id": "bcd20013",
   "metadata": {},
   "source": [
    "To help to create accurate classifiers, columns will be added to the dataframe that contain key phrases that may be found in segment that has been annotated with a specific annotation. For example, the phrases 'phone book', 'phonebook' or 'address book' could be found in segments that have been annotated with the *Contact_Address_Book* annotation and adding these phrases as columns could help a classifier to correctly identify *Contact_Address_Book*.\n",
    "\n",
    "These will be used as 'crafted feature' columns and for 'sentence filtering' when modelling.\n",
    "\n",
    "This first function gets each practice."
   ]
  },
  {
   "cell_type": "code",
   "execution_count": 54,
   "id": "f6636f12",
   "metadata": {},
   "outputs": [],
   "source": [
    "def get_features_for_practices():\n",
    "\n",
    "    with open(\"APP_350_v1_1/features.yml\", \"r\") as stream:\n",
    "        try:\n",
    "            features_yml = (json_normalize(yaml.safe_load(stream)))\n",
    "        except yaml.YAMLError as exc:\n",
    "            print(exc)\n",
    "\n",
    "    data_types = json_normalize(features_yml['data_types'])\n",
    "\n",
    "    list_of_practice_features = []\n",
    "    practice_groups = range(len(data_types.columns))\n",
    "\n",
    "    for i in practice_groups:\n",
    "        practices_and_features = json_normalize(data_types[i])\n",
    "\n",
    "        list_of_practice_features.extend(practices_and_features['features'])\n",
    "\n",
    "    print(f\"{len(list_of_practice_features)} different groups of practices returned, containing {len([practice for practice_group in list_of_practice_features for practice in practice_group])} individual practices.\")\n",
    "\n",
    "    return list_of_practice_features"
   ]
  },
  {
   "cell_type": "code",
   "execution_count": 55,
   "id": "1e7057ee",
   "metadata": {
    "scrolled": true
   },
   "outputs": [
    {
     "name": "stdout",
     "output_type": "stream",
     "text": [
      "29 different groups of practices returned, containing 354 individual practices.\n"
     ]
    },
    {
     "data": {
      "text/plain": [
       "[['city', 'hometown'],\n",
       " ['e-mail address',\n",
       "  'email address',\n",
       "  'e-mail and mailing address',\n",
       "  'email and mailing address',\n",
       "  'e-mail or mailing address',\n",
       "  'email or mailing address']]"
      ]
     },
     "execution_count": 55,
     "metadata": {},
     "output_type": "execute_result"
    }
   ],
   "source": [
    "get_features_for_practices()[2:4] # returning just two to demonstrate"
   ]
  },
  {
   "cell_type": "markdown",
   "id": "94455783",
   "metadata": {},
   "source": [
    "Ultimately I will add each of these 412 individual practices to the dataframe."
   ]
  },
  {
   "cell_type": "code",
   "execution_count": 29,
   "id": "7134ab66",
   "metadata": {},
   "outputs": [
    {
     "name": "stdout",
     "output_type": "stream",
     "text": [
      "29 different groups of practices returned, containing 354 individual practices.\n"
     ]
    }
   ],
   "source": [
    "features_for_practices = get_features_for_practices()"
   ]
  },
  {
   "cell_type": "code",
   "execution_count": 30,
   "id": "0e3e26a8",
   "metadata": {},
   "outputs": [],
   "source": [
    "the_29_practices = [practice for practice in the_30_practices if practice != \"SSO\"]"
   ]
  },
  {
   "cell_type": "code",
   "execution_count": 31,
   "id": "dc5dae4d",
   "metadata": {},
   "outputs": [],
   "source": [
    "practice_and_created_features = pd.DataFrame(data = [the_29_practices, features_for_practices]).T\n",
    "practice_and_created_features.columns = [\"practice\", \"features\"]"
   ]
  },
  {
   "cell_type": "code",
   "execution_count": 33,
   "id": "44ebc32f",
   "metadata": {},
   "outputs": [],
   "source": [
    "practice_and_created_features.at[len(practice_and_created_features),\"practice\"] = \"SSO\"\n",
    "practice_and_created_features.at[29,\"features\"] = practice_and_created_features.at[11,\"features\"]"
   ]
  },
  {
   "cell_type": "code",
   "execution_count": 34,
   "id": "3a7ad650",
   "metadata": {},
   "outputs": [
    {
     "data": {
      "text/html": [
       "<div>\n",
       "<style scoped>\n",
       "    .dataframe tbody tr th:only-of-type {\n",
       "        vertical-align: middle;\n",
       "    }\n",
       "\n",
       "    .dataframe tbody tr th {\n",
       "        vertical-align: top;\n",
       "    }\n",
       "\n",
       "    .dataframe thead th {\n",
       "        text-align: right;\n",
       "    }\n",
       "</style>\n",
       "<table border=\"1\" class=\"dataframe\">\n",
       "  <thead>\n",
       "    <tr style=\"text-align: right;\">\n",
       "      <th></th>\n",
       "      <th>practice</th>\n",
       "      <th>features</th>\n",
       "    </tr>\n",
       "  </thead>\n",
       "  <tbody>\n",
       "    <tr>\n",
       "      <th>0</th>\n",
       "      <td>Contact</td>\n",
       "      <td>[contact info, contact details, contact data, ...</td>\n",
       "    </tr>\n",
       "    <tr>\n",
       "      <th>1</th>\n",
       "      <td>Contact_Address_Book</td>\n",
       "      <td>[phone book, phonebook, contact information in...</td>\n",
       "    </tr>\n",
       "    <tr>\n",
       "      <th>2</th>\n",
       "      <td>Contact_City</td>\n",
       "      <td>[city, hometown]</td>\n",
       "    </tr>\n",
       "  </tbody>\n",
       "</table>\n",
       "</div>"
      ],
      "text/plain": [
       "               practice                                           features\n",
       "0               Contact  [contact info, contact details, contact data, ...\n",
       "1  Contact_Address_Book  [phone book, phonebook, contact information in...\n",
       "2          Contact_City                                   [city, hometown]"
      ]
     },
     "execution_count": 34,
     "metadata": {},
     "output_type": "execute_result"
    }
   ],
   "source": [
    "practice_and_created_features.head(3)"
   ]
  },
  {
   "cell_type": "markdown",
   "id": "0674c262",
   "metadata": {},
   "source": [
    "Now I need to grab the features for the parties and modalities too, which are also stored in the 'features.yml' file."
   ]
  },
  {
   "cell_type": "code",
   "execution_count": 35,
   "id": "2debfb8a",
   "metadata": {
    "scrolled": true
   },
   "outputs": [
    {
     "data": {
      "text/html": [
       "<div>\n",
       "<style scoped>\n",
       "    .dataframe tbody tr th:only-of-type {\n",
       "        vertical-align: middle;\n",
       "    }\n",
       "\n",
       "    .dataframe tbody tr th {\n",
       "        vertical-align: top;\n",
       "    }\n",
       "\n",
       "    .dataframe thead th {\n",
       "        text-align: right;\n",
       "    }\n",
       "</style>\n",
       "<table border=\"1\" class=\"dataframe\">\n",
       "  <thead>\n",
       "    <tr style=\"text-align: right;\">\n",
       "      <th></th>\n",
       "      <th>data_types</th>\n",
       "      <th>modalities.PERFORMED</th>\n",
       "      <th>modalities.NOT_PERFORMED</th>\n",
       "      <th>parties.FirstParty</th>\n",
       "      <th>parties.ThirdParty</th>\n",
       "    </tr>\n",
       "  </thead>\n",
       "  <tbody>\n",
       "    <tr>\n",
       "      <th>0</th>\n",
       "      <td>[{'practices': ['Contact_1stParty', 'Contact_3...</td>\n",
       "      <td>[consent, permission,  opt, collect, access, g...</td>\n",
       "      <td>[not collect, no longer collect, not access, n...</td>\n",
       "      <td>[ we ,  you ,  us ,  our , the app, the software]</td>\n",
       "      <td>[partner, third part, third-part, service prov...</td>\n",
       "    </tr>\n",
       "  </tbody>\n",
       "</table>\n",
       "</div>"
      ],
      "text/plain": [
       "                                          data_types  \\\n",
       "0  [{'practices': ['Contact_1stParty', 'Contact_3...   \n",
       "\n",
       "                                modalities.PERFORMED  \\\n",
       "0  [consent, permission,  opt, collect, access, g...   \n",
       "\n",
       "                            modalities.NOT_PERFORMED  \\\n",
       "0  [not collect, no longer collect, not access, n...   \n",
       "\n",
       "                                  parties.FirstParty  \\\n",
       "0  [ we ,  you ,  us ,  our , the app, the software]   \n",
       "\n",
       "                                  parties.ThirdParty  \n",
       "0  [partner, third part, third-part, service prov...  "
      ]
     },
     "execution_count": 35,
     "metadata": {},
     "output_type": "execute_result"
    }
   ],
   "source": [
    "with open(\"APP_350_v1_1/features.yml\", \"r\") as stream:\n",
    "    try:\n",
    "        features_yml = (json_normalize(yaml.safe_load(stream)))\n",
    "    except yaml.YAMLError as exc:\n",
    "        print(exc)\n",
    "\n",
    "features_yml"
   ]
  },
  {
   "cell_type": "code",
   "execution_count": 36,
   "id": "ef1baa1d",
   "metadata": {},
   "outputs": [],
   "source": [
    "add_to_df = [\n",
    "['1st_party', features_yml.loc[0,\"parties.FirstParty\"] ],\n",
    "['3rd_party', features_yml.loc[0,\"parties.ThirdParty\"] ],\n",
    "['PERFORMED', features_yml.loc[0,\"modalities.PERFORMED\"] ],\n",
    "['NOT_PERFORMED', features_yml.loc[0,\"modalities.NOT_PERFORMED\"] ]\n",
    "]"
   ]
  },
  {
   "cell_type": "code",
   "execution_count": 37,
   "id": "a705fc88",
   "metadata": {
    "scrolled": true
   },
   "outputs": [],
   "source": [
    "annotation_features = pd.concat( [practice_and_created_features, \n",
    "                                  pd.DataFrame(add_to_df, columns=['practice', 'features'])],\n",
    "           axis = 0,\n",
    "           ignore_index = True)\n",
    "annotation_features.columns = ['annotation', 'features']"
   ]
  },
  {
   "cell_type": "code",
   "execution_count": 38,
   "id": "6c0117cd",
   "metadata": {
    "scrolled": true
   },
   "outputs": [
    {
     "data": {
      "text/html": [
       "<div>\n",
       "<style scoped>\n",
       "    .dataframe tbody tr th:only-of-type {\n",
       "        vertical-align: middle;\n",
       "    }\n",
       "\n",
       "    .dataframe tbody tr th {\n",
       "        vertical-align: top;\n",
       "    }\n",
       "\n",
       "    .dataframe thead th {\n",
       "        text-align: right;\n",
       "    }\n",
       "</style>\n",
       "<table border=\"1\" class=\"dataframe\">\n",
       "  <thead>\n",
       "    <tr style=\"text-align: right;\">\n",
       "      <th></th>\n",
       "      <th>annotation</th>\n",
       "      <th>features</th>\n",
       "    </tr>\n",
       "  </thead>\n",
       "  <tbody>\n",
       "    <tr>\n",
       "      <th>28</th>\n",
       "      <td>Location_WiFi</td>\n",
       "      <td>[wifi signal, wifi access point, wifi location...</td>\n",
       "    </tr>\n",
       "    <tr>\n",
       "      <th>29</th>\n",
       "      <td>SSO</td>\n",
       "      <td>[login credentials from one of your accounts, ...</td>\n",
       "    </tr>\n",
       "    <tr>\n",
       "      <th>30</th>\n",
       "      <td>1st_party</td>\n",
       "      <td>[ we ,  you ,  us ,  our , the app, the software]</td>\n",
       "    </tr>\n",
       "    <tr>\n",
       "      <th>31</th>\n",
       "      <td>3rd_party</td>\n",
       "      <td>[partner, third part, third-part, service prov...</td>\n",
       "    </tr>\n",
       "    <tr>\n",
       "      <th>32</th>\n",
       "      <td>PERFORMED</td>\n",
       "      <td>[consent, permission,  opt, collect, access, g...</td>\n",
       "    </tr>\n",
       "    <tr>\n",
       "      <th>33</th>\n",
       "      <td>NOT_PERFORMED</td>\n",
       "      <td>[not collect, no longer collect, not access, n...</td>\n",
       "    </tr>\n",
       "  </tbody>\n",
       "</table>\n",
       "</div>"
      ],
      "text/plain": [
       "       annotation                                           features\n",
       "28  Location_WiFi  [wifi signal, wifi access point, wifi location...\n",
       "29            SSO  [login credentials from one of your accounts, ...\n",
       "30      1st_party  [ we ,  you ,  us ,  our , the app, the software]\n",
       "31      3rd_party  [partner, third part, third-part, service prov...\n",
       "32      PERFORMED  [consent, permission,  opt, collect, access, g...\n",
       "33  NOT_PERFORMED  [not collect, no longer collect, not access, n..."
      ]
     },
     "execution_count": 38,
     "metadata": {},
     "output_type": "execute_result"
    }
   ],
   "source": [
    "annotation_features.tail(6)"
   ]
  },
  {
   "cell_type": "markdown",
   "id": "fda64aaa",
   "metadata": {},
   "source": [
    "Saving the file:"
   ]
  },
  {
   "cell_type": "code",
   "execution_count": 39,
   "id": "ef6aa7f1",
   "metadata": {},
   "outputs": [],
   "source": [
    "annotation_features.to_pickle('annotation_features.pkl')"
   ]
  },
  {
   "cell_type": "markdown",
   "id": "88a28c5c",
   "metadata": {},
   "source": [
    "Verifying that the file was correctly saved and can be imported properly:"
   ]
  },
  {
   "cell_type": "code",
   "execution_count": 40,
   "id": "8896dcd8",
   "metadata": {},
   "outputs": [
    {
     "name": "stdout",
     "output_type": "stream",
     "text": [
      "True\n",
      "True\n"
     ]
    }
   ],
   "source": [
    "confirm_save_6 = pd.read_pickle('annotation_features.pkl')\n",
    "print(annotation_features.shape == confirm_save_6.shape)\n",
    "print(confirm_save_6.equals(annotation_features))"
   ]
  },
  {
   "cell_type": "markdown",
   "id": "db11c746",
   "metadata": {},
   "source": [
    "So now I have a dataframe with all the different annotations and a list of their respective crafted features called \"annotation_features\"."
   ]
  },
  {
   "cell_type": "markdown",
   "id": "7a28cba8",
   "metadata": {},
   "source": [
    "# /\\/\\ Move all the below to the end of the 'pre-processing' notebook ~/\\/\\/. "
   ]
  },
  {
   "cell_type": "markdown",
   "id": "7f20e7c1",
   "metadata": {},
   "source": [
    "# Append annotation features to dataframe\n",
    "\n",
    "The next steps are to:\n",
    "- 1. Append each feature as a column to the dataframe with the annotation as a prefix\n",
    "- 2. Populate the columns using the segment\n",
    "\n",
    "Then I can move to modelling.\n",
    "\n",
    "I already have a function to help with 1 called `add_empty_annotation_columns`.  I just need to put the new features into a list."
   ]
  },
  {
   "cell_type": "markdown",
   "id": "e9b24ec8",
   "metadata": {},
   "source": [
    "First I want to check whether any of the features are the same."
   ]
  },
  {
   "cell_type": "code",
   "execution_count": 41,
   "id": "c4541c21",
   "metadata": {},
   "outputs": [],
   "source": [
    "list_all_crafted_features = [feature for row in annotation_features['features'] for feature in row]"
   ]
  },
  {
   "cell_type": "code",
   "execution_count": 46,
   "id": "e9c3380d",
   "metadata": {},
   "outputs": [
    {
     "data": {
      "text/plain": [
       "103"
      ]
     },
     "execution_count": 46,
     "metadata": {},
     "output_type": "execute_result"
    }
   ],
   "source": [
    "all_features = []\n",
    "duplicate_features = []\n",
    "for feature in list_all_crafted_features:\n",
    "    if feature in all_features:\n",
    "        duplicate_features.append(feature)\n",
    "    all_features.append(feature)\n",
    "len(duplicate_features)"
   ]
  },
  {
   "cell_type": "markdown",
   "id": "e3b4ede5",
   "metadata": {},
   "source": [
    "Hmm a lot of the features are exactly the same.  I'm not sure that this will be an issue though – the only step being done while a dataframe with multiple same column names is populating it, which I can do by looping through the columns one at a time, but this will be worth keeping in mind.  Ideally I would clean it up as some pandas functions are unavailable if the dataframe has multiple column names with the same name."
   ]
  },
  {
   "cell_type": "markdown",
   "id": "79d3b184",
   "metadata": {},
   "source": [
    "## Add crafted features columns to df"
   ]
  },
  {
   "cell_type": "code",
   "execution_count": 360,
   "id": "8c8680a7",
   "metadata": {},
   "outputs": [
    {
     "name": "stdout",
     "output_type": "stream",
     "text": [
      "579\n",
      "(15543, 41)\n",
      "The shape of the returned dataframe is (15543, 620)\n"
     ]
    }
   ],
   "source": [
    "print(len(list_all_crafted_features))\n",
    "print(segment_annots_df.shape)\n",
    "crafted_features_df = priv_pol_funcs.add_empty_annotation_columns(segment_annots_df, list_all_crafted_features) \n",
    "!!! ### Change the above line.  Instead of segment_annots_df, \n",
    "# use whatever the result of the preprocessing df is: clean_segment_annots_df"
   ]
  },
  {
   "cell_type": "code",
   "execution_count": 361,
   "id": "d8edacbe",
   "metadata": {
    "collapsed": true
   },
   "outputs": [
    {
     "data": {
      "text/html": [
       "<div>\n",
       "<style scoped>\n",
       "    .dataframe tbody tr th:only-of-type {\n",
       "        vertical-align: middle;\n",
       "    }\n",
       "\n",
       "    .dataframe tbody tr th {\n",
       "        vertical-align: top;\n",
       "    }\n",
       "\n",
       "    .dataframe thead th {\n",
       "        text-align: right;\n",
       "    }\n",
       "</style>\n",
       "<table border=\"1\" class=\"dataframe\">\n",
       "  <thead>\n",
       "    <tr style=\"text-align: right;\">\n",
       "      <th></th>\n",
       "      <th>NOT_PERFORMED</th>\n",
       "      <th>contact info</th>\n",
       "      <th>contact details</th>\n",
       "      <th>contact data</th>\n",
       "      <th>e.g., your name</th>\n",
       "      <th>contact you</th>\n",
       "      <th>your contact</th>\n",
       "      <th>identify, contact</th>\n",
       "      <th>identifying information</th>\n",
       "      <th>your name, address, and e-mail address</th>\n",
       "      <th>...</th>\n",
       "      <th>never be acquired</th>\n",
       "      <th>never be viewed</th>\n",
       "      <th>never be located</th>\n",
       "      <th>never be asked</th>\n",
       "      <th>never be utilized</th>\n",
       "      <th>never be requested</th>\n",
       "      <th>never be transmitted</th>\n",
       "      <th>never be communicated</th>\n",
       "      <th>nor do we collect</th>\n",
       "      <th>does not tell us</th>\n",
       "    </tr>\n",
       "  </thead>\n",
       "  <tbody>\n",
       "    <tr>\n",
       "      <th>0</th>\n",
       "      <td>0</td>\n",
       "      <td>0</td>\n",
       "      <td>0</td>\n",
       "      <td>0</td>\n",
       "      <td>0</td>\n",
       "      <td>0</td>\n",
       "      <td>0</td>\n",
       "      <td>0</td>\n",
       "      <td>0</td>\n",
       "      <td>0</td>\n",
       "      <td>...</td>\n",
       "      <td>0</td>\n",
       "      <td>0</td>\n",
       "      <td>0</td>\n",
       "      <td>0</td>\n",
       "      <td>0</td>\n",
       "      <td>0</td>\n",
       "      <td>0</td>\n",
       "      <td>0</td>\n",
       "      <td>0</td>\n",
       "      <td>0</td>\n",
       "    </tr>\n",
       "    <tr>\n",
       "      <th>1</th>\n",
       "      <td>0</td>\n",
       "      <td>0</td>\n",
       "      <td>0</td>\n",
       "      <td>0</td>\n",
       "      <td>0</td>\n",
       "      <td>0</td>\n",
       "      <td>0</td>\n",
       "      <td>0</td>\n",
       "      <td>0</td>\n",
       "      <td>0</td>\n",
       "      <td>...</td>\n",
       "      <td>0</td>\n",
       "      <td>0</td>\n",
       "      <td>0</td>\n",
       "      <td>0</td>\n",
       "      <td>0</td>\n",
       "      <td>0</td>\n",
       "      <td>0</td>\n",
       "      <td>0</td>\n",
       "      <td>0</td>\n",
       "      <td>0</td>\n",
       "    </tr>\n",
       "    <tr>\n",
       "      <th>2</th>\n",
       "      <td>0</td>\n",
       "      <td>0</td>\n",
       "      <td>0</td>\n",
       "      <td>0</td>\n",
       "      <td>0</td>\n",
       "      <td>0</td>\n",
       "      <td>0</td>\n",
       "      <td>0</td>\n",
       "      <td>0</td>\n",
       "      <td>0</td>\n",
       "      <td>...</td>\n",
       "      <td>0</td>\n",
       "      <td>0</td>\n",
       "      <td>0</td>\n",
       "      <td>0</td>\n",
       "      <td>0</td>\n",
       "      <td>0</td>\n",
       "      <td>0</td>\n",
       "      <td>0</td>\n",
       "      <td>0</td>\n",
       "      <td>0</td>\n",
       "    </tr>\n",
       "    <tr>\n",
       "      <th>3</th>\n",
       "      <td>0</td>\n",
       "      <td>0</td>\n",
       "      <td>0</td>\n",
       "      <td>0</td>\n",
       "      <td>0</td>\n",
       "      <td>0</td>\n",
       "      <td>0</td>\n",
       "      <td>0</td>\n",
       "      <td>0</td>\n",
       "      <td>0</td>\n",
       "      <td>...</td>\n",
       "      <td>0</td>\n",
       "      <td>0</td>\n",
       "      <td>0</td>\n",
       "      <td>0</td>\n",
       "      <td>0</td>\n",
       "      <td>0</td>\n",
       "      <td>0</td>\n",
       "      <td>0</td>\n",
       "      <td>0</td>\n",
       "      <td>0</td>\n",
       "    </tr>\n",
       "    <tr>\n",
       "      <th>4</th>\n",
       "      <td>0</td>\n",
       "      <td>0</td>\n",
       "      <td>0</td>\n",
       "      <td>0</td>\n",
       "      <td>0</td>\n",
       "      <td>0</td>\n",
       "      <td>0</td>\n",
       "      <td>0</td>\n",
       "      <td>0</td>\n",
       "      <td>0</td>\n",
       "      <td>...</td>\n",
       "      <td>0</td>\n",
       "      <td>0</td>\n",
       "      <td>0</td>\n",
       "      <td>0</td>\n",
       "      <td>0</td>\n",
       "      <td>0</td>\n",
       "      <td>0</td>\n",
       "      <td>0</td>\n",
       "      <td>0</td>\n",
       "      <td>0</td>\n",
       "    </tr>\n",
       "  </tbody>\n",
       "</table>\n",
       "<p>5 rows × 580 columns</p>\n",
       "</div>"
      ],
      "text/plain": [
       "   NOT_PERFORMED  contact info  contact details  contact data  \\\n",
       "0              0             0                0             0   \n",
       "1              0             0                0             0   \n",
       "2              0             0                0             0   \n",
       "3              0             0                0             0   \n",
       "4              0             0                0             0   \n",
       "\n",
       "   e.g., your name  contact you  your contact  identify, contact  \\\n",
       "0                0            0             0                  0   \n",
       "1                0            0             0                  0   \n",
       "2                0            0             0                  0   \n",
       "3                0            0             0                  0   \n",
       "4                0            0             0                  0   \n",
       "\n",
       "   identifying information  your name, address, and e-mail address  ...  \\\n",
       "0                        0                                       0  ...   \n",
       "1                        0                                       0  ...   \n",
       "2                        0                                       0  ...   \n",
       "3                        0                                       0  ...   \n",
       "4                        0                                       0  ...   \n",
       "\n",
       "   never be acquired  never be viewed  never be located  never be asked  \\\n",
       "0                  0                0                 0               0   \n",
       "1                  0                0                 0               0   \n",
       "2                  0                0                 0               0   \n",
       "3                  0                0                 0               0   \n",
       "4                  0                0                 0               0   \n",
       "\n",
       "   never be utilized  never be requested  never be transmitted  \\\n",
       "0                  0                   0                     0   \n",
       "1                  0                   0                     0   \n",
       "2                  0                   0                     0   \n",
       "3                  0                   0                     0   \n",
       "4                  0                   0                     0   \n",
       "\n",
       "   never be communicated  nor do we collect  does not tell us  \n",
       "0                      0                  0                 0  \n",
       "1                      0                  0                 0  \n",
       "2                      0                  0                 0  \n",
       "3                      0                  0                 0  \n",
       "4                      0                  0                 0  \n",
       "\n",
       "[5 rows x 580 columns]"
      ]
     },
     "execution_count": 361,
     "metadata": {},
     "output_type": "execute_result"
    }
   ],
   "source": [
    "crafted_features_df.iloc[:,40:].head(5)"
   ]
  },
  {
   "cell_type": "markdown",
   "id": "cd23d80e",
   "metadata": {},
   "source": [
    "Can I populate this?"
   ]
  },
  {
   "cell_type": "code",
   "execution_count": 362,
   "id": "7be65c68",
   "metadata": {
    "collapsed": true
   },
   "outputs": [
    {
     "data": {
      "text/html": [
       "<div>\n",
       "<style scoped>\n",
       "    .dataframe tbody tr th:only-of-type {\n",
       "        vertical-align: middle;\n",
       "    }\n",
       "\n",
       "    .dataframe tbody tr th {\n",
       "        vertical-align: top;\n",
       "    }\n",
       "\n",
       "    .dataframe thead th {\n",
       "        text-align: right;\n",
       "    }\n",
       "</style>\n",
       "<table border=\"1\" class=\"dataframe\">\n",
       "  <thead>\n",
       "    <tr style=\"text-align: right;\">\n",
       "      <th></th>\n",
       "      <th>source_policy_number</th>\n",
       "      <th>policy_type</th>\n",
       "      <th>contains_synthetic</th>\n",
       "      <th>policy_segment_id</th>\n",
       "      <th>segment_text</th>\n",
       "      <th>annotations</th>\n",
       "      <th>sentences</th>\n",
       "      <th>SSO</th>\n",
       "      <th>Facebook_SSO</th>\n",
       "      <th>1st_party</th>\n",
       "      <th>...</th>\n",
       "      <th>never be acquired</th>\n",
       "      <th>never be viewed</th>\n",
       "      <th>never be located</th>\n",
       "      <th>never be asked</th>\n",
       "      <th>never be utilized</th>\n",
       "      <th>never be requested</th>\n",
       "      <th>never be transmitted</th>\n",
       "      <th>never be communicated</th>\n",
       "      <th>nor do we collect</th>\n",
       "      <th>does not tell us</th>\n",
       "    </tr>\n",
       "  </thead>\n",
       "  <tbody>\n",
       "    <tr>\n",
       "      <th>0</th>\n",
       "      <td>1</td>\n",
       "      <td>TEST</td>\n",
       "      <td>False</td>\n",
       "      <td>0</td>\n",
       "      <td>PRIVACY POLICY This privacy policy (hereafter ...</td>\n",
       "      <td>[]</td>\n",
       "      <td>[]</td>\n",
       "      <td>0</td>\n",
       "      <td>0</td>\n",
       "      <td>0</td>\n",
       "      <td>...</td>\n",
       "      <td>0</td>\n",
       "      <td>0</td>\n",
       "      <td>0</td>\n",
       "      <td>0</td>\n",
       "      <td>0</td>\n",
       "      <td>0</td>\n",
       "      <td>0</td>\n",
       "      <td>0</td>\n",
       "      <td>0</td>\n",
       "      <td>0</td>\n",
       "    </tr>\n",
       "    <tr>\n",
       "      <th>1</th>\n",
       "      <td>1</td>\n",
       "      <td>TEST</td>\n",
       "      <td>False</td>\n",
       "      <td>1</td>\n",
       "      <td>1. ABOUT OUR PRODUCTS 1.1 Our products offer a...</td>\n",
       "      <td>[]</td>\n",
       "      <td>[]</td>\n",
       "      <td>0</td>\n",
       "      <td>0</td>\n",
       "      <td>0</td>\n",
       "      <td>...</td>\n",
       "      <td>0</td>\n",
       "      <td>0</td>\n",
       "      <td>0</td>\n",
       "      <td>0</td>\n",
       "      <td>0</td>\n",
       "      <td>0</td>\n",
       "      <td>0</td>\n",
       "      <td>0</td>\n",
       "      <td>0</td>\n",
       "      <td>0</td>\n",
       "    </tr>\n",
       "    <tr>\n",
       "      <th>2</th>\n",
       "      <td>1</td>\n",
       "      <td>TEST</td>\n",
       "      <td>False</td>\n",
       "      <td>2</td>\n",
       "      <td>2. THE INFORMATION WE COLLECT The information ...</td>\n",
       "      <td>[{'practice': 'Identifier_Cookie_or_similar_Te...</td>\n",
       "      <td>[{'sentence_text': 'IP ADDRESS, COOKIES, AND W...</td>\n",
       "      <td>0</td>\n",
       "      <td>0</td>\n",
       "      <td>2</td>\n",
       "      <td>...</td>\n",
       "      <td>0</td>\n",
       "      <td>0</td>\n",
       "      <td>0</td>\n",
       "      <td>0</td>\n",
       "      <td>0</td>\n",
       "      <td>0</td>\n",
       "      <td>0</td>\n",
       "      <td>0</td>\n",
       "      <td>0</td>\n",
       "      <td>0</td>\n",
       "    </tr>\n",
       "  </tbody>\n",
       "</table>\n",
       "<p>3 rows × 620 columns</p>\n",
       "</div>"
      ],
      "text/plain": [
       "   source_policy_number policy_type  contains_synthetic  policy_segment_id  \\\n",
       "0                     1        TEST               False                  0   \n",
       "1                     1        TEST               False                  1   \n",
       "2                     1        TEST               False                  2   \n",
       "\n",
       "                                        segment_text  \\\n",
       "0  PRIVACY POLICY This privacy policy (hereafter ...   \n",
       "1  1. ABOUT OUR PRODUCTS 1.1 Our products offer a...   \n",
       "2  2. THE INFORMATION WE COLLECT The information ...   \n",
       "\n",
       "                                         annotations  \\\n",
       "0                                                 []   \n",
       "1                                                 []   \n",
       "2  [{'practice': 'Identifier_Cookie_or_similar_Te...   \n",
       "\n",
       "                                           sentences  SSO  Facebook_SSO  \\\n",
       "0                                                 []    0             0   \n",
       "1                                                 []    0             0   \n",
       "2  [{'sentence_text': 'IP ADDRESS, COOKIES, AND W...    0             0   \n",
       "\n",
       "   1st_party  ...  never be acquired  never be viewed  never be located  \\\n",
       "0          0  ...                  0                0                 0   \n",
       "1          0  ...                  0                0                 0   \n",
       "2          2  ...                  0                0                 0   \n",
       "\n",
       "   never be asked  never be utilized  never be requested  \\\n",
       "0               0                  0                   0   \n",
       "1               0                  0                   0   \n",
       "2               0                  0                   0   \n",
       "\n",
       "   never be transmitted  never be communicated  nor do we collect  \\\n",
       "0                     0                      0                  0   \n",
       "1                     0                      0                  0   \n",
       "2                     0                      0                  0   \n",
       "\n",
       "   does not tell us  \n",
       "0                 0  \n",
       "1                 0  \n",
       "2                 0  \n",
       "\n",
       "[3 rows x 620 columns]"
      ]
     },
     "execution_count": 362,
     "metadata": {},
     "output_type": "execute_result"
    }
   ],
   "source": [
    "crafted_features_df.head(3)"
   ]
  },
  {
   "cell_type": "markdown",
   "id": "81e10e71",
   "metadata": {},
   "source": [
    "- Take the column name\n",
    "- take the segment text\n",
    "- if column_name in segment text: put 1."
   ]
  },
  {
   "cell_type": "code",
   "execution_count": 378,
   "id": "f6e37e05",
   "metadata": {},
   "outputs": [],
   "source": [
    "all_rows = range(len(crafted_features_df))"
   ]
  },
  {
   "cell_type": "code",
   "execution_count": 379,
   "id": "a80e1727",
   "metadata": {},
   "outputs": [
    {
     "data": {
      "text/plain": [
       "range(41, 620)"
      ]
     },
     "execution_count": 379,
     "metadata": {},
     "output_type": "execute_result"
    }
   ],
   "source": [
    "range(41, 620)"
   ]
  },
  {
   "cell_type": "code",
   "execution_count": 382,
   "id": "df312cd7",
   "metadata": {},
   "outputs": [
    {
     "name": "stdout",
     "output_type": "stream",
     "text": [
      "CPU times: user 46min 27s, sys: 20.8 s, total: 46min 47s\n",
      "Wall time: 46min 29s\n"
     ]
    }
   ],
   "source": [
    "%%time\n",
    "\n",
    "for column_number in range(41, 620): # Looping through each column with a feature\n",
    "\n",
    "    column_name = crafted_features_df.columns[column_number] # for that column feature\n",
    "\n",
    "    for row in all_rows: # and for every row\n",
    "        if column_name in crafted_features_df.at[row, \"segment_text\"]: # if the segment has that feature\n",
    "            crafted_features_df.at[row, column_name] = 1 # make the value for that feature on that row equal 1\n",
    "    \n",
    "    print(f\"Processing {column_number}/620\", end=\"\\r\")"
   ]
  },
  {
   "cell_type": "code",
   "execution_count": 391,
   "id": "38fdf3f7",
   "metadata": {
    "scrolled": true
   },
   "outputs": [
    {
     "data": {
      "text/plain": [
       "location based on gps/wi-fi/communications                                                                 0\n",
       " precise location                                                                                         48\n",
       " precise geo                                                                                              33\n",
       " precise device location                                                                                   3\n",
       " precise device geo                                                                                        0\n",
       " specific location                                                                                         8\n",
       " specific geo                                                                                              7\n",
       " specific device location                                                                                  1\n",
       " specific device geo                                                                                       0\n",
       " exact location                                                                                            7\n",
       " exact geo                                                                                                 0\n",
       " exact device location                                                                                     0\n",
       " exact device geo                                                                                          0\n",
       "detailed location                                                                                          3\n",
       "detailed geo                                                                                               0\n",
       "detailed device location                                                                                   0\n",
       "detailed device geo                                                                                        0\n",
       "accurate location                                                                                          1\n",
       "accurate geo                                                                                               0\n",
       "accurate device location                                                                                   0\n",
       "accurate device geo                                                                                        0\n",
       " precise information about the location                                                                    6\n",
       " precise information about the geo                                                                         0\n",
       " precise information about the device location                                                             0\n",
       " precise information about the device geo                                                                  0\n",
       "login credentials from one of your accounts                                                                1\n",
       "application authentication options                                                                         6\n",
       "receives your information from an SNS                                                                      3\n",
       "accessed on a third party platform or social network                                                       1\n",
       "register using your User credentials to certain social media sites                                         1\n",
       "allow us to access and/or collect certain information from your Third Party Platform profile/account       1\n",
       "logging in to the Application using Third Party Social Network                                             2\n",
       "accessing the Services through a social network                                                            2\n",
       "when you choose to connect with those services                                                             2\n",
       "if you choose to register your App account via such social media providers                                 1\n",
       "third party platform                                                                                      17\n",
       " we                                                                                                     4745\n",
       " you                                                                                                    7358\n",
       " us                                                                                                     2414\n",
       " our                                                                                                    5404\n",
       "the app                                                                                                  449\n",
       "the software                                                                                              27\n",
       "partner                                                                                                  621\n",
       "third part                                                                                              2071\n",
       "third-part                                                                                               585\n",
       "service provider                                                                                         469\n",
       "contractor                                                                                                83\n",
       "vendor                                                                                                    85\n",
       "provider                                                                                                 791\n",
       "supplier                                                                                                  33\n",
       "dtype: int64"
      ]
     },
     "execution_count": 391,
     "metadata": {},
     "output_type": "execute_result"
    }
   ],
   "source": [
    "# looking at some of the results to verify\n",
    "sumations = crafted_features_df.iloc[:,41:].sum()\n",
    "sumations[-230:-200]"
   ]
  },
  {
   "cell_type": "markdown",
   "id": "0dbce4bd",
   "metadata": {},
   "source": [
    "This looks roughly correct so I will use it for modelling"
   ]
  },
  {
   "cell_type": "markdown",
   "id": "44e532f1",
   "metadata": {},
   "source": [
    "## Saving the df"
   ]
  },
  {
   "cell_type": "markdown",
   "id": "434c4a83",
   "metadata": {},
   "source": [
    "As before, to make it faster to load this dataframe in this notebook and others, I will save this dataframe as a pickle file.  This allows the below code to be ran without waiting for the above code."
   ]
  },
  {
   "cell_type": "code",
   "execution_count": 392,
   "id": "e9c64479",
   "metadata": {},
   "outputs": [],
   "source": [
    "crafted_features_df.to_pickle('crafted_features_df.pkl')"
   ]
  },
  {
   "cell_type": "markdown",
   "id": "67f18817",
   "metadata": {},
   "source": [
    "Verifying that the file was correctly saved and can be imported properly:"
   ]
  },
  {
   "cell_type": "code",
   "execution_count": 393,
   "id": "39a25967",
   "metadata": {},
   "outputs": [
    {
     "name": "stdout",
     "output_type": "stream",
     "text": [
      "True\n",
      "True\n"
     ]
    }
   ],
   "source": [
    "confirm_save_5 = pd.read_pickle('crafted_features_df.pkl')\n",
    "print(crafted_features_df.shape == confirm_save_5.shape)\n",
    "print(confirm_save_5.equals(crafted_features_df))"
   ]
  },
  {
   "cell_type": "markdown",
   "id": "fd0a0044",
   "metadata": {},
   "source": [
    "# Conclusion"
   ]
  },
  {
   "cell_type": "markdown",
   "id": "b76762bb",
   "metadata": {},
   "source": [
    "I now have a range of dataframes that I can use for EDA and modelling.\n",
    "\n",
    "Those dataframes are listed here:\n",
    "\n",
    "**Dataframes (DF):**<br>\n",
    "“Initial DF – “all_segments_df” – contains policy metadata, segment text, and YAML-embedded annotations and sentences\n",
    "<br> DF 2 – “segment_annotations” – all the above plus columns for annotations of the form [data_practice, party] (58 additional columns)\n",
    "<br> DF 3 – “practice_columns_df” – as above with the addition of columns for annotations for each data practice (30 additional columns). Suitable for EDA (not modelling) since it counts number of occurrences of each practice in each segment.\n",
    "<br> DF 4 – \"segment_annots_df\" – As with the first data frame and with the 30 columns added to the above Dataframe.  Essentially it features each segment and the targets. Suitable for modelling because each practice is binary (present or not)\n",
    "<br> DF 5 – \"crafted_features_df\" – As above with 579 Crafted Featured added. Contains each segment, all crafted features, and columns for targets of practice, parties and modality.\n",
    "\n",
    "Another dataframe listing each Crafted Feature for each annotation – \"annotation_features\""
   ]
  },
  {
   "cell_type": "code",
   "execution_count": null,
   "id": "38babc0e",
   "metadata": {},
   "outputs": [],
   "source": [
    "%matplotlib inline\n",
    "%config InlineBackend.figure_format = 'svg'\n",
    "plt.style.use('seaborn')"
   ]
  },
  {
   "cell_type": "markdown",
   "id": "b77a555e",
   "metadata": {},
   "source": [
    "Options for next steps:\n",
    "\n",
    "- Make some mapping of the Crafted Features with the respective targets.\n",
    "- Read the paper again and replicate their steps.\n",
    "- I might need to revise and ask about SVM\n",
    "\n",
    "EDA to do:\n",
    "\n",
    "- Normal EDA on dataset.  I've already done lots of this IMO although some of it is for grouped targets (practice+party).\n",
    "- EDA on individual targets. Some segments have many times of one annotation.\n",
    "- TF-IDF such as most common words (see graph in Text Data notebook)\n",
    "- EDA on Crafted Features – how common are they? How well do they match with the targets?\n",
    "- EDA on pre-processing step: how messy are the CFs and Segments (whitespace, odd punctuation, non-ascii chars)"
   ]
  }
 ],
 "metadata": {
  "kernelspec": {
   "display_name": "priv_pol_nlp",
   "language": "python",
   "name": "priv_pol_nlp"
  },
  "language_info": {
   "codemirror_mode": {
    "name": "ipython",
    "version": 3
   },
   "file_extension": ".py",
   "mimetype": "text/x-python",
   "name": "python",
   "nbconvert_exporter": "python",
   "pygments_lexer": "ipython3",
   "version": "3.10.6"
  },
  "toc": {
   "base_numbering": 1,
   "nav_menu": {},
   "number_sections": true,
   "sideBar": true,
   "skip_h1_title": false,
   "title_cell": "Table of Contents",
   "title_sidebar": "Contents",
   "toc_cell": false,
   "toc_position": {},
   "toc_section_display": true,
   "toc_window_display": false
  }
 },
 "nbformat": 4,
 "nbformat_minor": 5
}
