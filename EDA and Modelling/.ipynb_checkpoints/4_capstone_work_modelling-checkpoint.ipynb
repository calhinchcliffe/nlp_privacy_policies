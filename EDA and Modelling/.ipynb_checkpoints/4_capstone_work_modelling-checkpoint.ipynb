{
 "cells": [
  {
   "cell_type": "markdown",
   "id": "816694eb",
   "metadata": {},
   "source": [
    "EDA should be in the context of my data.  I should state what I expect BEFORE checking for it in the data.\n",
    "\n",
    "Also at the top I can include links, context, goals"
   ]
  },
  {
   "cell_type": "code",
   "execution_count": 5,
   "id": "09c92c4c",
   "metadata": {},
   "outputs": [],
   "source": [
    "import pandas as pd\n",
    "from pandas import json_normalize\n",
    "import numpy as np\n",
    "import matplotlib.pyplot as plt\n",
    "%matplotlib inline\n",
    "\n",
    "import seaborn as sns\n",
    "from scipy import stats\n",
    "from scipy.stats import norm\n",
    "import statsmodels.api as sm\n",
    "import yaml\n",
    "import sys\n",
    "from collections import defaultdict\n",
    "from collections import Counter\n",
    "\n",
    "import ds_utils_callum\n",
    "import priv_policy_manipulation_functions"
   ]
  },
  {
   "cell_type": "markdown",
   "id": "b562041b",
   "metadata": {},
   "source": [
    "Put the first policy into a df"
   ]
  },
  {
   "cell_type": "markdown",
   "id": "91a814ec",
   "metadata": {},
   "source": [
    "## Populating top-level df"
   ]
  },
  {
   "cell_type": "code",
   "execution_count": 17,
   "id": "78e9aabc",
   "metadata": {},
   "outputs": [],
   "source": [
    "def load_all_policies():\n",
    "    \n",
    "    # Load the first policy into a dataframe\n",
    "    with open(\"APP_350_v1_1/annotations/policy_1.yml\", \"r\") as stream:\n",
    "        try:\n",
    "            all_policies_df = (json_normalize(yaml.safe_load(stream)))\n",
    "        except yaml.YAMLError as exc:\n",
    "            print(exc)\n",
    "        \n",
    "    # Get the locations of all policy files\n",
    "    full_policy_list = [f\"APP_350_v1_1/annotations/policy_{num}.yml\" for num in range(2,351)]\n",
    "    \n",
    "    #Loop through all the policy file addresses, normalise it and add it to the bottom of all_policies_df\n",
    "    for document in full_policy_list:\n",
    "        with open(document, \"r\") as stream:\n",
    "            try:\n",
    "                current_df_policy_info = (json_normalize(yaml.safe_load(stream)))\n",
    "                all_policies_df = pd.concat([all_policies_df, current_df_policy_info], axis=0)\n",
    "            except yaml.YAMLError as exc:\n",
    "                print(exc)\n",
    "    \n",
    "    all_policies_df.reset_index(drop=True, inplace=True)\n",
    "    \n",
    "    return all_policies_df"
   ]
  },
  {
   "cell_type": "code",
   "execution_count": 18,
   "id": "78beb882",
   "metadata": {},
   "outputs": [
    {
     "data": {
      "text/html": [
       "<div>\n",
       "<style scoped>\n",
       "    .dataframe tbody tr th:only-of-type {\n",
       "        vertical-align: middle;\n",
       "    }\n",
       "\n",
       "    .dataframe tbody tr th {\n",
       "        vertical-align: top;\n",
       "    }\n",
       "\n",
       "    .dataframe thead th {\n",
       "        text-align: right;\n",
       "    }\n",
       "</style>\n",
       "<table border=\"1\" class=\"dataframe\">\n",
       "  <thead>\n",
       "    <tr style=\"text-align: right;\">\n",
       "      <th></th>\n",
       "      <th>policy_id</th>\n",
       "      <th>policy_name</th>\n",
       "      <th>policy_type</th>\n",
       "      <th>contains_synthetic</th>\n",
       "      <th>segments</th>\n",
       "    </tr>\n",
       "  </thead>\n",
       "  <tbody>\n",
       "    <tr>\n",
       "      <th>0</th>\n",
       "      <td>1</td>\n",
       "      <td>6677G</td>\n",
       "      <td>TEST</td>\n",
       "      <td>False</td>\n",
       "      <td>[{'segment_id': 0, 'segment_text': 'PRIVACY PO...</td>\n",
       "    </tr>\n",
       "    <tr>\n",
       "      <th>1</th>\n",
       "      <td>2</td>\n",
       "      <td>AIFactory</td>\n",
       "      <td>TEST</td>\n",
       "      <td>False</td>\n",
       "      <td>[{'segment_id': 0, 'segment_text': 'AI Factory...</td>\n",
       "    </tr>\n",
       "    <tr>\n",
       "      <th>2</th>\n",
       "      <td>3</td>\n",
       "      <td>AppliqatoSoftware</td>\n",
       "      <td>TEST</td>\n",
       "      <td>False</td>\n",
       "      <td>[{'segment_id': 0, 'segment_text': 'Automatic ...</td>\n",
       "    </tr>\n",
       "    <tr>\n",
       "      <th>3</th>\n",
       "      <td>4</td>\n",
       "      <td>BandaiNamco</td>\n",
       "      <td>TEST</td>\n",
       "      <td>False</td>\n",
       "      <td>[{'segment_id': 0, 'segment_text': 'MOBILE APP...</td>\n",
       "    </tr>\n",
       "    <tr>\n",
       "      <th>4</th>\n",
       "      <td>5</td>\n",
       "      <td>BarcodeScanner</td>\n",
       "      <td>TEST</td>\n",
       "      <td>False</td>\n",
       "      <td>[{'segment_id': 0, 'segment_text': 'Skip to co...</td>\n",
       "    </tr>\n",
       "  </tbody>\n",
       "</table>\n",
       "</div>"
      ],
      "text/plain": [
       "   policy_id        policy_name policy_type  contains_synthetic  \\\n",
       "0          1              6677G        TEST               False   \n",
       "1          2          AIFactory        TEST               False   \n",
       "2          3  AppliqatoSoftware        TEST               False   \n",
       "3          4        BandaiNamco        TEST               False   \n",
       "4          5     BarcodeScanner        TEST               False   \n",
       "\n",
       "                                            segments  \n",
       "0  [{'segment_id': 0, 'segment_text': 'PRIVACY PO...  \n",
       "1  [{'segment_id': 0, 'segment_text': 'AI Factory...  \n",
       "2  [{'segment_id': 0, 'segment_text': 'Automatic ...  \n",
       "3  [{'segment_id': 0, 'segment_text': 'MOBILE APP...  \n",
       "4  [{'segment_id': 0, 'segment_text': 'Skip to co...  "
      ]
     },
     "execution_count": 18,
     "metadata": {},
     "output_type": "execute_result"
    }
   ],
   "source": [
    "all_policies_df = load_all_policies()\n",
    "all_policies_df.head(5)"
   ]
  },
  {
   "cell_type": "code",
   "execution_count": 19,
   "id": "d8e4531a",
   "metadata": {},
   "outputs": [],
   "source": [
    "def add_metadata_to_policy_df(input_policies_df):\n",
    "    \n",
    "    all_policies_df = input_policies_df.copy()\n",
    "    \n",
    "    # New columns to populate\n",
    "    all_policies_df[\"num_segments\"] = 0\n",
    "    all_policies_df[\"num_annotated_segs\"] = 0\n",
    "    all_policies_df[\"total_characters\"] = 0\n",
    "    \n",
    "    # Loop through each policy\n",
    "    \n",
    "    for i in range(len(all_policies_df[\"segments\"])):\n",
    "        segment = all_policies_df.loc[i, \"segments\"] # grab the policy\n",
    "        \n",
    "        policy_segment_df = json_normalize(segment) # apply json_normalize\n",
    "        \n",
    "        policy_segment_df.set_index('segment_id', inplace=True)\n",
    "        \n",
    "        all_policies_df.loc[i, \"num_segments\"] = policy_segment_df[\"segment_text\"].count() # count the sentences and add to the main df\n",
    "\n",
    "        policy_segment_df.loc[ policy_segment_df[\"annotations\"].str.len() == 0 , \"annotations\"] = None # clean the annotations column\n",
    "        \n",
    "        all_policies_df.loc[i, \"num_annotated_segs\"] = policy_segment_df[\"annotations\"].count() # count the annotated segments\n",
    "\n",
    "        all_policies_df.loc[i, \"total_characters\"] = policy_segment_df[\"segment_text\"].str.len().sum() # count the characters\n",
    "        \n",
    "    return all_policies_df"
   ]
  },
  {
   "cell_type": "code",
   "execution_count": 20,
   "id": "a07bc455",
   "metadata": {},
   "outputs": [
    {
     "data": {
      "text/html": [
       "<div>\n",
       "<style scoped>\n",
       "    .dataframe tbody tr th:only-of-type {\n",
       "        vertical-align: middle;\n",
       "    }\n",
       "\n",
       "    .dataframe tbody tr th {\n",
       "        vertical-align: top;\n",
       "    }\n",
       "\n",
       "    .dataframe thead th {\n",
       "        text-align: right;\n",
       "    }\n",
       "</style>\n",
       "<table border=\"1\" class=\"dataframe\">\n",
       "  <thead>\n",
       "    <tr style=\"text-align: right;\">\n",
       "      <th></th>\n",
       "      <th>policy_id</th>\n",
       "      <th>policy_name</th>\n",
       "      <th>policy_type</th>\n",
       "      <th>contains_synthetic</th>\n",
       "      <th>segments</th>\n",
       "      <th>num_segments</th>\n",
       "      <th>num_annotated_segs</th>\n",
       "      <th>total_characters</th>\n",
       "    </tr>\n",
       "  </thead>\n",
       "  <tbody>\n",
       "    <tr>\n",
       "      <th>0</th>\n",
       "      <td>1</td>\n",
       "      <td>6677G</td>\n",
       "      <td>TEST</td>\n",
       "      <td>False</td>\n",
       "      <td>[{'segment_id': 0, 'segment_text': 'PRIVACY PO...</td>\n",
       "      <td>36</td>\n",
       "      <td>11</td>\n",
       "      <td>12703</td>\n",
       "    </tr>\n",
       "    <tr>\n",
       "      <th>1</th>\n",
       "      <td>2</td>\n",
       "      <td>AIFactory</td>\n",
       "      <td>TEST</td>\n",
       "      <td>False</td>\n",
       "      <td>[{'segment_id': 0, 'segment_text': 'AI Factory...</td>\n",
       "      <td>14</td>\n",
       "      <td>5</td>\n",
       "      <td>5995</td>\n",
       "    </tr>\n",
       "    <tr>\n",
       "      <th>2</th>\n",
       "      <td>3</td>\n",
       "      <td>AppliqatoSoftware</td>\n",
       "      <td>TEST</td>\n",
       "      <td>False</td>\n",
       "      <td>[{'segment_id': 0, 'segment_text': 'Automatic ...</td>\n",
       "      <td>8</td>\n",
       "      <td>1</td>\n",
       "      <td>2450</td>\n",
       "    </tr>\n",
       "    <tr>\n",
       "      <th>3</th>\n",
       "      <td>4</td>\n",
       "      <td>BandaiNamco</td>\n",
       "      <td>TEST</td>\n",
       "      <td>False</td>\n",
       "      <td>[{'segment_id': 0, 'segment_text': 'MOBILE APP...</td>\n",
       "      <td>57</td>\n",
       "      <td>14</td>\n",
       "      <td>32323</td>\n",
       "    </tr>\n",
       "    <tr>\n",
       "      <th>4</th>\n",
       "      <td>5</td>\n",
       "      <td>BarcodeScanner</td>\n",
       "      <td>TEST</td>\n",
       "      <td>False</td>\n",
       "      <td>[{'segment_id': 0, 'segment_text': 'Skip to co...</td>\n",
       "      <td>32</td>\n",
       "      <td>3</td>\n",
       "      <td>6667</td>\n",
       "    </tr>\n",
       "  </tbody>\n",
       "</table>\n",
       "</div>"
      ],
      "text/plain": [
       "   policy_id        policy_name policy_type  contains_synthetic  \\\n",
       "0          1              6677G        TEST               False   \n",
       "1          2          AIFactory        TEST               False   \n",
       "2          3  AppliqatoSoftware        TEST               False   \n",
       "3          4        BandaiNamco        TEST               False   \n",
       "4          5     BarcodeScanner        TEST               False   \n",
       "\n",
       "                                            segments  num_segments  \\\n",
       "0  [{'segment_id': 0, 'segment_text': 'PRIVACY PO...            36   \n",
       "1  [{'segment_id': 0, 'segment_text': 'AI Factory...            14   \n",
       "2  [{'segment_id': 0, 'segment_text': 'Automatic ...             8   \n",
       "3  [{'segment_id': 0, 'segment_text': 'MOBILE APP...            57   \n",
       "4  [{'segment_id': 0, 'segment_text': 'Skip to co...            32   \n",
       "\n",
       "   num_annotated_segs  total_characters  \n",
       "0                  11             12703  \n",
       "1                   5              5995  \n",
       "2                   1              2450  \n",
       "3                  14             32323  \n",
       "4                   3              6667  "
      ]
     },
     "execution_count": 20,
     "metadata": {},
     "output_type": "execute_result"
    }
   ],
   "source": [
    "all_policies_df = add_metadata_to_policy_df(all_policies_df)\n",
    "all_policies_df.head(5)"
   ]
  },
  {
   "cell_type": "markdown",
   "id": "dc7e4abe",
   "metadata": {},
   "source": [
    "# Making segments"
   ]
  },
  {
   "cell_type": "markdown",
   "id": "839b9e7c",
   "metadata": {},
   "source": [
    "Now to make a new dataframe where each row represents a paragraph (segment).\n",
    "\n",
    "First I will get this to work for a single policy. Then I will loop through all the policies to apply the same manipulation."
   ]
  },
  {
   "cell_type": "code",
   "execution_count": 25,
   "id": "35873f3a",
   "metadata": {},
   "outputs": [],
   "source": [
    "def generate_segment_df(all_policies_df):\n",
    "    \n",
    "    # First create this for a single policy. Then loop through all the policies to apply the same manipulation.\n",
    "    initial_segment = all_policies_df.loc[0,\"segments\"]\n",
    "    initial_segment_df = json_normalize(initial_segment) # normalise it\n",
    "    initial_segment_df.set_index('segment_id', inplace=True)\n",
    "    initial_segment_df[\"source_policy_number\"] = all_policies_df.loc[0,\"policy_id\"]\n",
    "\n",
    "    segment_df = initial_segment_df\n",
    "    \n",
    "    for i in all_policies_df.index:\n",
    "        \n",
    "        this_segment = all_policies_df.loc[i,\"segments\"]\n",
    "        this_segment_df = json_normalize(this_segment) # normalise it\n",
    "        this_segment_df.set_index('segment_id', inplace=True)\n",
    "        this_segment_df[\"source_policy_number\"] = all_policies_df.loc[i,\"policy_id\"]\n",
    "\n",
    "        segment_df = pd.concat( [segment_df, this_segment_df], axis=0 ) \n",
    "    \n",
    "    segment_df['policy_segment_id'] = segment_df.index\n",
    "    segment_df.reset_index(drop=True, inplace=True)\n",
    "    segment_df.index.names = ['segment_id']\n",
    "    segment_df = segment_df[['source_policy_number', 'policy_segment_id', 'segment_text', 'annotations', 'sentences']]\n",
    "    \n",
    "    return segment_df"
   ]
  },
  {
   "cell_type": "code",
   "execution_count": 24,
   "id": "0c936160",
   "metadata": {
    "scrolled": false
   },
   "outputs": [
    {
     "data": {
      "text/html": [
       "<div>\n",
       "<style scoped>\n",
       "    .dataframe tbody tr th:only-of-type {\n",
       "        vertical-align: middle;\n",
       "    }\n",
       "\n",
       "    .dataframe tbody tr th {\n",
       "        vertical-align: top;\n",
       "    }\n",
       "\n",
       "    .dataframe thead th {\n",
       "        text-align: right;\n",
       "    }\n",
       "</style>\n",
       "<table border=\"1\" class=\"dataframe\">\n",
       "  <thead>\n",
       "    <tr style=\"text-align: right;\">\n",
       "      <th></th>\n",
       "      <th>source_policy_number</th>\n",
       "      <th>policy_segment_id</th>\n",
       "      <th>segment_text</th>\n",
       "      <th>annotations</th>\n",
       "      <th>sentences</th>\n",
       "    </tr>\n",
       "    <tr>\n",
       "      <th>segment_id</th>\n",
       "      <th></th>\n",
       "      <th></th>\n",
       "      <th></th>\n",
       "      <th></th>\n",
       "      <th></th>\n",
       "    </tr>\n",
       "  </thead>\n",
       "  <tbody>\n",
       "    <tr>\n",
       "      <th>0</th>\n",
       "      <td>1</td>\n",
       "      <td>0</td>\n",
       "      <td>PRIVACY POLICY This privacy policy (hereafter ...</td>\n",
       "      <td>[]</td>\n",
       "      <td>[]</td>\n",
       "    </tr>\n",
       "    <tr>\n",
       "      <th>1</th>\n",
       "      <td>1</td>\n",
       "      <td>1</td>\n",
       "      <td>1. ABOUT OUR PRODUCTS 1.1 Our products offer a...</td>\n",
       "      <td>[]</td>\n",
       "      <td>[]</td>\n",
       "    </tr>\n",
       "    <tr>\n",
       "      <th>2</th>\n",
       "      <td>1</td>\n",
       "      <td>2</td>\n",
       "      <td>2. THE INFORMATION WE COLLECT The information ...</td>\n",
       "      <td>[{'practice': 'Identifier_Cookie_or_similar_Te...</td>\n",
       "      <td>[{'sentence_text': 'IP ADDRESS, COOKIES, AND W...</td>\n",
       "    </tr>\n",
       "    <tr>\n",
       "      <th>3</th>\n",
       "      <td>1</td>\n",
       "      <td>3</td>\n",
       "      <td>2.2 In addition, we store certain information ...</td>\n",
       "      <td>[{'practice': 'Identifier_Cookie_or_similar_Te...</td>\n",
       "      <td>[{'sentence_text': '6677g may use cookies, web...</td>\n",
       "    </tr>\n",
       "    <tr>\n",
       "      <th>4</th>\n",
       "      <td>1</td>\n",
       "      <td>4</td>\n",
       "      <td>(c) to remember your preferences and registrat...</td>\n",
       "      <td>[]</td>\n",
       "      <td>[]</td>\n",
       "    </tr>\n",
       "  </tbody>\n",
       "</table>\n",
       "</div>"
      ],
      "text/plain": [
       "            source_policy_number  policy_segment_id  \\\n",
       "segment_id                                            \n",
       "0                              1                  0   \n",
       "1                              1                  1   \n",
       "2                              1                  2   \n",
       "3                              1                  3   \n",
       "4                              1                  4   \n",
       "\n",
       "                                                 segment_text  \\\n",
       "segment_id                                                      \n",
       "0           PRIVACY POLICY This privacy policy (hereafter ...   \n",
       "1           1. ABOUT OUR PRODUCTS 1.1 Our products offer a...   \n",
       "2           2. THE INFORMATION WE COLLECT The information ...   \n",
       "3           2.2 In addition, we store certain information ...   \n",
       "4           (c) to remember your preferences and registrat...   \n",
       "\n",
       "                                                  annotations  \\\n",
       "segment_id                                                      \n",
       "0                                                          []   \n",
       "1                                                          []   \n",
       "2           [{'practice': 'Identifier_Cookie_or_similar_Te...   \n",
       "3           [{'practice': 'Identifier_Cookie_or_similar_Te...   \n",
       "4                                                          []   \n",
       "\n",
       "                                                    sentences  \n",
       "segment_id                                                     \n",
       "0                                                          []  \n",
       "1                                                          []  \n",
       "2           [{'sentence_text': 'IP ADDRESS, COOKIES, AND W...  \n",
       "3           [{'sentence_text': '6677g may use cookies, web...  \n",
       "4                                                          []  "
      ]
     },
     "execution_count": 24,
     "metadata": {},
     "output_type": "execute_result"
    }
   ],
   "source": [
    "all_segments_df = generate_segment_df(all_policies_df)\n",
    "all_segments_df.head()"
   ]
  },
  {
   "cell_type": "code",
   "execution_count": 28,
   "id": "fd922f90",
   "metadata": {},
   "outputs": [
    {
     "data": {
      "text/plain": [
       "(15543, 5)"
      ]
     },
     "execution_count": 28,
     "metadata": {},
     "output_type": "execute_result"
    }
   ],
   "source": [
    "segment_df.shape"
   ]
  },
  {
   "cell_type": "code",
   "execution_count": 30,
   "id": "f736bc2e",
   "metadata": {},
   "outputs": [
    {
     "name": "stdout",
     "output_type": "stream",
     "text": [
      "<class 'pandas.core.frame.DataFrame'>\n",
      "RangeIndex: 15543 entries, 0 to 15542\n",
      "Data columns (total 5 columns):\n",
      " #   Column                Non-Null Count  Dtype \n",
      "---  ------                --------------  ----- \n",
      " 0   source_policy_number  15543 non-null  int64 \n",
      " 1   policy_segment_id     15543 non-null  int64 \n",
      " 2   segment_text          15543 non-null  object\n",
      " 3   annotations           15543 non-null  object\n",
      " 4   sentences             15543 non-null  object\n",
      "dtypes: int64(2), object(3)\n",
      "memory usage: 607.3+ KB\n"
     ]
    }
   ],
   "source": [
    "segment_df.info()"
   ]
  },
  {
   "cell_type": "markdown",
   "id": "817ac65c",
   "metadata": {},
   "source": [
    "# Next step of extraction"
   ]
  },
  {
   "cell_type": "code",
   "execution_count": 35,
   "id": "9615cce6",
   "metadata": {},
   "outputs": [
    {
     "data": {
      "text/plain": [
       "source_policy_number                                                    1\n",
       "policy_segment_id                                                       2\n",
       "segment_text            2. THE INFORMATION WE COLLECT The information ...\n",
       "annotations             [{'practice': 'Identifier_Cookie_or_similar_Te...\n",
       "sentences               [{'sentence_text': 'IP ADDRESS, COOKIES, AND W...\n",
       "Name: 2, dtype: object"
      ]
     },
     "execution_count": 35,
     "metadata": {},
     "output_type": "execute_result"
    }
   ],
   "source": [
    "all_segments_df.loc[2,:]"
   ]
  },
  {
   "cell_type": "code",
   "execution_count": 29,
   "id": "fb72a39a",
   "metadata": {},
   "outputs": [
    {
     "data": {
      "text/plain": [
       "\"2. THE INFORMATION WE COLLECT The information that our products collect includes (among others) the following: A) IP ADDRESS, COOKIES, AND WEB BEACONS 2.1 When you visit our products, our servers automatically save your computer's IP address. IP addresses will be collected, along with information about the actual web pages that you visit on our products. If you arrive at our products via a link from another product, the URL of the linking product and the URL of any product that you link to next will also be collected.\""
      ]
     },
     "execution_count": 29,
     "metadata": {},
     "output_type": "execute_result"
    }
   ],
   "source": [
    "all_segments_df.loc[2, 'segment_text']"
   ]
  },
  {
   "cell_type": "code",
   "execution_count": 36,
   "id": "8e4f3bfa",
   "metadata": {},
   "outputs": [
    {
     "data": {
      "text/plain": [
       "[{'practice': 'Identifier_Cookie_or_similar_Tech_1stParty',\n",
       "  'modality': 'PERFORMED'},\n",
       " {'practice': 'Identifier_IP_Address_1stParty', 'modality': 'PERFORMED'}]"
      ]
     },
     "execution_count": 36,
     "metadata": {},
     "output_type": "execute_result"
    }
   ],
   "source": [
    "all_segments_df.loc[2, 'annotations']"
   ]
  },
  {
   "cell_type": "code",
   "execution_count": 37,
   "id": "9c662776",
   "metadata": {},
   "outputs": [
    {
     "data": {
      "text/plain": [
       "[{'sentence_text': 'IP ADDRESS, COOKIES, AND WEB BEACONS',\n",
       "  'annotations': [{'practice': 'Identifier_Cookie_or_similar_Tech_1stParty',\n",
       "    'modality': 'PERFORMED'},\n",
       "   {'practice': 'Identifier_IP_Address_1stParty', 'modality': 'PERFORMED'}]},\n",
       " {'sentence_text': 'IP addresses will be collected, along with information about the actual web pages that you visit on our products.',\n",
       "  'annotations': [{'practice': 'Identifier_IP_Address_1stParty',\n",
       "    'modality': 'PERFORMED'}]},\n",
       " {'sentence_text': 'The information that our products collect includes (among others) the following:',\n",
       "  'annotations': [{'practice': 'Identifier_Cookie_or_similar_Tech_1stParty',\n",
       "    'modality': 'PERFORMED'},\n",
       "   {'practice': 'Identifier_IP_Address_1stParty', 'modality': 'PERFORMED'}]},\n",
       " {'sentence_text': \"When you visit our products, our servers automatically save your computer's IP address.\",\n",
       "  'annotations': [{'practice': 'Identifier_IP_Address_1stParty',\n",
       "    'modality': 'PERFORMED'}]}]"
      ]
     },
     "execution_count": 37,
     "metadata": {},
     "output_type": "execute_result"
    }
   ],
   "source": [
    "all_segments_df.loc[2, 'sentences']"
   ]
  },
  {
   "cell_type": "code",
   "execution_count": 38,
   "id": "5f4d8948",
   "metadata": {},
   "outputs": [
    {
     "data": {
      "text/plain": [
       "'2.2 In addition, we store certain information from your browser, using \"cookies.\" A cookie is a piece of data stored on the user\\'s computer and is tied to information about the user. 6677g may use cookies, web beacons (web bugs), or similar technologies to enhance and personalize your experience on our products, including the following: (a) to operate and improve offerings on our products; (b) to help authenticate you when you are on our products;'"
      ]
     },
     "execution_count": 38,
     "metadata": {},
     "output_type": "execute_result"
    }
   ],
   "source": [
    "all_segments_df.loc[3, 'segment_text']"
   ]
  },
  {
   "cell_type": "code",
   "execution_count": 39,
   "id": "3a1edebb",
   "metadata": {},
   "outputs": [
    {
     "data": {
      "text/plain": [
       "'(c) to remember your preferences and registration information, as applicable;'"
      ]
     },
     "execution_count": 39,
     "metadata": {},
     "output_type": "execute_result"
    }
   ],
   "source": [
    "all_segments_df.loc[4, 'segment_text']"
   ]
  },
  {
   "cell_type": "code",
   "execution_count": 40,
   "id": "8a0c85ed",
   "metadata": {},
   "outputs": [
    {
     "data": {
      "text/plain": [
       "'(d) to present and help measure and research the effectiveness of 6677g offerings, advertisements, and email communications; and'"
      ]
     },
     "execution_count": 40,
     "metadata": {},
     "output_type": "execute_result"
    }
   ],
   "source": [
    "all_segments_df.loc[5, 'segment_text']"
   ]
  },
  {
   "cell_type": "code",
   "execution_count": 41,
   "id": "c7259779",
   "metadata": {},
   "outputs": [
    {
     "data": {
      "text/plain": [
       "'(e) to customize the content and advertisements provided to you through our products.'"
      ]
     },
     "execution_count": 41,
     "metadata": {},
     "output_type": "execute_result"
    }
   ],
   "source": [
    "all_segments_df.loc[6, 'segment_text']"
   ]
  },
  {
   "cell_type": "code",
   "execution_count": 42,
   "id": "5b085dca",
   "metadata": {},
   "outputs": [
    {
     "data": {
      "text/plain": [
       "'2.3 6677g may also use ad network providers to help present advertisements on our products. These ad network providers use cookies, web beacons, or similar technologies to help the presenting, better targeting, and measuring of the effectiveness of their advertisements, using data gathered over time and across their networks of web pages to determine or predict the characteristics and preferences of their audiences. 6677g offers some services in connection with other products. Personal information that you provide to those sites may be sent to 6677g in order to deliver these services. 6677g processes such information in accordance with this Privacy Policy.'"
      ]
     },
     "execution_count": 42,
     "metadata": {},
     "output_type": "execute_result"
    }
   ],
   "source": [
    "all_segments_df.loc[7, 'segment_text']"
   ]
  },
  {
   "cell_type": "markdown",
   "id": "53abaef1",
   "metadata": {},
   "source": [
    "I probably want to separate it out to the sentence level, as that is the max granularity of the annotations and some paragraphs are just one sentence anyway."
   ]
  },
  {
   "cell_type": "markdown",
   "id": "3cbcd6db",
   "metadata": {},
   "source": [
    "## Demo EDA"
   ]
  },
  {
   "cell_type": "code",
   "execution_count": null,
   "id": "14e85cee",
   "metadata": {},
   "outputs": [],
   "source": []
  }
 ],
 "metadata": {
  "kernelspec": {
   "display_name": "Python 3 (ipykernel)",
   "language": "python",
   "name": "python3"
  },
  "language_info": {
   "codemirror_mode": {
    "name": "ipython",
    "version": 3
   },
   "file_extension": ".py",
   "mimetype": "text/x-python",
   "name": "python",
   "nbconvert_exporter": "python",
   "pygments_lexer": "ipython3",
   "version": "3.9.12"
  },
  "toc": {
   "base_numbering": 1,
   "nav_menu": {},
   "number_sections": true,
   "sideBar": true,
   "skip_h1_title": false,
   "title_cell": "Table of Contents",
   "title_sidebar": "Contents",
   "toc_cell": false,
   "toc_position": {},
   "toc_section_display": true,
   "toc_window_display": false
  }
 },
 "nbformat": 4,
 "nbformat_minor": 5
}
