{
 "cells": [
  {
   "cell_type": "markdown",
   "id": "816694eb",
   "metadata": {},
   "source": [
    "EDA should be in the context of my data.  I should state what I expect BEFORE checking for it in the data.\n",
    "\n",
    "Also at the top I can include links, context, goals"
   ]
  },
  {
   "cell_type": "code",
   "execution_count": 1,
   "id": "09c92c4c",
   "metadata": {},
   "outputs": [],
   "source": [
    "import pandas as pd\n",
    "from pandas import json_normalize\n",
    "import numpy as np\n",
    "import matplotlib.pyplot as plt\n",
    "%matplotlib inline\n",
    "\n",
    "import seaborn as sns\n",
    "from scipy import stats\n",
    "from scipy.stats import norm\n",
    "import statsmodels.api as sm\n",
    "import yaml\n",
    "import ds_utils_callum\n",
    "import sys\n",
    "from collections import defaultdict\n",
    "from collections import Counter"
   ]
  },
  {
   "cell_type": "markdown",
   "id": "b562041b",
   "metadata": {},
   "source": [
    "Put the first policy into a df"
   ]
  },
  {
   "cell_type": "code",
   "execution_count": 2,
   "id": "0a8eda68",
   "metadata": {},
   "outputs": [],
   "source": [
    "with open(\"APP_350_v1_1/annotations/policy_1.yml\", \"r\") as stream:\n",
    "    try:\n",
    "        doc_df = (json_normalize(yaml.safe_load(stream)))\n",
    "    except yaml.YAMLError as exc:\n",
    "        print(exc)"
   ]
  },
  {
   "cell_type": "code",
   "execution_count": 3,
   "id": "400a8a61",
   "metadata": {},
   "outputs": [
    {
     "data": {
      "text/html": [
       "<div>\n",
       "<style scoped>\n",
       "    .dataframe tbody tr th:only-of-type {\n",
       "        vertical-align: middle;\n",
       "    }\n",
       "\n",
       "    .dataframe tbody tr th {\n",
       "        vertical-align: top;\n",
       "    }\n",
       "\n",
       "    .dataframe thead th {\n",
       "        text-align: right;\n",
       "    }\n",
       "</style>\n",
       "<table border=\"1\" class=\"dataframe\">\n",
       "  <thead>\n",
       "    <tr style=\"text-align: right;\">\n",
       "      <th></th>\n",
       "      <th>policy_id</th>\n",
       "      <th>policy_name</th>\n",
       "      <th>policy_type</th>\n",
       "      <th>contains_synthetic</th>\n",
       "      <th>segments</th>\n",
       "    </tr>\n",
       "  </thead>\n",
       "  <tbody>\n",
       "    <tr>\n",
       "      <th>0</th>\n",
       "      <td>1</td>\n",
       "      <td>6677G</td>\n",
       "      <td>TEST</td>\n",
       "      <td>False</td>\n",
       "      <td>[{'segment_id': 0, 'segment_text': 'PRIVACY PO...</td>\n",
       "    </tr>\n",
       "  </tbody>\n",
       "</table>\n",
       "</div>"
      ],
      "text/plain": [
       "   policy_id policy_name policy_type  contains_synthetic  \\\n",
       "0          1       6677G        TEST               False   \n",
       "\n",
       "                                            segments  \n",
       "0  [{'segment_id': 0, 'segment_text': 'PRIVACY PO...  "
      ]
     },
     "execution_count": 3,
     "metadata": {},
     "output_type": "execute_result"
    }
   ],
   "source": [
    "doc_df"
   ]
  },
  {
   "cell_type": "markdown",
   "id": "58c6f584",
   "metadata": {},
   "source": [
    "Put all the locations of the policy files in a list"
   ]
  },
  {
   "cell_type": "code",
   "execution_count": 4,
   "id": "0487b9e3",
   "metadata": {},
   "outputs": [
    {
     "name": "stdout",
     "output_type": "stream",
     "text": [
      "349\n",
      "APP_350_v1_1/annotations/policy_2.yml\n",
      "APP_350_v1_1/annotations/policy_350.yml\n"
     ]
    }
   ],
   "source": [
    "full_doc_list = [f\"APP_350_v1_1/annotations/policy_{num}.yml\" for num in range(2,351)]\n",
    "print(len(full_doc_list))\n",
    "print(full_doc_list[0])\n",
    "print(full_doc_list[348])"
   ]
  },
  {
   "cell_type": "markdown",
   "id": "b8d5b433",
   "metadata": {},
   "source": [
    "Loop through all the policy file addresses, normalise it and add it to the bottom of `doc_df`"
   ]
  },
  {
   "cell_type": "code",
   "execution_count": 5,
   "id": "e44577eb",
   "metadata": {},
   "outputs": [],
   "source": [
    "for document in full_doc_list:\n",
    "    with open(document, \"r\") as stream:\n",
    "        try:\n",
    "            current_df_policy_info = (json_normalize(yaml.safe_load(stream)))\n",
    "            doc_df = pd.concat([doc_df, current_df_policy_info], axis=0)\n",
    "        except yaml.YAMLError as exc:\n",
    "            print(exc)"
   ]
  },
  {
   "cell_type": "markdown",
   "id": "09b1e0aa",
   "metadata": {},
   "source": [
    "Saving the DF so that I can more quickly load it in the future:"
   ]
  },
  {
   "cell_type": "code",
   "execution_count": 6,
   "id": "4e1ca705",
   "metadata": {},
   "outputs": [],
   "source": [
    "# doc_df.to_csv('data/loaded_df.csv', sep ='\\t')\n",
    "# Not functional at the moment"
   ]
  },
  {
   "cell_type": "code",
   "execution_count": 7,
   "id": "76ff7150",
   "metadata": {},
   "outputs": [],
   "source": [
    "# doc_df = pd.read_csv('data/loaded_df.csv', index_col=0, delimiter=\"\\t\")\n",
    "# df.head(3)\n",
    "# Add validation to ensure the data was maintained properly"
   ]
  },
  {
   "cell_type": "markdown",
   "id": "eba67611",
   "metadata": {},
   "source": [
    "This gives a basic df with basic info about the policy. The content and annotations are embedded in column \"`segments`\"."
   ]
  },
  {
   "cell_type": "code",
   "execution_count": 8,
   "id": "584fa49b",
   "metadata": {
    "scrolled": true
   },
   "outputs": [
    {
     "data": {
      "text/html": [
       "<div>\n",
       "<style scoped>\n",
       "    .dataframe tbody tr th:only-of-type {\n",
       "        vertical-align: middle;\n",
       "    }\n",
       "\n",
       "    .dataframe tbody tr th {\n",
       "        vertical-align: top;\n",
       "    }\n",
       "\n",
       "    .dataframe thead th {\n",
       "        text-align: right;\n",
       "    }\n",
       "</style>\n",
       "<table border=\"1\" class=\"dataframe\">\n",
       "  <thead>\n",
       "    <tr style=\"text-align: right;\">\n",
       "      <th></th>\n",
       "      <th>policy_id</th>\n",
       "      <th>policy_name</th>\n",
       "      <th>policy_type</th>\n",
       "      <th>contains_synthetic</th>\n",
       "      <th>segments</th>\n",
       "    </tr>\n",
       "  </thead>\n",
       "  <tbody>\n",
       "    <tr>\n",
       "      <th>0</th>\n",
       "      <td>1</td>\n",
       "      <td>6677G</td>\n",
       "      <td>TEST</td>\n",
       "      <td>False</td>\n",
       "      <td>[{'segment_id': 0, 'segment_text': 'PRIVACY PO...</td>\n",
       "    </tr>\n",
       "    <tr>\n",
       "      <th>0</th>\n",
       "      <td>2</td>\n",
       "      <td>AIFactory</td>\n",
       "      <td>TEST</td>\n",
       "      <td>False</td>\n",
       "      <td>[{'segment_id': 0, 'segment_text': 'AI Factory...</td>\n",
       "    </tr>\n",
       "    <tr>\n",
       "      <th>0</th>\n",
       "      <td>3</td>\n",
       "      <td>AppliqatoSoftware</td>\n",
       "      <td>TEST</td>\n",
       "      <td>False</td>\n",
       "      <td>[{'segment_id': 0, 'segment_text': 'Automatic ...</td>\n",
       "    </tr>\n",
       "    <tr>\n",
       "      <th>0</th>\n",
       "      <td>4</td>\n",
       "      <td>BandaiNamco</td>\n",
       "      <td>TEST</td>\n",
       "      <td>False</td>\n",
       "      <td>[{'segment_id': 0, 'segment_text': 'MOBILE APP...</td>\n",
       "    </tr>\n",
       "    <tr>\n",
       "      <th>0</th>\n",
       "      <td>5</td>\n",
       "      <td>BarcodeScanner</td>\n",
       "      <td>TEST</td>\n",
       "      <td>False</td>\n",
       "      <td>[{'segment_id': 0, 'segment_text': 'Skip to co...</td>\n",
       "    </tr>\n",
       "    <tr>\n",
       "      <th>...</th>\n",
       "      <td>...</td>\n",
       "      <td>...</td>\n",
       "      <td>...</td>\n",
       "      <td>...</td>\n",
       "      <td>...</td>\n",
       "    </tr>\n",
       "    <tr>\n",
       "      <th>0</th>\n",
       "      <td>346</td>\n",
       "      <td>Yahoo</td>\n",
       "      <td>TRAINING</td>\n",
       "      <td>True</td>\n",
       "      <td>[{'segment_id': 0, 'segment_text': '⌂Home Mail...</td>\n",
       "    </tr>\n",
       "    <tr>\n",
       "      <th>0</th>\n",
       "      <td>347</td>\n",
       "      <td>YouVersion</td>\n",
       "      <td>TRAINING</td>\n",
       "      <td>True</td>\n",
       "      <td>[{'segment_id': 0, 'segment_text': 'Videos Sig...</td>\n",
       "    </tr>\n",
       "    <tr>\n",
       "      <th>0</th>\n",
       "      <td>348</td>\n",
       "      <td>Zedge</td>\n",
       "      <td>TRAINING</td>\n",
       "      <td>True</td>\n",
       "      <td>[{'segment_id': 0, 'segment_text': 'Privacy Po...</td>\n",
       "    </tr>\n",
       "    <tr>\n",
       "      <th>0</th>\n",
       "      <td>349</td>\n",
       "      <td>Zello</td>\n",
       "      <td>TRAINING</td>\n",
       "      <td>True</td>\n",
       "      <td>[{'segment_id': 0, 'segment_text': 'Support Si...</td>\n",
       "    </tr>\n",
       "    <tr>\n",
       "      <th>0</th>\n",
       "      <td>350</td>\n",
       "      <td>Zynga</td>\n",
       "      <td>TRAINING</td>\n",
       "      <td>True</td>\n",
       "      <td>[{'segment_id': 0, 'segment_text': 'Navigation...</td>\n",
       "    </tr>\n",
       "  </tbody>\n",
       "</table>\n",
       "<p>350 rows × 5 columns</p>\n",
       "</div>"
      ],
      "text/plain": [
       "    policy_id        policy_name policy_type  contains_synthetic  \\\n",
       "0           1              6677G        TEST               False   \n",
       "0           2          AIFactory        TEST               False   \n",
       "0           3  AppliqatoSoftware        TEST               False   \n",
       "0           4        BandaiNamco        TEST               False   \n",
       "0           5     BarcodeScanner        TEST               False   \n",
       "..        ...                ...         ...                 ...   \n",
       "0         346              Yahoo    TRAINING                True   \n",
       "0         347         YouVersion    TRAINING                True   \n",
       "0         348              Zedge    TRAINING                True   \n",
       "0         349              Zello    TRAINING                True   \n",
       "0         350              Zynga    TRAINING                True   \n",
       "\n",
       "                                             segments  \n",
       "0   [{'segment_id': 0, 'segment_text': 'PRIVACY PO...  \n",
       "0   [{'segment_id': 0, 'segment_text': 'AI Factory...  \n",
       "0   [{'segment_id': 0, 'segment_text': 'Automatic ...  \n",
       "0   [{'segment_id': 0, 'segment_text': 'MOBILE APP...  \n",
       "0   [{'segment_id': 0, 'segment_text': 'Skip to co...  \n",
       "..                                                ...  \n",
       "0   [{'segment_id': 0, 'segment_text': '⌂Home Mail...  \n",
       "0   [{'segment_id': 0, 'segment_text': 'Videos Sig...  \n",
       "0   [{'segment_id': 0, 'segment_text': 'Privacy Po...  \n",
       "0   [{'segment_id': 0, 'segment_text': 'Support Si...  \n",
       "0   [{'segment_id': 0, 'segment_text': 'Navigation...  \n",
       "\n",
       "[350 rows x 5 columns]"
      ]
     },
     "execution_count": 8,
     "metadata": {},
     "output_type": "execute_result"
    }
   ],
   "source": [
    "doc_df"
   ]
  },
  {
   "cell_type": "code",
   "execution_count": 9,
   "id": "9cee8fb5",
   "metadata": {},
   "outputs": [
    {
     "name": "stdout",
     "output_type": "stream",
     "text": [
      "0.1982 MB\n"
     ]
    }
   ],
   "source": [
    "print(f\"{round(sys.getsizeof(doc_df)/(1e6),4)} MB\")"
   ]
  },
  {
   "cell_type": "code",
   "execution_count": 10,
   "id": "cdf58502",
   "metadata": {},
   "outputs": [
    {
     "data": {
      "text/plain": [
       "0     36\n",
       "0     14\n",
       "0      8\n",
       "0     57\n",
       "0     32\n",
       "    ... \n",
       "0     18\n",
       "0     19\n",
       "0     40\n",
       "0     14\n",
       "0    102\n",
       "Name: segments, Length: 350, dtype: int64"
      ]
     },
     "execution_count": 10,
     "metadata": {},
     "output_type": "execute_result"
    }
   ],
   "source": [
    "doc_df['segments'].str.len()"
   ]
  },
  {
   "cell_type": "code",
   "execution_count": 11,
   "id": "74d32340",
   "metadata": {},
   "outputs": [],
   "source": [
    "doc_df.reset_index(drop=True, inplace=True)"
   ]
  },
  {
   "cell_type": "code",
   "execution_count": 12,
   "id": "7933cc2d",
   "metadata": {},
   "outputs": [
    {
     "data": {
      "text/html": [
       "<div>\n",
       "<style scoped>\n",
       "    .dataframe tbody tr th:only-of-type {\n",
       "        vertical-align: middle;\n",
       "    }\n",
       "\n",
       "    .dataframe tbody tr th {\n",
       "        vertical-align: top;\n",
       "    }\n",
       "\n",
       "    .dataframe thead th {\n",
       "        text-align: right;\n",
       "    }\n",
       "</style>\n",
       "<table border=\"1\" class=\"dataframe\">\n",
       "  <thead>\n",
       "    <tr style=\"text-align: right;\">\n",
       "      <th></th>\n",
       "      <th>policy_id</th>\n",
       "      <th>policy_name</th>\n",
       "      <th>policy_type</th>\n",
       "      <th>contains_synthetic</th>\n",
       "      <th>segments</th>\n",
       "    </tr>\n",
       "  </thead>\n",
       "  <tbody>\n",
       "    <tr>\n",
       "      <th>0</th>\n",
       "      <td>1</td>\n",
       "      <td>6677G</td>\n",
       "      <td>TEST</td>\n",
       "      <td>False</td>\n",
       "      <td>[{'segment_id': 0, 'segment_text': 'PRIVACY PO...</td>\n",
       "    </tr>\n",
       "    <tr>\n",
       "      <th>1</th>\n",
       "      <td>2</td>\n",
       "      <td>AIFactory</td>\n",
       "      <td>TEST</td>\n",
       "      <td>False</td>\n",
       "      <td>[{'segment_id': 0, 'segment_text': 'AI Factory...</td>\n",
       "    </tr>\n",
       "    <tr>\n",
       "      <th>2</th>\n",
       "      <td>3</td>\n",
       "      <td>AppliqatoSoftware</td>\n",
       "      <td>TEST</td>\n",
       "      <td>False</td>\n",
       "      <td>[{'segment_id': 0, 'segment_text': 'Automatic ...</td>\n",
       "    </tr>\n",
       "  </tbody>\n",
       "</table>\n",
       "</div>"
      ],
      "text/plain": [
       "   policy_id        policy_name policy_type  contains_synthetic  \\\n",
       "0          1              6677G        TEST               False   \n",
       "1          2          AIFactory        TEST               False   \n",
       "2          3  AppliqatoSoftware        TEST               False   \n",
       "\n",
       "                                            segments  \n",
       "0  [{'segment_id': 0, 'segment_text': 'PRIVACY PO...  \n",
       "1  [{'segment_id': 0, 'segment_text': 'AI Factory...  \n",
       "2  [{'segment_id': 0, 'segment_text': 'Automatic ...  "
      ]
     },
     "execution_count": 12,
     "metadata": {},
     "output_type": "execute_result"
    }
   ],
   "source": [
    "doc_df.head(3)"
   ]
  },
  {
   "cell_type": "code",
   "execution_count": 13,
   "id": "e9e0fe2f",
   "metadata": {},
   "outputs": [
    {
     "name": "stdout",
     "output_type": "stream",
     "text": [
      "<class 'pandas.core.frame.DataFrame'>\n",
      "RangeIndex: 350 entries, 0 to 349\n",
      "Data columns (total 5 columns):\n",
      " #   Column              Non-Null Count  Dtype \n",
      "---  ------              --------------  ----- \n",
      " 0   policy_id           350 non-null    int64 \n",
      " 1   policy_name         350 non-null    object\n",
      " 2   policy_type         350 non-null    object\n",
      " 3   contains_synthetic  350 non-null    bool  \n",
      " 4   segments            350 non-null    object\n",
      "dtypes: bool(1), int64(1), object(3)\n",
      "memory usage: 11.4+ KB\n"
     ]
    }
   ],
   "source": [
    "doc_df.info()"
   ]
  },
  {
   "cell_type": "markdown",
   "id": "64021a4a",
   "metadata": {},
   "source": [
    "All policies were pulled through.  The data types are appropriate.  "
   ]
  },
  {
   "cell_type": "code",
   "execution_count": 14,
   "id": "9c79b30c",
   "metadata": {},
   "outputs": [
    {
     "data": {
      "text/plain": [
       "TRAINING      188\n",
       "TEST          100\n",
       "VALIDATION     62\n",
       "Name: policy_type, dtype: int64"
      ]
     },
     "execution_count": 14,
     "metadata": {},
     "output_type": "execute_result"
    }
   ],
   "source": [
    "# How many policies are train, test and validate?\n",
    "doc_df[\"policy_type\"].value_counts()"
   ]
  },
  {
   "cell_type": "code",
   "execution_count": 15,
   "id": "569d2e2a",
   "metadata": {},
   "outputs": [
    {
     "data": {
      "text/plain": [
       "False    208\n",
       "True     142\n",
       "Name: contains_synthetic, dtype: int64"
      ]
     },
     "execution_count": 15,
     "metadata": {},
     "output_type": "execute_result"
    }
   ],
   "source": [
    "# How many policies contain synthetic data?\n",
    "doc_df[\"contains_synthetic\"].value_counts()"
   ]
  },
  {
   "cell_type": "code",
   "execution_count": 16,
   "id": "42d5b2e4",
   "metadata": {},
   "outputs": [
    {
     "data": {
      "text/html": [
       "<div>\n",
       "<style scoped>\n",
       "    .dataframe tbody tr th:only-of-type {\n",
       "        vertical-align: middle;\n",
       "    }\n",
       "\n",
       "    .dataframe tbody tr th {\n",
       "        vertical-align: top;\n",
       "    }\n",
       "\n",
       "    .dataframe thead th {\n",
       "        text-align: right;\n",
       "    }\n",
       "</style>\n",
       "<table border=\"1\" class=\"dataframe\">\n",
       "  <thead>\n",
       "    <tr style=\"text-align: right;\">\n",
       "      <th>contains_synthetic</th>\n",
       "      <th>False</th>\n",
       "      <th>True</th>\n",
       "    </tr>\n",
       "    <tr>\n",
       "      <th>policy_type</th>\n",
       "      <th></th>\n",
       "      <th></th>\n",
       "    </tr>\n",
       "  </thead>\n",
       "  <tbody>\n",
       "    <tr>\n",
       "      <th>TEST</th>\n",
       "      <td>100.0</td>\n",
       "      <td>NaN</td>\n",
       "    </tr>\n",
       "    <tr>\n",
       "      <th>TRAINING</th>\n",
       "      <td>82.0</td>\n",
       "      <td>106.0</td>\n",
       "    </tr>\n",
       "    <tr>\n",
       "      <th>VALIDATION</th>\n",
       "      <td>26.0</td>\n",
       "      <td>36.0</td>\n",
       "    </tr>\n",
       "  </tbody>\n",
       "</table>\n",
       "</div>"
      ],
      "text/plain": [
       "contains_synthetic  False   True\n",
       "policy_type                     \n",
       "TEST                100.0    NaN\n",
       "TRAINING             82.0  106.0\n",
       "VALIDATION           26.0   36.0"
      ]
     },
     "execution_count": 16,
     "metadata": {},
     "output_type": "execute_result"
    }
   ],
   "source": [
    "# How is the synthetic data spread throughout the Train, Test and Validate policies?\n",
    "type_synthetic_dist = doc_df[[\"policy_type\", \"contains_synthetic\"]].value_counts().unstack()\n",
    "type_synthetic_dist# re-order somehow?"
   ]
  },
  {
   "cell_type": "markdown",
   "id": "061870d5",
   "metadata": {},
   "source": [
    "Of the data used for training, slightly more of it has synthetic information.  None of the test data has synthetic values, which makes sense because we need to train on real data.\n",
    "\n",
    "I don't know what the Validation data is yet."
   ]
  },
  {
   "cell_type": "code",
   "execution_count": 17,
   "id": "151cd5d5",
   "metadata": {
    "scrolled": true
   },
   "outputs": [
    {
     "data": {
      "image/png": "[encoded data removed]",
      "text/plain": [
       "<Figure size 480x300 with 1 Axes>"
      ]
     },
     "metadata": {},
     "output_type": "display_data"
    }
   ],
   "source": [
    "plt.rcParams['figure.dpi'] = 150\n",
    "plt.rcParams['figure.figsize'] = (3.2, 2)\n",
    "# set the font name for a font family\n",
    "#     plt.rcParams.update({'font.sans-serif':'Helvetica'})\n",
    "sns.set(style=\"whitegrid\")\n",
    "type_synthetic_dist.sort_values([1]).plot(kind=\"bar\", stacked=True, color=['#003F5C', '#FFA600', '#BC5090']) #I think need more colours if more bars being added\n",
    "sns.despine(left=True) #de-spine, gets rid of the boarders\n",
    "plt.title(\"Not sure what would be the best graph type for this info. Contains Synthetic?\", size=10, color='#4F4E4E', fontweight=\"bold\") # Consistent style\n",
    "plt.xlabel('')\n",
    "plt.xticks(size=8, color='#4F4E4E', rotation=90)\n",
    "plt.yticks(size=8, color='#4F4E4E')\n",
    "plt.legend(bbox_to_anchor=(1.05, 1.0), loc='upper left')\n",
    "plt.show()"
   ]
  },
  {
   "cell_type": "markdown",
   "id": "91a814ec",
   "metadata": {},
   "source": [
    "## Adding some EDA info to doc_df"
   ]
  },
  {
   "cell_type": "code",
   "execution_count": 18,
   "id": "39872a7e",
   "metadata": {},
   "outputs": [],
   "source": [
    "doc_df[\"num_segments\"] = 0\n",
    "doc_df[\"num_annotated_segs\"] = 0\n",
    "doc_df[\"total_characters\"] = 0"
   ]
  },
  {
   "cell_type": "code",
   "execution_count": 19,
   "id": "77ff1491",
   "metadata": {},
   "outputs": [
    {
     "data": {
      "text/html": [
       "<div>\n",
       "<style scoped>\n",
       "    .dataframe tbody tr th:only-of-type {\n",
       "        vertical-align: middle;\n",
       "    }\n",
       "\n",
       "    .dataframe tbody tr th {\n",
       "        vertical-align: top;\n",
       "    }\n",
       "\n",
       "    .dataframe thead th {\n",
       "        text-align: right;\n",
       "    }\n",
       "</style>\n",
       "<table border=\"1\" class=\"dataframe\">\n",
       "  <thead>\n",
       "    <tr style=\"text-align: right;\">\n",
       "      <th></th>\n",
       "      <th>policy_id</th>\n",
       "      <th>policy_name</th>\n",
       "      <th>policy_type</th>\n",
       "      <th>contains_synthetic</th>\n",
       "      <th>segments</th>\n",
       "      <th>num_segments</th>\n",
       "      <th>num_annotated_segs</th>\n",
       "      <th>total_characters</th>\n",
       "    </tr>\n",
       "  </thead>\n",
       "  <tbody>\n",
       "    <tr>\n",
       "      <th>0</th>\n",
       "      <td>1</td>\n",
       "      <td>6677G</td>\n",
       "      <td>TEST</td>\n",
       "      <td>False</td>\n",
       "      <td>[{'segment_id': 0, 'segment_text': 'PRIVACY PO...</td>\n",
       "      <td>36</td>\n",
       "      <td>11</td>\n",
       "      <td>12703</td>\n",
       "    </tr>\n",
       "    <tr>\n",
       "      <th>1</th>\n",
       "      <td>2</td>\n",
       "      <td>AIFactory</td>\n",
       "      <td>TEST</td>\n",
       "      <td>False</td>\n",
       "      <td>[{'segment_id': 0, 'segment_text': 'AI Factory...</td>\n",
       "      <td>14</td>\n",
       "      <td>5</td>\n",
       "      <td>5995</td>\n",
       "    </tr>\n",
       "    <tr>\n",
       "      <th>2</th>\n",
       "      <td>3</td>\n",
       "      <td>AppliqatoSoftware</td>\n",
       "      <td>TEST</td>\n",
       "      <td>False</td>\n",
       "      <td>[{'segment_id': 0, 'segment_text': 'Automatic ...</td>\n",
       "      <td>8</td>\n",
       "      <td>1</td>\n",
       "      <td>2450</td>\n",
       "    </tr>\n",
       "  </tbody>\n",
       "</table>\n",
       "</div>"
      ],
      "text/plain": [
       "   policy_id        policy_name policy_type  contains_synthetic  \\\n",
       "0          1              6677G        TEST               False   \n",
       "1          2          AIFactory        TEST               False   \n",
       "2          3  AppliqatoSoftware        TEST               False   \n",
       "\n",
       "                                            segments  num_segments  \\\n",
       "0  [{'segment_id': 0, 'segment_text': 'PRIVACY PO...            36   \n",
       "1  [{'segment_id': 0, 'segment_text': 'AI Factory...            14   \n",
       "2  [{'segment_id': 0, 'segment_text': 'Automatic ...             8   \n",
       "\n",
       "   num_annotated_segs  total_characters  \n",
       "0                  11             12703  \n",
       "1                   5              5995  \n",
       "2                   1              2450  "
      ]
     },
     "execution_count": 19,
     "metadata": {},
     "output_type": "execute_result"
    }
   ],
   "source": [
    "for i in range(len(doc_df[\"segments\"])):\n",
    "    segment = doc_df.loc[i, \"segments\"] # grab the policy\n",
    "    policy_segment_df = json_normalize(segment) # normalise it\n",
    "    policy_segment_df.set_index('segment_id', inplace=True)\n",
    "    doc_df.loc[i, \"num_segments\"] = policy_segment_df[\"segment_text\"].count() # count the sentences and add to the main df\n",
    "    \n",
    "    policy_segment_df.loc[ policy_segment_df[\"annotations\"].str.len() == 0 , \"annotations\"] = None # clean the annotations column\n",
    "    doc_df.loc[i, \"num_annotated_segs\"] = policy_segment_df[\"annotations\"].count()\n",
    "\n",
    "    doc_df.loc[i, \"total_characters\"] = policy_segment_df[\"segment_text\"].str.len().sum()\n",
    "    \n",
    "doc_df.head(3)"
   ]
  },
  {
   "cell_type": "markdown",
   "id": "839b9e7c",
   "metadata": {},
   "source": [
    "Now to make a new dataframe where each row represents a paragraph (segment).\n",
    "\n",
    "First I will get this to work for a single policy. Then I will loop through all the policies to apply the same manipulation."
   ]
  },
  {
   "cell_type": "code",
   "execution_count": 20,
   "id": "c3f6dc4d",
   "metadata": {},
   "outputs": [
    {
     "data": {
      "text/html": [
       "<div>\n",
       "<style scoped>\n",
       "    .dataframe tbody tr th:only-of-type {\n",
       "        vertical-align: middle;\n",
       "    }\n",
       "\n",
       "    .dataframe tbody tr th {\n",
       "        vertical-align: top;\n",
       "    }\n",
       "\n",
       "    .dataframe thead th {\n",
       "        text-align: right;\n",
       "    }\n",
       "</style>\n",
       "<table border=\"1\" class=\"dataframe\">\n",
       "  <thead>\n",
       "    <tr style=\"text-align: right;\">\n",
       "      <th></th>\n",
       "      <th>segment_text</th>\n",
       "      <th>annotations</th>\n",
       "      <th>sentences</th>\n",
       "    </tr>\n",
       "    <tr>\n",
       "      <th>segment_id</th>\n",
       "      <th></th>\n",
       "      <th></th>\n",
       "      <th></th>\n",
       "    </tr>\n",
       "  </thead>\n",
       "  <tbody>\n",
       "    <tr>\n",
       "      <th>0</th>\n",
       "      <td>PRIVACY POLICY This privacy policy (hereafter ...</td>\n",
       "      <td>[]</td>\n",
       "      <td>[]</td>\n",
       "    </tr>\n",
       "    <tr>\n",
       "      <th>1</th>\n",
       "      <td>1. ABOUT OUR PRODUCTS 1.1 Our products offer a...</td>\n",
       "      <td>[]</td>\n",
       "      <td>[]</td>\n",
       "    </tr>\n",
       "    <tr>\n",
       "      <th>2</th>\n",
       "      <td>2. THE INFORMATION WE COLLECT The information ...</td>\n",
       "      <td>[{'practice': 'Identifier_Cookie_or_similar_Te...</td>\n",
       "      <td>[{'sentence_text': 'IP ADDRESS, COOKIES, AND W...</td>\n",
       "    </tr>\n",
       "    <tr>\n",
       "      <th>3</th>\n",
       "      <td>2.2 In addition, we store certain information ...</td>\n",
       "      <td>[{'practice': 'Identifier_Cookie_or_similar_Te...</td>\n",
       "      <td>[{'sentence_text': '6677g may use cookies, web...</td>\n",
       "    </tr>\n",
       "    <tr>\n",
       "      <th>4</th>\n",
       "      <td>(c) to remember your preferences and registrat...</td>\n",
       "      <td>[]</td>\n",
       "      <td>[]</td>\n",
       "    </tr>\n",
       "    <tr>\n",
       "      <th>5</th>\n",
       "      <td>(d) to present and help measure and research t...</td>\n",
       "      <td>[]</td>\n",
       "      <td>[]</td>\n",
       "    </tr>\n",
       "  </tbody>\n",
       "</table>\n",
       "</div>"
      ],
      "text/plain": [
       "                                                 segment_text  \\\n",
       "segment_id                                                      \n",
       "0           PRIVACY POLICY This privacy policy (hereafter ...   \n",
       "1           1. ABOUT OUR PRODUCTS 1.1 Our products offer a...   \n",
       "2           2. THE INFORMATION WE COLLECT The information ...   \n",
       "3           2.2 In addition, we store certain information ...   \n",
       "4           (c) to remember your preferences and registrat...   \n",
       "5           (d) to present and help measure and research t...   \n",
       "\n",
       "                                                  annotations  \\\n",
       "segment_id                                                      \n",
       "0                                                          []   \n",
       "1                                                          []   \n",
       "2           [{'practice': 'Identifier_Cookie_or_similar_Te...   \n",
       "3           [{'practice': 'Identifier_Cookie_or_similar_Te...   \n",
       "4                                                          []   \n",
       "5                                                          []   \n",
       "\n",
       "                                                    sentences  \n",
       "segment_id                                                     \n",
       "0                                                          []  \n",
       "1                                                          []  \n",
       "2           [{'sentence_text': 'IP ADDRESS, COOKIES, AND W...  \n",
       "3           [{'sentence_text': '6677g may use cookies, web...  \n",
       "4                                                          []  \n",
       "5                                                          []  "
      ]
     },
     "execution_count": 20,
     "metadata": {},
     "output_type": "execute_result"
    }
   ],
   "source": [
    "# \n",
    "a_segment = doc_df.loc[0,\"segments\"]\n",
    "a_segment_df = json_normalize(a_segment) # normalise it\n",
    "a_segment_df.set_index('segment_id', inplace=True)\n",
    "a_segment_df.loc[0:5,:]"
   ]
  },
  {
   "cell_type": "markdown",
   "id": "8f532d76",
   "metadata": {},
   "source": [
    "Getting close.  I want segment id,\tsegment text, and Source document id. So I just need to add Source document id, which I will have to pull from the higher-level dataframe from before \"doc_df\""
   ]
  },
  {
   "cell_type": "code",
   "execution_count": 21,
   "id": "c58cf5c9",
   "metadata": {},
   "outputs": [
    {
     "data": {
      "text/html": [
       "<div>\n",
       "<style scoped>\n",
       "    .dataframe tbody tr th:only-of-type {\n",
       "        vertical-align: middle;\n",
       "    }\n",
       "\n",
       "    .dataframe tbody tr th {\n",
       "        vertical-align: top;\n",
       "    }\n",
       "\n",
       "    .dataframe thead th {\n",
       "        text-align: right;\n",
       "    }\n",
       "</style>\n",
       "<table border=\"1\" class=\"dataframe\">\n",
       "  <thead>\n",
       "    <tr style=\"text-align: right;\">\n",
       "      <th></th>\n",
       "      <th>segment_text</th>\n",
       "      <th>annotations</th>\n",
       "      <th>sentences</th>\n",
       "      <th>source_policy_number</th>\n",
       "    </tr>\n",
       "    <tr>\n",
       "      <th>segment_id</th>\n",
       "      <th></th>\n",
       "      <th></th>\n",
       "      <th></th>\n",
       "      <th></th>\n",
       "    </tr>\n",
       "  </thead>\n",
       "  <tbody>\n",
       "    <tr>\n",
       "      <th>0</th>\n",
       "      <td>PRIVACY POLICY This privacy policy (hereafter ...</td>\n",
       "      <td>[]</td>\n",
       "      <td>[]</td>\n",
       "      <td>1</td>\n",
       "    </tr>\n",
       "    <tr>\n",
       "      <th>1</th>\n",
       "      <td>1. ABOUT OUR PRODUCTS 1.1 Our products offer a...</td>\n",
       "      <td>[]</td>\n",
       "      <td>[]</td>\n",
       "      <td>1</td>\n",
       "    </tr>\n",
       "    <tr>\n",
       "      <th>2</th>\n",
       "      <td>2. THE INFORMATION WE COLLECT The information ...</td>\n",
       "      <td>[{'practice': 'Identifier_Cookie_or_similar_Te...</td>\n",
       "      <td>[{'sentence_text': 'IP ADDRESS, COOKIES, AND W...</td>\n",
       "      <td>1</td>\n",
       "    </tr>\n",
       "  </tbody>\n",
       "</table>\n",
       "</div>"
      ],
      "text/plain": [
       "                                                 segment_text  \\\n",
       "segment_id                                                      \n",
       "0           PRIVACY POLICY This privacy policy (hereafter ...   \n",
       "1           1. ABOUT OUR PRODUCTS 1.1 Our products offer a...   \n",
       "2           2. THE INFORMATION WE COLLECT The information ...   \n",
       "\n",
       "                                                  annotations  \\\n",
       "segment_id                                                      \n",
       "0                                                          []   \n",
       "1                                                          []   \n",
       "2           [{'practice': 'Identifier_Cookie_or_similar_Te...   \n",
       "\n",
       "                                                    sentences  \\\n",
       "segment_id                                                      \n",
       "0                                                          []   \n",
       "1                                                          []   \n",
       "2           [{'sentence_text': 'IP ADDRESS, COOKIES, AND W...   \n",
       "\n",
       "            source_policy_number  \n",
       "segment_id                        \n",
       "0                              1  \n",
       "1                              1  \n",
       "2                              1  "
      ]
     },
     "execution_count": 21,
     "metadata": {},
     "output_type": "execute_result"
    }
   ],
   "source": [
    "this_segment = doc_df.loc[0,\"segments\"]\n",
    "this_segment_df = json_normalize(this_segment) # normalise it\n",
    "this_segment_df.set_index('segment_id', inplace=True)\n",
    "this_segment_df[\"source_policy_number\"] = doc_df.loc[0,\"policy_id\"]\n",
    "\n",
    "segment_df = this_segment_df\n",
    "\n",
    "segment_df.head(3)"
   ]
  },
  {
   "cell_type": "code",
   "execution_count": 22,
   "id": "b78d7d09",
   "metadata": {},
   "outputs": [
    {
     "data": {
      "text/html": [
       "<div>\n",
       "<style scoped>\n",
       "    .dataframe tbody tr th:only-of-type {\n",
       "        vertical-align: middle;\n",
       "    }\n",
       "\n",
       "    .dataframe tbody tr th {\n",
       "        vertical-align: top;\n",
       "    }\n",
       "\n",
       "    .dataframe thead th {\n",
       "        text-align: right;\n",
       "    }\n",
       "</style>\n",
       "<table border=\"1\" class=\"dataframe\">\n",
       "  <thead>\n",
       "    <tr style=\"text-align: right;\">\n",
       "      <th></th>\n",
       "      <th>segment_text</th>\n",
       "      <th>annotations</th>\n",
       "      <th>sentences</th>\n",
       "      <th>source_policy_number</th>\n",
       "    </tr>\n",
       "    <tr>\n",
       "      <th>segment_id</th>\n",
       "      <th></th>\n",
       "      <th></th>\n",
       "      <th></th>\n",
       "      <th></th>\n",
       "    </tr>\n",
       "  </thead>\n",
       "  <tbody>\n",
       "    <tr>\n",
       "      <th>0</th>\n",
       "      <td>PRIVACY POLICY This privacy policy (hereafter ...</td>\n",
       "      <td>[]</td>\n",
       "      <td>[]</td>\n",
       "      <td>1</td>\n",
       "    </tr>\n",
       "    <tr>\n",
       "      <th>1</th>\n",
       "      <td>1. ABOUT OUR PRODUCTS 1.1 Our products offer a...</td>\n",
       "      <td>[]</td>\n",
       "      <td>[]</td>\n",
       "      <td>1</td>\n",
       "    </tr>\n",
       "    <tr>\n",
       "      <th>2</th>\n",
       "      <td>2. THE INFORMATION WE COLLECT The information ...</td>\n",
       "      <td>[{'practice': 'Identifier_Cookie_or_similar_Te...</td>\n",
       "      <td>[{'sentence_text': 'IP ADDRESS, COOKIES, AND W...</td>\n",
       "      <td>1</td>\n",
       "    </tr>\n",
       "  </tbody>\n",
       "</table>\n",
       "</div>"
      ],
      "text/plain": [
       "                                                 segment_text  \\\n",
       "segment_id                                                      \n",
       "0           PRIVACY POLICY This privacy policy (hereafter ...   \n",
       "1           1. ABOUT OUR PRODUCTS 1.1 Our products offer a...   \n",
       "2           2. THE INFORMATION WE COLLECT The information ...   \n",
       "\n",
       "                                                  annotations  \\\n",
       "segment_id                                                      \n",
       "0                                                          []   \n",
       "1                                                          []   \n",
       "2           [{'practice': 'Identifier_Cookie_or_similar_Te...   \n",
       "\n",
       "                                                    sentences  \\\n",
       "segment_id                                                      \n",
       "0                                                          []   \n",
       "1                                                          []   \n",
       "2           [{'sentence_text': 'IP ADDRESS, COOKIES, AND W...   \n",
       "\n",
       "            source_policy_number  \n",
       "segment_id                        \n",
       "0                              1  \n",
       "1                              1  \n",
       "2                              1  "
      ]
     },
     "execution_count": 22,
     "metadata": {},
     "output_type": "execute_result"
    }
   ],
   "source": [
    "for i in doc_df.index:\n",
    "    this_segment = doc_df.loc[i,\"segments\"]\n",
    "    this_segment_df = json_normalize(this_segment) # normalise it\n",
    "    this_segment_df.set_index('segment_id', inplace=True)\n",
    "    this_segment_df[\"source_policy_number\"] = doc_df.loc[i,\"policy_id\"]\n",
    "    \n",
    "    segment_df = pd.concat( [segment_df, this_segment_df], axis=0 ) \n",
    "\n",
    "\n",
    "segment_df.head(3)"
   ]
  },
  {
   "cell_type": "code",
   "execution_count": 23,
   "id": "6ac89c99",
   "metadata": {},
   "outputs": [],
   "source": [
    "segment_df['policy_segment_id'] = segment_df.index"
   ]
  },
  {
   "cell_type": "code",
   "execution_count": 24,
   "id": "ed553959",
   "metadata": {},
   "outputs": [],
   "source": [
    "segment_df.reset_index(drop=True, inplace=True)"
   ]
  },
  {
   "cell_type": "code",
   "execution_count": 25,
   "id": "9117db5a",
   "metadata": {},
   "outputs": [],
   "source": [
    "segment_df.index.names = ['segment_id']"
   ]
  },
  {
   "cell_type": "code",
   "execution_count": 26,
   "id": "76fe7b84",
   "metadata": {},
   "outputs": [],
   "source": [
    "segment_df = segment_df[['source_policy_number', 'policy_segment_id', 'segment_text', 'annotations', 'sentences']]"
   ]
  },
  {
   "cell_type": "code",
   "execution_count": 27,
   "id": "8ce3e00f",
   "metadata": {},
   "outputs": [
    {
     "data": {
      "text/html": [
       "<div>\n",
       "<style scoped>\n",
       "    .dataframe tbody tr th:only-of-type {\n",
       "        vertical-align: middle;\n",
       "    }\n",
       "\n",
       "    .dataframe tbody tr th {\n",
       "        vertical-align: top;\n",
       "    }\n",
       "\n",
       "    .dataframe thead th {\n",
       "        text-align: right;\n",
       "    }\n",
       "</style>\n",
       "<table border=\"1\" class=\"dataframe\">\n",
       "  <thead>\n",
       "    <tr style=\"text-align: right;\">\n",
       "      <th></th>\n",
       "      <th>source_policy_number</th>\n",
       "      <th>policy_segment_id</th>\n",
       "      <th>segment_text</th>\n",
       "      <th>annotations</th>\n",
       "      <th>sentences</th>\n",
       "    </tr>\n",
       "    <tr>\n",
       "      <th>segment_id</th>\n",
       "      <th></th>\n",
       "      <th></th>\n",
       "      <th></th>\n",
       "      <th></th>\n",
       "      <th></th>\n",
       "    </tr>\n",
       "  </thead>\n",
       "  <tbody>\n",
       "    <tr>\n",
       "      <th>0</th>\n",
       "      <td>1</td>\n",
       "      <td>0</td>\n",
       "      <td>PRIVACY POLICY This privacy policy (hereafter ...</td>\n",
       "      <td>[]</td>\n",
       "      <td>[]</td>\n",
       "    </tr>\n",
       "    <tr>\n",
       "      <th>1</th>\n",
       "      <td>1</td>\n",
       "      <td>1</td>\n",
       "      <td>1. ABOUT OUR PRODUCTS 1.1 Our products offer a...</td>\n",
       "      <td>[]</td>\n",
       "      <td>[]</td>\n",
       "    </tr>\n",
       "    <tr>\n",
       "      <th>2</th>\n",
       "      <td>1</td>\n",
       "      <td>2</td>\n",
       "      <td>2. THE INFORMATION WE COLLECT The information ...</td>\n",
       "      <td>[{'practice': 'Identifier_Cookie_or_similar_Te...</td>\n",
       "      <td>[{'sentence_text': 'IP ADDRESS, COOKIES, AND W...</td>\n",
       "    </tr>\n",
       "    <tr>\n",
       "      <th>3</th>\n",
       "      <td>1</td>\n",
       "      <td>3</td>\n",
       "      <td>2.2 In addition, we store certain information ...</td>\n",
       "      <td>[{'practice': 'Identifier_Cookie_or_similar_Te...</td>\n",
       "      <td>[{'sentence_text': '6677g may use cookies, web...</td>\n",
       "    </tr>\n",
       "    <tr>\n",
       "      <th>4</th>\n",
       "      <td>1</td>\n",
       "      <td>4</td>\n",
       "      <td>(c) to remember your preferences and registrat...</td>\n",
       "      <td>[]</td>\n",
       "      <td>[]</td>\n",
       "    </tr>\n",
       "    <tr>\n",
       "      <th>...</th>\n",
       "      <td>...</td>\n",
       "      <td>...</td>\n",
       "      <td>...</td>\n",
       "      <td>...</td>\n",
       "      <td>...</td>\n",
       "    </tr>\n",
       "    <tr>\n",
       "      <th>15538</th>\n",
       "      <td>350</td>\n",
       "      <td>97</td>\n",
       "      <td>699 8th Street San Francisco, CA 94103 back to...</td>\n",
       "      <td>[]</td>\n",
       "      <td>[]</td>\n",
       "    </tr>\n",
       "    <tr>\n",
       "      <th>15539</th>\n",
       "      <td>350</td>\n",
       "      <td>98</td>\n",
       "      <td>Facebook Twitter YouTube Instagram NaturalMoti...</td>\n",
       "      <td>[]</td>\n",
       "      <td>[]</td>\n",
       "    </tr>\n",
       "    <tr>\n",
       "      <th>15540</th>\n",
       "      <td>350</td>\n",
       "      <td>99</td>\n",
       "      <td>©2017 Zynga Inc. All rights reserved.</td>\n",
       "      <td>[]</td>\n",
       "      <td>[]</td>\n",
       "    </tr>\n",
       "    <tr>\n",
       "      <th>15541</th>\n",
       "      <td>350</td>\n",
       "      <td>100</td>\n",
       "      <td>We and the service providers acting on our beh...</td>\n",
       "      <td>[{'practice': 'Identifier_Cookie_or_similar_Te...</td>\n",
       "      <td>[{'sentence_text': 'We and the service provide...</td>\n",
       "    </tr>\n",
       "    <tr>\n",
       "      <th>15542</th>\n",
       "      <td>350</td>\n",
       "      <td>101</td>\n",
       "      <td>For example, Zynga does not collect your e-mai...</td>\n",
       "      <td>[{'practice': 'Contact_E_Mail_Address_1stParty...</td>\n",
       "      <td>[{'sentence_text': 'For example, Zynga does no...</td>\n",
       "    </tr>\n",
       "  </tbody>\n",
       "</table>\n",
       "<p>15543 rows × 5 columns</p>\n",
       "</div>"
      ],
      "text/plain": [
       "            source_policy_number  policy_segment_id  \\\n",
       "segment_id                                            \n",
       "0                              1                  0   \n",
       "1                              1                  1   \n",
       "2                              1                  2   \n",
       "3                              1                  3   \n",
       "4                              1                  4   \n",
       "...                          ...                ...   \n",
       "15538                        350                 97   \n",
       "15539                        350                 98   \n",
       "15540                        350                 99   \n",
       "15541                        350                100   \n",
       "15542                        350                101   \n",
       "\n",
       "                                                 segment_text  \\\n",
       "segment_id                                                      \n",
       "0           PRIVACY POLICY This privacy policy (hereafter ...   \n",
       "1           1. ABOUT OUR PRODUCTS 1.1 Our products offer a...   \n",
       "2           2. THE INFORMATION WE COLLECT The information ...   \n",
       "3           2.2 In addition, we store certain information ...   \n",
       "4           (c) to remember your preferences and registrat...   \n",
       "...                                                       ...   \n",
       "15538       699 8th Street San Francisco, CA 94103 back to...   \n",
       "15539       Facebook Twitter YouTube Instagram NaturalMoti...   \n",
       "15540                   ©2017 Zynga Inc. All rights reserved.   \n",
       "15541       We and the service providers acting on our beh...   \n",
       "15542       For example, Zynga does not collect your e-mai...   \n",
       "\n",
       "                                                  annotations  \\\n",
       "segment_id                                                      \n",
       "0                                                          []   \n",
       "1                                                          []   \n",
       "2           [{'practice': 'Identifier_Cookie_or_similar_Te...   \n",
       "3           [{'practice': 'Identifier_Cookie_or_similar_Te...   \n",
       "4                                                          []   \n",
       "...                                                       ...   \n",
       "15538                                                      []   \n",
       "15539                                                      []   \n",
       "15540                                                      []   \n",
       "15541       [{'practice': 'Identifier_Cookie_or_similar_Te...   \n",
       "15542       [{'practice': 'Contact_E_Mail_Address_1stParty...   \n",
       "\n",
       "                                                    sentences  \n",
       "segment_id                                                     \n",
       "0                                                          []  \n",
       "1                                                          []  \n",
       "2           [{'sentence_text': 'IP ADDRESS, COOKIES, AND W...  \n",
       "3           [{'sentence_text': '6677g may use cookies, web...  \n",
       "4                                                          []  \n",
       "...                                                       ...  \n",
       "15538                                                      []  \n",
       "15539                                                      []  \n",
       "15540                                                      []  \n",
       "15541       [{'sentence_text': 'We and the service provide...  \n",
       "15542       [{'sentence_text': 'For example, Zynga does no...  \n",
       "\n",
       "[15543 rows x 5 columns]"
      ]
     },
     "execution_count": 27,
     "metadata": {},
     "output_type": "execute_result"
    }
   ],
   "source": [
    "segment_df"
   ]
  },
  {
   "cell_type": "code",
   "execution_count": 28,
   "id": "fd922f90",
   "metadata": {},
   "outputs": [
    {
     "data": {
      "text/plain": [
       "(15543, 5)"
      ]
     },
     "execution_count": 28,
     "metadata": {},
     "output_type": "execute_result"
    }
   ],
   "source": [
    "segment_df.shape"
   ]
  },
  {
   "cell_type": "code",
   "execution_count": 29,
   "id": "849d4b18",
   "metadata": {},
   "outputs": [
    {
     "data": {
      "text/html": [
       "<div>\n",
       "<style scoped>\n",
       "    .dataframe tbody tr th:only-of-type {\n",
       "        vertical-align: middle;\n",
       "    }\n",
       "\n",
       "    .dataframe tbody tr th {\n",
       "        vertical-align: top;\n",
       "    }\n",
       "\n",
       "    .dataframe thead th {\n",
       "        text-align: right;\n",
       "    }\n",
       "</style>\n",
       "<table border=\"1\" class=\"dataframe\">\n",
       "  <thead>\n",
       "    <tr style=\"text-align: right;\">\n",
       "      <th></th>\n",
       "      <th>source_policy_number</th>\n",
       "      <th>policy_segment_id</th>\n",
       "      <th>segment_text</th>\n",
       "      <th>annotations</th>\n",
       "      <th>sentences</th>\n",
       "    </tr>\n",
       "    <tr>\n",
       "      <th>segment_id</th>\n",
       "      <th></th>\n",
       "      <th></th>\n",
       "      <th></th>\n",
       "      <th></th>\n",
       "      <th></th>\n",
       "    </tr>\n",
       "  </thead>\n",
       "  <tbody>\n",
       "    <tr>\n",
       "      <th>15540</th>\n",
       "      <td>350</td>\n",
       "      <td>99</td>\n",
       "      <td>©2017 Zynga Inc. All rights reserved.</td>\n",
       "      <td>[]</td>\n",
       "      <td>[]</td>\n",
       "    </tr>\n",
       "    <tr>\n",
       "      <th>15541</th>\n",
       "      <td>350</td>\n",
       "      <td>100</td>\n",
       "      <td>We and the service providers acting on our beh...</td>\n",
       "      <td>[{'practice': 'Identifier_Cookie_or_similar_Te...</td>\n",
       "      <td>[{'sentence_text': 'We and the service provide...</td>\n",
       "    </tr>\n",
       "    <tr>\n",
       "      <th>15542</th>\n",
       "      <td>350</td>\n",
       "      <td>101</td>\n",
       "      <td>For example, Zynga does not collect your e-mai...</td>\n",
       "      <td>[{'practice': 'Contact_E_Mail_Address_1stParty...</td>\n",
       "      <td>[{'sentence_text': 'For example, Zynga does no...</td>\n",
       "    </tr>\n",
       "  </tbody>\n",
       "</table>\n",
       "</div>"
      ],
      "text/plain": [
       "            source_policy_number  policy_segment_id  \\\n",
       "segment_id                                            \n",
       "15540                        350                 99   \n",
       "15541                        350                100   \n",
       "15542                        350                101   \n",
       "\n",
       "                                                 segment_text  \\\n",
       "segment_id                                                      \n",
       "15540                   ©2017 Zynga Inc. All rights reserved.   \n",
       "15541       We and the service providers acting on our beh...   \n",
       "15542       For example, Zynga does not collect your e-mai...   \n",
       "\n",
       "                                                  annotations  \\\n",
       "segment_id                                                      \n",
       "15540                                                      []   \n",
       "15541       [{'practice': 'Identifier_Cookie_or_similar_Te...   \n",
       "15542       [{'practice': 'Contact_E_Mail_Address_1stParty...   \n",
       "\n",
       "                                                    sentences  \n",
       "segment_id                                                     \n",
       "15540                                                      []  \n",
       "15541       [{'sentence_text': 'We and the service provide...  \n",
       "15542       [{'sentence_text': 'For example, Zynga does no...  "
      ]
     },
     "execution_count": 29,
     "metadata": {},
     "output_type": "execute_result"
    }
   ],
   "source": [
    "segment_df.tail(3)"
   ]
  },
  {
   "cell_type": "code",
   "execution_count": 30,
   "id": "f736bc2e",
   "metadata": {},
   "outputs": [
    {
     "name": "stdout",
     "output_type": "stream",
     "text": [
      "<class 'pandas.core.frame.DataFrame'>\n",
      "RangeIndex: 15543 entries, 0 to 15542\n",
      "Data columns (total 5 columns):\n",
      " #   Column                Non-Null Count  Dtype \n",
      "---  ------                --------------  ----- \n",
      " 0   source_policy_number  15543 non-null  int64 \n",
      " 1   policy_segment_id     15543 non-null  int64 \n",
      " 2   segment_text          15543 non-null  object\n",
      " 3   annotations           15543 non-null  object\n",
      " 4   sentences             15543 non-null  object\n",
      "dtypes: int64(2), object(3)\n",
      "memory usage: 607.3+ KB\n"
     ]
    }
   ],
   "source": [
    "segment_df.info()"
   ]
  },
  {
   "cell_type": "markdown",
   "id": "3cbcd6db",
   "metadata": {},
   "source": [
    "## Demo EDA"
   ]
  },
  {
   "cell_type": "code",
   "execution_count": 31,
   "id": "f25c0238",
   "metadata": {},
   "outputs": [],
   "source": [
    "lists_of_words = segment_df['segment_text'].str.split(' ')"
   ]
  },
  {
   "cell_type": "code",
   "execution_count": 32,
   "id": "360169cb",
   "metadata": {},
   "outputs": [
    {
     "data": {
      "text/plain": [
       "segment_id\n",
       "0        102\n",
       "1         85\n",
       "2         89\n",
       "3         75\n",
       "4         10\n",
       "        ... \n",
       "15538     11\n",
       "15539      9\n",
       "15540      6\n",
       "15541     33\n",
       "15542     19\n",
       "Name: segment_text, Length: 15543, dtype: int64"
      ]
     },
     "execution_count": 32,
     "metadata": {},
     "output_type": "execute_result"
    }
   ],
   "source": [
    "lists_of_words.str.len()"
   ]
  },
  {
   "cell_type": "code",
   "execution_count": null,
   "id": "6cde93dd",
   "metadata": {},
   "outputs": [],
   "source": []
  },
  {
   "cell_type": "markdown",
   "id": "667f5c07",
   "metadata": {},
   "source": [
    "---"
   ]
  },
  {
   "cell_type": "code",
   "execution_count": 33,
   "id": "549e4699",
   "metadata": {},
   "outputs": [
    {
     "data": {
      "image/png": "[encoded data removed]",
      "text/plain": [
       "<Figure size 640x400 with 4 Axes>"
      ]
     },
     "metadata": {},
     "output_type": "display_data"
    }
   ],
   "source": [
    "plt.subplots(2, 2, dpi=200)\n",
    "\n",
    "plt.subplot(2, 2, 1)\n",
    "sns.histplot(data=doc_df[\"num_segments\"])\n",
    "plt.xlim(0,200)\n",
    "plt.xticks(fontsize=8)\n",
    "plt.xlabel(\"Paragraphs in each policy\", fontsize=8)\n",
    "plt.ylabel(\"\")\n",
    "plt.yticks(fontsize=8)\n",
    "plt.title(\"Most policies have 25-50 paragraphs\", fontsize=10)\n",
    "\n",
    "plt.subplot(2, 2, 2)\n",
    "sns.histplot(data=doc_df[\"total_characters\"], bins=70)\n",
    "plt.title(\"Most policies have 5-10k characters\", fontsize=10)\n",
    "plt.xticks(fontsize=8)\n",
    "plt.yticks(fontsize=8)\n",
    "plt.xlim(0,75000)\n",
    "plt.ylabel(\"\")\n",
    "plt.xlabel(\"Characters in each policy\", fontsize=8)\n",
    "\n",
    "plt.subplot(2, 2, 3)\n",
    "sns.histplot( lists_of_words.str.len(), bins = 200 )\n",
    "plt.xlim(0, 300)\n",
    "plt.title(\"Most paragraphs have around 50 words\", fontsize=10)\n",
    "plt.xticks(fontsize=8)\n",
    "plt.yticks(fontsize=8)\n",
    "plt.ylabel(\"\")\n",
    "plt.xlabel(\"Words in each paragraph\", fontsize=8)\n",
    "\n",
    "plt.tight_layout()\n",
    "plt.show()"
   ]
  },
  {
   "cell_type": "code",
   "execution_count": 34,
   "id": "718b2877",
   "metadata": {},
   "outputs": [],
   "source": [
    "from nltk.corpus import stopwords\n",
    "stop=set(stopwords.words('english'))"
   ]
  },
  {
   "cell_type": "code",
   "execution_count": 35,
   "id": "baba47b8",
   "metadata": {},
   "outputs": [],
   "source": [
    "# Create corpus\n",
    "corpus=[]\n",
    "lists_of_words2 = lists_of_words.values.tolist() # list of words\n",
    "# converts the series into an array and then into a list of lists\n",
    "corpus = [word for i in lists_of_words2 for word in i] # add every individual word to the corpus \n",
    "# somehow going two layers into the list of lists with some kind of double list comprehension\n"
   ]
  },
  {
   "cell_type": "code",
   "execution_count": 36,
   "id": "0d26c879",
   "metadata": {},
   "outputs": [],
   "source": [
    "corpus_lower = [word.lower() for word in corpus]"
   ]
  },
  {
   "cell_type": "code",
   "execution_count": 37,
   "id": "028e4410",
   "metadata": {},
   "outputs": [
    {
     "data": {
      "text/plain": [
       "936272"
      ]
     },
     "execution_count": 37,
     "metadata": {},
     "output_type": "execute_result"
    }
   ],
   "source": [
    "len(corpus_lower)"
   ]
  },
  {
   "cell_type": "code",
   "execution_count": 38,
   "id": "114aec4b",
   "metadata": {},
   "outputs": [],
   "source": [
    "dic = defaultdict(int)\n",
    "for word in corpus_lower:\n",
    "    if word in stop:\n",
    "        dic[word] += 1 "
   ]
  },
  {
   "cell_type": "code",
   "execution_count": 39,
   "id": "b8d6b475",
   "metadata": {},
   "outputs": [],
   "source": [
    "# Plot top stopwords\n",
    "\n",
    "top = sorted(dic.items(), key=lambda x:x[1],reverse=True)[:10]\n",
    "each_stopword, stopword_count = zip(*top) # *top expands the list of top 10 tuples"
   ]
  },
  {
   "cell_type": "code",
   "execution_count": 40,
   "id": "74c722ca",
   "metadata": {},
   "outputs": [
    {
     "data": {
      "image/png": "[encoded data removed]",
      "text/plain": [
       "<Figure size 480x300 with 1 Axes>"
      ]
     },
     "metadata": {},
     "output_type": "display_data"
    }
   ],
   "source": [
    "plt.figure()\n",
    "plt.bar(each_stopword, stopword_count)\n",
    "plt.xticks(rotation=45)\n",
    "plt.show()"
   ]
  },
  {
   "cell_type": "code",
   "execution_count": 41,
   "id": "6a98cc42",
   "metadata": {},
   "outputs": [],
   "source": [
    "counter = Counter(corpus_lower) # makes a dictionary with all the words and total occurrences\n",
    "most = counter.most_common() # ordered by most common words\n",
    "\n",
    "x, y = [], []\n",
    "for word, count in most[:40]:\n",
    "    if (word not in stop):\n",
    "        x.append(word)\n",
    "        y.append(count)"
   ]
  },
  {
   "cell_type": "code",
   "execution_count": 42,
   "id": "521bc47e",
   "metadata": {},
   "outputs": [
    {
     "data": {
      "image/png": "[encoded data removed]",
      "text/plain": [
       "<Figure size 480x300 with 1 Axes>"
      ]
     },
     "metadata": {},
     "output_type": "display_data"
    }
   ],
   "source": [
    "sns.barplot(x=y, y=x)\n",
    "plt.show()"
   ]
  },
  {
   "cell_type": "code",
   "execution_count": 43,
   "id": "97b6d0ff",
   "metadata": {},
   "outputs": [],
   "source": [
    "from sklearn.feature_extraction.text import CountVectorizer"
   ]
  },
  {
   "cell_type": "code",
   "execution_count": 44,
   "id": "0e162a7b",
   "metadata": {},
   "outputs": [],
   "source": [
    "def get_top_ngram(corpus, n=None):\n",
    "    vec = CountVectorizer(ngram_range = (n, n)).fit(corpus) # set up the CountVectorizer\n",
    "    \n",
    "    bag_of_words = vec.transform(corpus) # sparse matrix of headlines & bi-grams\n",
    "    \n",
    "    sum_words = bag_of_words.sum( axis = 0 ) # for each bi-gram, sum of rows it appears in(?)\n",
    "    \n",
    "    words_freq = [(word, sum_words[0, idx]) \n",
    "                  for word, idx in vec.vocabulary_.items()] \n",
    "    # vocabulary_.items() is a dict of bigram : feature index\n",
    "    # sum_words is in the same order so we can use vocabulary_.items() index\n",
    "    # to access the sum_words object and grab the total occurrences\n",
    "    # Thus words_freq lists each word and the total occurrences\n",
    "    \n",
    "    words_freq = sorted(words_freq, key = lambda x: x[1], reverse=True) # sorting by frequency as seen earlier\n",
    "    return words_freq[:10]"
   ]
  },
  {
   "cell_type": "code",
   "execution_count": 55,
   "id": "de24e161",
   "metadata": {},
   "outputs": [],
   "source": [
    "top_n_bigrams = get_top_ngram(segment_df['segment_text'], 5)[:15]\n",
    "x, y = map(list, zip(*top_n_bigrams)) # Re-arranging. \n",
    "# The * expands top_n_bigrams so that each bigram, freq tuple is passed as argument to zip\n",
    "# Then zip will take the bigram from each and group them together, and the freq from each and group them together\n",
    "# Then map applies the list function to both groups to make them both lists which can be passed to x and y\n"
   ]
  },
  {
   "cell_type": "code",
   "execution_count": 61,
   "id": "cc38eb25",
   "metadata": {},
   "outputs": [
    {
     "data": {
      "image/png": "[encoded data removed]",
      "text/plain": [
       "<Figure size 750x300 with 1 Axes>"
      ]
     },
     "metadata": {},
     "output_type": "display_data"
    }
   ],
   "source": [
    "plt.figure(figsize=(5,2))\n",
    "sns.barplot(x=y,y=x)\n",
    "plt.show()"
   ]
  },
  {
   "cell_type": "code",
   "execution_count": 172,
   "id": "35058c8c",
   "metadata": {},
   "outputs": [
    {
     "data": {
      "text/plain": [
       "<AxesSubplot:>"
      ]
     },
     "execution_count": 172,
     "metadata": {},
     "output_type": "execute_result"
    },
    {
     "data": {
      "image/png": "[encoded data removed]",
      "text/plain": [
       "<Figure size 432x288 with 1 Axes>"
      ]
     },
     "metadata": {
      "needs_background": "light"
     },
     "output_type": "display_data"
    }
   ],
   "source": [
    "top_tri_grams=get_top_ngram(segment_df['segment_text'],n=3)\n",
    "x,y=map(list,zip(*top_tri_grams))\n",
    "sns.barplot(x=y,y=x)"
   ]
  },
  {
   "cell_type": "code",
   "execution_count": 173,
   "id": "b09d3165",
   "metadata": {},
   "outputs": [],
   "source": [
    "from sklearn.feature_extraction.text import TfidfVectorizer"
   ]
  },
  {
   "cell_type": "code",
   "execution_count": 176,
   "id": "8e41dda6",
   "metadata": {},
   "outputs": [],
   "source": [
    "tfidf = TfidfVectorizer(min_df=5)\n",
    "\n",
    "tfidf.fit(segment_df['segment_text'])\n",
    "\n",
    "X_transformed = tfidf.transform(segment_df['segment_text'])"
   ]
  },
  {
   "cell_type": "code",
   "execution_count": 178,
   "id": "b77ee783",
   "metadata": {},
   "outputs": [
    {
     "name": "stderr",
     "output_type": "stream",
     "text": [
      "/Users/chinchcliffe/opt/anaconda3/lib/python3.9/site-packages/sklearn/utils/deprecation.py:87: FutureWarning: Function get_feature_names is deprecated; get_feature_names is deprecated in 1.0 and will be removed in 1.2. Please use get_feature_names_out instead.\n",
      "  warnings.warn(msg, category=FutureWarning)\n"
     ]
    },
    {
     "data": {
      "image/png": "[encoded data removed]",
      "text/plain": [
       "<Figure size 1080x360 with 1 Axes>"
      ]
     },
     "metadata": {
      "needs_background": "light"
     },
     "output_type": "display_data"
    }
   ],
   "source": [
    "word_counts = pd.DataFrame(\n",
    "    {\"counts\": X_transformed.toarray().sum(axis=0)},\n",
    "    index=tfidf.get_feature_names()\n",
    ").sort_values(\"counts\", ascending=False)\n",
    "\n",
    "word_counts.head(30).plot(kind=\"bar\", figsize=(15, 5), legend=False)\n",
    "plt.title(\"Top 20 highest weighted words by TF-IDF\")\n",
    "plt.ylabel(\"Total TF-IDF weight\")\n",
    "plt.xticks(rotation=45)\n",
    "plt.show()"
   ]
  },
  {
   "cell_type": "code",
   "execution_count": null,
   "id": "5c8d650e",
   "metadata": {},
   "outputs": [],
   "source": []
  }
 ],
 "metadata": {
  "kernelspec": {
   "display_name": "Python 3 (ipykernel)",
   "language": "python",
   "name": "python3"
  },
  "language_info": {
   "codemirror_mode": {
    "name": "ipython",
    "version": 3
   },
   "file_extension": ".py",
   "mimetype": "text/x-python",
   "name": "python",
   "nbconvert_exporter": "python",
   "pygments_lexer": "ipython3",
   "version": "3.9.12"
  },
  "toc": {
   "base_numbering": 1,
   "nav_menu": {},
   "number_sections": true,
   "sideBar": true,
   "skip_h1_title": false,
   "title_cell": "Table of Contents",
   "title_sidebar": "Contents",
   "toc_cell": false,
   "toc_position": {},
   "toc_section_display": true,
   "toc_window_display": false
  }
 },
 "nbformat": 4,
 "nbformat_minor": 5
}
