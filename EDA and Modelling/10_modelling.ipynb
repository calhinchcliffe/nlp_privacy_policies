{
 "cells": [
  {
   "cell_type": "code",
   "execution_count": 1,
   "id": "86a733d8",
   "metadata": {},
   "outputs": [],
   "source": [
    "import pandas as pd\n",
    "from pandas import json_normalize\n",
    "import yaml\n",
    "import numpy as np\n",
    "\n",
    "import matplotlib.pyplot as plt\n",
    "%matplotlib inline\n",
    "\n",
    "import seaborn as sns\n",
    "from scipy import stats\n",
    "from scipy.stats import norm\n",
    "\n",
    "import sys\n",
    "from collections import defaultdict\n",
    "from collections import Counter\n",
    "\n",
    "import ds_utils_callum\n",
    "import priv_policy_manipulation_functions as priv_pol_funcs"
   ]
  },
  {
   "cell_type": "markdown",
   "id": "26785774",
   "metadata": {},
   "source": [
    "Description of steps taken:\n",
    "\n",
    "Approaching EVERYTHING at the segment level.\n",
    "\n",
    "Create targets to be classified for:\n",
    "- Each practice (30 practices)\n",
    "- Performed; not performed (2 modalities)\n",
    "- 1st Party; 3rd Party (2 parties)\n",
    "\n",
    "Initially summed for EDA then converted to binary.\n",
    "\n",
    "Create \"Crafted Features\":<br>\n",
    "579 Crafted Features created. Each target has a set of corresponding crafted features. The presence of that feature could indicate the presence of that target.\n",
    "\n",
    "Not actioned: Some Pre-processing to apply to: \n",
    "- Crafted Features\n",
    "- Segments\n",
    "\n",
    "Pre-processing steps:\n",
    "- Remove Whitespace\n",
    "- Normalize punctuation\n",
    "- Remove non-ASCII characters\n",
    "- convert to lowercase\n",
    "\n",
    "Then the Crafted Features columns could be re-populated and TF-IDF could be updated.\n",
    "\n",
    "**TF-IDF:**<br>\n",
    "`TfidfVectorizer(ngram_range=(1,2), stop_words='english', binary=True)`<br>\n",
    "Could use stop_words from NLTK as there are known issues with the inbuild TfidVectorizer 'english'.\n",
    "\n",
    "**Scaling**<br>\n",
    "Scaling is not mentinoed in the paper but I could do Standard Scaler to see if get results.\n",
    "\n",
    "**PCA**<br>\n",
    "PCA is not required but I should explain why.\n",
    "\n",
    "Modelling:\n",
    "- LinearSVC\n",
    "- class weight='balanced'\n",
    "\n",
    "Could try SVC with kernel='linear', which is what they did, instead of LinearSVC.\n",
    "\n",
    "\n",
    "5-fold CV grid search over:\n",
    "- C=[0.1, 1, 10] \n",
    "- gamma=[0.001, 0.01, 0.1]\n",
    "\n",
    "Could try different models and different hyperparameters"
   ]
  },
  {
   "cell_type": "markdown",
   "id": "7e294c10",
   "metadata": {},
   "source": [
    "## Create Train set"
   ]
  },
  {
   "cell_type": "code",
   "execution_count": 82,
   "id": "89e8862b",
   "metadata": {},
   "outputs": [],
   "source": [
    "train_set = pd.read_pickle(\"crafted_features_df.pkl\")"
   ]
  },
  {
   "cell_type": "code",
   "execution_count": 83,
   "id": "73f67af5",
   "metadata": {},
   "outputs": [
    {
     "data": {
      "text/html": [
       "<div>\n",
       "<style scoped>\n",
       "    .dataframe tbody tr th:only-of-type {\n",
       "        vertical-align: middle;\n",
       "    }\n",
       "\n",
       "    .dataframe tbody tr th {\n",
       "        vertical-align: top;\n",
       "    }\n",
       "\n",
       "    .dataframe thead th {\n",
       "        text-align: right;\n",
       "    }\n",
       "</style>\n",
       "<table border=\"1\" class=\"dataframe\">\n",
       "  <thead>\n",
       "    <tr style=\"text-align: right;\">\n",
       "      <th></th>\n",
       "      <th>source_policy_number</th>\n",
       "      <th>policy_type</th>\n",
       "      <th>contains_synthetic</th>\n",
       "      <th>policy_segment_id</th>\n",
       "      <th>segment_text</th>\n",
       "      <th>annotations</th>\n",
       "      <th>sentences</th>\n",
       "      <th>SSO</th>\n",
       "      <th>Facebook_SSO</th>\n",
       "      <th>1st_party</th>\n",
       "      <th>...</th>\n",
       "      <th>never be acquired</th>\n",
       "      <th>never be viewed</th>\n",
       "      <th>never be located</th>\n",
       "      <th>never be asked</th>\n",
       "      <th>never be utilized</th>\n",
       "      <th>never be requested</th>\n",
       "      <th>never be transmitted</th>\n",
       "      <th>never be communicated</th>\n",
       "      <th>nor do we collect</th>\n",
       "      <th>does not tell us</th>\n",
       "    </tr>\n",
       "  </thead>\n",
       "  <tbody>\n",
       "    <tr>\n",
       "      <th>0</th>\n",
       "      <td>1</td>\n",
       "      <td>TEST</td>\n",
       "      <td>False</td>\n",
       "      <td>0</td>\n",
       "      <td>PRIVACY POLICY This privacy policy (hereafter ...</td>\n",
       "      <td>[]</td>\n",
       "      <td>[]</td>\n",
       "      <td>0</td>\n",
       "      <td>0</td>\n",
       "      <td>0</td>\n",
       "      <td>...</td>\n",
       "      <td>0</td>\n",
       "      <td>0</td>\n",
       "      <td>0</td>\n",
       "      <td>0</td>\n",
       "      <td>0</td>\n",
       "      <td>0</td>\n",
       "      <td>0</td>\n",
       "      <td>0</td>\n",
       "      <td>0</td>\n",
       "      <td>0</td>\n",
       "    </tr>\n",
       "    <tr>\n",
       "      <th>1</th>\n",
       "      <td>1</td>\n",
       "      <td>TEST</td>\n",
       "      <td>False</td>\n",
       "      <td>1</td>\n",
       "      <td>1. ABOUT OUR PRODUCTS 1.1 Our products offer a...</td>\n",
       "      <td>[]</td>\n",
       "      <td>[]</td>\n",
       "      <td>0</td>\n",
       "      <td>0</td>\n",
       "      <td>0</td>\n",
       "      <td>...</td>\n",
       "      <td>0</td>\n",
       "      <td>0</td>\n",
       "      <td>0</td>\n",
       "      <td>0</td>\n",
       "      <td>0</td>\n",
       "      <td>0</td>\n",
       "      <td>0</td>\n",
       "      <td>0</td>\n",
       "      <td>0</td>\n",
       "      <td>0</td>\n",
       "    </tr>\n",
       "    <tr>\n",
       "      <th>2</th>\n",
       "      <td>1</td>\n",
       "      <td>TEST</td>\n",
       "      <td>False</td>\n",
       "      <td>2</td>\n",
       "      <td>2. THE INFORMATION WE COLLECT The information ...</td>\n",
       "      <td>[{'practice': 'Identifier_Cookie_or_similar_Te...</td>\n",
       "      <td>[{'sentence_text': 'IP ADDRESS, COOKIES, AND W...</td>\n",
       "      <td>0</td>\n",
       "      <td>0</td>\n",
       "      <td>2</td>\n",
       "      <td>...</td>\n",
       "      <td>0</td>\n",
       "      <td>0</td>\n",
       "      <td>0</td>\n",
       "      <td>0</td>\n",
       "      <td>0</td>\n",
       "      <td>0</td>\n",
       "      <td>0</td>\n",
       "      <td>0</td>\n",
       "      <td>0</td>\n",
       "      <td>0</td>\n",
       "    </tr>\n",
       "  </tbody>\n",
       "</table>\n",
       "<p>3 rows × 620 columns</p>\n",
       "</div>"
      ],
      "text/plain": [
       "   source_policy_number policy_type  contains_synthetic  policy_segment_id  \\\n",
       "0                     1        TEST               False                  0   \n",
       "1                     1        TEST               False                  1   \n",
       "2                     1        TEST               False                  2   \n",
       "\n",
       "                                        segment_text  \\\n",
       "0  PRIVACY POLICY This privacy policy (hereafter ...   \n",
       "1  1. ABOUT OUR PRODUCTS 1.1 Our products offer a...   \n",
       "2  2. THE INFORMATION WE COLLECT The information ...   \n",
       "\n",
       "                                         annotations  \\\n",
       "0                                                 []   \n",
       "1                                                 []   \n",
       "2  [{'practice': 'Identifier_Cookie_or_similar_Te...   \n",
       "\n",
       "                                           sentences  SSO  Facebook_SSO  \\\n",
       "0                                                 []    0             0   \n",
       "1                                                 []    0             0   \n",
       "2  [{'sentence_text': 'IP ADDRESS, COOKIES, AND W...    0             0   \n",
       "\n",
       "   1st_party  ...  never be acquired  never be viewed  never be located  \\\n",
       "0          0  ...                  0                0                 0   \n",
       "1          0  ...                  0                0                 0   \n",
       "2          2  ...                  0                0                 0   \n",
       "\n",
       "   never be asked  never be utilized  never be requested  \\\n",
       "0               0                  0                   0   \n",
       "1               0                  0                   0   \n",
       "2               0                  0                   0   \n",
       "\n",
       "   never be transmitted  never be communicated  nor do we collect  \\\n",
       "0                     0                      0                  0   \n",
       "1                     0                      0                  0   \n",
       "2                     0                      0                  0   \n",
       "\n",
       "   does not tell us  \n",
       "0                 0  \n",
       "1                 0  \n",
       "2                 0  \n",
       "\n",
       "[3 rows x 620 columns]"
      ]
     },
     "execution_count": 83,
     "metadata": {},
     "output_type": "execute_result"
    }
   ],
   "source": [
    "train_set.head(3)"
   ]
  },
  {
   "cell_type": "code",
   "execution_count": 84,
   "id": "e72c4851",
   "metadata": {},
   "outputs": [
    {
     "data": {
      "text/plain": [
       "Index(['source_policy_number', 'policy_type', 'contains_synthetic',\n",
       "       'policy_segment_id', 'segment_text', 'annotations', 'sentences', 'SSO',\n",
       "       'Facebook_SSO', '1st_party',\n",
       "       ...\n",
       "       'never be acquired', 'never be viewed', 'never be located',\n",
       "       'never be asked', 'never be utilized', 'never be requested',\n",
       "       'never be transmitted', 'never be communicated', 'nor do we collect',\n",
       "       'does not tell us'],\n",
       "      dtype='object', length=620)"
      ]
     },
     "execution_count": 84,
     "metadata": {},
     "output_type": "execute_result"
    }
   ],
   "source": [
    "train_set.columns"
   ]
  },
  {
   "cell_type": "code",
   "execution_count": 85,
   "id": "87672b5b",
   "metadata": {},
   "outputs": [
    {
     "name": "stdout",
     "output_type": "stream",
     "text": [
      "Old size (15543, 620)\n",
      "New size (10719, 620)\n"
     ]
    }
   ],
   "source": [
    "print(f\"Old size {train_set.shape}\")\n",
    "train_set = train_set.loc[train_set['policy_type'] != 'TEST' ]\n",
    "print(f\"New size {train_set.shape}\")"
   ]
  },
  {
   "cell_type": "code",
   "execution_count": 86,
   "id": "ba17ed61",
   "metadata": {},
   "outputs": [],
   "source": [
    "# reset index\n",
    "train_set = train_set.reset_index(drop = True)\n",
    "# Remove other columns not required\n",
    "train_set.drop(columns=['source_policy_number', 'policy_type', 'contains_synthetic',\n",
    "       'policy_segment_id', 'annotations', 'sentences'], inplace=True)"
   ]
  },
  {
   "cell_type": "code",
   "execution_count": 88,
   "id": "52e466f1",
   "metadata": {
    "scrolled": true
   },
   "outputs": [
    {
     "data": {
      "text/html": [
       "<div>\n",
       "<style scoped>\n",
       "    .dataframe tbody tr th:only-of-type {\n",
       "        vertical-align: middle;\n",
       "    }\n",
       "\n",
       "    .dataframe tbody tr th {\n",
       "        vertical-align: top;\n",
       "    }\n",
       "\n",
       "    .dataframe thead th {\n",
       "        text-align: right;\n",
       "    }\n",
       "</style>\n",
       "<table border=\"1\" class=\"dataframe\">\n",
       "  <thead>\n",
       "    <tr style=\"text-align: right;\">\n",
       "      <th></th>\n",
       "      <th>segment_text</th>\n",
       "      <th>SSO</th>\n",
       "      <th>Facebook_SSO</th>\n",
       "      <th>1st_party</th>\n",
       "      <th>3rd_party</th>\n",
       "      <th>Contact</th>\n",
       "      <th>Contact_Address_Book</th>\n",
       "      <th>Contact_City</th>\n",
       "      <th>Contact_E_Mail_Address</th>\n",
       "      <th>Contact_Password</th>\n",
       "      <th>...</th>\n",
       "      <th>never be acquired</th>\n",
       "      <th>never be viewed</th>\n",
       "      <th>never be located</th>\n",
       "      <th>never be asked</th>\n",
       "      <th>never be utilized</th>\n",
       "      <th>never be requested</th>\n",
       "      <th>never be transmitted</th>\n",
       "      <th>never be communicated</th>\n",
       "      <th>nor do we collect</th>\n",
       "      <th>does not tell us</th>\n",
       "    </tr>\n",
       "  </thead>\n",
       "  <tbody>\n",
       "    <tr>\n",
       "      <th>0</th>\n",
       "      <td>Home Find my phone Blog</td>\n",
       "      <td>0</td>\n",
       "      <td>0</td>\n",
       "      <td>0</td>\n",
       "      <td>0</td>\n",
       "      <td>0.0</td>\n",
       "      <td>0.0</td>\n",
       "      <td>0.0</td>\n",
       "      <td>0.0</td>\n",
       "      <td>0.0</td>\n",
       "      <td>...</td>\n",
       "      <td>0</td>\n",
       "      <td>0</td>\n",
       "      <td>0</td>\n",
       "      <td>0</td>\n",
       "      <td>0</td>\n",
       "      <td>0</td>\n",
       "      <td>0</td>\n",
       "      <td>0</td>\n",
       "      <td>0</td>\n",
       "      <td>0</td>\n",
       "    </tr>\n",
       "    <tr>\n",
       "      <th>1</th>\n",
       "      <td>Privacy Policy 360 Security (the \"Software\") i...</td>\n",
       "      <td>0</td>\n",
       "      <td>0</td>\n",
       "      <td>0</td>\n",
       "      <td>0</td>\n",
       "      <td>0.0</td>\n",
       "      <td>0.0</td>\n",
       "      <td>0.0</td>\n",
       "      <td>0.0</td>\n",
       "      <td>0.0</td>\n",
       "      <td>...</td>\n",
       "      <td>0</td>\n",
       "      <td>0</td>\n",
       "      <td>0</td>\n",
       "      <td>0</td>\n",
       "      <td>0</td>\n",
       "      <td>0</td>\n",
       "      <td>0</td>\n",
       "      <td>0</td>\n",
       "      <td>0</td>\n",
       "      <td>0</td>\n",
       "    </tr>\n",
       "    <tr>\n",
       "      <th>2</th>\n",
       "      <td>Information we collect: Unless you use the \"Fi...</td>\n",
       "      <td>0</td>\n",
       "      <td>0</td>\n",
       "      <td>2</td>\n",
       "      <td>0</td>\n",
       "      <td>0.0</td>\n",
       "      <td>0.0</td>\n",
       "      <td>0.0</td>\n",
       "      <td>1.0</td>\n",
       "      <td>0.0</td>\n",
       "      <td>...</td>\n",
       "      <td>0</td>\n",
       "      <td>0</td>\n",
       "      <td>0</td>\n",
       "      <td>0</td>\n",
       "      <td>0</td>\n",
       "      <td>0</td>\n",
       "      <td>0</td>\n",
       "      <td>0</td>\n",
       "      <td>0</td>\n",
       "      <td>0</td>\n",
       "    </tr>\n",
       "  </tbody>\n",
       "</table>\n",
       "<p>3 rows × 614 columns</p>\n",
       "</div>"
      ],
      "text/plain": [
       "                                        segment_text  SSO  Facebook_SSO  \\\n",
       "0                            Home Find my phone Blog    0             0   \n",
       "1  Privacy Policy 360 Security (the \"Software\") i...    0             0   \n",
       "2  Information we collect: Unless you use the \"Fi...    0             0   \n",
       "\n",
       "   1st_party  3rd_party  Contact  Contact_Address_Book  Contact_City  \\\n",
       "0          0          0      0.0                   0.0           0.0   \n",
       "1          0          0      0.0                   0.0           0.0   \n",
       "2          2          0      0.0                   0.0           0.0   \n",
       "\n",
       "   Contact_E_Mail_Address  Contact_Password  ...  never be acquired  \\\n",
       "0                     0.0               0.0  ...                  0   \n",
       "1                     0.0               0.0  ...                  0   \n",
       "2                     1.0               0.0  ...                  0   \n",
       "\n",
       "   never be viewed  never be located  never be asked  never be utilized  \\\n",
       "0                0                 0               0                  0   \n",
       "1                0                 0               0                  0   \n",
       "2                0                 0               0                  0   \n",
       "\n",
       "   never be requested  never be transmitted  never be communicated  \\\n",
       "0                   0                     0                      0   \n",
       "1                   0                     0                      0   \n",
       "2                   0                     0                      0   \n",
       "\n",
       "   nor do we collect  does not tell us  \n",
       "0                  0                 0  \n",
       "1                  0                 0  \n",
       "2                  0                 0  \n",
       "\n",
       "[3 rows x 614 columns]"
      ]
     },
     "execution_count": 88,
     "metadata": {},
     "output_type": "execute_result"
    }
   ],
   "source": [
    "train_set.head(3)"
   ]
  },
  {
   "cell_type": "code",
   "execution_count": 89,
   "id": "4614a959",
   "metadata": {},
   "outputs": [],
   "source": [
    "from sklearn.feature_extraction.text import TfidfVectorizer"
   ]
  },
  {
   "cell_type": "code",
   "execution_count": 90,
   "id": "c876c975",
   "metadata": {},
   "outputs": [
    {
     "data": {
      "text/html": [
       "<style>#sk-container-id-3 {color: black;background-color: white;}#sk-container-id-3 pre{padding: 0;}#sk-container-id-3 div.sk-toggleable {background-color: white;}#sk-container-id-3 label.sk-toggleable__label {cursor: pointer;display: block;width: 100%;margin-bottom: 0;padding: 0.3em;box-sizing: border-box;text-align: center;}#sk-container-id-3 label.sk-toggleable__label-arrow:before {content: \"▸\";float: left;margin-right: 0.25em;color: #696969;}#sk-container-id-3 label.sk-toggleable__label-arrow:hover:before {color: black;}#sk-container-id-3 div.sk-estimator:hover label.sk-toggleable__label-arrow:before {color: black;}#sk-container-id-3 div.sk-toggleable__content {max-height: 0;max-width: 0;overflow: hidden;text-align: left;background-color: #f0f8ff;}#sk-container-id-3 div.sk-toggleable__content pre {margin: 0.2em;color: black;border-radius: 0.25em;background-color: #f0f8ff;}#sk-container-id-3 input.sk-toggleable__control:checked~div.sk-toggleable__content {max-height: 200px;max-width: 100%;overflow: auto;}#sk-container-id-3 input.sk-toggleable__control:checked~label.sk-toggleable__label-arrow:before {content: \"▾\";}#sk-container-id-3 div.sk-estimator input.sk-toggleable__control:checked~label.sk-toggleable__label {background-color: #d4ebff;}#sk-container-id-3 div.sk-label input.sk-toggleable__control:checked~label.sk-toggleable__label {background-color: #d4ebff;}#sk-container-id-3 input.sk-hidden--visually {border: 0;clip: rect(1px 1px 1px 1px);clip: rect(1px, 1px, 1px, 1px);height: 1px;margin: -1px;overflow: hidden;padding: 0;position: absolute;width: 1px;}#sk-container-id-3 div.sk-estimator {font-family: monospace;background-color: #f0f8ff;border: 1px dotted black;border-radius: 0.25em;box-sizing: border-box;margin-bottom: 0.5em;}#sk-container-id-3 div.sk-estimator:hover {background-color: #d4ebff;}#sk-container-id-3 div.sk-parallel-item::after {content: \"\";width: 100%;border-bottom: 1px solid gray;flex-grow: 1;}#sk-container-id-3 div.sk-label:hover label.sk-toggleable__label {background-color: #d4ebff;}#sk-container-id-3 div.sk-serial::before {content: \"\";position: absolute;border-left: 1px solid gray;box-sizing: border-box;top: 0;bottom: 0;left: 50%;z-index: 0;}#sk-container-id-3 div.sk-serial {display: flex;flex-direction: column;align-items: center;background-color: white;padding-right: 0.2em;padding-left: 0.2em;position: relative;}#sk-container-id-3 div.sk-item {position: relative;z-index: 1;}#sk-container-id-3 div.sk-parallel {display: flex;align-items: stretch;justify-content: center;background-color: white;position: relative;}#sk-container-id-3 div.sk-item::before, #sk-container-id-3 div.sk-parallel-item::before {content: \"\";position: absolute;border-left: 1px solid gray;box-sizing: border-box;top: 0;bottom: 0;left: 50%;z-index: -1;}#sk-container-id-3 div.sk-parallel-item {display: flex;flex-direction: column;z-index: 1;position: relative;background-color: white;}#sk-container-id-3 div.sk-parallel-item:first-child::after {align-self: flex-end;width: 50%;}#sk-container-id-3 div.sk-parallel-item:last-child::after {align-self: flex-start;width: 50%;}#sk-container-id-3 div.sk-parallel-item:only-child::after {width: 0;}#sk-container-id-3 div.sk-dashed-wrapped {border: 1px dashed gray;margin: 0 0.4em 0.5em 0.4em;box-sizing: border-box;padding-bottom: 0.4em;background-color: white;}#sk-container-id-3 div.sk-label label {font-family: monospace;font-weight: bold;display: inline-block;line-height: 1.2em;}#sk-container-id-3 div.sk-label-container {text-align: center;}#sk-container-id-3 div.sk-container {/* jupyter's `normalize.less` sets `[hidden] { display: none; }` but bootstrap.min.css set `[hidden] { display: none !important; }` so we also need the `!important` here to be able to override the default hidden behavior on the sphinx rendered scikit-learn.org. See: https://github.com/scikit-learn/scikit-learn/issues/21755 */display: inline-block !important;position: relative;}#sk-container-id-3 div.sk-text-repr-fallback {display: none;}</style><div id=\"sk-container-id-3\" class=\"sk-top-container\"><div class=\"sk-text-repr-fallback\"><pre>TfidfVectorizer(binary=True, ngram_range=(1, 2), stop_words=&#x27;english&#x27;)</pre><b>In a Jupyter environment, please rerun this cell to show the HTML representation or trust the notebook. <br />On GitHub, the HTML representation is unable to render, please try loading this page with nbviewer.org.</b></div><div class=\"sk-container\" hidden><div class=\"sk-item\"><div class=\"sk-estimator sk-toggleable\"><input class=\"sk-toggleable__control sk-hidden--visually\" id=\"sk-estimator-id-3\" type=\"checkbox\" checked><label for=\"sk-estimator-id-3\" class=\"sk-toggleable__label sk-toggleable__label-arrow\">TfidfVectorizer</label><div class=\"sk-toggleable__content\"><pre>TfidfVectorizer(binary=True, ngram_range=(1, 2), stop_words=&#x27;english&#x27;)</pre></div></div></div></div></div>"
      ],
      "text/plain": [
       "TfidfVectorizer(binary=True, ngram_range=(1, 2), stop_words='english')"
      ]
     },
     "execution_count": 90,
     "metadata": {},
     "output_type": "execute_result"
    }
   ],
   "source": [
    "tfidf = TfidfVectorizer(ngram_range=(1,2), stop_words='english', binary=True)\n",
    "tfidf.fit(train_set['segment_text'])"
   ]
  },
  {
   "cell_type": "code",
   "execution_count": 91,
   "id": "a436a5e5",
   "metadata": {},
   "outputs": [
    {
     "name": "stdout",
     "output_type": "stream",
     "text": [
      "<class 'scipy.sparse._csr.csr_matrix'>\n",
      "(10719, 142578)\n"
     ]
    }
   ],
   "source": [
    "train_tfidf = tfidf.transform(train_set['segment_text'])\n",
    "print(type(train_tfidf))\n",
    "print(train_tfidf.shape)"
   ]
  },
  {
   "cell_type": "code",
   "execution_count": 92,
   "id": "6458e0a4",
   "metadata": {},
   "outputs": [
    {
     "data": {
      "text/plain": [
       "68222.02135058281"
      ]
     },
     "execution_count": 92,
     "metadata": {},
     "output_type": "execute_result"
    }
   ],
   "source": [
    "train_tfidf.sum() "
   ]
  },
  {
   "cell_type": "code",
   "execution_count": 93,
   "id": "c5190782",
   "metadata": {},
   "outputs": [
    {
     "data": {
      "text/plain": [
       "84299.0"
      ]
     },
     "execution_count": 93,
     "metadata": {},
     "output_type": "execute_result"
    }
   ],
   "source": [
    "train_set.iloc[:,1:].sum().sum()"
   ]
  },
  {
   "cell_type": "markdown",
   "id": "13e37b46",
   "metadata": {},
   "source": [
    "Must take the targets from the train_set df and save them as Y_train"
   ]
  },
  {
   "cell_type": "code",
   "execution_count": 94,
   "id": "efe4fb34",
   "metadata": {},
   "outputs": [
    {
     "name": "stdout",
     "output_type": "stream",
     "text": [
      "(10719, 34)\n"
     ]
    },
    {
     "data": {
      "text/html": [
       "<div>\n",
       "<style scoped>\n",
       "    .dataframe tbody tr th:only-of-type {\n",
       "        vertical-align: middle;\n",
       "    }\n",
       "\n",
       "    .dataframe tbody tr th {\n",
       "        vertical-align: top;\n",
       "    }\n",
       "\n",
       "    .dataframe thead th {\n",
       "        text-align: right;\n",
       "    }\n",
       "</style>\n",
       "<table border=\"1\" class=\"dataframe\">\n",
       "  <thead>\n",
       "    <tr style=\"text-align: right;\">\n",
       "      <th></th>\n",
       "      <th>SSO</th>\n",
       "      <th>Facebook_SSO</th>\n",
       "      <th>1st_party</th>\n",
       "      <th>3rd_party</th>\n",
       "      <th>Contact</th>\n",
       "      <th>Contact_Address_Book</th>\n",
       "      <th>Contact_City</th>\n",
       "      <th>Contact_E_Mail_Address</th>\n",
       "      <th>Contact_Password</th>\n",
       "      <th>Contact_Phone_Number</th>\n",
       "      <th>...</th>\n",
       "      <th>Identifier_SIM_Serial</th>\n",
       "      <th>Identifier_SSID_BSSID</th>\n",
       "      <th>Location</th>\n",
       "      <th>Location_Bluetooth</th>\n",
       "      <th>Location_Cell_Tower</th>\n",
       "      <th>Location_GPS</th>\n",
       "      <th>Location_IP_Address</th>\n",
       "      <th>Location_WiFi</th>\n",
       "      <th>PERFORMED</th>\n",
       "      <th>NOT_PERFORMED</th>\n",
       "    </tr>\n",
       "  </thead>\n",
       "  <tbody>\n",
       "    <tr>\n",
       "      <th>0</th>\n",
       "      <td>0</td>\n",
       "      <td>0</td>\n",
       "      <td>0</td>\n",
       "      <td>0</td>\n",
       "      <td>0.0</td>\n",
       "      <td>0.0</td>\n",
       "      <td>0.0</td>\n",
       "      <td>0.0</td>\n",
       "      <td>0.0</td>\n",
       "      <td>0.0</td>\n",
       "      <td>...</td>\n",
       "      <td>0.0</td>\n",
       "      <td>0.0</td>\n",
       "      <td>0.0</td>\n",
       "      <td>0.0</td>\n",
       "      <td>0.0</td>\n",
       "      <td>0.0</td>\n",
       "      <td>0.0</td>\n",
       "      <td>0.0</td>\n",
       "      <td>0</td>\n",
       "      <td>0</td>\n",
       "    </tr>\n",
       "    <tr>\n",
       "      <th>1</th>\n",
       "      <td>0</td>\n",
       "      <td>0</td>\n",
       "      <td>0</td>\n",
       "      <td>0</td>\n",
       "      <td>0.0</td>\n",
       "      <td>0.0</td>\n",
       "      <td>0.0</td>\n",
       "      <td>0.0</td>\n",
       "      <td>0.0</td>\n",
       "      <td>0.0</td>\n",
       "      <td>...</td>\n",
       "      <td>0.0</td>\n",
       "      <td>0.0</td>\n",
       "      <td>0.0</td>\n",
       "      <td>0.0</td>\n",
       "      <td>0.0</td>\n",
       "      <td>0.0</td>\n",
       "      <td>0.0</td>\n",
       "      <td>0.0</td>\n",
       "      <td>0</td>\n",
       "      <td>0</td>\n",
       "    </tr>\n",
       "    <tr>\n",
       "      <th>2</th>\n",
       "      <td>0</td>\n",
       "      <td>0</td>\n",
       "      <td>2</td>\n",
       "      <td>0</td>\n",
       "      <td>0.0</td>\n",
       "      <td>0.0</td>\n",
       "      <td>0.0</td>\n",
       "      <td>1.0</td>\n",
       "      <td>0.0</td>\n",
       "      <td>0.0</td>\n",
       "      <td>...</td>\n",
       "      <td>0.0</td>\n",
       "      <td>0.0</td>\n",
       "      <td>0.0</td>\n",
       "      <td>0.0</td>\n",
       "      <td>0.0</td>\n",
       "      <td>0.0</td>\n",
       "      <td>0.0</td>\n",
       "      <td>0.0</td>\n",
       "      <td>2</td>\n",
       "      <td>0</td>\n",
       "    </tr>\n",
       "  </tbody>\n",
       "</table>\n",
       "<p>3 rows × 34 columns</p>\n",
       "</div>"
      ],
      "text/plain": [
       "   SSO  Facebook_SSO  1st_party  3rd_party  Contact  Contact_Address_Book  \\\n",
       "0    0             0          0          0      0.0                   0.0   \n",
       "1    0             0          0          0      0.0                   0.0   \n",
       "2    0             0          2          0      0.0                   0.0   \n",
       "\n",
       "   Contact_City  Contact_E_Mail_Address  Contact_Password  \\\n",
       "0           0.0                     0.0               0.0   \n",
       "1           0.0                     0.0               0.0   \n",
       "2           0.0                     1.0               0.0   \n",
       "\n",
       "   Contact_Phone_Number  ...  Identifier_SIM_Serial  Identifier_SSID_BSSID  \\\n",
       "0                   0.0  ...                    0.0                    0.0   \n",
       "1                   0.0  ...                    0.0                    0.0   \n",
       "2                   0.0  ...                    0.0                    0.0   \n",
       "\n",
       "   Location  Location_Bluetooth  Location_Cell_Tower  Location_GPS  \\\n",
       "0       0.0                 0.0                  0.0           0.0   \n",
       "1       0.0                 0.0                  0.0           0.0   \n",
       "2       0.0                 0.0                  0.0           0.0   \n",
       "\n",
       "   Location_IP_Address  Location_WiFi  PERFORMED  NOT_PERFORMED  \n",
       "0                  0.0            0.0          0              0  \n",
       "1                  0.0            0.0          0              0  \n",
       "2                  0.0            0.0          2              0  \n",
       "\n",
       "[3 rows x 34 columns]"
      ]
     },
     "metadata": {},
     "output_type": "display_data"
    }
   ],
   "source": [
    "Y_train = train_set.loc[:,'SSO':'NOT_PERFORMED']\n",
    "print(Y_train.shape) # should have 34 targets\n",
    "display(Y_train.head(3))"
   ]
  },
  {
   "cell_type": "code",
   "execution_count": 97,
   "id": "37cc744e",
   "metadata": {
    "scrolled": true
   },
   "outputs": [
    {
     "data": {
      "text/plain": [
       "1.0"
      ]
     },
     "execution_count": 97,
     "metadata": {},
     "output_type": "execute_result"
    }
   ],
   "source": [
    "# Ensure Y_train only has binary values\n",
    "for column in Y_train.columns:\n",
    "    for i in range(len(Y_train[column])):\n",
    "\n",
    "        if Y_train.at[i, column] > 1:\n",
    "            Y_train.at[i, column] = 1\n",
    "Y_train.max().max() # should be 1"
   ]
  },
  {
   "cell_type": "markdown",
   "id": "cefc419e",
   "metadata": {},
   "source": [
    "X_train will be made up of the crafted features plus the tfidf matrix.  I will start by removing the targets from the train set to just be left with the crafted features.  Then I will combine with the tfidf matrix."
   ]
  },
  {
   "cell_type": "code",
   "execution_count": 63,
   "id": "b922d95b",
   "metadata": {},
   "outputs": [
    {
     "name": "stdout",
     "output_type": "stream",
     "text": [
      "(10719, 579)\n"
     ]
    },
    {
     "data": {
      "text/html": [
       "<div>\n",
       "<style scoped>\n",
       "    .dataframe tbody tr th:only-of-type {\n",
       "        vertical-align: middle;\n",
       "    }\n",
       "\n",
       "    .dataframe tbody tr th {\n",
       "        vertical-align: top;\n",
       "    }\n",
       "\n",
       "    .dataframe thead th {\n",
       "        text-align: right;\n",
       "    }\n",
       "</style>\n",
       "<table border=\"1\" class=\"dataframe\">\n",
       "  <thead>\n",
       "    <tr style=\"text-align: right;\">\n",
       "      <th></th>\n",
       "      <th>contact info</th>\n",
       "      <th>contact details</th>\n",
       "      <th>contact data</th>\n",
       "      <th>e.g., your name</th>\n",
       "      <th>contact you</th>\n",
       "      <th>your contact</th>\n",
       "      <th>identify, contact</th>\n",
       "      <th>identifying information</th>\n",
       "      <th>your name, address, and e-mail address</th>\n",
       "      <th>including e-mail</th>\n",
       "      <th>...</th>\n",
       "      <th>never be acquired</th>\n",
       "      <th>never be viewed</th>\n",
       "      <th>never be located</th>\n",
       "      <th>never be asked</th>\n",
       "      <th>never be utilized</th>\n",
       "      <th>never be requested</th>\n",
       "      <th>never be transmitted</th>\n",
       "      <th>never be communicated</th>\n",
       "      <th>nor do we collect</th>\n",
       "      <th>does not tell us</th>\n",
       "    </tr>\n",
       "  </thead>\n",
       "  <tbody>\n",
       "    <tr>\n",
       "      <th>4824</th>\n",
       "      <td>0</td>\n",
       "      <td>0</td>\n",
       "      <td>0</td>\n",
       "      <td>0</td>\n",
       "      <td>0</td>\n",
       "      <td>0</td>\n",
       "      <td>0</td>\n",
       "      <td>0</td>\n",
       "      <td>0</td>\n",
       "      <td>0</td>\n",
       "      <td>...</td>\n",
       "      <td>0</td>\n",
       "      <td>0</td>\n",
       "      <td>0</td>\n",
       "      <td>0</td>\n",
       "      <td>0</td>\n",
       "      <td>0</td>\n",
       "      <td>0</td>\n",
       "      <td>0</td>\n",
       "      <td>0</td>\n",
       "      <td>0</td>\n",
       "    </tr>\n",
       "    <tr>\n",
       "      <th>4825</th>\n",
       "      <td>0</td>\n",
       "      <td>0</td>\n",
       "      <td>0</td>\n",
       "      <td>0</td>\n",
       "      <td>0</td>\n",
       "      <td>0</td>\n",
       "      <td>0</td>\n",
       "      <td>0</td>\n",
       "      <td>0</td>\n",
       "      <td>0</td>\n",
       "      <td>...</td>\n",
       "      <td>0</td>\n",
       "      <td>0</td>\n",
       "      <td>0</td>\n",
       "      <td>0</td>\n",
       "      <td>0</td>\n",
       "      <td>0</td>\n",
       "      <td>0</td>\n",
       "      <td>0</td>\n",
       "      <td>0</td>\n",
       "      <td>0</td>\n",
       "    </tr>\n",
       "    <tr>\n",
       "      <th>4826</th>\n",
       "      <td>0</td>\n",
       "      <td>0</td>\n",
       "      <td>0</td>\n",
       "      <td>0</td>\n",
       "      <td>0</td>\n",
       "      <td>0</td>\n",
       "      <td>0</td>\n",
       "      <td>0</td>\n",
       "      <td>0</td>\n",
       "      <td>0</td>\n",
       "      <td>...</td>\n",
       "      <td>0</td>\n",
       "      <td>0</td>\n",
       "      <td>0</td>\n",
       "      <td>0</td>\n",
       "      <td>0</td>\n",
       "      <td>0</td>\n",
       "      <td>0</td>\n",
       "      <td>0</td>\n",
       "      <td>0</td>\n",
       "      <td>0</td>\n",
       "    </tr>\n",
       "  </tbody>\n",
       "</table>\n",
       "<p>3 rows × 579 columns</p>\n",
       "</div>"
      ],
      "text/plain": [
       "      contact info  contact details  contact data  e.g., your name  \\\n",
       "4824             0                0             0                0   \n",
       "4825             0                0             0                0   \n",
       "4826             0                0             0                0   \n",
       "\n",
       "      contact you  your contact  identify, contact  identifying information  \\\n",
       "4824            0             0                  0                        0   \n",
       "4825            0             0                  0                        0   \n",
       "4826            0             0                  0                        0   \n",
       "\n",
       "      your name, address, and e-mail address  including e-mail  ...  \\\n",
       "4824                                       0                 0  ...   \n",
       "4825                                       0                 0  ...   \n",
       "4826                                       0                 0  ...   \n",
       "\n",
       "      never be acquired  never be viewed  never be located  never be asked  \\\n",
       "4824                  0                0                 0               0   \n",
       "4825                  0                0                 0               0   \n",
       "4826                  0                0                 0               0   \n",
       "\n",
       "      never be utilized  never be requested  never be transmitted  \\\n",
       "4824                  0                   0                     0   \n",
       "4825                  0                   0                     0   \n",
       "4826                  0                   0                     0   \n",
       "\n",
       "      never be communicated  nor do we collect  does not tell us  \n",
       "4824                      0                  0                 0  \n",
       "4825                      0                  0                 0  \n",
       "4826                      0                  0                 0  \n",
       "\n",
       "[3 rows x 579 columns]"
      ]
     },
     "metadata": {},
     "output_type": "display_data"
    }
   ],
   "source": [
    "# Remove the targets from X_train\n",
    "train_cfs = train_set.loc[:,'contact info':]\n",
    "print(train_cfs.shape) # should have 579 features\n",
    "display(train_cfs.head(3))"
   ]
  },
  {
   "cell_type": "code",
   "execution_count": 64,
   "id": "66f246b5",
   "metadata": {},
   "outputs": [],
   "source": [
    "from scipy.sparse import csr_matrix, hstack"
   ]
  },
  {
   "cell_type": "code",
   "execution_count": 65,
   "id": "1d87fd66",
   "metadata": {},
   "outputs": [
    {
     "name": "stdout",
     "output_type": "stream",
     "text": [
      "<class 'scipy.sparse._csr.csr_matrix'>\n",
      "(10719, 579)\n"
     ]
    }
   ],
   "source": [
    "# convert to sparse\n",
    "X_train = csr_matrix(train_cfs)\n",
    "print(type(X_train))\n",
    "print(X_train.shape)"
   ]
  },
  {
   "cell_type": "code",
   "execution_count": 66,
   "id": "41c66a0c",
   "metadata": {},
   "outputs": [
    {
     "name": "stdout",
     "output_type": "stream",
     "text": [
      "(10719, 143157)\n"
     ]
    }
   ],
   "source": [
    "X_train = hstack([X_train,train_tfidf])\n",
    "print(X_train.shape)"
   ]
  },
  {
   "cell_type": "markdown",
   "id": "99da6f48",
   "metadata": {},
   "source": [
    "## Create Test set\n",
    "\n",
    "Exact same steps as done for Train set"
   ]
  },
  {
   "cell_type": "code",
   "execution_count": 160,
   "id": "cac8f82f",
   "metadata": {},
   "outputs": [
    {
     "name": "stdout",
     "output_type": "stream",
     "text": [
      "Old size (15543, 620)\n",
      "New size (4824, 620)\n",
      "Y_test shape: (4824, 34) should equal 34 targets\n",
      "1.0 should be one\n",
      "test_cfs shape: (4824, 579) should have 579 features\n",
      "X_test shape: (4824, 143157)\n"
     ]
    }
   ],
   "source": [
    "test_set = pd.read_pickle(\"crafted_features_df.pkl\")\n",
    "print(f\"Old size {test_set.shape}\")\n",
    "test_set = test_set.loc[test_set['policy_type'] == 'TEST' ]\n",
    "print(f\"New size {test_set.shape}\")\n",
    "# reset index\n",
    "test_set = test_set.reset_index(drop = True)\n",
    "# Remove other columns not required\n",
    "test_set.drop(columns=['source_policy_number', 'policy_type', 'contains_synthetic',\n",
    "       'policy_segment_id', 'annotations', 'sentences'], inplace=True)\n",
    "\n",
    "test_tfidf = tfidf.transform(test_set['segment_text'])\n",
    "\n",
    "#taking the targets from the test_set df and save them as Y_test\n",
    "Y_test = test_set.loc[:,'SSO':'NOT_PERFORMED']\n",
    "print(f\"Y_test shape: {Y_test.shape} should equal 34 targets\") # should have 34 targets\n",
    "\n",
    "# Ensure Y_test only has binary values\n",
    "for column in Y_test.columns:\n",
    "    for i in range(len(Y_test[column])):\n",
    "\n",
    "        if Y_test.at[i, column] > 1:\n",
    "            Y_test.at[i, column] = 1\n",
    "print(f\"{Y_test.max().max()} should be one\") # should be 1\n",
    "\n",
    "# Remove the targets from X_test\n",
    "test_cfs = test_set.loc[:,'contact info':]\n",
    "print(f\"test_cfs shape: {test_cfs.shape} should have 579 features\") # should have 579 features\n",
    "\n",
    "# convert to sparse\n",
    "X_test = csr_matrix(test_cfs)\n",
    "# combine\n",
    "X_test = hstack([X_test,test_tfidf])\n",
    "print(f\"X_test shape: {X_test.shape}\")"
   ]
  },
  {
   "cell_type": "markdown",
   "id": "34d4888f",
   "metadata": {},
   "source": [
    "I'm going to have to make a list of all the pre-processing/pipeline options so that I know what I have done and what I can play around with."
   ]
  },
  {
   "cell_type": "markdown",
   "id": "da995a58",
   "metadata": {},
   "source": [
    "**Note: Optional EDA can be done on the tf-idf**"
   ]
  },
  {
   "cell_type": "markdown",
   "id": "5286ff60",
   "metadata": {},
   "source": [
    "linear kernel (kernel=’linear’), balanced class weights (class weight=’balanced’), and a grid search with five-fold cross-validation over the penalty (C=[0.1, 1, 10]) and gamma (gamma=[0.001, 0.01, 0.1]) "
   ]
  },
  {
   "cell_type": "code",
   "execution_count": 121,
   "id": "8dc30102",
   "metadata": {},
   "outputs": [],
   "source": [
    "from sklearn.svm import LinearSVC\n",
    "from sklearn.svm import SVC"
   ]
  },
  {
   "cell_type": "markdown",
   "id": "b2d04d01",
   "metadata": {},
   "source": [
    "I would try using LinearSVC instead of what they used SVC with kernel=Linear because SKLearn documentation says scale better to large numbers of samples"
   ]
  },
  {
   "cell_type": "code",
   "execution_count": 76,
   "id": "270a5de4",
   "metadata": {},
   "outputs": [],
   "source": [
    "SVM_model = SVC(kernel='linear', class_weight='balanced', C=0.1, gamma=0.1)"
   ]
  },
  {
   "cell_type": "code",
   "execution_count": 101,
   "id": "a5f15505",
   "metadata": {},
   "outputs": [
    {
     "name": "stdout",
     "output_type": "stream",
     "text": [
      "CPU times: user 7.93 s, sys: 94.8 ms, total: 8.02 s\n",
      "Wall time: 8.06 s\n"
     ]
    },
    {
     "data": {
      "text/html": [
       "<style>#sk-container-id-4 {color: black;background-color: white;}#sk-container-id-4 pre{padding: 0;}#sk-container-id-4 div.sk-toggleable {background-color: white;}#sk-container-id-4 label.sk-toggleable__label {cursor: pointer;display: block;width: 100%;margin-bottom: 0;padding: 0.3em;box-sizing: border-box;text-align: center;}#sk-container-id-4 label.sk-toggleable__label-arrow:before {content: \"▸\";float: left;margin-right: 0.25em;color: #696969;}#sk-container-id-4 label.sk-toggleable__label-arrow:hover:before {color: black;}#sk-container-id-4 div.sk-estimator:hover label.sk-toggleable__label-arrow:before {color: black;}#sk-container-id-4 div.sk-toggleable__content {max-height: 0;max-width: 0;overflow: hidden;text-align: left;background-color: #f0f8ff;}#sk-container-id-4 div.sk-toggleable__content pre {margin: 0.2em;color: black;border-radius: 0.25em;background-color: #f0f8ff;}#sk-container-id-4 input.sk-toggleable__control:checked~div.sk-toggleable__content {max-height: 200px;max-width: 100%;overflow: auto;}#sk-container-id-4 input.sk-toggleable__control:checked~label.sk-toggleable__label-arrow:before {content: \"▾\";}#sk-container-id-4 div.sk-estimator input.sk-toggleable__control:checked~label.sk-toggleable__label {background-color: #d4ebff;}#sk-container-id-4 div.sk-label input.sk-toggleable__control:checked~label.sk-toggleable__label {background-color: #d4ebff;}#sk-container-id-4 input.sk-hidden--visually {border: 0;clip: rect(1px 1px 1px 1px);clip: rect(1px, 1px, 1px, 1px);height: 1px;margin: -1px;overflow: hidden;padding: 0;position: absolute;width: 1px;}#sk-container-id-4 div.sk-estimator {font-family: monospace;background-color: #f0f8ff;border: 1px dotted black;border-radius: 0.25em;box-sizing: border-box;margin-bottom: 0.5em;}#sk-container-id-4 div.sk-estimator:hover {background-color: #d4ebff;}#sk-container-id-4 div.sk-parallel-item::after {content: \"\";width: 100%;border-bottom: 1px solid gray;flex-grow: 1;}#sk-container-id-4 div.sk-label:hover label.sk-toggleable__label {background-color: #d4ebff;}#sk-container-id-4 div.sk-serial::before {content: \"\";position: absolute;border-left: 1px solid gray;box-sizing: border-box;top: 0;bottom: 0;left: 50%;z-index: 0;}#sk-container-id-4 div.sk-serial {display: flex;flex-direction: column;align-items: center;background-color: white;padding-right: 0.2em;padding-left: 0.2em;position: relative;}#sk-container-id-4 div.sk-item {position: relative;z-index: 1;}#sk-container-id-4 div.sk-parallel {display: flex;align-items: stretch;justify-content: center;background-color: white;position: relative;}#sk-container-id-4 div.sk-item::before, #sk-container-id-4 div.sk-parallel-item::before {content: \"\";position: absolute;border-left: 1px solid gray;box-sizing: border-box;top: 0;bottom: 0;left: 50%;z-index: -1;}#sk-container-id-4 div.sk-parallel-item {display: flex;flex-direction: column;z-index: 1;position: relative;background-color: white;}#sk-container-id-4 div.sk-parallel-item:first-child::after {align-self: flex-end;width: 50%;}#sk-container-id-4 div.sk-parallel-item:last-child::after {align-self: flex-start;width: 50%;}#sk-container-id-4 div.sk-parallel-item:only-child::after {width: 0;}#sk-container-id-4 div.sk-dashed-wrapped {border: 1px dashed gray;margin: 0 0.4em 0.5em 0.4em;box-sizing: border-box;padding-bottom: 0.4em;background-color: white;}#sk-container-id-4 div.sk-label label {font-family: monospace;font-weight: bold;display: inline-block;line-height: 1.2em;}#sk-container-id-4 div.sk-label-container {text-align: center;}#sk-container-id-4 div.sk-container {/* jupyter's `normalize.less` sets `[hidden] { display: none; }` but bootstrap.min.css set `[hidden] { display: none !important; }` so we also need the `!important` here to be able to override the default hidden behavior on the sphinx rendered scikit-learn.org. See: https://github.com/scikit-learn/scikit-learn/issues/21755 */display: inline-block !important;position: relative;}#sk-container-id-4 div.sk-text-repr-fallback {display: none;}</style><div id=\"sk-container-id-4\" class=\"sk-top-container\"><div class=\"sk-text-repr-fallback\"><pre>SVC(C=0.1, class_weight=&#x27;balanced&#x27;, gamma=0.1, kernel=&#x27;linear&#x27;)</pre><b>In a Jupyter environment, please rerun this cell to show the HTML representation or trust the notebook. <br />On GitHub, the HTML representation is unable to render, please try loading this page with nbviewer.org.</b></div><div class=\"sk-container\" hidden><div class=\"sk-item\"><div class=\"sk-estimator sk-toggleable\"><input class=\"sk-toggleable__control sk-hidden--visually\" id=\"sk-estimator-id-4\" type=\"checkbox\" checked><label for=\"sk-estimator-id-4\" class=\"sk-toggleable__label sk-toggleable__label-arrow\">SVC</label><div class=\"sk-toggleable__content\"><pre>SVC(C=0.1, class_weight=&#x27;balanced&#x27;, gamma=0.1, kernel=&#x27;linear&#x27;)</pre></div></div></div></div></div>"
      ],
      "text/plain": [
       "SVC(C=0.1, class_weight='balanced', gamma=0.1, kernel='linear')"
      ]
     },
     "execution_count": 101,
     "metadata": {},
     "output_type": "execute_result"
    }
   ],
   "source": [
    "%%time\n",
    "SVM_model.fit(X_train, Y_train[\"SSO\"]) # just doing a single class to start with"
   ]
  },
  {
   "cell_type": "code",
   "execution_count": 105,
   "id": "d4a62ad4",
   "metadata": {},
   "outputs": [
    {
     "name": "stdout",
     "output_type": "stream",
     "text": [
      "CPU times: user 8.17 s, sys: 37.7 ms, total: 8.2 s\n",
      "Wall time: 8.29 s\n"
     ]
    }
   ],
   "source": [
    "%%time\n",
    "firstprediction = SVM_model.predict(X_train)"
   ]
  },
  {
   "cell_type": "code",
   "execution_count": 108,
   "id": "296d62bc",
   "metadata": {},
   "outputs": [],
   "source": [
    "from sklearn.metrics import accuracy_score, confusion_matrix"
   ]
  },
  {
   "cell_type": "code",
   "execution_count": 107,
   "id": "77219e76",
   "metadata": {},
   "outputs": [
    {
     "name": "stdout",
     "output_type": "stream",
     "text": [
      "0.9802220356376528\n"
     ]
    }
   ],
   "source": [
    "print(accuracy_score(Y_train[\"SSO\"], firstprediction))"
   ]
  },
  {
   "cell_type": "code",
   "execution_count": 115,
   "id": "cf1a22d0",
   "metadata": {},
   "outputs": [
    {
     "data": {
      "text/html": [
       "<div>\n",
       "<style scoped>\n",
       "    .dataframe tbody tr th:only-of-type {\n",
       "        vertical-align: middle;\n",
       "    }\n",
       "\n",
       "    .dataframe tbody tr th {\n",
       "        vertical-align: top;\n",
       "    }\n",
       "\n",
       "    .dataframe thead th {\n",
       "        text-align: right;\n",
       "    }\n",
       "</style>\n",
       "<table border=\"1\" class=\"dataframe\">\n",
       "  <thead>\n",
       "    <tr style=\"text-align: right;\">\n",
       "      <th></th>\n",
       "      <th>Predicted Negative</th>\n",
       "      <th>Predicted Positive</th>\n",
       "    </tr>\n",
       "  </thead>\n",
       "  <tbody>\n",
       "    <tr>\n",
       "      <th>True Negative</th>\n",
       "      <td>10309</td>\n",
       "      <td>212</td>\n",
       "    </tr>\n",
       "    <tr>\n",
       "      <th>True Positive</th>\n",
       "      <td>0</td>\n",
       "      <td>198</td>\n",
       "    </tr>\n",
       "  </tbody>\n",
       "</table>\n",
       "</div>"
      ],
      "text/plain": [
       "               Predicted Negative  Predicted Positive\n",
       "True Negative               10309                 212\n",
       "True Positive                   0                 198"
      ]
     },
     "execution_count": 115,
     "metadata": {},
     "output_type": "execute_result"
    }
   ],
   "source": [
    "cf_matrix = confusion_matrix(Y_train[\"SSO\"], firstprediction)\n",
    "cf_df = pd.DataFrame(\n",
    "    cf_matrix, columns=[\"Predicted Negative\", \"Predicted Positive\"], index=[\"True Negative\", \"True Positive\"])\n",
    "cf_df"
   ]
  },
  {
   "cell_type": "code",
   "execution_count": 112,
   "id": "57542a6e",
   "metadata": {},
   "outputs": [
    {
     "data": {
      "text/plain": [
       "1.0"
      ]
     },
     "execution_count": 112,
     "metadata": {},
     "output_type": "execute_result"
    }
   ],
   "source": [
    "from sklearn.metrics import recall_score\n",
    "recall_score(Y_train[\"SSO\"], firstprediction) "
   ]
  },
  {
   "cell_type": "code",
   "execution_count": 113,
   "id": "c4b6ef2d",
   "metadata": {},
   "outputs": [
    {
     "data": {
      "text/plain": [
       "198"
      ]
     },
     "execution_count": 113,
     "metadata": {},
     "output_type": "execute_result"
    }
   ],
   "source": [
    "Y_train[\"SSO\"].sum()"
   ]
  },
  {
   "cell_type": "code",
   "execution_count": 117,
   "id": "5108f270",
   "metadata": {},
   "outputs": [
    {
     "name": "stdout",
     "output_type": "stream",
     "text": [
      "              precision    recall  f1-score   support\n",
      "\n",
      "           0       1.00      0.98      0.99     10521\n",
      "           1       0.48      1.00      0.65       198\n",
      "\n",
      "    accuracy                           0.98     10719\n",
      "   macro avg       0.74      0.99      0.82     10719\n",
      "weighted avg       0.99      0.98      0.98     10719\n",
      "\n"
     ]
    }
   ],
   "source": [
    "from sklearn.metrics import classification_report\n",
    "print(classification_report(Y_train[\"SSO\"], firstprediction))"
   ]
  },
  {
   "cell_type": "markdown",
   "id": "dc5e8d37",
   "metadata": {},
   "source": [
    "ROC curve is possible to create with SVM using proxies for threshold but not necessary for my purposes in comparing to the performance in MAPS.  Maybe interesting for some select classifier scores though."
   ]
  },
  {
   "cell_type": "markdown",
   "id": "374e373e",
   "metadata": {},
   "source": [
    "# Including or ommitting Crafted Features\n",
    "\n",
    "Based on a grid search, in cases where it improves classifier performance, we remove a segment’s sentences from further processing if they do not contain keywords related to the classifier in question. For example, the Location classifier is not trained on sentences which only describe cookies.\n",
    "\n",
    "Hmm.  I think I will have to find a way to reduce the dataframe.  I guess I can do it just for SSO, and see what steps I did.  Then I can either:\n",
    "- include it in the grid search. If it doubles training time, I might have to take it out.\n",
    "- Test it on only the fitted grid search – so only one extra model for each classifier. In fact I might struggle to make it part of the grid search.  This is the quickest option so let's do this for now."
   ]
  },
  {
   "cell_type": "markdown",
   "id": "6ac2cf67",
   "metadata": {},
   "source": [
    "**Full Pipeline plans**\n",
    "\n",
    "Which practice classifiers to train?\n",
    "\n",
    "CV Grid Search\n",
    "- Which Hyperparams to loop over – `C=[0.1, 1, 10]` and `gamma=[0.001, 0.01, 0.1]`\n",
    "- Whether to include Crafted Features (\"Based on a grid search, in cases where it improves classifier performance, we remove a segment’s sentences from further processing if they do not contain keywords related to the classifier in question. For example, the Location classifier is not trained on sentences which only describe cookies.\") I can do this using the hyperparameters set by the grid search.\n",
    "\n",
    "How it will select the \"best\" model from each run? It just does.\n",
    "\n",
    "Consider using memory dump to make your grid search run faster – as below memory = cachedir\n",
    "\n",
    "(After replication – Which other models to compare)"
   ]
  },
  {
   "cell_type": "code",
   "execution_count": 125,
   "id": "0de842a4",
   "metadata": {},
   "outputs": [],
   "source": [
    "from tempfile import mkdtemp\n",
    "cachedir = mkdtemp() # Memory dump to help with processing"
   ]
  },
  {
   "cell_type": "code",
   "execution_count": 127,
   "id": "99e8f18f",
   "metadata": {},
   "outputs": [],
   "source": [
    "from sklearn.pipeline import Pipeline\n",
    "from sklearn.model_selection import GridSearchCV"
   ]
  },
  {
   "cell_type": "markdown",
   "id": "3e96e584",
   "metadata": {},
   "source": [
    "**Create Pipeline**"
   ]
  },
  {
   "cell_type": "code",
   "execution_count": 140,
   "id": "041ca130",
   "metadata": {},
   "outputs": [],
   "source": [
    "estimators = [('SVC', SVC())]\n",
    "\n",
    "pipe = Pipeline(estimators, memory = cachedir)\n",
    "\n",
    "svc_params = {'SVC__C': [0.1, 1, 10],\n",
    "             'SVC__gamma': [0.001, 0.01, 0.1]}\n",
    "\n",
    "# Create grid search object\n",
    "grid_search_object = GridSearchCV(estimator=pipe, param_grid = svc_params, cv = 5, verbose=2, n_jobs=-1)"
   ]
  },
  {
   "cell_type": "code",
   "execution_count": 141,
   "id": "3dac1e44",
   "metadata": {},
   "outputs": [
    {
     "name": "stdout",
     "output_type": "stream",
     "text": [
      "(10719, 143157)\n",
      "(10719,)\n"
     ]
    }
   ],
   "source": [
    "y_train_SSO = Y_train[\"SSO\"]\n",
    "print(X_train.shape)\n",
    "print(y_train_SSO.shape)"
   ]
  },
  {
   "cell_type": "code",
   "execution_count": 143,
   "id": "d797121e",
   "metadata": {},
   "outputs": [],
   "source": [
    "%%time\n",
    "fitted_search = grid_search_object.fit(X_train, y_train_SSO)"
   ]
  },
  {
   "cell_type": "markdown",
   "id": "8290fd16",
   "metadata": {},
   "source": [
    "32 seconds!?!?"
   ]
  },
  {
   "cell_type": "code",
   "execution_count": 149,
   "id": "e3df54d9",
   "metadata": {},
   "outputs": [
    {
     "name": "stdout",
     "output_type": "stream",
     "text": [
      "Pipeline(memory='/var/folders/d2/s5sb3p416xbgzjf589bgpp_w0000gn/T/tmp9cxkrvu2',\n",
      "         steps=[('SVC', SVC(C=10, gamma=0.1))])\n"
     ]
    }
   ],
   "source": [
    "print(fitted_search.best_estimator_)"
   ]
  },
  {
   "cell_type": "markdown",
   "id": "d4ec5e46",
   "metadata": {},
   "source": [
    "**Fitted Search Evaluation**"
   ]
  },
  {
   "cell_type": "code",
   "execution_count": 150,
   "id": "9306c2ea",
   "metadata": {},
   "outputs": [
    {
     "data": {
      "text/plain": [
       "0.9997201231458158"
      ]
     },
     "execution_count": 150,
     "metadata": {},
     "output_type": "execute_result"
    }
   ],
   "source": [
    "fitted_search.score(X_train, y_train_SSO)"
   ]
  },
  {
   "cell_type": "code",
   "execution_count": 153,
   "id": "28b011b0",
   "metadata": {},
   "outputs": [],
   "source": [
    "grid_search_prediction = fitted_search.predict(X_train)"
   ]
  },
  {
   "cell_type": "code",
   "execution_count": 156,
   "id": "6602de07",
   "metadata": {},
   "outputs": [
    {
     "name": "stdout",
     "output_type": "stream",
     "text": [
      "              precision    recall  f1-score   support\n",
      "\n",
      "           0       1.00      1.00      1.00     10521\n",
      "           1       0.99      0.99      0.99       198\n",
      "\n",
      "    accuracy                           1.00     10719\n",
      "   macro avg       1.00      0.99      1.00     10719\n",
      "weighted avg       1.00      1.00      1.00     10719\n",
      "\n"
     ]
    }
   ],
   "source": [
    "print(classification_report(y_train_SSO, grid_search_prediction))"
   ]
  },
  {
   "cell_type": "code",
   "execution_count": 158,
   "id": "b4af1763",
   "metadata": {},
   "outputs": [
    {
     "data": {
      "text/html": [
       "<div>\n",
       "<style scoped>\n",
       "    .dataframe tbody tr th:only-of-type {\n",
       "        vertical-align: middle;\n",
       "    }\n",
       "\n",
       "    .dataframe tbody tr th {\n",
       "        vertical-align: top;\n",
       "    }\n",
       "\n",
       "    .dataframe thead th {\n",
       "        text-align: right;\n",
       "    }\n",
       "</style>\n",
       "<table border=\"1\" class=\"dataframe\">\n",
       "  <thead>\n",
       "    <tr style=\"text-align: right;\">\n",
       "      <th></th>\n",
       "      <th>Predicted Negative</th>\n",
       "      <th>Predicted Positive</th>\n",
       "    </tr>\n",
       "  </thead>\n",
       "  <tbody>\n",
       "    <tr>\n",
       "      <th>True Negative</th>\n",
       "      <td>10520</td>\n",
       "      <td>1</td>\n",
       "    </tr>\n",
       "    <tr>\n",
       "      <th>True Positive</th>\n",
       "      <td>2</td>\n",
       "      <td>196</td>\n",
       "    </tr>\n",
       "  </tbody>\n",
       "</table>\n",
       "</div>"
      ],
      "text/plain": [
       "               Predicted Negative  Predicted Positive\n",
       "True Negative               10520                   1\n",
       "True Positive                   2                 196"
      ]
     },
     "execution_count": 158,
     "metadata": {},
     "output_type": "execute_result"
    }
   ],
   "source": [
    "cf_matrix2 = confusion_matrix(y_train_SSO, grid_search_prediction)\n",
    "cf_df2 = pd.DataFrame(\n",
    "    cf_matrix2, columns=[\"Predicted Negative\", \"Predicted Positive\"], index=[\"True Negative\", \"True Positive\"])\n",
    "cf_df2"
   ]
  },
  {
   "cell_type": "markdown",
   "id": "3f6e4a8e",
   "metadata": {},
   "source": [
    "Well this is suspiciously overfitted.  Let's compare the results on the test data.\n",
    "\n",
    "**Results for test_SSO**"
   ]
  },
  {
   "cell_type": "code",
   "execution_count": 163,
   "id": "09296a06",
   "metadata": {},
   "outputs": [],
   "source": [
    "test_grid_search_prediction = fitted_search.predict(X_test)"
   ]
  },
  {
   "cell_type": "code",
   "execution_count": 164,
   "id": "e9d4267f",
   "metadata": {},
   "outputs": [
    {
     "name": "stdout",
     "output_type": "stream",
     "text": [
      "Accuracy score is 0.9859038142620232 \n",
      "              precision    recall  f1-score   support\n",
      "\n",
      "           0       0.99      1.00      0.99      4748\n",
      "           1       0.59      0.34      0.43        76\n",
      "\n",
      "    accuracy                           0.99      4824\n",
      "   macro avg       0.79      0.67      0.71      4824\n",
      "weighted avg       0.98      0.99      0.98      4824\n",
      "\n"
     ]
    }
   ],
   "source": [
    "print(f\"Accuracy score is {fitted_search.score(X_test, Y_test['SSO'])} \")\n",
    "print(classification_report(Y_test['SSO'], test_grid_search_prediction))"
   ]
  },
  {
   "cell_type": "markdown",
   "id": "0e04be5c",
   "metadata": {},
   "source": [
    "Thought: need to compare train and test scores to ensure not overfitting?  But using CV helps with that. Worries that if I look at the test score, I will just be overfitting on that.\n",
    "\n",
    "**What if I train on F1 score instead of accuracy?**"
   ]
  },
  {
   "cell_type": "code",
   "execution_count": 166,
   "id": "2bf544da",
   "metadata": {},
   "outputs": [],
   "source": [
    "estimators = [('SVC', SVC())]\n",
    "\n",
    "pipe = Pipeline(estimators, memory = cachedir)\n",
    "\n",
    "svc_params = {'SVC__C': [0.1, 1, 10],\n",
    "             'SVC__gamma': [0.001, 0.01, 0.1]}\n",
    "\n",
    "# Create grid search object\n",
    "grid_search_object = GridSearchCV(estimator=pipe, param_grid = svc_params, cv = 5, verbose=2, n_jobs=-1, scoring='f1')"
   ]
  },
  {
   "cell_type": "code",
   "execution_count": 167,
   "id": "d23cfd6b",
   "metadata": {},
   "outputs": [
    {
     "name": "stdout",
     "output_type": "stream",
     "text": [
      "Fitting 5 folds for each of 9 candidates, totalling 45 fits\n"
     ]
    }
   ],
   "source": [
    "fitted_search = grid_search_object.fit(X_train, y_train_SSO)"
   ]
  },
  {
   "cell_type": "code",
   "execution_count": 168,
   "id": "db978c6b",
   "metadata": {},
   "outputs": [
    {
     "name": "stdout",
     "output_type": "stream",
     "text": [
      "Pipeline(memory='/var/folders/d2/s5sb3p416xbgzjf589bgpp_w0000gn/T/tmp9cxkrvu2',\n",
      "         steps=[('SVC', SVC(C=10, gamma=0.1))])\n"
     ]
    }
   ],
   "source": [
    "print(fitted_search.best_estimator_)"
   ]
  },
  {
   "cell_type": "markdown",
   "id": "512058a3",
   "metadata": {},
   "source": [
    "It results in the same model (on this occassion)."
   ]
  },
  {
   "cell_type": "markdown",
   "id": "1868e044",
   "metadata": {},
   "source": [
    "## Comparing to if we reduce segments (remove ones not containing CFs when training)"
   ]
  },
  {
   "cell_type": "markdown",
   "id": "776ced76",
   "metadata": {},
   "source": [
    "Since MAPS got much worse scores on SSO when doing Sentence Filtering, I expect to get much worse results here."
   ]
  },
  {
   "cell_type": "markdown",
   "id": "2382feda",
   "metadata": {},
   "source": [
    "Steps:\n",
    "- Do it for one row for one column\n",
    "- Do it for one row for all columns for that target\n",
    "- Do it for all rows for all columns for that target\n",
    "- Do it for all rows for all columns for all targets < Make a function?\n",
    "\n",
    "1. Do it for one row for one column\n",
    "\n",
    "Using target as \"SSO\"\n",
    "\n",
    "Let's find the features"
   ]
  },
  {
   "cell_type": "code",
   "execution_count": 169,
   "id": "0b637824",
   "metadata": {},
   "outputs": [
    {
     "data": {
      "text/plain": [
       "Index(['annotation', 'features'], dtype='object')"
      ]
     },
     "execution_count": 169,
     "metadata": {},
     "output_type": "execute_result"
    }
   ],
   "source": [
    "annotation_features = pd.read_pickle(\"annotation_features.pkl\")\n",
    "annotation_features.columns"
   ]
  },
  {
   "cell_type": "code",
   "execution_count": 172,
   "id": "65bb6514",
   "metadata": {},
   "outputs": [
    {
     "data": {
      "text/plain": [
       "['login credentials from one of your accounts',\n",
       " 'application authentication options',\n",
       " 'receives your information from an SNS',\n",
       " 'accessed on a third party platform or social network',\n",
       " 'register using your User credentials to certain social media sites',\n",
       " 'allow us to access and/or collect certain information from your Third Party Platform profile/account',\n",
       " 'logging in to the Application using Third Party Social Network',\n",
       " 'accessing the Services through a social network',\n",
       " 'when you choose to connect with those services',\n",
       " 'if you choose to register your App account via such social media providers',\n",
       " 'third party platform']"
      ]
     },
     "execution_count": 172,
     "metadata": {},
     "output_type": "execute_result"
    }
   ],
   "source": [
    "SSO_features = annotation_features[ annotation_features['annotation'] == \"SSO\" ].at[29,'features']"
   ]
  },
  {
   "cell_type": "code",
   "execution_count": 184,
   "id": "640e1d7d",
   "metadata": {},
   "outputs": [
    {
     "data": {
      "text/html": [
       "<div>\n",
       "<style scoped>\n",
       "    .dataframe tbody tr th:only-of-type {\n",
       "        vertical-align: middle;\n",
       "    }\n",
       "\n",
       "    .dataframe tbody tr th {\n",
       "        vertical-align: top;\n",
       "    }\n",
       "\n",
       "    .dataframe thead th {\n",
       "        text-align: right;\n",
       "    }\n",
       "</style>\n",
       "<table border=\"1\" class=\"dataframe\">\n",
       "  <thead>\n",
       "    <tr style=\"text-align: right;\">\n",
       "      <th></th>\n",
       "      <th>application authentication options</th>\n",
       "      <th>application authentication options</th>\n",
       "    </tr>\n",
       "  </thead>\n",
       "  <tbody>\n",
       "    <tr>\n",
       "      <th>0</th>\n",
       "      <td>False</td>\n",
       "      <td>False</td>\n",
       "    </tr>\n",
       "    <tr>\n",
       "      <th>1</th>\n",
       "      <td>False</td>\n",
       "      <td>False</td>\n",
       "    </tr>\n",
       "    <tr>\n",
       "      <th>2</th>\n",
       "      <td>False</td>\n",
       "      <td>False</td>\n",
       "    </tr>\n",
       "    <tr>\n",
       "      <th>3</th>\n",
       "      <td>False</td>\n",
       "      <td>False</td>\n",
       "    </tr>\n",
       "    <tr>\n",
       "      <th>4</th>\n",
       "      <td>False</td>\n",
       "      <td>False</td>\n",
       "    </tr>\n",
       "    <tr>\n",
       "      <th>...</th>\n",
       "      <td>...</td>\n",
       "      <td>...</td>\n",
       "    </tr>\n",
       "    <tr>\n",
       "      <th>10714</th>\n",
       "      <td>False</td>\n",
       "      <td>False</td>\n",
       "    </tr>\n",
       "    <tr>\n",
       "      <th>10715</th>\n",
       "      <td>False</td>\n",
       "      <td>False</td>\n",
       "    </tr>\n",
       "    <tr>\n",
       "      <th>10716</th>\n",
       "      <td>False</td>\n",
       "      <td>False</td>\n",
       "    </tr>\n",
       "    <tr>\n",
       "      <th>10717</th>\n",
       "      <td>False</td>\n",
       "      <td>False</td>\n",
       "    </tr>\n",
       "    <tr>\n",
       "      <th>10718</th>\n",
       "      <td>False</td>\n",
       "      <td>False</td>\n",
       "    </tr>\n",
       "  </tbody>\n",
       "</table>\n",
       "<p>10719 rows × 2 columns</p>\n",
       "</div>"
      ],
      "text/plain": [
       "       application authentication options  application authentication options\n",
       "0                                   False                               False\n",
       "1                                   False                               False\n",
       "2                                   False                               False\n",
       "3                                   False                               False\n",
       "4                                   False                               False\n",
       "...                                   ...                                 ...\n",
       "10714                               False                               False\n",
       "10715                               False                               False\n",
       "10716                               False                               False\n",
       "10717                               False                               False\n",
       "10718                               False                               False\n",
       "\n",
       "[10719 rows x 2 columns]"
      ]
     },
     "execution_count": 184,
     "metadata": {},
     "output_type": "execute_result"
    }
   ],
   "source": [
    "(train_set['application authentication options'] == 1)"
   ]
  },
  {
   "cell_type": "code",
   "execution_count": 165,
   "id": "1b5bb3ae",
   "metadata": {},
   "outputs": [
    {
     "ename": "NameError",
     "evalue": "name 'new_x_train' is not defined",
     "output_type": "error",
     "traceback": [
      "\u001b[0;31m---------------------------------------------------------------------------\u001b[0m",
      "\u001b[0;31mNameError\u001b[0m                                 Traceback (most recent call last)",
      "Input \u001b[0;32mIn [165]\u001b[0m, in \u001b[0;36m<cell line: 1>\u001b[0;34m()\u001b[0m\n\u001b[0;32m----> 1\u001b[0m \u001b[43mnew_x_train\u001b[49m\n",
      "\u001b[0;31mNameError\u001b[0m: name 'new_x_train' is not defined"
     ]
    }
   ],
   "source": [
    "new_x_train # must get rows where one of the SSO CFs = 1\n",
    "# Use features.yml (or objects from previous notebook) to get the SSO CFs\n",
    "# Hmm... filter df on condition(s)?"
   ]
  },
  {
   "cell_type": "markdown",
   "id": "040f38af",
   "metadata": {},
   "source": [
    "Note that the F1 scores in the table I would like to compare to were based on Train & Validate sets.  I'm still not sure whether they used the F1 score of the practice occurs class (1, not 0), but I'm pretty sure they did.  So the remaining difference in performence could be due to less overfitting from the smaller train size?  Or because of bad pre-processing, my use of CFs are actually decreasing performance.  \n",
    "\n",
    "I could test both possibilities, but I think these are not my priorities right now.\n",
    "\n",
    "FRIDAY\n",
    "\n",
    "Main goals: \n",
    "- Work out how to employ Sentence Filtering for each class\n",
    "- Work out how to generate scores for each class (only 22 classes to consider I think – will have to cut down Y)\n",
    "- Evaluation\n",
    "- Review which classifiers to focus on\n",
    "- Try other models / improvements? Could not include Bigrams for the classifiers where they found that it helped\n",
    "- Go back to pre-processing, but focus on just the ones that will make the CFs match better."
   ]
  },
  {
   "cell_type": "markdown",
   "id": "5cc6d493",
   "metadata": {},
   "source": [
    "# Things to talk to someone about\n",
    "\n",
    "- Question I asked Shifath re train/validate\n",
    "- General discussion about scoring in CV Grid Search\n",
    "- AUC for SVM even when not mentioned in MAPS"
   ]
  },
  {
   "cell_type": "code",
   "execution_count": null,
   "id": "534c93b8",
   "metadata": {},
   "outputs": [],
   "source": []
  }
 ],
 "metadata": {
  "kernelspec": {
   "display_name": "priv_pol_nlp",
   "language": "python",
   "name": "priv_pol_nlp"
  },
  "language_info": {
   "codemirror_mode": {
    "name": "ipython",
    "version": 3
   },
   "file_extension": ".py",
   "mimetype": "text/x-python",
   "name": "python",
   "nbconvert_exporter": "python",
   "pygments_lexer": "ipython3",
   "version": "3.10.6"
  },
  "toc": {
   "base_numbering": 1,
   "nav_menu": {},
   "number_sections": true,
   "sideBar": true,
   "skip_h1_title": false,
   "title_cell": "Table of Contents",
   "title_sidebar": "Contents",
   "toc_cell": false,
   "toc_position": {},
   "toc_section_display": true,
   "toc_window_display": false
  }
 },
 "nbformat": 4,
 "nbformat_minor": 5
}
