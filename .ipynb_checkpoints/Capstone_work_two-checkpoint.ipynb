{
 "cells": [
  {
   "cell_type": "markdown",
   "id": "816694eb",
   "metadata": {},
   "source": [
    "EDA should be in the context of my data.  I should state what I expect BEFORE checking for it in the data.\n",
    "\n",
    "Also at the top I can include links, context, goals"
   ]
  },
  {
   "cell_type": "code",
   "execution_count": 67,
   "id": "09c92c4c",
   "metadata": {},
   "outputs": [],
   "source": [
    "import pandas as pd\n",
    "from pandas import json_normalize\n",
    "import numpy as np\n",
    "import matplotlib.pyplot as plt\n",
    "%matplotlib inline\n",
    "\n",
    "import seaborn as sns\n",
    "from scipy import stats\n",
    "from scipy.stats import norm\n",
    "import statsmodels.api as sm\n",
    "import yaml\n",
    "import ds_utils_callum\n",
    "import sys"
   ]
  },
  {
   "cell_type": "markdown",
   "id": "b562041b",
   "metadata": {},
   "source": [
    "Put the first policy into a df"
   ]
  },
  {
   "cell_type": "code",
   "execution_count": 68,
   "id": "0a8eda68",
   "metadata": {},
   "outputs": [],
   "source": [
    "with open(\"APP_350_v1_1/annotations/policy_1.yml\", \"r\") as stream:\n",
    "    try:\n",
    "        doc_df = (json_normalize(yaml.safe_load(stream)))\n",
    "    except yaml.YAMLError as exc:\n",
    "        print(exc)"
   ]
  },
  {
   "cell_type": "code",
   "execution_count": 69,
   "id": "400a8a61",
   "metadata": {},
   "outputs": [
    {
     "data": {
      "text/html": [
       "<div>\n",
       "<style scoped>\n",
       "    .dataframe tbody tr th:only-of-type {\n",
       "        vertical-align: middle;\n",
       "    }\n",
       "\n",
       "    .dataframe tbody tr th {\n",
       "        vertical-align: top;\n",
       "    }\n",
       "\n",
       "    .dataframe thead th {\n",
       "        text-align: right;\n",
       "    }\n",
       "</style>\n",
       "<table border=\"1\" class=\"dataframe\">\n",
       "  <thead>\n",
       "    <tr style=\"text-align: right;\">\n",
       "      <th></th>\n",
       "      <th>policy_id</th>\n",
       "      <th>policy_name</th>\n",
       "      <th>policy_type</th>\n",
       "      <th>contains_synthetic</th>\n",
       "      <th>segments</th>\n",
       "    </tr>\n",
       "  </thead>\n",
       "  <tbody>\n",
       "    <tr>\n",
       "      <th>0</th>\n",
       "      <td>1</td>\n",
       "      <td>6677G</td>\n",
       "      <td>TEST</td>\n",
       "      <td>False</td>\n",
       "      <td>[{'segment_id': 0, 'segment_text': 'PRIVACY PO...</td>\n",
       "    </tr>\n",
       "  </tbody>\n",
       "</table>\n",
       "</div>"
      ],
      "text/plain": [
       "   policy_id policy_name policy_type  contains_synthetic  \\\n",
       "0          1       6677G        TEST               False   \n",
       "\n",
       "                                            segments  \n",
       "0  [{'segment_id': 0, 'segment_text': 'PRIVACY PO...  "
      ]
     },
     "execution_count": 69,
     "metadata": {},
     "output_type": "execute_result"
    }
   ],
   "source": [
    "doc_df"
   ]
  },
  {
   "cell_type": "markdown",
   "id": "58c6f584",
   "metadata": {},
   "source": [
    "Put all the locations of the policy files in a list"
   ]
  },
  {
   "cell_type": "code",
   "execution_count": 70,
   "id": "0487b9e3",
   "metadata": {},
   "outputs": [
    {
     "name": "stdout",
     "output_type": "stream",
     "text": [
      "349\n",
      "APP_350_v1_1/annotations/policy_2.yml\n",
      "APP_350_v1_1/annotations/policy_350.yml\n"
     ]
    }
   ],
   "source": [
    "full_doc_list = [f\"APP_350_v1_1/annotations/policy_{num}.yml\" for num in range(2,351)]\n",
    "print(len(full_doc_list))\n",
    "print(full_doc_list[0])\n",
    "print(full_doc_list[348])"
   ]
  },
  {
   "cell_type": "markdown",
   "id": "b8d5b433",
   "metadata": {},
   "source": [
    "Loop through all the policy file addresses, normalise it and add it to the bottom of `doc_df`"
   ]
  },
  {
   "cell_type": "code",
   "execution_count": 71,
   "id": "e44577eb",
   "metadata": {},
   "outputs": [],
   "source": [
    "for document in full_doc_list:\n",
    "    with open(document, \"r\") as stream:\n",
    "        try:\n",
    "            current_df_policy_info = (json_normalize(yaml.safe_load(stream)))\n",
    "            doc_df = pd.concat([doc_df, current_df_policy_info], axis=0)\n",
    "        except yaml.YAMLError as exc:\n",
    "            print(exc)"
   ]
  },
  {
   "cell_type": "markdown",
   "id": "eba67611",
   "metadata": {},
   "source": [
    "This gives a basic df with basic info about the policy. The content and annotations are embedded in column \"`segments`\"."
   ]
  },
  {
   "cell_type": "code",
   "execution_count": 72,
   "id": "584fa49b",
   "metadata": {
    "scrolled": true
   },
   "outputs": [
    {
     "data": {
      "text/html": [
       "<div>\n",
       "<style scoped>\n",
       "    .dataframe tbody tr th:only-of-type {\n",
       "        vertical-align: middle;\n",
       "    }\n",
       "\n",
       "    .dataframe tbody tr th {\n",
       "        vertical-align: top;\n",
       "    }\n",
       "\n",
       "    .dataframe thead th {\n",
       "        text-align: right;\n",
       "    }\n",
       "</style>\n",
       "<table border=\"1\" class=\"dataframe\">\n",
       "  <thead>\n",
       "    <tr style=\"text-align: right;\">\n",
       "      <th></th>\n",
       "      <th>policy_id</th>\n",
       "      <th>policy_name</th>\n",
       "      <th>policy_type</th>\n",
       "      <th>contains_synthetic</th>\n",
       "      <th>segments</th>\n",
       "    </tr>\n",
       "  </thead>\n",
       "  <tbody>\n",
       "    <tr>\n",
       "      <th>0</th>\n",
       "      <td>1</td>\n",
       "      <td>6677G</td>\n",
       "      <td>TEST</td>\n",
       "      <td>False</td>\n",
       "      <td>[{'segment_id': 0, 'segment_text': 'PRIVACY PO...</td>\n",
       "    </tr>\n",
       "    <tr>\n",
       "      <th>0</th>\n",
       "      <td>2</td>\n",
       "      <td>AIFactory</td>\n",
       "      <td>TEST</td>\n",
       "      <td>False</td>\n",
       "      <td>[{'segment_id': 0, 'segment_text': 'AI Factory...</td>\n",
       "    </tr>\n",
       "    <tr>\n",
       "      <th>0</th>\n",
       "      <td>3</td>\n",
       "      <td>AppliqatoSoftware</td>\n",
       "      <td>TEST</td>\n",
       "      <td>False</td>\n",
       "      <td>[{'segment_id': 0, 'segment_text': 'Automatic ...</td>\n",
       "    </tr>\n",
       "    <tr>\n",
       "      <th>0</th>\n",
       "      <td>4</td>\n",
       "      <td>BandaiNamco</td>\n",
       "      <td>TEST</td>\n",
       "      <td>False</td>\n",
       "      <td>[{'segment_id': 0, 'segment_text': 'MOBILE APP...</td>\n",
       "    </tr>\n",
       "    <tr>\n",
       "      <th>0</th>\n",
       "      <td>5</td>\n",
       "      <td>BarcodeScanner</td>\n",
       "      <td>TEST</td>\n",
       "      <td>False</td>\n",
       "      <td>[{'segment_id': 0, 'segment_text': 'Skip to co...</td>\n",
       "    </tr>\n",
       "    <tr>\n",
       "      <th>...</th>\n",
       "      <td>...</td>\n",
       "      <td>...</td>\n",
       "      <td>...</td>\n",
       "      <td>...</td>\n",
       "      <td>...</td>\n",
       "    </tr>\n",
       "    <tr>\n",
       "      <th>0</th>\n",
       "      <td>346</td>\n",
       "      <td>Yahoo</td>\n",
       "      <td>TRAINING</td>\n",
       "      <td>True</td>\n",
       "      <td>[{'segment_id': 0, 'segment_text': '⌂Home Mail...</td>\n",
       "    </tr>\n",
       "    <tr>\n",
       "      <th>0</th>\n",
       "      <td>347</td>\n",
       "      <td>YouVersion</td>\n",
       "      <td>TRAINING</td>\n",
       "      <td>True</td>\n",
       "      <td>[{'segment_id': 0, 'segment_text': 'Videos Sig...</td>\n",
       "    </tr>\n",
       "    <tr>\n",
       "      <th>0</th>\n",
       "      <td>348</td>\n",
       "      <td>Zedge</td>\n",
       "      <td>TRAINING</td>\n",
       "      <td>True</td>\n",
       "      <td>[{'segment_id': 0, 'segment_text': 'Privacy Po...</td>\n",
       "    </tr>\n",
       "    <tr>\n",
       "      <th>0</th>\n",
       "      <td>349</td>\n",
       "      <td>Zello</td>\n",
       "      <td>TRAINING</td>\n",
       "      <td>True</td>\n",
       "      <td>[{'segment_id': 0, 'segment_text': 'Support Si...</td>\n",
       "    </tr>\n",
       "    <tr>\n",
       "      <th>0</th>\n",
       "      <td>350</td>\n",
       "      <td>Zynga</td>\n",
       "      <td>TRAINING</td>\n",
       "      <td>True</td>\n",
       "      <td>[{'segment_id': 0, 'segment_text': 'Navigation...</td>\n",
       "    </tr>\n",
       "  </tbody>\n",
       "</table>\n",
       "<p>350 rows × 5 columns</p>\n",
       "</div>"
      ],
      "text/plain": [
       "    policy_id        policy_name policy_type  contains_synthetic  \\\n",
       "0           1              6677G        TEST               False   \n",
       "0           2          AIFactory        TEST               False   \n",
       "0           3  AppliqatoSoftware        TEST               False   \n",
       "0           4        BandaiNamco        TEST               False   \n",
       "0           5     BarcodeScanner        TEST               False   \n",
       "..        ...                ...         ...                 ...   \n",
       "0         346              Yahoo    TRAINING                True   \n",
       "0         347         YouVersion    TRAINING                True   \n",
       "0         348              Zedge    TRAINING                True   \n",
       "0         349              Zello    TRAINING                True   \n",
       "0         350              Zynga    TRAINING                True   \n",
       "\n",
       "                                             segments  \n",
       "0   [{'segment_id': 0, 'segment_text': 'PRIVACY PO...  \n",
       "0   [{'segment_id': 0, 'segment_text': 'AI Factory...  \n",
       "0   [{'segment_id': 0, 'segment_text': 'Automatic ...  \n",
       "0   [{'segment_id': 0, 'segment_text': 'MOBILE APP...  \n",
       "0   [{'segment_id': 0, 'segment_text': 'Skip to co...  \n",
       "..                                                ...  \n",
       "0   [{'segment_id': 0, 'segment_text': '⌂Home Mail...  \n",
       "0   [{'segment_id': 0, 'segment_text': 'Videos Sig...  \n",
       "0   [{'segment_id': 0, 'segment_text': 'Privacy Po...  \n",
       "0   [{'segment_id': 0, 'segment_text': 'Support Si...  \n",
       "0   [{'segment_id': 0, 'segment_text': 'Navigation...  \n",
       "\n",
       "[350 rows x 5 columns]"
      ]
     },
     "execution_count": 72,
     "metadata": {},
     "output_type": "execute_result"
    }
   ],
   "source": [
    "doc_df"
   ]
  },
  {
   "cell_type": "code",
   "execution_count": 73,
   "id": "9cee8fb5",
   "metadata": {},
   "outputs": [
    {
     "name": "stdout",
     "output_type": "stream",
     "text": [
      "0.1982 MB\n"
     ]
    }
   ],
   "source": [
    "print(f\"{round(sys.getsizeof(doc_df)/(1e6),4)} MB\")"
   ]
  },
  {
   "cell_type": "code",
   "execution_count": 74,
   "id": "cdf58502",
   "metadata": {},
   "outputs": [
    {
     "data": {
      "text/plain": [
       "0     36\n",
       "0     14\n",
       "0      8\n",
       "0     57\n",
       "0     32\n",
       "    ... \n",
       "0     18\n",
       "0     19\n",
       "0     40\n",
       "0     14\n",
       "0    102\n",
       "Name: segments, Length: 350, dtype: int64"
      ]
     },
     "execution_count": 74,
     "metadata": {},
     "output_type": "execute_result"
    }
   ],
   "source": [
    "doc_df['segments'].str.len()"
   ]
  },
  {
   "cell_type": "code",
   "execution_count": 75,
   "id": "74d32340",
   "metadata": {},
   "outputs": [],
   "source": [
    "doc_df.reset_index(drop=True, inplace=True)"
   ]
  },
  {
   "cell_type": "code",
   "execution_count": 77,
   "id": "7933cc2d",
   "metadata": {},
   "outputs": [
    {
     "data": {
      "text/html": [
       "<div>\n",
       "<style scoped>\n",
       "    .dataframe tbody tr th:only-of-type {\n",
       "        vertical-align: middle;\n",
       "    }\n",
       "\n",
       "    .dataframe tbody tr th {\n",
       "        vertical-align: top;\n",
       "    }\n",
       "\n",
       "    .dataframe thead th {\n",
       "        text-align: right;\n",
       "    }\n",
       "</style>\n",
       "<table border=\"1\" class=\"dataframe\">\n",
       "  <thead>\n",
       "    <tr style=\"text-align: right;\">\n",
       "      <th></th>\n",
       "      <th>policy_id</th>\n",
       "      <th>policy_name</th>\n",
       "      <th>policy_type</th>\n",
       "      <th>contains_synthetic</th>\n",
       "      <th>segments</th>\n",
       "    </tr>\n",
       "  </thead>\n",
       "  <tbody>\n",
       "    <tr>\n",
       "      <th>0</th>\n",
       "      <td>1</td>\n",
       "      <td>6677G</td>\n",
       "      <td>TEST</td>\n",
       "      <td>False</td>\n",
       "      <td>[{'segment_id': 0, 'segment_text': 'PRIVACY PO...</td>\n",
       "    </tr>\n",
       "    <tr>\n",
       "      <th>1</th>\n",
       "      <td>2</td>\n",
       "      <td>AIFactory</td>\n",
       "      <td>TEST</td>\n",
       "      <td>False</td>\n",
       "      <td>[{'segment_id': 0, 'segment_text': 'AI Factory...</td>\n",
       "    </tr>\n",
       "    <tr>\n",
       "      <th>2</th>\n",
       "      <td>3</td>\n",
       "      <td>AppliqatoSoftware</td>\n",
       "      <td>TEST</td>\n",
       "      <td>False</td>\n",
       "      <td>[{'segment_id': 0, 'segment_text': 'Automatic ...</td>\n",
       "    </tr>\n",
       "  </tbody>\n",
       "</table>\n",
       "</div>"
      ],
      "text/plain": [
       "   policy_id        policy_name policy_type  contains_synthetic  \\\n",
       "0          1              6677G        TEST               False   \n",
       "1          2          AIFactory        TEST               False   \n",
       "2          3  AppliqatoSoftware        TEST               False   \n",
       "\n",
       "                                            segments  \n",
       "0  [{'segment_id': 0, 'segment_text': 'PRIVACY PO...  \n",
       "1  [{'segment_id': 0, 'segment_text': 'AI Factory...  \n",
       "2  [{'segment_id': 0, 'segment_text': 'Automatic ...  "
      ]
     },
     "execution_count": 77,
     "metadata": {},
     "output_type": "execute_result"
    }
   ],
   "source": [
    "doc_df.head(3)"
   ]
  },
  {
   "cell_type": "code",
   "execution_count": 78,
   "id": "e9e0fe2f",
   "metadata": {},
   "outputs": [
    {
     "name": "stdout",
     "output_type": "stream",
     "text": [
      "<class 'pandas.core.frame.DataFrame'>\n",
      "RangeIndex: 350 entries, 0 to 349\n",
      "Data columns (total 5 columns):\n",
      " #   Column              Non-Null Count  Dtype \n",
      "---  ------              --------------  ----- \n",
      " 0   policy_id           350 non-null    int64 \n",
      " 1   policy_name         350 non-null    object\n",
      " 2   policy_type         350 non-null    object\n",
      " 3   contains_synthetic  350 non-null    bool  \n",
      " 4   segments            350 non-null    object\n",
      "dtypes: bool(1), int64(1), object(3)\n",
      "memory usage: 11.4+ KB\n"
     ]
    }
   ],
   "source": [
    "doc_df.info()"
   ]
  },
  {
   "cell_type": "markdown",
   "id": "64021a4a",
   "metadata": {},
   "source": [
    "All policies were pulled through.  The data types are appropriate."
   ]
  },
  {
   "cell_type": "code",
   "execution_count": 79,
   "id": "9c79b30c",
   "metadata": {},
   "outputs": [
    {
     "data": {
      "text/plain": [
       "TRAINING      188\n",
       "TEST          100\n",
       "VALIDATION     62\n",
       "Name: policy_type, dtype: int64"
      ]
     },
     "execution_count": 79,
     "metadata": {},
     "output_type": "execute_result"
    }
   ],
   "source": [
    "# How many policies are train, test and validate?\n",
    "doc_df[\"policy_type\"].value_counts()"
   ]
  },
  {
   "cell_type": "code",
   "execution_count": 80,
   "id": "569d2e2a",
   "metadata": {},
   "outputs": [
    {
     "data": {
      "text/plain": [
       "False    208\n",
       "True     142\n",
       "Name: contains_synthetic, dtype: int64"
      ]
     },
     "execution_count": 80,
     "metadata": {},
     "output_type": "execute_result"
    }
   ],
   "source": [
    "# How many policies contain synthetic data?\n",
    "doc_df[\"contains_synthetic\"].value_counts()"
   ]
  },
  {
   "cell_type": "code",
   "execution_count": 81,
   "id": "42d5b2e4",
   "metadata": {},
   "outputs": [
    {
     "data": {
      "text/html": [
       "<div>\n",
       "<style scoped>\n",
       "    .dataframe tbody tr th:only-of-type {\n",
       "        vertical-align: middle;\n",
       "    }\n",
       "\n",
       "    .dataframe tbody tr th {\n",
       "        vertical-align: top;\n",
       "    }\n",
       "\n",
       "    .dataframe thead th {\n",
       "        text-align: right;\n",
       "    }\n",
       "</style>\n",
       "<table border=\"1\" class=\"dataframe\">\n",
       "  <thead>\n",
       "    <tr style=\"text-align: right;\">\n",
       "      <th>contains_synthetic</th>\n",
       "      <th>False</th>\n",
       "      <th>True</th>\n",
       "    </tr>\n",
       "    <tr>\n",
       "      <th>policy_type</th>\n",
       "      <th></th>\n",
       "      <th></th>\n",
       "    </tr>\n",
       "  </thead>\n",
       "  <tbody>\n",
       "    <tr>\n",
       "      <th>TEST</th>\n",
       "      <td>100.0</td>\n",
       "      <td>NaN</td>\n",
       "    </tr>\n",
       "    <tr>\n",
       "      <th>TRAINING</th>\n",
       "      <td>82.0</td>\n",
       "      <td>106.0</td>\n",
       "    </tr>\n",
       "    <tr>\n",
       "      <th>VALIDATION</th>\n",
       "      <td>26.0</td>\n",
       "      <td>36.0</td>\n",
       "    </tr>\n",
       "  </tbody>\n",
       "</table>\n",
       "</div>"
      ],
      "text/plain": [
       "contains_synthetic  False   True\n",
       "policy_type                     \n",
       "TEST                100.0    NaN\n",
       "TRAINING             82.0  106.0\n",
       "VALIDATION           26.0   36.0"
      ]
     },
     "execution_count": 81,
     "metadata": {},
     "output_type": "execute_result"
    }
   ],
   "source": [
    "# How is the synthetic data spread throughout the Train, Test and Validate policies?\n",
    "type_synthetic_dist = doc_df[[\"policy_type\", \"contains_synthetic\"]].value_counts().unstack()\n",
    "type_synthetic_dist# re-order somehow?"
   ]
  },
  {
   "cell_type": "markdown",
   "id": "061870d5",
   "metadata": {},
   "source": [
    "Of the data used for training, slightly more of it has synthetic information.  None of the test data has synthetic values, which makes sense because we need to train on real data.\n",
    "\n",
    "I don't know what the Validation data is yet."
   ]
  },
  {
   "cell_type": "code",
   "execution_count": 82,
   "id": "151cd5d5",
   "metadata": {
    "scrolled": true
   },
   "outputs": [
    {
     "data": {
      "image/png": "[encoded data removed]",
      "text/plain": [
       "<Figure size 480x300 with 1 Axes>"
      ]
     },
     "metadata": {},
     "output_type": "display_data"
    }
   ],
   "source": [
    "plt.rcParams['figure.dpi'] = 150\n",
    "plt.rcParams['figure.figsize'] = (3.2, 2)\n",
    "# set the font name for a font family\n",
    "#     plt.rcParams.update({'font.sans-serif':'Helvetica'})\n",
    "sns.set(style=\"whitegrid\")\n",
    "type_synthetic_dist.sort_values([1]).plot(kind=\"bar\", stacked=True, color=['#003F5C', '#FFA600', '#BC5090']) #I think need more colours if more bars being added\n",
    "sns.despine(left=True) #de-spine, gets rid of the boarders\n",
    "plt.title(\"Not sure what would be the best graph type for this info\", size=10, color='#4F4E4E', fontweight=\"bold\") # Consistent style\n",
    "plt.xlabel('')\n",
    "plt.xticks(size=8, color='#4F4E4E', rotation=90)\n",
    "plt.yticks(size=8, color='#4F4E4E')\n",
    "plt.legend(bbox_to_anchor=(1.05, 1.0), loc='upper left')\n",
    "plt.show()"
   ]
  },
  {
   "cell_type": "markdown",
   "id": "91a814ec",
   "metadata": {},
   "source": [
    "## Adding some EDA info to doc_df"
   ]
  },
  {
   "cell_type": "code",
   "execution_count": 190,
   "id": "39872a7e",
   "metadata": {},
   "outputs": [],
   "source": [
    "doc_df[\"num_segments\"] = 0\n",
    "doc_df[\"num_annotated_segs\"] = 0\n",
    "doc_df[\"total_characters\"] = 0"
   ]
  },
  {
   "cell_type": "code",
   "execution_count": 201,
   "id": "77ff1491",
   "metadata": {},
   "outputs": [
    {
     "data": {
      "text/html": [
       "<div>\n",
       "<style scoped>\n",
       "    .dataframe tbody tr th:only-of-type {\n",
       "        vertical-align: middle;\n",
       "    }\n",
       "\n",
       "    .dataframe tbody tr th {\n",
       "        vertical-align: top;\n",
       "    }\n",
       "\n",
       "    .dataframe thead th {\n",
       "        text-align: right;\n",
       "    }\n",
       "</style>\n",
       "<table border=\"1\" class=\"dataframe\">\n",
       "  <thead>\n",
       "    <tr style=\"text-align: right;\">\n",
       "      <th></th>\n",
       "      <th>policy_id</th>\n",
       "      <th>policy_name</th>\n",
       "      <th>policy_type</th>\n",
       "      <th>contains_synthetic</th>\n",
       "      <th>segments</th>\n",
       "      <th>num_segments</th>\n",
       "      <th>num_annotated_segs</th>\n",
       "      <th>total_characters</th>\n",
       "    </tr>\n",
       "  </thead>\n",
       "  <tbody>\n",
       "    <tr>\n",
       "      <th>0</th>\n",
       "      <td>1</td>\n",
       "      <td>6677G</td>\n",
       "      <td>TEST</td>\n",
       "      <td>False</td>\n",
       "      <td>[{'segment_id': 0, 'segment_text': 'PRIVACY PO...</td>\n",
       "      <td>36</td>\n",
       "      <td>11</td>\n",
       "      <td>12703.0</td>\n",
       "    </tr>\n",
       "    <tr>\n",
       "      <th>1</th>\n",
       "      <td>2</td>\n",
       "      <td>AIFactory</td>\n",
       "      <td>TEST</td>\n",
       "      <td>False</td>\n",
       "      <td>[{'segment_id': 0, 'segment_text': 'AI Factory...</td>\n",
       "      <td>14</td>\n",
       "      <td>5</td>\n",
       "      <td>5995.0</td>\n",
       "    </tr>\n",
       "    <tr>\n",
       "      <th>2</th>\n",
       "      <td>3</td>\n",
       "      <td>AppliqatoSoftware</td>\n",
       "      <td>TEST</td>\n",
       "      <td>False</td>\n",
       "      <td>[{'segment_id': 0, 'segment_text': 'Automatic ...</td>\n",
       "      <td>8</td>\n",
       "      <td>1</td>\n",
       "      <td>2450.0</td>\n",
       "    </tr>\n",
       "  </tbody>\n",
       "</table>\n",
       "</div>"
      ],
      "text/plain": [
       "   policy_id        policy_name policy_type  contains_synthetic  \\\n",
       "0          1              6677G        TEST               False   \n",
       "1          2          AIFactory        TEST               False   \n",
       "2          3  AppliqatoSoftware        TEST               False   \n",
       "\n",
       "                                            segments  num_segments  \\\n",
       "0  [{'segment_id': 0, 'segment_text': 'PRIVACY PO...            36   \n",
       "1  [{'segment_id': 0, 'segment_text': 'AI Factory...            14   \n",
       "2  [{'segment_id': 0, 'segment_text': 'Automatic ...             8   \n",
       "\n",
       "   num_annotated_segs  total_characters  \n",
       "0                  11           12703.0  \n",
       "1                   5            5995.0  \n",
       "2                   1            2450.0  "
      ]
     },
     "execution_count": 201,
     "metadata": {},
     "output_type": "execute_result"
    }
   ],
   "source": [
    "for i in range(len(doc_df[\"segments\"])):\n",
    "    segment = doc_df.loc[i, \"segments\"] # grab the policy\n",
    "    policy_segment_df = json_normalize(segment) # normalise it\n",
    "    policy_segment_df.set_index('segment_id', inplace=True)\n",
    "    doc_df.loc[i, \"num_segments\"] = policy_segment_df[\"segment_text\"].count() # count the sentences and add to the main df\n",
    "    \n",
    "    policy_segment_df.loc[ policy_segment_df[\"annotations\"].str.len() == 0 , \"annotations\"] = None # clean the annotations column\n",
    "    doc_df.loc[i, \"num_annotated_segs\"] = policy_segment_df[\"annotations\"].count()\n",
    "\n",
    "    doc_df.loc[i, \"total_characters\"] = policy_segment_df[\"segment_text\"].str.len().sum()\n",
    "    \n",
    "doc_df.head(3)"
   ]
  },
  {
   "cell_type": "markdown",
   "id": "3cbcd6db",
   "metadata": {},
   "source": [
    "## Plotting and investigating"
   ]
  },
  {
   "cell_type": "code",
   "execution_count": 212,
   "id": "9c879c0c",
   "metadata": {},
   "outputs": [
    {
     "data": {
      "image/png": "[encoded data removed]",
      "text/plain": [
       "<Figure size 900x600 with 4 Axes>"
      ]
     },
     "metadata": {},
     "output_type": "display_data"
    }
   ],
   "source": [
    "plt.subplots(2, 2, figsize=(6, 4))\n",
    "\n",
    "plt.subplot(2, 2, 1)\n",
    "sns.histplot(data=doc_df[\"num_segments\"])\n",
    "plt.xlim(0,200)\n",
    "\n",
    "plt.subplot(2, 2, 2)\n",
    "sns.histplot(data=doc_df[\"num_annotated_segs\"])\n",
    "plt.xlim(0,50)\n",
    "\n",
    "plt.subplot(2, 2, 3)\n",
    "sns.histplot(data=doc_df[\"total_characters\"])\n",
    "plt.xlim(0,75000)\n",
    "\n",
    "plt.tight_layout()\n",
    "plt.show()"
   ]
  },
  {
   "cell_type": "code",
   "execution_count": 193,
   "id": "5c03e36e",
   "metadata": {},
   "outputs": [
    {
     "data": {
      "text/plain": [
       "count    350.000000\n",
       "mean      44.305714\n",
       "std       48.978104\n",
       "min        3.000000\n",
       "25%       19.000000\n",
       "50%       33.000000\n",
       "75%       56.000000\n",
       "max      608.000000\n",
       "Name: num_segments, dtype: float64"
      ]
     },
     "execution_count": 193,
     "metadata": {},
     "output_type": "execute_result"
    }
   ],
   "source": [
    "doc_df[\"num_segments\"].describe()"
   ]
  },
  {
   "cell_type": "code",
   "execution_count": 196,
   "id": "f10b3f75",
   "metadata": {
    "scrolled": true
   },
   "outputs": [
    {
     "data": {
      "text/plain": [
       "count    350.000000\n",
       "mean      11.671429\n",
       "std       11.710600\n",
       "min        1.000000\n",
       "25%        4.000000\n",
       "50%        8.000000\n",
       "75%       15.000000\n",
       "max      110.000000\n",
       "Name: num_annotated_segs, dtype: float64"
      ]
     },
     "execution_count": 196,
     "metadata": {},
     "output_type": "execute_result"
    }
   ],
   "source": [
    "doc_df[\"num_annotated_segs\"].describe()"
   ]
  },
  {
   "cell_type": "markdown",
   "id": "667f5c07",
   "metadata": {},
   "source": [
    "---"
   ]
  },
  {
   "cell_type": "markdown",
   "id": "684fa73f",
   "metadata": {},
   "source": [
    "## Rough work"
   ]
  },
  {
   "cell_type": "code",
   "execution_count": 197,
   "id": "89dbfbf8",
   "metadata": {},
   "outputs": [
    {
     "data": {
      "text/html": [
       "<div>\n",
       "<style scoped>\n",
       "    .dataframe tbody tr th:only-of-type {\n",
       "        vertical-align: middle;\n",
       "    }\n",
       "\n",
       "    .dataframe tbody tr th {\n",
       "        vertical-align: top;\n",
       "    }\n",
       "\n",
       "    .dataframe thead th {\n",
       "        text-align: right;\n",
       "    }\n",
       "</style>\n",
       "<table border=\"1\" class=\"dataframe\">\n",
       "  <thead>\n",
       "    <tr style=\"text-align: right;\">\n",
       "      <th></th>\n",
       "      <th>policy_id</th>\n",
       "      <th>policy_name</th>\n",
       "      <th>policy_type</th>\n",
       "      <th>contains_synthetic</th>\n",
       "      <th>segments</th>\n",
       "      <th>num_segments</th>\n",
       "      <th>num_annotated_segs</th>\n",
       "    </tr>\n",
       "  </thead>\n",
       "  <tbody>\n",
       "    <tr>\n",
       "      <th>0</th>\n",
       "      <td>1</td>\n",
       "      <td>6677G</td>\n",
       "      <td>TEST</td>\n",
       "      <td>False</td>\n",
       "      <td>[{'segment_id': 0, 'segment_text': 'PRIVACY PO...</td>\n",
       "      <td>36</td>\n",
       "      <td>11</td>\n",
       "    </tr>\n",
       "    <tr>\n",
       "      <th>1</th>\n",
       "      <td>2</td>\n",
       "      <td>AIFactory</td>\n",
       "      <td>TEST</td>\n",
       "      <td>False</td>\n",
       "      <td>[{'segment_id': 0, 'segment_text': 'AI Factory...</td>\n",
       "      <td>14</td>\n",
       "      <td>5</td>\n",
       "    </tr>\n",
       "  </tbody>\n",
       "</table>\n",
       "</div>"
      ],
      "text/plain": [
       "   policy_id policy_name policy_type  contains_synthetic  \\\n",
       "0          1       6677G        TEST               False   \n",
       "1          2   AIFactory        TEST               False   \n",
       "\n",
       "                                            segments  num_segments  \\\n",
       "0  [{'segment_id': 0, 'segment_text': 'PRIVACY PO...            36   \n",
       "1  [{'segment_id': 0, 'segment_text': 'AI Factory...            14   \n",
       "\n",
       "   num_annotated_segs  \n",
       "0                  11  \n",
       "1                   5  "
      ]
     },
     "execution_count": 197,
     "metadata": {},
     "output_type": "execute_result"
    }
   ],
   "source": [
    "doc_df_row_2 = doc_df.iloc[0:2].copy()\n",
    "doc_df_row_2"
   ]
  },
  {
   "cell_type": "code",
   "execution_count": 181,
   "id": "576f44f2",
   "metadata": {},
   "outputs": [],
   "source": [
    "# Turn the document into a dataframe of paragraphs\n",
    "pol_1_segments = json_normalize(doc_df_row_2[\"segments\"][1])"
   ]
  },
  {
   "cell_type": "code",
   "execution_count": 182,
   "id": "86f621ee",
   "metadata": {},
   "outputs": [],
   "source": [
    "# Tidy up the dataframe\n",
    "pol_1_segments.set_index('segment_id', inplace=True)"
   ]
  },
  {
   "cell_type": "code",
   "execution_count": 183,
   "id": "a0e032ac",
   "metadata": {},
   "outputs": [
    {
     "data": {
      "text/html": [
       "<div>\n",
       "<style scoped>\n",
       "    .dataframe tbody tr th:only-of-type {\n",
       "        vertical-align: middle;\n",
       "    }\n",
       "\n",
       "    .dataframe tbody tr th {\n",
       "        vertical-align: top;\n",
       "    }\n",
       "\n",
       "    .dataframe thead th {\n",
       "        text-align: right;\n",
       "    }\n",
       "</style>\n",
       "<table border=\"1\" class=\"dataframe\">\n",
       "  <thead>\n",
       "    <tr style=\"text-align: right;\">\n",
       "      <th></th>\n",
       "      <th>segment_text</th>\n",
       "      <th>annotations</th>\n",
       "      <th>sentences</th>\n",
       "    </tr>\n",
       "    <tr>\n",
       "      <th>segment_id</th>\n",
       "      <th></th>\n",
       "      <th></th>\n",
       "      <th></th>\n",
       "    </tr>\n",
       "  </thead>\n",
       "  <tbody>\n",
       "    <tr>\n",
       "      <th>0</th>\n",
       "      <td>AI Factory Privacy &amp; Cookie Policy AI Factory ...</td>\n",
       "      <td>[{'practice': 'Identifier_Cookie_or_similar_Te...</td>\n",
       "      <td>[{'sentence_text': 'AI Factory Privacy &amp; Cooki...</td>\n",
       "    </tr>\n",
       "    <tr>\n",
       "      <th>1</th>\n",
       "      <td>Anonymous Data AI Factory may collect and use ...</td>\n",
       "      <td>[{'practice': 'Contact_City_3rdParty', 'modali...</td>\n",
       "      <td>[{'sentence_text': 'AI Factory may collect and...</td>\n",
       "    </tr>\n",
       "    <tr>\n",
       "      <th>2</th>\n",
       "      <td>For example, Google Analytics automatically sa...</td>\n",
       "      <td>[{'practice': 'Contact_City_3rdParty', 'modali...</td>\n",
       "      <td>[{'sentence_text': 'For example, Google Analyt...</td>\n",
       "    </tr>\n",
       "  </tbody>\n",
       "</table>\n",
       "</div>"
      ],
      "text/plain": [
       "                                                 segment_text  \\\n",
       "segment_id                                                      \n",
       "0           AI Factory Privacy & Cookie Policy AI Factory ...   \n",
       "1           Anonymous Data AI Factory may collect and use ...   \n",
       "2           For example, Google Analytics automatically sa...   \n",
       "\n",
       "                                                  annotations  \\\n",
       "segment_id                                                      \n",
       "0           [{'practice': 'Identifier_Cookie_or_similar_Te...   \n",
       "1           [{'practice': 'Contact_City_3rdParty', 'modali...   \n",
       "2           [{'practice': 'Contact_City_3rdParty', 'modali...   \n",
       "\n",
       "                                                    sentences  \n",
       "segment_id                                                     \n",
       "0           [{'sentence_text': 'AI Factory Privacy & Cooki...  \n",
       "1           [{'sentence_text': 'AI Factory may collect and...  \n",
       "2           [{'sentence_text': 'For example, Google Analyt...  "
      ]
     },
     "execution_count": 183,
     "metadata": {},
     "output_type": "execute_result"
    }
   ],
   "source": [
    "pol_1_segments.head(3)"
   ]
  },
  {
   "cell_type": "code",
   "execution_count": 185,
   "id": "4ea2d71a",
   "metadata": {},
   "outputs": [
    {
     "data": {
      "text/plain": [
       "14"
      ]
     },
     "execution_count": 185,
     "metadata": {},
     "output_type": "execute_result"
    }
   ],
   "source": [
    "# Num segments\n",
    "pol_1_segments[\"segment_text\"].count()"
   ]
  },
  {
   "cell_type": "code",
   "execution_count": 187,
   "id": "de19ed9d",
   "metadata": {
    "scrolled": true
   },
   "outputs": [],
   "source": [
    "pol_1_segments.loc[ pol_1_segments[\"annotations\"].str.len() == 0 , \"annotations\"] = None\n",
    "pol_1_segments.loc[ pol_1_segments[\"sentences\"].str.len() == 0 , \"sentences\"] = None"
   ]
  },
  {
   "cell_type": "code",
   "execution_count": 188,
   "id": "852551a0",
   "metadata": {},
   "outputs": [
    {
     "data": {
      "text/html": [
       "<div>\n",
       "<style scoped>\n",
       "    .dataframe tbody tr th:only-of-type {\n",
       "        vertical-align: middle;\n",
       "    }\n",
       "\n",
       "    .dataframe tbody tr th {\n",
       "        vertical-align: top;\n",
       "    }\n",
       "\n",
       "    .dataframe thead th {\n",
       "        text-align: right;\n",
       "    }\n",
       "</style>\n",
       "<table border=\"1\" class=\"dataframe\">\n",
       "  <thead>\n",
       "    <tr style=\"text-align: right;\">\n",
       "      <th></th>\n",
       "      <th>segment_text</th>\n",
       "      <th>annotations</th>\n",
       "      <th>sentences</th>\n",
       "    </tr>\n",
       "    <tr>\n",
       "      <th>segment_id</th>\n",
       "      <th></th>\n",
       "      <th></th>\n",
       "      <th></th>\n",
       "    </tr>\n",
       "  </thead>\n",
       "  <tbody>\n",
       "    <tr>\n",
       "      <th>0</th>\n",
       "      <td>AI Factory Privacy &amp; Cookie Policy AI Factory ...</td>\n",
       "      <td>[{'practice': 'Identifier_Cookie_or_similar_Te...</td>\n",
       "      <td>[{'sentence_text': 'AI Factory Privacy &amp; Cooki...</td>\n",
       "    </tr>\n",
       "    <tr>\n",
       "      <th>1</th>\n",
       "      <td>Anonymous Data AI Factory may collect and use ...</td>\n",
       "      <td>[{'practice': 'Contact_City_3rdParty', 'modali...</td>\n",
       "      <td>[{'sentence_text': 'AI Factory may collect and...</td>\n",
       "    </tr>\n",
       "    <tr>\n",
       "      <th>2</th>\n",
       "      <td>For example, Google Analytics automatically sa...</td>\n",
       "      <td>[{'practice': 'Contact_City_3rdParty', 'modali...</td>\n",
       "      <td>[{'sentence_text': 'For example, Google Analyt...</td>\n",
       "    </tr>\n",
       "    <tr>\n",
       "      <th>3</th>\n",
       "      <td>Google Analytics also automatically collects d...</td>\n",
       "      <td>None</td>\n",
       "      <td>None</td>\n",
       "    </tr>\n",
       "    <tr>\n",
       "      <th>4</th>\n",
       "      <td>None of this collected data can be linked to a...</td>\n",
       "      <td>None</td>\n",
       "      <td>None</td>\n",
       "    </tr>\n",
       "    <tr>\n",
       "      <th>5</th>\n",
       "      <td>Ad networks who provide adverts to our mobile ...</td>\n",
       "      <td>[{'practice': 'Identifier_Device_ID_3rdParty',...</td>\n",
       "      <td>[{'sentence_text': 'Ad networks who provide ad...</td>\n",
       "    </tr>\n",
       "    <tr>\n",
       "      <th>6</th>\n",
       "      <td>Third Party Terms and Conditions Please note t...</td>\n",
       "      <td>None</td>\n",
       "      <td>None</td>\n",
       "    </tr>\n",
       "    <tr>\n",
       "      <th>7</th>\n",
       "      <td>Links to Third Party Sites or Games Our mobile...</td>\n",
       "      <td>None</td>\n",
       "      <td>None</td>\n",
       "    </tr>\n",
       "    <tr>\n",
       "      <th>8</th>\n",
       "      <td>Our mobile applications may provide access to ...</td>\n",
       "      <td>None</td>\n",
       "      <td>None</td>\n",
       "    </tr>\n",
       "    <tr>\n",
       "      <th>9</th>\n",
       "      <td>Please be aware that, if you use any of these ...</td>\n",
       "      <td>None</td>\n",
       "      <td>None</td>\n",
       "    </tr>\n",
       "    <tr>\n",
       "      <th>10</th>\n",
       "      <td>These third party sites or apps are not affili...</td>\n",
       "      <td>None</td>\n",
       "      <td>None</td>\n",
       "    </tr>\n",
       "    <tr>\n",
       "      <th>11</th>\n",
       "      <td>Updates to this Policy We may revise our priva...</td>\n",
       "      <td>None</td>\n",
       "      <td>None</td>\n",
       "    </tr>\n",
       "    <tr>\n",
       "      <th>12</th>\n",
       "      <td>Ad Networks &amp; Analytics Policies Advertising i...</td>\n",
       "      <td>[{'practice': 'Identifier_Cookie_or_similar_Te...</td>\n",
       "      <td>[{'sentence_text': 'AI Factory choose to only ...</td>\n",
       "    </tr>\n",
       "    <tr>\n",
       "      <th>13</th>\n",
       "      <td>http://www.google.com/intl/en/policies/privacy...</td>\n",
       "      <td>None</td>\n",
       "      <td>None</td>\n",
       "    </tr>\n",
       "  </tbody>\n",
       "</table>\n",
       "</div>"
      ],
      "text/plain": [
       "                                                 segment_text  \\\n",
       "segment_id                                                      \n",
       "0           AI Factory Privacy & Cookie Policy AI Factory ...   \n",
       "1           Anonymous Data AI Factory may collect and use ...   \n",
       "2           For example, Google Analytics automatically sa...   \n",
       "3           Google Analytics also automatically collects d...   \n",
       "4           None of this collected data can be linked to a...   \n",
       "5           Ad networks who provide adverts to our mobile ...   \n",
       "6           Third Party Terms and Conditions Please note t...   \n",
       "7           Links to Third Party Sites or Games Our mobile...   \n",
       "8           Our mobile applications may provide access to ...   \n",
       "9           Please be aware that, if you use any of these ...   \n",
       "10          These third party sites or apps are not affili...   \n",
       "11          Updates to this Policy We may revise our priva...   \n",
       "12          Ad Networks & Analytics Policies Advertising i...   \n",
       "13          http://www.google.com/intl/en/policies/privacy...   \n",
       "\n",
       "                                                  annotations  \\\n",
       "segment_id                                                      \n",
       "0           [{'practice': 'Identifier_Cookie_or_similar_Te...   \n",
       "1           [{'practice': 'Contact_City_3rdParty', 'modali...   \n",
       "2           [{'practice': 'Contact_City_3rdParty', 'modali...   \n",
       "3                                                        None   \n",
       "4                                                        None   \n",
       "5           [{'practice': 'Identifier_Device_ID_3rdParty',...   \n",
       "6                                                        None   \n",
       "7                                                        None   \n",
       "8                                                        None   \n",
       "9                                                        None   \n",
       "10                                                       None   \n",
       "11                                                       None   \n",
       "12          [{'practice': 'Identifier_Cookie_or_similar_Te...   \n",
       "13                                                       None   \n",
       "\n",
       "                                                    sentences  \n",
       "segment_id                                                     \n",
       "0           [{'sentence_text': 'AI Factory Privacy & Cooki...  \n",
       "1           [{'sentence_text': 'AI Factory may collect and...  \n",
       "2           [{'sentence_text': 'For example, Google Analyt...  \n",
       "3                                                        None  \n",
       "4                                                        None  \n",
       "5           [{'sentence_text': 'Ad networks who provide ad...  \n",
       "6                                                        None  \n",
       "7                                                        None  \n",
       "8                                                        None  \n",
       "9                                                        None  \n",
       "10                                                       None  \n",
       "11                                                       None  \n",
       "12          [{'sentence_text': 'AI Factory choose to only ...  \n",
       "13                                                       None  "
      ]
     },
     "execution_count": 188,
     "metadata": {},
     "output_type": "execute_result"
    }
   ],
   "source": [
    "pol_1_segments"
   ]
  },
  {
   "cell_type": "code",
   "execution_count": 225,
   "id": "38d33aa3",
   "metadata": {},
   "outputs": [
    {
     "data": {
      "text/plain": [
       "segment_id\n",
       "1    [{'practice': 'Contact_City_3rdParty', 'modali...\n",
       "2    [{'practice': 'Contact_City_3rdParty', 'modali...\n",
       "5    [{'practice': 'Identifier_Device_ID_3rdParty',...\n",
       "Name: annotations, dtype: object"
      ]
     },
     "execution_count": 225,
     "metadata": {},
     "output_type": "execute_result"
    }
   ],
   "source": [
    "pol_1_segments.loc[ pol_1_segments[\"annotations\"].str.len() == 2 , \"annotations\"]"
   ]
  },
  {
   "cell_type": "code",
   "execution_count": 222,
   "id": "8c41abca",
   "metadata": {},
   "outputs": [
    {
     "data": {
      "text/plain": [
       "[{'practice': 'Identifier_Cookie_or_similar_Tech_1stParty',\n",
       "  'modality': 'PERFORMED'}]"
      ]
     },
     "execution_count": 222,
     "metadata": {},
     "output_type": "execute_result"
    }
   ],
   "source": [
    "pol_1_segments[\"annotations\"][0]"
   ]
  },
  {
   "cell_type": "code",
   "execution_count": 216,
   "id": "998c7967",
   "metadata": {},
   "outputs": [
    {
     "data": {
      "text/plain": [
       "[{'practice': 'Contact_City_3rdParty', 'modality': 'PERFORMED'},\n",
       " {'practice': 'Identifier_Mobile_Carrier_3rdParty', 'modality': 'PERFORMED'}]"
      ]
     },
     "execution_count": 216,
     "metadata": {},
     "output_type": "execute_result"
    }
   ],
   "source": [
    "pol_1_segments[\"annotations\"][1]"
   ]
  },
  {
   "cell_type": "code",
   "execution_count": 217,
   "id": "ce08ec52",
   "metadata": {},
   "outputs": [
    {
     "data": {
      "text/plain": [
       "[{'practice': 'Contact_City_3rdParty', 'modality': 'PERFORMED'},\n",
       " {'practice': 'Identifier_Mobile_Carrier_3rdParty', 'modality': 'PERFORMED'}]"
      ]
     },
     "execution_count": 217,
     "metadata": {},
     "output_type": "execute_result"
    }
   ],
   "source": [
    "pol_1_segments[\"annotations\"][2]"
   ]
  },
  {
   "cell_type": "markdown",
   "id": "9ccb6145",
   "metadata": {},
   "source": [
    "Not sure what use this metric is.  Like num annotations per segment."
   ]
  },
  {
   "cell_type": "markdown",
   "id": "fe5d6ec5",
   "metadata": {},
   "source": [
    "But \"sentences\" can be a useful metric. I can extract something like the number of annotated sentences, although not directly the number of annotations, in case where one sentence has multiple annotations.\n",
    "\n",
    "Not sure what metric to use.  len( dictionary ) gets the number of sentences that have one or more annotations, but I'm not sure I can apply that to a series"
   ]
  },
  {
   "cell_type": "code",
   "execution_count": 257,
   "id": "08dc2724",
   "metadata": {},
   "outputs": [
    {
     "data": {
      "text/plain": [
       "[{'sentence_text': 'AI Factory Privacy & Cookie Policy AI Factory builds in analytics in our games to enable us to improve them, to give the user the best possible game experience.',\n",
       "  'annotations': [{'practice': 'Identifier_Cookie_or_similar_Tech_1stParty',\n",
       "    'modality': 'PERFORMED'}]},\n",
       " {'sentence_text': 'AI Factory also displays advertisements to fund the creation of these games.',\n",
       "  'annotations': [{'practice': 'Identifier_Cookie_or_similar_Tech_1stParty',\n",
       "    'modality': 'PERFORMED'}]},\n",
       " {'sentence_text': \"AI Factory fully respects the user's privacy and never collects information that could be directly linked to the user.\",\n",
       "  'annotations': [{'practice': 'Identifier_Cookie_or_similar_Tech_1stParty',\n",
       "    'modality': 'PERFORMED'}]},\n",
       " {'sentence_text': 'If you do not agree to this privacy & cookie policy, please do not use or otherwise access our applications.',\n",
       "  'annotations': [{'practice': 'Identifier_Cookie_or_similar_Tech_1stParty',\n",
       "    'modality': 'PERFORMED'}]},\n",
       " {'sentence_text': 'This is all governed by the following privacy & cookie policy: Unless explicitly given the opportunity to accept this policy inside an app, please note that by using or otherwise accessing any AI Factory mobile application, you are agreeing to this privacy & cookie policy.',\n",
       "  'annotations': [{'practice': 'Identifier_Cookie_or_similar_Tech_1stParty',\n",
       "    'modality': 'PERFORMED'}]},\n",
       " {'sentence_text': 'This samples anonymous non-personal data that simply allows us to find out what users do and do not like.',\n",
       "  'annotations': [{'practice': 'Identifier_Cookie_or_similar_Tech_1stParty',\n",
       "    'modality': 'PERFORMED'}]}]"
      ]
     },
     "execution_count": 257,
     "metadata": {},
     "output_type": "execute_result"
    }
   ],
   "source": [
    "pol_1_segments[\"sentences\"][0]"
   ]
  },
  {
   "cell_type": "code",
   "execution_count": 258,
   "id": "18699ecd",
   "metadata": {},
   "outputs": [
    {
     "data": {
      "text/plain": [
       "6"
      ]
     },
     "execution_count": 258,
     "metadata": {},
     "output_type": "execute_result"
    }
   ],
   "source": [
    "len(pol_1_segments[\"sentences\"][0])"
   ]
  },
  {
   "cell_type": "code",
   "execution_count": 260,
   "id": "7d6adc4f",
   "metadata": {},
   "outputs": [
    {
     "ename": "AttributeError",
     "evalue": "'Series' object has no attribute 'list'",
     "output_type": "error",
     "traceback": [
      "\u001b[0;31m---------------------------------------------------------------------------\u001b[0m",
      "\u001b[0;31mAttributeError\u001b[0m                            Traceback (most recent call last)",
      "Input \u001b[0;32mIn [260]\u001b[0m, in \u001b[0;36m<cell line: 1>\u001b[0;34m()\u001b[0m\n\u001b[0;32m----> 1\u001b[0m pol_1_segments\u001b[38;5;241m.\u001b[39mloc[ \u001b[43mpol_1_segments\u001b[49m\u001b[43m[\u001b[49m\u001b[38;5;124;43m\"\u001b[39;49m\u001b[38;5;124;43msentences\u001b[39;49m\u001b[38;5;124;43m\"\u001b[39;49m\u001b[43m]\u001b[49m\u001b[38;5;241;43m.\u001b[39;49m\u001b[43mlist\u001b[49m\u001b[38;5;241m.\u001b[39mlen() \u001b[38;5;241m==\u001b[39m \u001b[38;5;241m6\u001b[39m , \u001b[38;5;124m\"\u001b[39m\u001b[38;5;124msentences\u001b[39m\u001b[38;5;124m\"\u001b[39m]\n",
      "File \u001b[0;32m~/opt/anaconda3/lib/python3.9/site-packages/pandas/core/generic.py:5575\u001b[0m, in \u001b[0;36mNDFrame.__getattr__\u001b[0;34m(self, name)\u001b[0m\n\u001b[1;32m   5568\u001b[0m \u001b[38;5;28;01mif\u001b[39;00m (\n\u001b[1;32m   5569\u001b[0m     name \u001b[38;5;129;01mnot\u001b[39;00m \u001b[38;5;129;01min\u001b[39;00m \u001b[38;5;28mself\u001b[39m\u001b[38;5;241m.\u001b[39m_internal_names_set\n\u001b[1;32m   5570\u001b[0m     \u001b[38;5;129;01mand\u001b[39;00m name \u001b[38;5;129;01mnot\u001b[39;00m \u001b[38;5;129;01min\u001b[39;00m \u001b[38;5;28mself\u001b[39m\u001b[38;5;241m.\u001b[39m_metadata\n\u001b[1;32m   5571\u001b[0m     \u001b[38;5;129;01mand\u001b[39;00m name \u001b[38;5;129;01mnot\u001b[39;00m \u001b[38;5;129;01min\u001b[39;00m \u001b[38;5;28mself\u001b[39m\u001b[38;5;241m.\u001b[39m_accessors\n\u001b[1;32m   5572\u001b[0m     \u001b[38;5;129;01mand\u001b[39;00m \u001b[38;5;28mself\u001b[39m\u001b[38;5;241m.\u001b[39m_info_axis\u001b[38;5;241m.\u001b[39m_can_hold_identifiers_and_holds_name(name)\n\u001b[1;32m   5573\u001b[0m ):\n\u001b[1;32m   5574\u001b[0m     \u001b[38;5;28;01mreturn\u001b[39;00m \u001b[38;5;28mself\u001b[39m[name]\n\u001b[0;32m-> 5575\u001b[0m \u001b[38;5;28;01mreturn\u001b[39;00m \u001b[38;5;28;43mobject\u001b[39;49m\u001b[38;5;241;43m.\u001b[39;49m\u001b[38;5;21;43m__getattribute__\u001b[39;49m\u001b[43m(\u001b[49m\u001b[38;5;28;43mself\u001b[39;49m\u001b[43m,\u001b[49m\u001b[43m \u001b[49m\u001b[43mname\u001b[49m\u001b[43m)\u001b[49m\n",
      "\u001b[0;31mAttributeError\u001b[0m: 'Series' object has no attribute 'list'"
     ]
    }
   ],
   "source": [
    "pol_1_segments.loc[ pol_1_segments[\"sentences\"].list.len() == 6 , \"sentences\"]"
   ]
  },
  {
   "cell_type": "code",
   "execution_count": null,
   "id": "549e4699",
   "metadata": {},
   "outputs": [],
   "source": []
  }
 ],
 "metadata": {
  "kernelspec": {
   "display_name": "Python 3 (ipykernel)",
   "language": "python",
   "name": "python3"
  },
  "language_info": {
   "codemirror_mode": {
    "name": "ipython",
    "version": 3
   },
   "file_extension": ".py",
   "mimetype": "text/x-python",
   "name": "python",
   "nbconvert_exporter": "python",
   "pygments_lexer": "ipython3",
   "version": "3.9.12"
  }
 },
 "nbformat": 4,
 "nbformat_minor": 5
}
