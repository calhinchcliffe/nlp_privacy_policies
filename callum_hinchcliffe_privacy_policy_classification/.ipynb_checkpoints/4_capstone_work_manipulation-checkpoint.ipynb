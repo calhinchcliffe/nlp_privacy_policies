{
 "cells": [
  {
   "cell_type": "markdown",
   "id": "35ceb32c",
   "metadata": {},
   "source": [
    "Dataset and related content taken from Natural Language Processing for Mobile App Privacy Compliance. Peter Story, Sebastian Zimmeck, Abhilasha Ravichander, Daniel Smullen, Ziqi Wang, Joel Reidenberg, N. Cameron Russell, and Norman Sadeh. AAAI Spring Symposium on Privacy Enhancing AI and Language Technologies (PAL 2019), Mar 2019.\n",
    "\n",
    "Available here – APP350: https://usableprivacy.org/data"
   ]
  },
  {
   "cell_type": "markdown",
   "id": "816694eb",
   "metadata": {},
   "source": [
    "EDA should be in the context of my data.  I should state what I expect BEFORE checking for it in the data.\n",
    "\n",
    "Also at the top I can include links, context, goals"
   ]
  },
  {
   "cell_type": "code",
   "execution_count": 2,
   "id": "09c92c4c",
   "metadata": {},
   "outputs": [],
   "source": [
    "import pandas as pd\n",
    "from pandas import json_normalize\n",
    "import yaml\n",
    "import numpy as np\n",
    "\n",
    "import matplotlib.pyplot as plt\n",
    "%matplotlib inline\n",
    "\n",
    "import seaborn as sns\n",
    "from scipy import stats\n",
    "from scipy.stats import norm\n",
    "import statsmodels.api as sm\n",
    "\n",
    "import sys\n",
    "from collections import defaultdict\n",
    "from collections import Counter\n",
    "\n",
    "import ds_utils_callum\n",
    "import priv_policy_manipulation_functions as priv_pol_funcs"
   ]
  },
  {
   "cell_type": "markdown",
   "id": "b562041b",
   "metadata": {},
   "source": [
    "Put the first policy into a df"
   ]
  },
  {
   "cell_type": "markdown",
   "id": "91a814ec",
   "metadata": {},
   "source": [
    "## Populating top-level df"
   ]
  },
  {
   "cell_type": "code",
   "execution_count": 3,
   "id": "78beb882",
   "metadata": {},
   "outputs": [
    {
     "data": {
      "text/html": [
       "<div>\n",
       "<style scoped>\n",
       "    .dataframe tbody tr th:only-of-type {\n",
       "        vertical-align: middle;\n",
       "    }\n",
       "\n",
       "    .dataframe tbody tr th {\n",
       "        vertical-align: top;\n",
       "    }\n",
       "\n",
       "    .dataframe thead th {\n",
       "        text-align: right;\n",
       "    }\n",
       "</style>\n",
       "<table border=\"1\" class=\"dataframe\">\n",
       "  <thead>\n",
       "    <tr style=\"text-align: right;\">\n",
       "      <th></th>\n",
       "      <th>policy_id</th>\n",
       "      <th>policy_name</th>\n",
       "      <th>policy_type</th>\n",
       "      <th>contains_synthetic</th>\n",
       "      <th>segments</th>\n",
       "    </tr>\n",
       "  </thead>\n",
       "  <tbody>\n",
       "    <tr>\n",
       "      <th>0</th>\n",
       "      <td>1</td>\n",
       "      <td>6677G</td>\n",
       "      <td>TEST</td>\n",
       "      <td>False</td>\n",
       "      <td>[{'segment_id': 0, 'segment_text': 'PRIVACY PO...</td>\n",
       "    </tr>\n",
       "    <tr>\n",
       "      <th>1</th>\n",
       "      <td>2</td>\n",
       "      <td>AIFactory</td>\n",
       "      <td>TEST</td>\n",
       "      <td>False</td>\n",
       "      <td>[{'segment_id': 0, 'segment_text': 'AI Factory...</td>\n",
       "    </tr>\n",
       "    <tr>\n",
       "      <th>2</th>\n",
       "      <td>3</td>\n",
       "      <td>AppliqatoSoftware</td>\n",
       "      <td>TEST</td>\n",
       "      <td>False</td>\n",
       "      <td>[{'segment_id': 0, 'segment_text': 'Automatic ...</td>\n",
       "    </tr>\n",
       "    <tr>\n",
       "      <th>3</th>\n",
       "      <td>4</td>\n",
       "      <td>BandaiNamco</td>\n",
       "      <td>TEST</td>\n",
       "      <td>False</td>\n",
       "      <td>[{'segment_id': 0, 'segment_text': 'MOBILE APP...</td>\n",
       "    </tr>\n",
       "    <tr>\n",
       "      <th>4</th>\n",
       "      <td>5</td>\n",
       "      <td>BarcodeScanner</td>\n",
       "      <td>TEST</td>\n",
       "      <td>False</td>\n",
       "      <td>[{'segment_id': 0, 'segment_text': 'Skip to co...</td>\n",
       "    </tr>\n",
       "  </tbody>\n",
       "</table>\n",
       "</div>"
      ],
      "text/plain": [
       "   policy_id        policy_name policy_type  contains_synthetic  \\\n",
       "0          1              6677G        TEST               False   \n",
       "1          2          AIFactory        TEST               False   \n",
       "2          3  AppliqatoSoftware        TEST               False   \n",
       "3          4        BandaiNamco        TEST               False   \n",
       "4          5     BarcodeScanner        TEST               False   \n",
       "\n",
       "                                            segments  \n",
       "0  [{'segment_id': 0, 'segment_text': 'PRIVACY PO...  \n",
       "1  [{'segment_id': 0, 'segment_text': 'AI Factory...  \n",
       "2  [{'segment_id': 0, 'segment_text': 'Automatic ...  \n",
       "3  [{'segment_id': 0, 'segment_text': 'MOBILE APP...  \n",
       "4  [{'segment_id': 0, 'segment_text': 'Skip to co...  "
      ]
     },
     "execution_count": 3,
     "metadata": {},
     "output_type": "execute_result"
    }
   ],
   "source": [
    "all_policies_df = priv_pol_funcs.load_all_policies()\n",
    "all_policies_df.head(5)"
   ]
  },
  {
   "cell_type": "code",
   "execution_count": 4,
   "id": "a07bc455",
   "metadata": {},
   "outputs": [
    {
     "data": {
      "text/html": [
       "<div>\n",
       "<style scoped>\n",
       "    .dataframe tbody tr th:only-of-type {\n",
       "        vertical-align: middle;\n",
       "    }\n",
       "\n",
       "    .dataframe tbody tr th {\n",
       "        vertical-align: top;\n",
       "    }\n",
       "\n",
       "    .dataframe thead th {\n",
       "        text-align: right;\n",
       "    }\n",
       "</style>\n",
       "<table border=\"1\" class=\"dataframe\">\n",
       "  <thead>\n",
       "    <tr style=\"text-align: right;\">\n",
       "      <th></th>\n",
       "      <th>policy_id</th>\n",
       "      <th>policy_name</th>\n",
       "      <th>policy_type</th>\n",
       "      <th>contains_synthetic</th>\n",
       "      <th>segments</th>\n",
       "      <th>num_segments</th>\n",
       "      <th>num_annotated_segs</th>\n",
       "      <th>total_characters</th>\n",
       "    </tr>\n",
       "  </thead>\n",
       "  <tbody>\n",
       "    <tr>\n",
       "      <th>0</th>\n",
       "      <td>1</td>\n",
       "      <td>6677G</td>\n",
       "      <td>TEST</td>\n",
       "      <td>False</td>\n",
       "      <td>[{'segment_id': 0, 'segment_text': 'PRIVACY PO...</td>\n",
       "      <td>36</td>\n",
       "      <td>11</td>\n",
       "      <td>12703</td>\n",
       "    </tr>\n",
       "    <tr>\n",
       "      <th>1</th>\n",
       "      <td>2</td>\n",
       "      <td>AIFactory</td>\n",
       "      <td>TEST</td>\n",
       "      <td>False</td>\n",
       "      <td>[{'segment_id': 0, 'segment_text': 'AI Factory...</td>\n",
       "      <td>14</td>\n",
       "      <td>5</td>\n",
       "      <td>5995</td>\n",
       "    </tr>\n",
       "    <tr>\n",
       "      <th>2</th>\n",
       "      <td>3</td>\n",
       "      <td>AppliqatoSoftware</td>\n",
       "      <td>TEST</td>\n",
       "      <td>False</td>\n",
       "      <td>[{'segment_id': 0, 'segment_text': 'Automatic ...</td>\n",
       "      <td>8</td>\n",
       "      <td>1</td>\n",
       "      <td>2450</td>\n",
       "    </tr>\n",
       "    <tr>\n",
       "      <th>3</th>\n",
       "      <td>4</td>\n",
       "      <td>BandaiNamco</td>\n",
       "      <td>TEST</td>\n",
       "      <td>False</td>\n",
       "      <td>[{'segment_id': 0, 'segment_text': 'MOBILE APP...</td>\n",
       "      <td>57</td>\n",
       "      <td>14</td>\n",
       "      <td>32323</td>\n",
       "    </tr>\n",
       "    <tr>\n",
       "      <th>4</th>\n",
       "      <td>5</td>\n",
       "      <td>BarcodeScanner</td>\n",
       "      <td>TEST</td>\n",
       "      <td>False</td>\n",
       "      <td>[{'segment_id': 0, 'segment_text': 'Skip to co...</td>\n",
       "      <td>32</td>\n",
       "      <td>3</td>\n",
       "      <td>6667</td>\n",
       "    </tr>\n",
       "  </tbody>\n",
       "</table>\n",
       "</div>"
      ],
      "text/plain": [
       "   policy_id        policy_name policy_type  contains_synthetic  \\\n",
       "0          1              6677G        TEST               False   \n",
       "1          2          AIFactory        TEST               False   \n",
       "2          3  AppliqatoSoftware        TEST               False   \n",
       "3          4        BandaiNamco        TEST               False   \n",
       "4          5     BarcodeScanner        TEST               False   \n",
       "\n",
       "                                            segments  num_segments  \\\n",
       "0  [{'segment_id': 0, 'segment_text': 'PRIVACY PO...            36   \n",
       "1  [{'segment_id': 0, 'segment_text': 'AI Factory...            14   \n",
       "2  [{'segment_id': 0, 'segment_text': 'Automatic ...             8   \n",
       "3  [{'segment_id': 0, 'segment_text': 'MOBILE APP...            57   \n",
       "4  [{'segment_id': 0, 'segment_text': 'Skip to co...            32   \n",
       "\n",
       "   num_annotated_segs  total_characters  \n",
       "0                  11             12703  \n",
       "1                   5              5995  \n",
       "2                   1              2450  \n",
       "3                  14             32323  \n",
       "4                   3              6667  "
      ]
     },
     "execution_count": 4,
     "metadata": {},
     "output_type": "execute_result"
    }
   ],
   "source": [
    "all_policies_df = priv_pol_funcs.add_metadata_to_policy_df(all_policies_df)\n",
    "all_policies_df.head(5)"
   ]
  },
  {
   "cell_type": "markdown",
   "id": "dc7e4abe",
   "metadata": {},
   "source": [
    "# Making segments"
   ]
  },
  {
   "cell_type": "markdown",
   "id": "839b9e7c",
   "metadata": {},
   "source": [
    "Now to make a new dataframe where each row represents a paragraph (segment).\n",
    "\n",
    "First I will get this to work for a single policy. Then I will loop through all the policies to apply the same manipulation."
   ]
  },
  {
   "cell_type": "code",
   "execution_count": 5,
   "id": "0c936160",
   "metadata": {
    "scrolled": false
   },
   "outputs": [
    {
     "data": {
      "text/html": [
       "<div>\n",
       "<style scoped>\n",
       "    .dataframe tbody tr th:only-of-type {\n",
       "        vertical-align: middle;\n",
       "    }\n",
       "\n",
       "    .dataframe tbody tr th {\n",
       "        vertical-align: top;\n",
       "    }\n",
       "\n",
       "    .dataframe thead th {\n",
       "        text-align: right;\n",
       "    }\n",
       "</style>\n",
       "<table border=\"1\" class=\"dataframe\">\n",
       "  <thead>\n",
       "    <tr style=\"text-align: right;\">\n",
       "      <th></th>\n",
       "      <th>source_policy_number</th>\n",
       "      <th>policy_type</th>\n",
       "      <th>contains_synthetic</th>\n",
       "      <th>policy_segment_id</th>\n",
       "      <th>segment_text</th>\n",
       "      <th>annotations</th>\n",
       "      <th>sentences</th>\n",
       "    </tr>\n",
       "    <tr>\n",
       "      <th>segment_id</th>\n",
       "      <th></th>\n",
       "      <th></th>\n",
       "      <th></th>\n",
       "      <th></th>\n",
       "      <th></th>\n",
       "      <th></th>\n",
       "      <th></th>\n",
       "    </tr>\n",
       "  </thead>\n",
       "  <tbody>\n",
       "    <tr>\n",
       "      <th>0</th>\n",
       "      <td>1</td>\n",
       "      <td>TEST</td>\n",
       "      <td>False</td>\n",
       "      <td>0</td>\n",
       "      <td>PRIVACY POLICY This privacy policy (hereafter ...</td>\n",
       "      <td>[]</td>\n",
       "      <td>[]</td>\n",
       "    </tr>\n",
       "    <tr>\n",
       "      <th>1</th>\n",
       "      <td>1</td>\n",
       "      <td>TEST</td>\n",
       "      <td>False</td>\n",
       "      <td>1</td>\n",
       "      <td>1. ABOUT OUR PRODUCTS 1.1 Our products offer a...</td>\n",
       "      <td>[]</td>\n",
       "      <td>[]</td>\n",
       "    </tr>\n",
       "    <tr>\n",
       "      <th>2</th>\n",
       "      <td>1</td>\n",
       "      <td>TEST</td>\n",
       "      <td>False</td>\n",
       "      <td>2</td>\n",
       "      <td>2. THE INFORMATION WE COLLECT The information ...</td>\n",
       "      <td>[{'practice': 'Identifier_Cookie_or_similar_Te...</td>\n",
       "      <td>[{'sentence_text': 'IP ADDRESS, COOKIES, AND W...</td>\n",
       "    </tr>\n",
       "    <tr>\n",
       "      <th>3</th>\n",
       "      <td>1</td>\n",
       "      <td>TEST</td>\n",
       "      <td>False</td>\n",
       "      <td>3</td>\n",
       "      <td>2.2 In addition, we store certain information ...</td>\n",
       "      <td>[{'practice': 'Identifier_Cookie_or_similar_Te...</td>\n",
       "      <td>[{'sentence_text': '6677g may use cookies, web...</td>\n",
       "    </tr>\n",
       "    <tr>\n",
       "      <th>4</th>\n",
       "      <td>1</td>\n",
       "      <td>TEST</td>\n",
       "      <td>False</td>\n",
       "      <td>4</td>\n",
       "      <td>(c) to remember your preferences and registrat...</td>\n",
       "      <td>[]</td>\n",
       "      <td>[]</td>\n",
       "    </tr>\n",
       "  </tbody>\n",
       "</table>\n",
       "</div>"
      ],
      "text/plain": [
       "            source_policy_number policy_type  contains_synthetic  \\\n",
       "segment_id                                                         \n",
       "0                              1        TEST               False   \n",
       "1                              1        TEST               False   \n",
       "2                              1        TEST               False   \n",
       "3                              1        TEST               False   \n",
       "4                              1        TEST               False   \n",
       "\n",
       "            policy_segment_id  \\\n",
       "segment_id                      \n",
       "0                           0   \n",
       "1                           1   \n",
       "2                           2   \n",
       "3                           3   \n",
       "4                           4   \n",
       "\n",
       "                                                 segment_text  \\\n",
       "segment_id                                                      \n",
       "0           PRIVACY POLICY This privacy policy (hereafter ...   \n",
       "1           1. ABOUT OUR PRODUCTS 1.1 Our products offer a...   \n",
       "2           2. THE INFORMATION WE COLLECT The information ...   \n",
       "3           2.2 In addition, we store certain information ...   \n",
       "4           (c) to remember your preferences and registrat...   \n",
       "\n",
       "                                                  annotations  \\\n",
       "segment_id                                                      \n",
       "0                                                          []   \n",
       "1                                                          []   \n",
       "2           [{'practice': 'Identifier_Cookie_or_similar_Te...   \n",
       "3           [{'practice': 'Identifier_Cookie_or_similar_Te...   \n",
       "4                                                          []   \n",
       "\n",
       "                                                    sentences  \n",
       "segment_id                                                     \n",
       "0                                                          []  \n",
       "1                                                          []  \n",
       "2           [{'sentence_text': 'IP ADDRESS, COOKIES, AND W...  \n",
       "3           [{'sentence_text': '6677g may use cookies, web...  \n",
       "4                                                          []  "
      ]
     },
     "execution_count": 5,
     "metadata": {},
     "output_type": "execute_result"
    }
   ],
   "source": [
    "all_segments_df = priv_pol_funcs.generate_segment_df(all_policies_df)\n",
    "all_segments_df.head()"
   ]
  },
  {
   "cell_type": "code",
   "execution_count": 6,
   "id": "fd922f90",
   "metadata": {},
   "outputs": [
    {
     "data": {
      "text/plain": [
       "(15543, 7)"
      ]
     },
     "execution_count": 6,
     "metadata": {},
     "output_type": "execute_result"
    }
   ],
   "source": [
    "all_segments_df.shape"
   ]
  },
  {
   "cell_type": "code",
   "execution_count": 7,
   "id": "f736bc2e",
   "metadata": {},
   "outputs": [
    {
     "name": "stdout",
     "output_type": "stream",
     "text": [
      "<class 'pandas.core.frame.DataFrame'>\n",
      "RangeIndex: 15543 entries, 0 to 15542\n",
      "Data columns (total 7 columns):\n",
      " #   Column                Non-Null Count  Dtype \n",
      "---  ------                --------------  ----- \n",
      " 0   source_policy_number  15543 non-null  int64 \n",
      " 1   policy_type           15543 non-null  object\n",
      " 2   contains_synthetic    15543 non-null  bool  \n",
      " 3   policy_segment_id     15543 non-null  int64 \n",
      " 4   segment_text          15543 non-null  object\n",
      " 5   annotations           15543 non-null  object\n",
      " 6   sentences             15543 non-null  object\n",
      "dtypes: bool(1), int64(2), object(4)\n",
      "memory usage: 743.9+ KB\n"
     ]
    }
   ],
   "source": [
    "all_segments_df.info()"
   ]
  },
  {
   "cell_type": "markdown",
   "id": "94a791be",
   "metadata": {},
   "source": [
    "### Export all segments"
   ]
  },
  {
   "cell_type": "code",
   "execution_count": 30,
   "id": "4b95a46d",
   "metadata": {},
   "outputs": [],
   "source": [
    "all_segments_df.to_csv('all_segments_df.csv', sep = \"ª\", index=False)"
   ]
  },
  {
   "cell_type": "code",
   "execution_count": 31,
   "id": "4c86aea3",
   "metadata": {},
   "outputs": [],
   "source": [
    "testtwo_df = pd.read_csv('all_segments_df.csv', sep = \"ª\", engine='python')\n"
   ]
  },
  {
   "cell_type": "code",
   "execution_count": 32,
   "id": "3098b202",
   "metadata": {},
   "outputs": [
    {
     "data": {
      "text/plain": [
       "False"
      ]
     },
     "execution_count": 32,
     "metadata": {},
     "output_type": "execute_result"
    }
   ],
   "source": [
    "testtwo_df.equals(all_segments_df)"
   ]
  },
  {
   "cell_type": "code",
   "execution_count": 33,
   "id": "ebf49810",
   "metadata": {},
   "outputs": [
    {
     "data": {
      "text/plain": [
       "(15543, 7)"
      ]
     },
     "execution_count": 33,
     "metadata": {},
     "output_type": "execute_result"
    }
   ],
   "source": [
    "testtwo_df.shape"
   ]
  },
  {
   "cell_type": "code",
   "execution_count": 34,
   "id": "b9b8d273",
   "metadata": {},
   "outputs": [
    {
     "data": {
      "text/plain": [
       "(15543, 7)"
      ]
     },
     "execution_count": 34,
     "metadata": {},
     "output_type": "execute_result"
    }
   ],
   "source": [
    "all_segments_df.shape"
   ]
  },
  {
   "cell_type": "markdown",
   "id": "817ac65c",
   "metadata": {},
   "source": [
    "# Next step of extraction"
   ]
  },
  {
   "cell_type": "markdown",
   "id": "f4980ec4",
   "metadata": {},
   "source": [
    "I probably want to separate it out to the sentence level, as that is the max granularity of the annotations and some paragraphs are just one sentence anyway."
   ]
  },
  {
   "cell_type": "markdown",
   "id": "afb62815",
   "metadata": {},
   "source": [
    "## Extracting list of practices"
   ]
  },
  {
   "cell_type": "markdown",
   "id": "44a03476",
   "metadata": {},
   "source": [
    "Employing my function to get the list of practices from the APP documentation"
   ]
  },
  {
   "cell_type": "code",
   "execution_count": 8,
   "id": "b0210c34",
   "metadata": {},
   "outputs": [
    {
     "name": "stdout",
     "output_type": "stream",
     "text": [
      "29 different groups of practices returned, containing 58 individual practices.\n"
     ]
    }
   ],
   "source": [
    "list_of_practice_groups = priv_pol_funcs.get_list_of_practice_groups()"
   ]
  },
  {
   "cell_type": "code",
   "execution_count": 9,
   "id": "9f867dbd",
   "metadata": {},
   "outputs": [
    {
     "name": "stdout",
     "output_type": "stream",
     "text": [
      "There are 58 different practices.\n"
     ]
    }
   ],
   "source": [
    "# Expand the list of list with a list comprehension\n",
    "list_of_practices = [practice for practice_group in list_of_practice_groups for practice in practice_group]\n",
    "print(f\"There are {len(list_of_practices)} different practices.\")"
   ]
  },
  {
   "cell_type": "code",
   "execution_count": 10,
   "id": "5cf00bf9",
   "metadata": {},
   "outputs": [
    {
     "data": {
      "text/plain": [
       "['Contact_1stParty',\n",
       " 'Contact_3rdParty',\n",
       " 'Contact_Address_Book_1stParty',\n",
       " 'Contact_Address_Book_3rdParty',\n",
       " 'Contact_City_1stParty']"
      ]
     },
     "execution_count": 10,
     "metadata": {},
     "output_type": "execute_result"
    }
   ],
   "source": [
    "list_of_practices[:5]"
   ]
  },
  {
   "cell_type": "markdown",
   "id": "5d99ae0e",
   "metadata": {},
   "source": [
    "## Applying all annotations to columns in segment dataframe"
   ]
  },
  {
   "cell_type": "code",
   "execution_count": 11,
   "id": "255a9a8e",
   "metadata": {},
   "outputs": [
    {
     "name": "stdout",
     "output_type": "stream",
     "text": [
      "The shape of the returned dataframe is (15543, 65)\n"
     ]
    }
   ],
   "source": [
    "segment_annotations = priv_pol_funcs.add_empty_annotation_columns(all_segments_df, list_of_practices)"
   ]
  },
  {
   "cell_type": "code",
   "execution_count": 12,
   "id": "585826f5",
   "metadata": {},
   "outputs": [],
   "source": [
    "# segment_annotations.head(2) # Verify columns added"
   ]
  },
  {
   "cell_type": "code",
   "execution_count": 13,
   "id": "8e237559",
   "metadata": {},
   "outputs": [],
   "source": [
    "# populate the columns with the annotations\n",
    "for index in range(len(segment_annotations)):\n",
    "    practices_dictionaries = segment_annotations.loc[index, 'annotations']\n",
    "    for each_practice in practices_dictionaries:\n",
    "        segment_annotations.loc[index, each_practice['practice']] += 1"
   ]
  },
  {
   "cell_type": "code",
   "execution_count": 14,
   "id": "217dd145",
   "metadata": {},
   "outputs": [
    {
     "data": {
      "text/plain": [
       "4"
      ]
     },
     "execution_count": 14,
     "metadata": {},
     "output_type": "execute_result"
    }
   ],
   "source": [
    "# Verify final row annotated\n",
    "segment_annotations.iloc[15542,7:].sum() # columns after 7 cover all annotation columns"
   ]
  },
  {
   "cell_type": "code",
   "execution_count": 15,
   "id": "6055fe7d",
   "metadata": {},
   "outputs": [
    {
     "data": {
      "text/plain": [
       "10215"
      ]
     },
     "execution_count": 15,
     "metadata": {},
     "output_type": "execute_result"
    }
   ],
   "source": [
    "segment_annotations.iloc[:,7:].sum().sum() # Total paragraph annotations"
   ]
  },
  {
   "cell_type": "code",
   "execution_count": 26,
   "id": "524ba89f",
   "metadata": {},
   "outputs": [
    {
     "data": {
      "text/html": [
       "<div>\n",
       "<style scoped>\n",
       "    .dataframe tbody tr th:only-of-type {\n",
       "        vertical-align: middle;\n",
       "    }\n",
       "\n",
       "    .dataframe tbody tr th {\n",
       "        vertical-align: top;\n",
       "    }\n",
       "\n",
       "    .dataframe thead th {\n",
       "        text-align: right;\n",
       "    }\n",
       "</style>\n",
       "<table border=\"1\" class=\"dataframe\">\n",
       "  <thead>\n",
       "    <tr style=\"text-align: right;\">\n",
       "      <th></th>\n",
       "      <th>source_policy_number</th>\n",
       "      <th>policy_type</th>\n",
       "      <th>contains_synthetic</th>\n",
       "      <th>policy_segment_id</th>\n",
       "      <th>segment_text</th>\n",
       "      <th>annotations</th>\n",
       "      <th>sentences</th>\n",
       "      <th>Contact_1stParty</th>\n",
       "      <th>Contact_3rdParty</th>\n",
       "      <th>Contact_Address_Book_1stParty</th>\n",
       "      <th>...</th>\n",
       "      <th>Location_Bluetooth_1stParty</th>\n",
       "      <th>Location_Bluetooth_3rdParty</th>\n",
       "      <th>Location_Cell_Tower_1stParty</th>\n",
       "      <th>Location_Cell_Tower_3rdParty</th>\n",
       "      <th>Location_GPS_1stParty</th>\n",
       "      <th>Location_GPS_3rdParty</th>\n",
       "      <th>Location_IP_Address_1stParty</th>\n",
       "      <th>Location_IP_Address_3rdParty</th>\n",
       "      <th>Location_WiFi_1stParty</th>\n",
       "      <th>Location_WiFi_3rdParty</th>\n",
       "    </tr>\n",
       "  </thead>\n",
       "  <tbody>\n",
       "    <tr>\n",
       "      <th>0</th>\n",
       "      <td>1</td>\n",
       "      <td>TEST</td>\n",
       "      <td>False</td>\n",
       "      <td>0</td>\n",
       "      <td>PRIVACY POLICY This privacy policy (hereafter ...</td>\n",
       "      <td>[]</td>\n",
       "      <td>[]</td>\n",
       "      <td>0</td>\n",
       "      <td>0</td>\n",
       "      <td>0</td>\n",
       "      <td>...</td>\n",
       "      <td>0</td>\n",
       "      <td>0</td>\n",
       "      <td>0</td>\n",
       "      <td>0</td>\n",
       "      <td>0</td>\n",
       "      <td>0</td>\n",
       "      <td>0</td>\n",
       "      <td>0</td>\n",
       "      <td>0</td>\n",
       "      <td>0</td>\n",
       "    </tr>\n",
       "    <tr>\n",
       "      <th>1</th>\n",
       "      <td>1</td>\n",
       "      <td>TEST</td>\n",
       "      <td>False</td>\n",
       "      <td>1</td>\n",
       "      <td>1. ABOUT OUR PRODUCTS 1.1 Our products offer a...</td>\n",
       "      <td>[]</td>\n",
       "      <td>[]</td>\n",
       "      <td>0</td>\n",
       "      <td>0</td>\n",
       "      <td>0</td>\n",
       "      <td>...</td>\n",
       "      <td>0</td>\n",
       "      <td>0</td>\n",
       "      <td>0</td>\n",
       "      <td>0</td>\n",
       "      <td>0</td>\n",
       "      <td>0</td>\n",
       "      <td>0</td>\n",
       "      <td>0</td>\n",
       "      <td>0</td>\n",
       "      <td>0</td>\n",
       "    </tr>\n",
       "    <tr>\n",
       "      <th>2</th>\n",
       "      <td>1</td>\n",
       "      <td>TEST</td>\n",
       "      <td>False</td>\n",
       "      <td>2</td>\n",
       "      <td>2. THE INFORMATION WE COLLECT The information ...</td>\n",
       "      <td>[{'practice': 'Identifier_Cookie_or_similar_Te...</td>\n",
       "      <td>[{'sentence_text': 'IP ADDRESS, COOKIES, AND W...</td>\n",
       "      <td>0</td>\n",
       "      <td>0</td>\n",
       "      <td>0</td>\n",
       "      <td>...</td>\n",
       "      <td>0</td>\n",
       "      <td>0</td>\n",
       "      <td>0</td>\n",
       "      <td>0</td>\n",
       "      <td>0</td>\n",
       "      <td>0</td>\n",
       "      <td>0</td>\n",
       "      <td>0</td>\n",
       "      <td>0</td>\n",
       "      <td>0</td>\n",
       "    </tr>\n",
       "    <tr>\n",
       "      <th>3</th>\n",
       "      <td>1</td>\n",
       "      <td>TEST</td>\n",
       "      <td>False</td>\n",
       "      <td>3</td>\n",
       "      <td>2.2 In addition, we store certain information ...</td>\n",
       "      <td>[{'practice': 'Identifier_Cookie_or_similar_Te...</td>\n",
       "      <td>[{'sentence_text': '6677g may use cookies, web...</td>\n",
       "      <td>0</td>\n",
       "      <td>0</td>\n",
       "      <td>0</td>\n",
       "      <td>...</td>\n",
       "      <td>0</td>\n",
       "      <td>0</td>\n",
       "      <td>0</td>\n",
       "      <td>0</td>\n",
       "      <td>0</td>\n",
       "      <td>0</td>\n",
       "      <td>0</td>\n",
       "      <td>0</td>\n",
       "      <td>0</td>\n",
       "      <td>0</td>\n",
       "    </tr>\n",
       "    <tr>\n",
       "      <th>4</th>\n",
       "      <td>1</td>\n",
       "      <td>TEST</td>\n",
       "      <td>False</td>\n",
       "      <td>4</td>\n",
       "      <td>(c) to remember your preferences and registrat...</td>\n",
       "      <td>[]</td>\n",
       "      <td>[]</td>\n",
       "      <td>0</td>\n",
       "      <td>0</td>\n",
       "      <td>0</td>\n",
       "      <td>...</td>\n",
       "      <td>0</td>\n",
       "      <td>0</td>\n",
       "      <td>0</td>\n",
       "      <td>0</td>\n",
       "      <td>0</td>\n",
       "      <td>0</td>\n",
       "      <td>0</td>\n",
       "      <td>0</td>\n",
       "      <td>0</td>\n",
       "      <td>0</td>\n",
       "    </tr>\n",
       "  </tbody>\n",
       "</table>\n",
       "<p>5 rows × 65 columns</p>\n",
       "</div>"
      ],
      "text/plain": [
       "   source_policy_number policy_type  contains_synthetic  policy_segment_id  \\\n",
       "0                     1        TEST               False                  0   \n",
       "1                     1        TEST               False                  1   \n",
       "2                     1        TEST               False                  2   \n",
       "3                     1        TEST               False                  3   \n",
       "4                     1        TEST               False                  4   \n",
       "\n",
       "                                        segment_text  \\\n",
       "0  PRIVACY POLICY This privacy policy (hereafter ...   \n",
       "1  1. ABOUT OUR PRODUCTS 1.1 Our products offer a...   \n",
       "2  2. THE INFORMATION WE COLLECT The information ...   \n",
       "3  2.2 In addition, we store certain information ...   \n",
       "4  (c) to remember your preferences and registrat...   \n",
       "\n",
       "                                         annotations  \\\n",
       "0                                                 []   \n",
       "1                                                 []   \n",
       "2  [{'practice': 'Identifier_Cookie_or_similar_Te...   \n",
       "3  [{'practice': 'Identifier_Cookie_or_similar_Te...   \n",
       "4                                                 []   \n",
       "\n",
       "                                           sentences  Contact_1stParty  \\\n",
       "0                                                 []                 0   \n",
       "1                                                 []                 0   \n",
       "2  [{'sentence_text': 'IP ADDRESS, COOKIES, AND W...                 0   \n",
       "3  [{'sentence_text': '6677g may use cookies, web...                 0   \n",
       "4                                                 []                 0   \n",
       "\n",
       "   Contact_3rdParty  Contact_Address_Book_1stParty  ...  \\\n",
       "0                 0                              0  ...   \n",
       "1                 0                              0  ...   \n",
       "2                 0                              0  ...   \n",
       "3                 0                              0  ...   \n",
       "4                 0                              0  ...   \n",
       "\n",
       "   Location_Bluetooth_1stParty  Location_Bluetooth_3rdParty  \\\n",
       "0                            0                            0   \n",
       "1                            0                            0   \n",
       "2                            0                            0   \n",
       "3                            0                            0   \n",
       "4                            0                            0   \n",
       "\n",
       "   Location_Cell_Tower_1stParty  Location_Cell_Tower_3rdParty  \\\n",
       "0                             0                             0   \n",
       "1                             0                             0   \n",
       "2                             0                             0   \n",
       "3                             0                             0   \n",
       "4                             0                             0   \n",
       "\n",
       "   Location_GPS_1stParty  Location_GPS_3rdParty  Location_IP_Address_1stParty  \\\n",
       "0                      0                      0                             0   \n",
       "1                      0                      0                             0   \n",
       "2                      0                      0                             0   \n",
       "3                      0                      0                             0   \n",
       "4                      0                      0                             0   \n",
       "\n",
       "   Location_IP_Address_3rdParty  Location_WiFi_1stParty  \\\n",
       "0                             0                       0   \n",
       "1                             0                       0   \n",
       "2                             0                       0   \n",
       "3                             0                       0   \n",
       "4                             0                       0   \n",
       "\n",
       "   Location_WiFi_3rdParty  \n",
       "0                       0  \n",
       "1                       0  \n",
       "2                       0  \n",
       "3                       0  \n",
       "4                       0  \n",
       "\n",
       "[5 rows x 65 columns]"
      ]
     },
     "execution_count": 26,
     "metadata": {},
     "output_type": "execute_result"
    }
   ],
   "source": [
    "segment_annotations.head()"
   ]
  },
  {
   "cell_type": "markdown",
   "id": "e7077411",
   "metadata": {},
   "source": [
    "## Investigating rows with multiple of same annotation"
   ]
  },
  {
   "cell_type": "code",
   "execution_count": 16,
   "id": "18d7f3e9",
   "metadata": {},
   "outputs": [
    {
     "data": {
      "text/plain": [
       "Contact_E_Mail_Address_1stParty    2\n",
       "Location_1stParty                  2\n",
       "dtype: int64"
      ]
     },
     "execution_count": 16,
     "metadata": {},
     "output_type": "execute_result"
    }
   ],
   "source": [
    "# Any paragraphs with more than one of the same annotation?\n",
    "(segment_annotations.iloc[:,7:].max() == 2)\n",
    "max_of_each_annotation_per_paragraph = segment_annotations.iloc[:,7:].max()\n",
    "max_of_each_annotation_per_paragraph.loc[max_of_each_annotation_per_paragraph.values > 1]"
   ]
  },
  {
   "cell_type": "markdown",
   "id": "9a00aff3",
   "metadata": {},
   "source": [
    "Two annotations were investigated:\n",
    "- Contact_E_Mail_Address_1stParty: only applied twice in one paragraph:\n",
    "    - paragraph 7194: the paragraph mentioned that it both performed AND did not perform this practice.\n",
    "- Location_1stParty: only applied twice in one paragraph:\n",
    "    - paragraph 11150: it is a very long paragraph and has the annotation as both performed and not performed. (Note the annotated sentences seem a bit off to be honest.)"
   ]
  },
  {
   "cell_type": "markdown",
   "id": "6ad3724b",
   "metadata": {},
   "source": [
    "## Investigating annotations that occur very rarely"
   ]
  },
  {
   "cell_type": "code",
   "execution_count": 17,
   "id": "ebe01bc0",
   "metadata": {},
   "outputs": [],
   "source": [
    "annotation_segment_frequencies = segment_annotations.iloc[:,7:].sum() # Number of paragraphs with each annotation"
   ]
  },
  {
   "cell_type": "code",
   "execution_count": 18,
   "id": "4975aeea",
   "metadata": {},
   "outputs": [
    {
     "data": {
      "text/plain": [
       "Contact_City_3rdParty             8\n",
       "Identifier_IMSI_3rdParty          3\n",
       "Identifier_SIM_Serial_3rdParty    3\n",
       "Identifier_SSID_BSSID_3rdParty    2\n",
       "dtype: int64"
      ]
     },
     "execution_count": 18,
     "metadata": {},
     "output_type": "execute_result"
    }
   ],
   "source": [
    "annotation_segment_frequencies.loc[annotation_segment_frequencies.values < 10]"
   ]
  },
  {
   "cell_type": "markdown",
   "id": "380e7672",
   "metadata": {},
   "source": [
    "Some examples:\n",
    "- Contact_City_3rdParty: Tends to be describing a level of abstraction/annonimisation of location data\n",
    "- Identifier_SSID_BSSID_3rdParty: A couple of apps use an advertising service that collects internet network info"
   ]
  },
  {
   "cell_type": "markdown",
   "id": "8c5e456c",
   "metadata": {},
   "source": [
    "## Export segment_annotations"
   ]
  },
  {
   "cell_type": "code",
   "execution_count": 20,
   "id": "0f3ffc81",
   "metadata": {},
   "outputs": [],
   "source": [
    "segment_annotations.to_csv('segment_annotations.csv', sep = \"ª\", index=False)"
   ]
  },
  {
   "cell_type": "code",
   "execution_count": 23,
   "id": "bfdbbb1e",
   "metadata": {},
   "outputs": [],
   "source": [
    "test_df = pd.read_csv('segment_annotations.csv', sep = \"ª\", engine='python')"
   ]
  },
  {
   "cell_type": "code",
   "execution_count": 24,
   "id": "c5d43147",
   "metadata": {},
   "outputs": [
    {
     "data": {
      "text/plain": [
       "False"
      ]
     },
     "execution_count": 24,
     "metadata": {},
     "output_type": "execute_result"
    }
   ],
   "source": [
    "test_df.equals(segment_annotations)"
   ]
  },
  {
   "cell_type": "code",
   "execution_count": 28,
   "id": "5f2dd5f0",
   "metadata": {},
   "outputs": [
    {
     "data": {
      "text/plain": [
       "(15543, 65)"
      ]
     },
     "execution_count": 28,
     "metadata": {},
     "output_type": "execute_result"
    }
   ],
   "source": [
    "test_df.shape"
   ]
  },
  {
   "cell_type": "code",
   "execution_count": 29,
   "id": "a3856082",
   "metadata": {},
   "outputs": [
    {
     "data": {
      "text/plain": [
       "(15543, 65)"
      ]
     },
     "execution_count": 29,
     "metadata": {},
     "output_type": "execute_result"
    }
   ],
   "source": [
    "segment_annotations.shape"
   ]
  },
  {
   "cell_type": "code",
   "execution_count": null,
   "id": "e9e2ae7d",
   "metadata": {},
   "outputs": [],
   "source": []
  },
  {
   "cell_type": "markdown",
   "id": "9b80367e",
   "metadata": {},
   "source": [
    "---"
   ]
  },
  {
   "cell_type": "markdown",
   "id": "591b05cc",
   "metadata": {},
   "source": [
    "## Frequencies of annotations – Annotations by paragraph"
   ]
  },
  {
   "cell_type": "code",
   "execution_count": 18,
   "id": "03161b98",
   "metadata": {},
   "outputs": [
    {
     "data": {
      "text/plain": [
       "Contact_E_Mail_Address_1stParty               1111\n",
       "Identifier_Cookie_or_similar_Tech_1stParty     861\n",
       "Location_1stParty                              821\n",
       "Identifier_IP_Address_1stParty                 591\n",
       "Contact_Phone_Number_1stParty                  565\n",
       "Identifier_Cookie_or_similar_Tech_3rdParty     525\n",
       "Identifier_Device_ID_1stParty                  446\n",
       "Contact_Postal_Address_1stParty                364\n",
       "SSO                                            274\n",
       "Demographic_Age_1stParty                       260\n",
       "dtype: int64"
      ]
     },
     "execution_count": 18,
     "metadata": {},
     "output_type": "execute_result"
    }
   ],
   "source": [
    "annotation_segment_frequencies.sort_values(ascending=False)[:10] # top 10 most regularly applied annotations"
   ]
  },
  {
   "cell_type": "code",
   "execution_count": 19,
   "id": "33a6d872",
   "metadata": {},
   "outputs": [
    {
     "data": {
      "image/png": "[encoded data removed]",
      "text/plain": [
       "<Figure size 432x288 with 1 Axes>"
      ]
     },
     "metadata": {
      "needs_background": "light"
     },
     "output_type": "display_data"
    }
   ],
   "source": [
    "plt.figure()\n",
    "# plt.hist(annotation_segment_frequencies, bins=20)\n",
    "plt.title(\"Across all policies, most individual annotations were applied to less than 200 different paragraphs\")\n",
    "\n",
    "sns.histplot(annotation_segment_frequencies)\n",
    "plt.text(1200, 1, \"<-- Contact_E_Mail_Address_1stParty\")\n",
    "plt.show()"
   ]
  },
  {
   "cell_type": "markdown",
   "id": "c074160d",
   "metadata": {},
   "source": [
    "Contact email, cookies and location were the annotations applied to the greatest number of paragraphs."
   ]
  },
  {
   "cell_type": "markdown",
   "id": "2ca31bf4",
   "metadata": {},
   "source": [
    "---"
   ]
  },
  {
   "cell_type": "markdown",
   "id": "0d41b435",
   "metadata": {},
   "source": [
    "## Break down to sentence level – Annotations by sentence (annotated sentences only)"
   ]
  },
  {
   "cell_type": "code",
   "execution_count": 20,
   "id": "2707e756",
   "metadata": {},
   "outputs": [
    {
     "data": {
      "text/html": [
       "<div>\n",
       "<style scoped>\n",
       "    .dataframe tbody tr th:only-of-type {\n",
       "        vertical-align: middle;\n",
       "    }\n",
       "\n",
       "    .dataframe tbody tr th {\n",
       "        vertical-align: top;\n",
       "    }\n",
       "\n",
       "    .dataframe thead th {\n",
       "        text-align: right;\n",
       "    }\n",
       "</style>\n",
       "<table border=\"1\" class=\"dataframe\">\n",
       "  <thead>\n",
       "    <tr style=\"text-align: right;\">\n",
       "      <th></th>\n",
       "      <th>source_policy_number</th>\n",
       "      <th>policy_type</th>\n",
       "      <th>contains_synthetic</th>\n",
       "      <th>policy_segment_id</th>\n",
       "      <th>segment_text</th>\n",
       "      <th>annotations</th>\n",
       "      <th>sentences</th>\n",
       "      <th>Contact_1stParty</th>\n",
       "      <th>Contact_3rdParty</th>\n",
       "      <th>Contact_Address_Book_1stParty</th>\n",
       "      <th>...</th>\n",
       "      <th>Location_Bluetooth_1stParty</th>\n",
       "      <th>Location_Bluetooth_3rdParty</th>\n",
       "      <th>Location_Cell_Tower_1stParty</th>\n",
       "      <th>Location_Cell_Tower_3rdParty</th>\n",
       "      <th>Location_GPS_1stParty</th>\n",
       "      <th>Location_GPS_3rdParty</th>\n",
       "      <th>Location_IP_Address_1stParty</th>\n",
       "      <th>Location_IP_Address_3rdParty</th>\n",
       "      <th>Location_WiFi_1stParty</th>\n",
       "      <th>Location_WiFi_3rdParty</th>\n",
       "    </tr>\n",
       "  </thead>\n",
       "  <tbody>\n",
       "    <tr>\n",
       "      <th>0</th>\n",
       "      <td>1</td>\n",
       "      <td>TEST</td>\n",
       "      <td>False</td>\n",
       "      <td>0</td>\n",
       "      <td>PRIVACY POLICY This privacy policy (hereafter ...</td>\n",
       "      <td>[]</td>\n",
       "      <td>[]</td>\n",
       "      <td>0</td>\n",
       "      <td>0</td>\n",
       "      <td>0</td>\n",
       "      <td>...</td>\n",
       "      <td>0</td>\n",
       "      <td>0</td>\n",
       "      <td>0</td>\n",
       "      <td>0</td>\n",
       "      <td>0</td>\n",
       "      <td>0</td>\n",
       "      <td>0</td>\n",
       "      <td>0</td>\n",
       "      <td>0</td>\n",
       "      <td>0</td>\n",
       "    </tr>\n",
       "    <tr>\n",
       "      <th>1</th>\n",
       "      <td>1</td>\n",
       "      <td>TEST</td>\n",
       "      <td>False</td>\n",
       "      <td>1</td>\n",
       "      <td>1. ABOUT OUR PRODUCTS 1.1 Our products offer a...</td>\n",
       "      <td>[]</td>\n",
       "      <td>[]</td>\n",
       "      <td>0</td>\n",
       "      <td>0</td>\n",
       "      <td>0</td>\n",
       "      <td>...</td>\n",
       "      <td>0</td>\n",
       "      <td>0</td>\n",
       "      <td>0</td>\n",
       "      <td>0</td>\n",
       "      <td>0</td>\n",
       "      <td>0</td>\n",
       "      <td>0</td>\n",
       "      <td>0</td>\n",
       "      <td>0</td>\n",
       "      <td>0</td>\n",
       "    </tr>\n",
       "    <tr>\n",
       "      <th>2</th>\n",
       "      <td>1</td>\n",
       "      <td>TEST</td>\n",
       "      <td>False</td>\n",
       "      <td>2</td>\n",
       "      <td>2. THE INFORMATION WE COLLECT The information ...</td>\n",
       "      <td>[{'practice': 'Identifier_Cookie_or_similar_Te...</td>\n",
       "      <td>[{'sentence_text': 'IP ADDRESS, COOKIES, AND W...</td>\n",
       "      <td>0</td>\n",
       "      <td>0</td>\n",
       "      <td>0</td>\n",
       "      <td>...</td>\n",
       "      <td>0</td>\n",
       "      <td>0</td>\n",
       "      <td>0</td>\n",
       "      <td>0</td>\n",
       "      <td>0</td>\n",
       "      <td>0</td>\n",
       "      <td>0</td>\n",
       "      <td>0</td>\n",
       "      <td>0</td>\n",
       "      <td>0</td>\n",
       "    </tr>\n",
       "  </tbody>\n",
       "</table>\n",
       "<p>3 rows × 65 columns</p>\n",
       "</div>"
      ],
      "text/plain": [
       "   source_policy_number policy_type  contains_synthetic  policy_segment_id  \\\n",
       "0                     1        TEST               False                  0   \n",
       "1                     1        TEST               False                  1   \n",
       "2                     1        TEST               False                  2   \n",
       "\n",
       "                                        segment_text  \\\n",
       "0  PRIVACY POLICY This privacy policy (hereafter ...   \n",
       "1  1. ABOUT OUR PRODUCTS 1.1 Our products offer a...   \n",
       "2  2. THE INFORMATION WE COLLECT The information ...   \n",
       "\n",
       "                                         annotations  \\\n",
       "0                                                 []   \n",
       "1                                                 []   \n",
       "2  [{'practice': 'Identifier_Cookie_or_similar_Te...   \n",
       "\n",
       "                                           sentences  Contact_1stParty  \\\n",
       "0                                                 []                 0   \n",
       "1                                                 []                 0   \n",
       "2  [{'sentence_text': 'IP ADDRESS, COOKIES, AND W...                 0   \n",
       "\n",
       "   Contact_3rdParty  Contact_Address_Book_1stParty  ...  \\\n",
       "0                 0                              0  ...   \n",
       "1                 0                              0  ...   \n",
       "2                 0                              0  ...   \n",
       "\n",
       "   Location_Bluetooth_1stParty  Location_Bluetooth_3rdParty  \\\n",
       "0                            0                            0   \n",
       "1                            0                            0   \n",
       "2                            0                            0   \n",
       "\n",
       "   Location_Cell_Tower_1stParty  Location_Cell_Tower_3rdParty  \\\n",
       "0                             0                             0   \n",
       "1                             0                             0   \n",
       "2                             0                             0   \n",
       "\n",
       "   Location_GPS_1stParty  Location_GPS_3rdParty  Location_IP_Address_1stParty  \\\n",
       "0                      0                      0                             0   \n",
       "1                      0                      0                             0   \n",
       "2                      0                      0                             0   \n",
       "\n",
       "   Location_IP_Address_3rdParty  Location_WiFi_1stParty  \\\n",
       "0                             0                       0   \n",
       "1                             0                       0   \n",
       "2                             0                       0   \n",
       "\n",
       "   Location_WiFi_3rdParty  \n",
       "0                       0  \n",
       "1                       0  \n",
       "2                       0  \n",
       "\n",
       "[3 rows x 65 columns]"
      ]
     },
     "execution_count": 20,
     "metadata": {},
     "output_type": "execute_result"
    }
   ],
   "source": [
    "segment_annotations.head(3)"
   ]
  },
  {
   "cell_type": "code",
   "execution_count": 21,
   "id": "d5d8e68e",
   "metadata": {},
   "outputs": [
    {
     "data": {
      "text/plain": [
       "\"2. THE INFORMATION WE COLLECT The information that our products collect includes (among others) the following: A) IP ADDRESS, COOKIES, AND WEB BEACONS 2.1 When you visit our products, our servers automatically save your computer's IP address. IP addresses will be collected, along with information about the actual web pages that you visit on our products. If you arrive at our products via a link from another product, the URL of the linking product and the URL of any product that you link to next will also be collected.\""
      ]
     },
     "execution_count": 21,
     "metadata": {},
     "output_type": "execute_result"
    }
   ],
   "source": [
    "segment_annotations.loc[2, 'segment_text']"
   ]
  },
  {
   "cell_type": "code",
   "execution_count": 65,
   "id": "105ea6fc",
   "metadata": {},
   "outputs": [
    {
     "name": "stdout",
     "output_type": "stream",
     "text": [
      "1.31 ms ± 30.5 µs per loop (mean ± std. dev. of 7 runs, 1,000 loops each)\n"
     ]
    }
   ],
   "source": [
    "row = 2 # initialise\n",
    "these_sentences = json_normalize(segment_annotations.at[row, 'sentences'])\n",
    "these_sentences[\"source_policy_number\"] = segment_annotations.at[row,\"source_policy_number\"]\n",
    "these_sentences[\"policy_type\"] = segment_annotations.at[row,\"policy_type\"]\n",
    "these_sentences[\"contains_synthetic\"] = segment_annotations.at[row,\"contains_synthetic\"]\n",
    "these_sentences[\"policy_segment_id\"] = segment_annotations.at[row,\"policy_segment_id\"]\n",
    "these_sentences = these_sentences[['source_policy_number', 'policy_type', 'contains_synthetic', 'policy_segment_id', 'sentence_text', 'annotations']]\n",
    "these_sentences"
   ]
  },
  {
   "cell_type": "code",
   "execution_count": 66,
   "id": "4cf58ae2",
   "metadata": {},
   "outputs": [
    {
     "data": {
      "text/plain": [
       "(8398, 6)"
      ]
     },
     "execution_count": 66,
     "metadata": {},
     "output_type": "execute_result"
    }
   ],
   "source": [
    "# add to all_annot_sentence_df\n",
    "all_annot_sentence_df = these_sentences.copy()\n",
    "for row in range(len(segment_annotations)):\n",
    "    next_sentences = 0\n",
    "    if segment_annotations.loc[row, 'sentences'] != []:\n",
    "        next_sentences = json_normalize(segment_annotations.at[row, 'sentences'])\n",
    "        next_sentences[\"source_policy_number\"] = segment_annotations.at[row,\"source_policy_number\"]\n",
    "        next_sentences[\"policy_type\"] = segment_annotations.at[row,\"policy_type\"]\n",
    "        next_sentences[\"contains_synthetic\"] = segment_annotations.at[row,\"contains_synthetic\"]\n",
    "        next_sentences[\"policy_segment_id\"] = segment_annotations.at[row,\"policy_segment_id\"]\n",
    "        next_sentences = next_sentences[['source_policy_number', 'policy_type', 'contains_synthetic', 'policy_segment_id', 'sentence_text', 'annotations']]\n",
    "        all_annot_sentence_df = pd.concat([all_annot_sentence_df, next_sentences], axis = 0)\n",
    "all_annot_sentence_df.reset_index(drop=True, inplace=True)\n",
    "all_annot_sentence_df.shape"
   ]
  },
  {
   "cell_type": "code",
   "execution_count": 68,
   "id": "7dd83ec8",
   "metadata": {},
   "outputs": [
    {
     "name": "stdout",
     "output_type": "stream",
     "text": [
      "The shape of the returned dataframe is (8398, 64)\n"
     ]
    }
   ],
   "source": [
    "all_annot_sentence_df_annots = priv_pol_funcs.add_empty_annotation_columns(all_annot_sentence_df, list_of_practices)"
   ]
  },
  {
   "cell_type": "code",
   "execution_count": 70,
   "id": "d7b7a1b5",
   "metadata": {},
   "outputs": [],
   "source": [
    "# populate the columns with the annotations\n",
    "for index in range(len(all_annot_sentence_df_annots)):\n",
    "    practices_dictionaries = all_annot_sentence_df_annots.loc[index, 'annotations']\n",
    "    for each_practice in practices_dictionaries:\n",
    "        all_annot_sentence_df_annots.loc[index, each_practice['practice']] += 1"
   ]
  },
  {
   "cell_type": "code",
   "execution_count": 75,
   "id": "84502427",
   "metadata": {},
   "outputs": [],
   "source": [
    "# Correction – need to remove to first 4 columns due to the way I populated it!!\n",
    "\n",
    "\n"
   ]
  },
  {
   "cell_type": "code",
   "execution_count": 71,
   "id": "4a944ff3",
   "metadata": {},
   "outputs": [
    {
     "data": {
      "text/plain": [
       "Contact_1stParty                               391\n",
       "Contact_3rdParty                                54\n",
       "Contact_Address_Book_1stParty                  404\n",
       "Contact_Address_Book_3rdParty                   17\n",
       "Contact_City_1stParty                          128\n",
       "Contact_City_3rdParty                           24\n",
       "Contact_E_Mail_Address_1stParty               2113\n",
       "Contact_E_Mail_Address_3rdParty                247\n",
       "Contact_Password_1stParty                      399\n",
       "Contact_Password_3rdParty                       33\n",
       "Contact_Phone_Number_1stParty                  970\n",
       "Contact_Phone_Number_3rdParty                  105\n",
       "Contact_Postal_Address_1stParty                597\n",
       "Contact_Postal_Address_3rdParty                122\n",
       "Contact_ZIP_1stParty                           179\n",
       "Contact_ZIP_3rdParty                            34\n",
       "Demographic_1stParty                           264\n",
       "Demographic_3rdParty                           143\n",
       "Demographic_Age_1stParty                       429\n",
       "Demographic_Age_3rdParty                        87\n",
       "Demographic_Gender_1stParty                    341\n",
       "Demographic_Gender_3rdParty                     68\n",
       "SSO                                            504\n",
       "Facebook_SSO                                   372\n",
       "Identifier_1stParty                            178\n",
       "Identifier_3rdParty                             72\n",
       "Identifier_Ad_ID_1stParty                      252\n",
       "Identifier_Ad_ID_3rdParty                      193\n",
       "Identifier_Cookie_or_similar_Tech_1stParty    2118\n",
       "Identifier_Cookie_or_similar_Tech_3rdParty    1255\n",
       "Identifier_Device_ID_1stParty                  697\n",
       "Identifier_Device_ID_3rdParty                  293\n",
       "Identifier_IMEI_1stParty                        98\n",
       "Identifier_IMEI_3rdParty                        44\n",
       "Identifier_IMSI_1stParty                        13\n",
       "Identifier_IMSI_3rdParty                         4\n",
       "Identifier_IP_Address_1stParty                1013\n",
       "Identifier_IP_Address_3rdParty                 403\n",
       "Identifier_MAC_1stParty                        185\n",
       "Identifier_MAC_3rdParty                         84\n",
       "Identifier_Mobile_Carrier_1stParty             155\n",
       "Identifier_Mobile_Carrier_3rdParty              35\n",
       "Identifier_SIM_Serial_1stParty                  41\n",
       "Identifier_SIM_Serial_3rdParty                   5\n",
       "Identifier_SSID_BSSID_1stParty                  33\n",
       "Identifier_SSID_BSSID_3rdParty                   2\n",
       "Location_1stParty                             1514\n",
       "Location_3rdParty                              374\n",
       "Location_Bluetooth_1stParty                    214\n",
       "Location_Bluetooth_3rdParty                     66\n",
       "Location_Cell_Tower_1stParty                   208\n",
       "Location_Cell_Tower_3rdParty                    82\n",
       "Location_GPS_1stParty                          384\n",
       "Location_GPS_3rdParty                           99\n",
       "Location_IP_Address_1stParty                   240\n",
       "Location_IP_Address_3rdParty                   104\n",
       "Location_WiFi_1stParty                         292\n",
       "Location_WiFi_3rdParty                          88\n",
       "dtype: int64"
      ]
     },
     "execution_count": 71,
     "metadata": {},
     "output_type": "execute_result"
    }
   ],
   "source": [
    "all_annot_sentence_df_annots.iloc[:, 6:].sum()"
   ]
  },
  {
   "cell_type": "code",
   "execution_count": 76,
   "id": "85733a91",
   "metadata": {},
   "outputs": [
    {
     "data": {
      "text/html": [
       "<div>\n",
       "<style scoped>\n",
       "    .dataframe tbody tr th:only-of-type {\n",
       "        vertical-align: middle;\n",
       "    }\n",
       "\n",
       "    .dataframe tbody tr th {\n",
       "        vertical-align: top;\n",
       "    }\n",
       "\n",
       "    .dataframe thead th {\n",
       "        text-align: right;\n",
       "    }\n",
       "</style>\n",
       "<table border=\"1\" class=\"dataframe\">\n",
       "  <thead>\n",
       "    <tr style=\"text-align: right;\">\n",
       "      <th></th>\n",
       "      <th>source_policy_number</th>\n",
       "      <th>policy_type</th>\n",
       "      <th>contains_synthetic</th>\n",
       "      <th>policy_segment_id</th>\n",
       "      <th>sentence_text</th>\n",
       "      <th>annotations</th>\n",
       "      <th>Contact_1stParty</th>\n",
       "      <th>Contact_3rdParty</th>\n",
       "      <th>Contact_Address_Book_1stParty</th>\n",
       "      <th>Contact_Address_Book_3rdParty</th>\n",
       "      <th>...</th>\n",
       "      <th>Location_Bluetooth_1stParty</th>\n",
       "      <th>Location_Bluetooth_3rdParty</th>\n",
       "      <th>Location_Cell_Tower_1stParty</th>\n",
       "      <th>Location_Cell_Tower_3rdParty</th>\n",
       "      <th>Location_GPS_1stParty</th>\n",
       "      <th>Location_GPS_3rdParty</th>\n",
       "      <th>Location_IP_Address_1stParty</th>\n",
       "      <th>Location_IP_Address_3rdParty</th>\n",
       "      <th>Location_WiFi_1stParty</th>\n",
       "      <th>Location_WiFi_3rdParty</th>\n",
       "    </tr>\n",
       "  </thead>\n",
       "  <tbody>\n",
       "    <tr>\n",
       "      <th>0</th>\n",
       "      <td>1</td>\n",
       "      <td>TEST</td>\n",
       "      <td>False</td>\n",
       "      <td>2</td>\n",
       "      <td>IP ADDRESS, COOKIES, AND WEB BEACONS</td>\n",
       "      <td>[{'practice': 'Identifier_Cookie_or_similar_Te...</td>\n",
       "      <td>0</td>\n",
       "      <td>0</td>\n",
       "      <td>0</td>\n",
       "      <td>0</td>\n",
       "      <td>...</td>\n",
       "      <td>0</td>\n",
       "      <td>0</td>\n",
       "      <td>0</td>\n",
       "      <td>0</td>\n",
       "      <td>0</td>\n",
       "      <td>0</td>\n",
       "      <td>0</td>\n",
       "      <td>0</td>\n",
       "      <td>0</td>\n",
       "      <td>0</td>\n",
       "    </tr>\n",
       "    <tr>\n",
       "      <th>1</th>\n",
       "      <td>1</td>\n",
       "      <td>TEST</td>\n",
       "      <td>False</td>\n",
       "      <td>2</td>\n",
       "      <td>IP addresses will be collected, along with inf...</td>\n",
       "      <td>[{'practice': 'Identifier_IP_Address_1stParty'...</td>\n",
       "      <td>0</td>\n",
       "      <td>0</td>\n",
       "      <td>0</td>\n",
       "      <td>0</td>\n",
       "      <td>...</td>\n",
       "      <td>0</td>\n",
       "      <td>0</td>\n",
       "      <td>0</td>\n",
       "      <td>0</td>\n",
       "      <td>0</td>\n",
       "      <td>0</td>\n",
       "      <td>0</td>\n",
       "      <td>0</td>\n",
       "      <td>0</td>\n",
       "      <td>0</td>\n",
       "    </tr>\n",
       "    <tr>\n",
       "      <th>2</th>\n",
       "      <td>1</td>\n",
       "      <td>TEST</td>\n",
       "      <td>False</td>\n",
       "      <td>2</td>\n",
       "      <td>The information that our products collect incl...</td>\n",
       "      <td>[{'practice': 'Identifier_Cookie_or_similar_Te...</td>\n",
       "      <td>0</td>\n",
       "      <td>0</td>\n",
       "      <td>0</td>\n",
       "      <td>0</td>\n",
       "      <td>...</td>\n",
       "      <td>0</td>\n",
       "      <td>0</td>\n",
       "      <td>0</td>\n",
       "      <td>0</td>\n",
       "      <td>0</td>\n",
       "      <td>0</td>\n",
       "      <td>0</td>\n",
       "      <td>0</td>\n",
       "      <td>0</td>\n",
       "      <td>0</td>\n",
       "    </tr>\n",
       "    <tr>\n",
       "      <th>3</th>\n",
       "      <td>1</td>\n",
       "      <td>TEST</td>\n",
       "      <td>False</td>\n",
       "      <td>2</td>\n",
       "      <td>When you visit our products, our servers autom...</td>\n",
       "      <td>[{'practice': 'Identifier_IP_Address_1stParty'...</td>\n",
       "      <td>0</td>\n",
       "      <td>0</td>\n",
       "      <td>0</td>\n",
       "      <td>0</td>\n",
       "      <td>...</td>\n",
       "      <td>0</td>\n",
       "      <td>0</td>\n",
       "      <td>0</td>\n",
       "      <td>0</td>\n",
       "      <td>0</td>\n",
       "      <td>0</td>\n",
       "      <td>0</td>\n",
       "      <td>0</td>\n",
       "      <td>0</td>\n",
       "      <td>0</td>\n",
       "    </tr>\n",
       "    <tr>\n",
       "      <th>4</th>\n",
       "      <td>1</td>\n",
       "      <td>TEST</td>\n",
       "      <td>False</td>\n",
       "      <td>2</td>\n",
       "      <td>IP ADDRESS, COOKIES, AND WEB BEACONS</td>\n",
       "      <td>[{'practice': 'Identifier_Cookie_or_similar_Te...</td>\n",
       "      <td>0</td>\n",
       "      <td>0</td>\n",
       "      <td>0</td>\n",
       "      <td>0</td>\n",
       "      <td>...</td>\n",
       "      <td>0</td>\n",
       "      <td>0</td>\n",
       "      <td>0</td>\n",
       "      <td>0</td>\n",
       "      <td>0</td>\n",
       "      <td>0</td>\n",
       "      <td>0</td>\n",
       "      <td>0</td>\n",
       "      <td>0</td>\n",
       "      <td>0</td>\n",
       "    </tr>\n",
       "    <tr>\n",
       "      <th>...</th>\n",
       "      <td>...</td>\n",
       "      <td>...</td>\n",
       "      <td>...</td>\n",
       "      <td>...</td>\n",
       "      <td>...</td>\n",
       "      <td>...</td>\n",
       "      <td>...</td>\n",
       "      <td>...</td>\n",
       "      <td>...</td>\n",
       "      <td>...</td>\n",
       "      <td>...</td>\n",
       "      <td>...</td>\n",
       "      <td>...</td>\n",
       "      <td>...</td>\n",
       "      <td>...</td>\n",
       "      <td>...</td>\n",
       "      <td>...</td>\n",
       "      <td>...</td>\n",
       "      <td>...</td>\n",
       "      <td>...</td>\n",
       "      <td>...</td>\n",
       "    </tr>\n",
       "    <tr>\n",
       "      <th>8393</th>\n",
       "      <td>350</td>\n",
       "      <td>TRAINING</td>\n",
       "      <td>True</td>\n",
       "      <td>94</td>\n",
       "      <td>Changes to Our Privacy Policy If we decide to ...</td>\n",
       "      <td>[{'practice': 'Contact_E_Mail_Address_1stParty...</td>\n",
       "      <td>0</td>\n",
       "      <td>0</td>\n",
       "      <td>0</td>\n",
       "      <td>0</td>\n",
       "      <td>...</td>\n",
       "      <td>0</td>\n",
       "      <td>0</td>\n",
       "      <td>0</td>\n",
       "      <td>0</td>\n",
       "      <td>0</td>\n",
       "      <td>0</td>\n",
       "      <td>0</td>\n",
       "      <td>0</td>\n",
       "      <td>0</td>\n",
       "      <td>0</td>\n",
       "    </tr>\n",
       "    <tr>\n",
       "      <th>8394</th>\n",
       "      <td>350</td>\n",
       "      <td>TRAINING</td>\n",
       "      <td>True</td>\n",
       "      <td>94</td>\n",
       "      <td>We may supplement this process by placing noti...</td>\n",
       "      <td>[{'practice': 'Contact_E_Mail_Address_1stParty...</td>\n",
       "      <td>0</td>\n",
       "      <td>0</td>\n",
       "      <td>0</td>\n",
       "      <td>0</td>\n",
       "      <td>...</td>\n",
       "      <td>0</td>\n",
       "      <td>0</td>\n",
       "      <td>0</td>\n",
       "      <td>0</td>\n",
       "      <td>0</td>\n",
       "      <td>0</td>\n",
       "      <td>0</td>\n",
       "      <td>0</td>\n",
       "      <td>0</td>\n",
       "      <td>0</td>\n",
       "    </tr>\n",
       "    <tr>\n",
       "      <th>8395</th>\n",
       "      <td>350</td>\n",
       "      <td>TRAINING</td>\n",
       "      <td>True</td>\n",
       "      <td>94</td>\n",
       "      <td>You should periodically check www.zynga.com an...</td>\n",
       "      <td>[{'practice': 'Contact_E_Mail_Address_1stParty...</td>\n",
       "      <td>0</td>\n",
       "      <td>0</td>\n",
       "      <td>0</td>\n",
       "      <td>0</td>\n",
       "      <td>...</td>\n",
       "      <td>0</td>\n",
       "      <td>0</td>\n",
       "      <td>0</td>\n",
       "      <td>0</td>\n",
       "      <td>0</td>\n",
       "      <td>0</td>\n",
       "      <td>0</td>\n",
       "      <td>0</td>\n",
       "      <td>0</td>\n",
       "      <td>0</td>\n",
       "    </tr>\n",
       "    <tr>\n",
       "      <th>8396</th>\n",
       "      <td>350</td>\n",
       "      <td>TRAINING</td>\n",
       "      <td>True</td>\n",
       "      <td>100</td>\n",
       "      <td>We and the service providers acting on our beh...</td>\n",
       "      <td>[{'practice': 'Identifier_Cookie_or_similar_Te...</td>\n",
       "      <td>0</td>\n",
       "      <td>0</td>\n",
       "      <td>0</td>\n",
       "      <td>0</td>\n",
       "      <td>...</td>\n",
       "      <td>0</td>\n",
       "      <td>0</td>\n",
       "      <td>0</td>\n",
       "      <td>0</td>\n",
       "      <td>0</td>\n",
       "      <td>0</td>\n",
       "      <td>0</td>\n",
       "      <td>0</td>\n",
       "      <td>0</td>\n",
       "      <td>0</td>\n",
       "    </tr>\n",
       "    <tr>\n",
       "      <th>8397</th>\n",
       "      <td>350</td>\n",
       "      <td>TRAINING</td>\n",
       "      <td>True</td>\n",
       "      <td>101</td>\n",
       "      <td>For example, Zynga does not collect your e-mai...</td>\n",
       "      <td>[{'practice': 'Contact_E_Mail_Address_1stParty...</td>\n",
       "      <td>0</td>\n",
       "      <td>0</td>\n",
       "      <td>0</td>\n",
       "      <td>0</td>\n",
       "      <td>...</td>\n",
       "      <td>0</td>\n",
       "      <td>0</td>\n",
       "      <td>0</td>\n",
       "      <td>0</td>\n",
       "      <td>0</td>\n",
       "      <td>0</td>\n",
       "      <td>0</td>\n",
       "      <td>0</td>\n",
       "      <td>0</td>\n",
       "      <td>0</td>\n",
       "    </tr>\n",
       "  </tbody>\n",
       "</table>\n",
       "<p>8398 rows × 64 columns</p>\n",
       "</div>"
      ],
      "text/plain": [
       "      source_policy_number policy_type  contains_synthetic  policy_segment_id  \\\n",
       "0                        1        TEST               False                  2   \n",
       "1                        1        TEST               False                  2   \n",
       "2                        1        TEST               False                  2   \n",
       "3                        1        TEST               False                  2   \n",
       "4                        1        TEST               False                  2   \n",
       "...                    ...         ...                 ...                ...   \n",
       "8393                   350    TRAINING                True                 94   \n",
       "8394                   350    TRAINING                True                 94   \n",
       "8395                   350    TRAINING                True                 94   \n",
       "8396                   350    TRAINING                True                100   \n",
       "8397                   350    TRAINING                True                101   \n",
       "\n",
       "                                          sentence_text  \\\n",
       "0                  IP ADDRESS, COOKIES, AND WEB BEACONS   \n",
       "1     IP addresses will be collected, along with inf...   \n",
       "2     The information that our products collect incl...   \n",
       "3     When you visit our products, our servers autom...   \n",
       "4                  IP ADDRESS, COOKIES, AND WEB BEACONS   \n",
       "...                                                 ...   \n",
       "8393  Changes to Our Privacy Policy If we decide to ...   \n",
       "8394  We may supplement this process by placing noti...   \n",
       "8395  You should periodically check www.zynga.com an...   \n",
       "8396  We and the service providers acting on our beh...   \n",
       "8397  For example, Zynga does not collect your e-mai...   \n",
       "\n",
       "                                            annotations  Contact_1stParty  \\\n",
       "0     [{'practice': 'Identifier_Cookie_or_similar_Te...                 0   \n",
       "1     [{'practice': 'Identifier_IP_Address_1stParty'...                 0   \n",
       "2     [{'practice': 'Identifier_Cookie_or_similar_Te...                 0   \n",
       "3     [{'practice': 'Identifier_IP_Address_1stParty'...                 0   \n",
       "4     [{'practice': 'Identifier_Cookie_or_similar_Te...                 0   \n",
       "...                                                 ...               ...   \n",
       "8393  [{'practice': 'Contact_E_Mail_Address_1stParty...                 0   \n",
       "8394  [{'practice': 'Contact_E_Mail_Address_1stParty...                 0   \n",
       "8395  [{'practice': 'Contact_E_Mail_Address_1stParty...                 0   \n",
       "8396  [{'practice': 'Identifier_Cookie_or_similar_Te...                 0   \n",
       "8397  [{'practice': 'Contact_E_Mail_Address_1stParty...                 0   \n",
       "\n",
       "      Contact_3rdParty  Contact_Address_Book_1stParty  \\\n",
       "0                    0                              0   \n",
       "1                    0                              0   \n",
       "2                    0                              0   \n",
       "3                    0                              0   \n",
       "4                    0                              0   \n",
       "...                ...                            ...   \n",
       "8393                 0                              0   \n",
       "8394                 0                              0   \n",
       "8395                 0                              0   \n",
       "8396                 0                              0   \n",
       "8397                 0                              0   \n",
       "\n",
       "      Contact_Address_Book_3rdParty  ...  Location_Bluetooth_1stParty  \\\n",
       "0                                 0  ...                            0   \n",
       "1                                 0  ...                            0   \n",
       "2                                 0  ...                            0   \n",
       "3                                 0  ...                            0   \n",
       "4                                 0  ...                            0   \n",
       "...                             ...  ...                          ...   \n",
       "8393                              0  ...                            0   \n",
       "8394                              0  ...                            0   \n",
       "8395                              0  ...                            0   \n",
       "8396                              0  ...                            0   \n",
       "8397                              0  ...                            0   \n",
       "\n",
       "      Location_Bluetooth_3rdParty  Location_Cell_Tower_1stParty  \\\n",
       "0                               0                             0   \n",
       "1                               0                             0   \n",
       "2                               0                             0   \n",
       "3                               0                             0   \n",
       "4                               0                             0   \n",
       "...                           ...                           ...   \n",
       "8393                            0                             0   \n",
       "8394                            0                             0   \n",
       "8395                            0                             0   \n",
       "8396                            0                             0   \n",
       "8397                            0                             0   \n",
       "\n",
       "      Location_Cell_Tower_3rdParty  Location_GPS_1stParty  \\\n",
       "0                                0                      0   \n",
       "1                                0                      0   \n",
       "2                                0                      0   \n",
       "3                                0                      0   \n",
       "4                                0                      0   \n",
       "...                            ...                    ...   \n",
       "8393                             0                      0   \n",
       "8394                             0                      0   \n",
       "8395                             0                      0   \n",
       "8396                             0                      0   \n",
       "8397                             0                      0   \n",
       "\n",
       "      Location_GPS_3rdParty  Location_IP_Address_1stParty  \\\n",
       "0                         0                             0   \n",
       "1                         0                             0   \n",
       "2                         0                             0   \n",
       "3                         0                             0   \n",
       "4                         0                             0   \n",
       "...                     ...                           ...   \n",
       "8393                      0                             0   \n",
       "8394                      0                             0   \n",
       "8395                      0                             0   \n",
       "8396                      0                             0   \n",
       "8397                      0                             0   \n",
       "\n",
       "      Location_IP_Address_3rdParty  Location_WiFi_1stParty  \\\n",
       "0                                0                       0   \n",
       "1                                0                       0   \n",
       "2                                0                       0   \n",
       "3                                0                       0   \n",
       "4                                0                       0   \n",
       "...                            ...                     ...   \n",
       "8393                             0                       0   \n",
       "8394                             0                       0   \n",
       "8395                             0                       0   \n",
       "8396                             0                       0   \n",
       "8397                             0                       0   \n",
       "\n",
       "      Location_WiFi_3rdParty  \n",
       "0                          0  \n",
       "1                          0  \n",
       "2                          0  \n",
       "3                          0  \n",
       "4                          0  \n",
       "...                      ...  \n",
       "8393                       0  \n",
       "8394                       0  \n",
       "8395                       0  \n",
       "8396                       0  \n",
       "8397                       0  \n",
       "\n",
       "[8398 rows x 64 columns]"
      ]
     },
     "execution_count": 76,
     "metadata": {},
     "output_type": "execute_result"
    }
   ],
   "source": [
    "all_annot_sentence_df_annots"
   ]
  },
  {
   "cell_type": "markdown",
   "id": "cb3ff3f7",
   "metadata": {},
   "source": [
    "---"
   ]
  },
  {
   "cell_type": "markdown",
   "id": "242ec77f",
   "metadata": {},
   "source": [
    "## Trying to work out how to separate every sentence (in non-annotated paragraphs)"
   ]
  },
  {
   "cell_type": "markdown",
   "id": "648eab89",
   "metadata": {},
   "source": [
    "Would be good to know how to split the sentences – colons, semi-colons, full stops etc.  One way I can find the endings is by looking at all the \"Sentences\" and find the final characters of all the sentence texts.  Then I can split the segment_text using those."
   ]
  },
  {
   "cell_type": "code",
   "execution_count": 26,
   "id": "779402b8",
   "metadata": {},
   "outputs": [
    {
     "data": {
      "text/plain": [
       "\"2. THE INFORMATION WE COLLECT The information that our products collect includes (among others) the following: A) IP ADDRESS, COOKIES, AND WEB BEACONS 2.1 When you visit our products, our servers automatically save your computer's IP address. IP addresses will be collected, along with information about the actual web pages that you visit on our products. If you arrive at our products via a link from another product, the URL of the linking product and the URL of any product that you link to next will also be collected.\""
      ]
     },
     "execution_count": 26,
     "metadata": {},
     "output_type": "execute_result"
    }
   ],
   "source": [
    "segment_annotations.loc[2, 'segment_text']"
   ]
  },
  {
   "cell_type": "code",
   "execution_count": 27,
   "id": "b7b5b73d",
   "metadata": {},
   "outputs": [
    {
     "data": {
      "text/plain": [
       "8394"
      ]
     },
     "execution_count": 27,
     "metadata": {},
     "output_type": "execute_result"
    }
   ],
   "source": [
    "annotated_sentences = []\n",
    "\n",
    "for row in range(len(segment_annotations)):\n",
    "    \n",
    "    sentences_list = segment_annotations.loc[row, 'sentences']\n",
    "\n",
    "    for i in range(len(sentences_list)):\n",
    "        annotated_sentences.append(sentences_list[i]['sentence_text'])\n",
    "        \n",
    "len(annotated_sentences)"
   ]
  },
  {
   "cell_type": "code",
   "execution_count": 28,
   "id": "18fab6b6",
   "metadata": {},
   "outputs": [
    {
     "data": {
      "text/plain": [
       "\"A cookie is a piece of data stored on the user's computer and is tied to information about the user.\""
      ]
     },
     "execution_count": 28,
     "metadata": {},
     "output_type": "execute_result"
    }
   ],
   "source": [
    "annotated_sentences[5]"
   ]
  },
  {
   "cell_type": "code",
   "execution_count": 29,
   "id": "f4dee059",
   "metadata": {
    "scrolled": true
   },
   "outputs": [
    {
     "data": {
      "text/html": [
       "<div>\n",
       "<style scoped>\n",
       "    .dataframe tbody tr th:only-of-type {\n",
       "        vertical-align: middle;\n",
       "    }\n",
       "\n",
       "    .dataframe tbody tr th {\n",
       "        vertical-align: top;\n",
       "    }\n",
       "\n",
       "    .dataframe thead th {\n",
       "        text-align: right;\n",
       "    }\n",
       "</style>\n",
       "<table border=\"1\" class=\"dataframe\">\n",
       "  <thead>\n",
       "    <tr style=\"text-align: right;\">\n",
       "      <th></th>\n",
       "      <th>source_policy_number</th>\n",
       "      <th>policy_type</th>\n",
       "      <th>contains_synthetic</th>\n",
       "      <th>policy_segment_id</th>\n",
       "      <th>segment_text</th>\n",
       "      <th>annotations</th>\n",
       "      <th>sentences</th>\n",
       "      <th>Contact_1stParty</th>\n",
       "      <th>Contact_3rdParty</th>\n",
       "      <th>Contact_Address_Book_1stParty</th>\n",
       "      <th>...</th>\n",
       "      <th>Location_Bluetooth_1stParty</th>\n",
       "      <th>Location_Bluetooth_3rdParty</th>\n",
       "      <th>Location_Cell_Tower_1stParty</th>\n",
       "      <th>Location_Cell_Tower_3rdParty</th>\n",
       "      <th>Location_GPS_1stParty</th>\n",
       "      <th>Location_GPS_3rdParty</th>\n",
       "      <th>Location_IP_Address_1stParty</th>\n",
       "      <th>Location_IP_Address_3rdParty</th>\n",
       "      <th>Location_WiFi_1stParty</th>\n",
       "      <th>Location_WiFi_3rdParty</th>\n",
       "    </tr>\n",
       "  </thead>\n",
       "  <tbody>\n",
       "    <tr>\n",
       "      <th>0</th>\n",
       "      <td>1</td>\n",
       "      <td>TEST</td>\n",
       "      <td>False</td>\n",
       "      <td>0</td>\n",
       "      <td>PRIVACY POLICY This privacy policy (hereafter ...</td>\n",
       "      <td>[]</td>\n",
       "      <td>[]</td>\n",
       "      <td>0</td>\n",
       "      <td>0</td>\n",
       "      <td>0</td>\n",
       "      <td>...</td>\n",
       "      <td>0</td>\n",
       "      <td>0</td>\n",
       "      <td>0</td>\n",
       "      <td>0</td>\n",
       "      <td>0</td>\n",
       "      <td>0</td>\n",
       "      <td>0</td>\n",
       "      <td>0</td>\n",
       "      <td>0</td>\n",
       "      <td>0</td>\n",
       "    </tr>\n",
       "    <tr>\n",
       "      <th>1</th>\n",
       "      <td>1</td>\n",
       "      <td>TEST</td>\n",
       "      <td>False</td>\n",
       "      <td>1</td>\n",
       "      <td>1. ABOUT OUR PRODUCTS 1.1 Our products offer a...</td>\n",
       "      <td>[]</td>\n",
       "      <td>[]</td>\n",
       "      <td>0</td>\n",
       "      <td>0</td>\n",
       "      <td>0</td>\n",
       "      <td>...</td>\n",
       "      <td>0</td>\n",
       "      <td>0</td>\n",
       "      <td>0</td>\n",
       "      <td>0</td>\n",
       "      <td>0</td>\n",
       "      <td>0</td>\n",
       "      <td>0</td>\n",
       "      <td>0</td>\n",
       "      <td>0</td>\n",
       "      <td>0</td>\n",
       "    </tr>\n",
       "    <tr>\n",
       "      <th>2</th>\n",
       "      <td>1</td>\n",
       "      <td>TEST</td>\n",
       "      <td>False</td>\n",
       "      <td>2</td>\n",
       "      <td>2. THE INFORMATION WE COLLECT The information ...</td>\n",
       "      <td>[{'practice': 'Identifier_Cookie_or_similar_Te...</td>\n",
       "      <td>[{'sentence_text': 'IP ADDRESS, COOKIES, AND W...</td>\n",
       "      <td>0</td>\n",
       "      <td>0</td>\n",
       "      <td>0</td>\n",
       "      <td>...</td>\n",
       "      <td>0</td>\n",
       "      <td>0</td>\n",
       "      <td>0</td>\n",
       "      <td>0</td>\n",
       "      <td>0</td>\n",
       "      <td>0</td>\n",
       "      <td>0</td>\n",
       "      <td>0</td>\n",
       "      <td>0</td>\n",
       "      <td>0</td>\n",
       "    </tr>\n",
       "    <tr>\n",
       "      <th>3</th>\n",
       "      <td>1</td>\n",
       "      <td>TEST</td>\n",
       "      <td>False</td>\n",
       "      <td>3</td>\n",
       "      <td>2.2 In addition, we store certain information ...</td>\n",
       "      <td>[{'practice': 'Identifier_Cookie_or_similar_Te...</td>\n",
       "      <td>[{'sentence_text': '6677g may use cookies, web...</td>\n",
       "      <td>0</td>\n",
       "      <td>0</td>\n",
       "      <td>0</td>\n",
       "      <td>...</td>\n",
       "      <td>0</td>\n",
       "      <td>0</td>\n",
       "      <td>0</td>\n",
       "      <td>0</td>\n",
       "      <td>0</td>\n",
       "      <td>0</td>\n",
       "      <td>0</td>\n",
       "      <td>0</td>\n",
       "      <td>0</td>\n",
       "      <td>0</td>\n",
       "    </tr>\n",
       "    <tr>\n",
       "      <th>4</th>\n",
       "      <td>1</td>\n",
       "      <td>TEST</td>\n",
       "      <td>False</td>\n",
       "      <td>4</td>\n",
       "      <td>(c) to remember your preferences and registrat...</td>\n",
       "      <td>[]</td>\n",
       "      <td>[]</td>\n",
       "      <td>0</td>\n",
       "      <td>0</td>\n",
       "      <td>0</td>\n",
       "      <td>...</td>\n",
       "      <td>0</td>\n",
       "      <td>0</td>\n",
       "      <td>0</td>\n",
       "      <td>0</td>\n",
       "      <td>0</td>\n",
       "      <td>0</td>\n",
       "      <td>0</td>\n",
       "      <td>0</td>\n",
       "      <td>0</td>\n",
       "      <td>0</td>\n",
       "    </tr>\n",
       "    <tr>\n",
       "      <th>...</th>\n",
       "      <td>...</td>\n",
       "      <td>...</td>\n",
       "      <td>...</td>\n",
       "      <td>...</td>\n",
       "      <td>...</td>\n",
       "      <td>...</td>\n",
       "      <td>...</td>\n",
       "      <td>...</td>\n",
       "      <td>...</td>\n",
       "      <td>...</td>\n",
       "      <td>...</td>\n",
       "      <td>...</td>\n",
       "      <td>...</td>\n",
       "      <td>...</td>\n",
       "      <td>...</td>\n",
       "      <td>...</td>\n",
       "      <td>...</td>\n",
       "      <td>...</td>\n",
       "      <td>...</td>\n",
       "      <td>...</td>\n",
       "      <td>...</td>\n",
       "    </tr>\n",
       "    <tr>\n",
       "      <th>15538</th>\n",
       "      <td>350</td>\n",
       "      <td>TRAINING</td>\n",
       "      <td>True</td>\n",
       "      <td>97</td>\n",
       "      <td>699 8th Street San Francisco, CA 94103 back to...</td>\n",
       "      <td>[]</td>\n",
       "      <td>[]</td>\n",
       "      <td>0</td>\n",
       "      <td>0</td>\n",
       "      <td>0</td>\n",
       "      <td>...</td>\n",
       "      <td>0</td>\n",
       "      <td>0</td>\n",
       "      <td>0</td>\n",
       "      <td>0</td>\n",
       "      <td>0</td>\n",
       "      <td>0</td>\n",
       "      <td>0</td>\n",
       "      <td>0</td>\n",
       "      <td>0</td>\n",
       "      <td>0</td>\n",
       "    </tr>\n",
       "    <tr>\n",
       "      <th>15539</th>\n",
       "      <td>350</td>\n",
       "      <td>TRAINING</td>\n",
       "      <td>True</td>\n",
       "      <td>98</td>\n",
       "      <td>Facebook Twitter YouTube Instagram NaturalMoti...</td>\n",
       "      <td>[]</td>\n",
       "      <td>[]</td>\n",
       "      <td>0</td>\n",
       "      <td>0</td>\n",
       "      <td>0</td>\n",
       "      <td>...</td>\n",
       "      <td>0</td>\n",
       "      <td>0</td>\n",
       "      <td>0</td>\n",
       "      <td>0</td>\n",
       "      <td>0</td>\n",
       "      <td>0</td>\n",
       "      <td>0</td>\n",
       "      <td>0</td>\n",
       "      <td>0</td>\n",
       "      <td>0</td>\n",
       "    </tr>\n",
       "    <tr>\n",
       "      <th>15540</th>\n",
       "      <td>350</td>\n",
       "      <td>TRAINING</td>\n",
       "      <td>True</td>\n",
       "      <td>99</td>\n",
       "      <td>©2017 Zynga Inc. All rights reserved.</td>\n",
       "      <td>[]</td>\n",
       "      <td>[]</td>\n",
       "      <td>0</td>\n",
       "      <td>0</td>\n",
       "      <td>0</td>\n",
       "      <td>...</td>\n",
       "      <td>0</td>\n",
       "      <td>0</td>\n",
       "      <td>0</td>\n",
       "      <td>0</td>\n",
       "      <td>0</td>\n",
       "      <td>0</td>\n",
       "      <td>0</td>\n",
       "      <td>0</td>\n",
       "      <td>0</td>\n",
       "      <td>0</td>\n",
       "    </tr>\n",
       "    <tr>\n",
       "      <th>15541</th>\n",
       "      <td>350</td>\n",
       "      <td>TRAINING</td>\n",
       "      <td>True</td>\n",
       "      <td>100</td>\n",
       "      <td>We and the service providers acting on our beh...</td>\n",
       "      <td>[{'practice': 'Identifier_Cookie_or_similar_Te...</td>\n",
       "      <td>[{'sentence_text': 'We and the service provide...</td>\n",
       "      <td>0</td>\n",
       "      <td>0</td>\n",
       "      <td>0</td>\n",
       "      <td>...</td>\n",
       "      <td>0</td>\n",
       "      <td>0</td>\n",
       "      <td>0</td>\n",
       "      <td>0</td>\n",
       "      <td>0</td>\n",
       "      <td>0</td>\n",
       "      <td>0</td>\n",
       "      <td>0</td>\n",
       "      <td>0</td>\n",
       "      <td>0</td>\n",
       "    </tr>\n",
       "    <tr>\n",
       "      <th>15542</th>\n",
       "      <td>350</td>\n",
       "      <td>TRAINING</td>\n",
       "      <td>True</td>\n",
       "      <td>101</td>\n",
       "      <td>For example, Zynga does not collect your e-mai...</td>\n",
       "      <td>[{'practice': 'Contact_E_Mail_Address_1stParty...</td>\n",
       "      <td>[{'sentence_text': 'For example, Zynga does no...</td>\n",
       "      <td>0</td>\n",
       "      <td>0</td>\n",
       "      <td>0</td>\n",
       "      <td>...</td>\n",
       "      <td>0</td>\n",
       "      <td>0</td>\n",
       "      <td>0</td>\n",
       "      <td>0</td>\n",
       "      <td>0</td>\n",
       "      <td>0</td>\n",
       "      <td>0</td>\n",
       "      <td>0</td>\n",
       "      <td>0</td>\n",
       "      <td>0</td>\n",
       "    </tr>\n",
       "  </tbody>\n",
       "</table>\n",
       "<p>15543 rows × 65 columns</p>\n",
       "</div>"
      ],
      "text/plain": [
       "       source_policy_number policy_type  contains_synthetic  \\\n",
       "0                         1        TEST               False   \n",
       "1                         1        TEST               False   \n",
       "2                         1        TEST               False   \n",
       "3                         1        TEST               False   \n",
       "4                         1        TEST               False   \n",
       "...                     ...         ...                 ...   \n",
       "15538                   350    TRAINING                True   \n",
       "15539                   350    TRAINING                True   \n",
       "15540                   350    TRAINING                True   \n",
       "15541                   350    TRAINING                True   \n",
       "15542                   350    TRAINING                True   \n",
       "\n",
       "       policy_segment_id                                       segment_text  \\\n",
       "0                      0  PRIVACY POLICY This privacy policy (hereafter ...   \n",
       "1                      1  1. ABOUT OUR PRODUCTS 1.1 Our products offer a...   \n",
       "2                      2  2. THE INFORMATION WE COLLECT The information ...   \n",
       "3                      3  2.2 In addition, we store certain information ...   \n",
       "4                      4  (c) to remember your preferences and registrat...   \n",
       "...                  ...                                                ...   \n",
       "15538                 97  699 8th Street San Francisco, CA 94103 back to...   \n",
       "15539                 98  Facebook Twitter YouTube Instagram NaturalMoti...   \n",
       "15540                 99              ©2017 Zynga Inc. All rights reserved.   \n",
       "15541                100  We and the service providers acting on our beh...   \n",
       "15542                101  For example, Zynga does not collect your e-mai...   \n",
       "\n",
       "                                             annotations  \\\n",
       "0                                                     []   \n",
       "1                                                     []   \n",
       "2      [{'practice': 'Identifier_Cookie_or_similar_Te...   \n",
       "3      [{'practice': 'Identifier_Cookie_or_similar_Te...   \n",
       "4                                                     []   \n",
       "...                                                  ...   \n",
       "15538                                                 []   \n",
       "15539                                                 []   \n",
       "15540                                                 []   \n",
       "15541  [{'practice': 'Identifier_Cookie_or_similar_Te...   \n",
       "15542  [{'practice': 'Contact_E_Mail_Address_1stParty...   \n",
       "\n",
       "                                               sentences  Contact_1stParty  \\\n",
       "0                                                     []                 0   \n",
       "1                                                     []                 0   \n",
       "2      [{'sentence_text': 'IP ADDRESS, COOKIES, AND W...                 0   \n",
       "3      [{'sentence_text': '6677g may use cookies, web...                 0   \n",
       "4                                                     []                 0   \n",
       "...                                                  ...               ...   \n",
       "15538                                                 []                 0   \n",
       "15539                                                 []                 0   \n",
       "15540                                                 []                 0   \n",
       "15541  [{'sentence_text': 'We and the service provide...                 0   \n",
       "15542  [{'sentence_text': 'For example, Zynga does no...                 0   \n",
       "\n",
       "       Contact_3rdParty  Contact_Address_Book_1stParty  ...  \\\n",
       "0                     0                              0  ...   \n",
       "1                     0                              0  ...   \n",
       "2                     0                              0  ...   \n",
       "3                     0                              0  ...   \n",
       "4                     0                              0  ...   \n",
       "...                 ...                            ...  ...   \n",
       "15538                 0                              0  ...   \n",
       "15539                 0                              0  ...   \n",
       "15540                 0                              0  ...   \n",
       "15541                 0                              0  ...   \n",
       "15542                 0                              0  ...   \n",
       "\n",
       "       Location_Bluetooth_1stParty  Location_Bluetooth_3rdParty  \\\n",
       "0                                0                            0   \n",
       "1                                0                            0   \n",
       "2                                0                            0   \n",
       "3                                0                            0   \n",
       "4                                0                            0   \n",
       "...                            ...                          ...   \n",
       "15538                            0                            0   \n",
       "15539                            0                            0   \n",
       "15540                            0                            0   \n",
       "15541                            0                            0   \n",
       "15542                            0                            0   \n",
       "\n",
       "       Location_Cell_Tower_1stParty  Location_Cell_Tower_3rdParty  \\\n",
       "0                                 0                             0   \n",
       "1                                 0                             0   \n",
       "2                                 0                             0   \n",
       "3                                 0                             0   \n",
       "4                                 0                             0   \n",
       "...                             ...                           ...   \n",
       "15538                             0                             0   \n",
       "15539                             0                             0   \n",
       "15540                             0                             0   \n",
       "15541                             0                             0   \n",
       "15542                             0                             0   \n",
       "\n",
       "       Location_GPS_1stParty  Location_GPS_3rdParty  \\\n",
       "0                          0                      0   \n",
       "1                          0                      0   \n",
       "2                          0                      0   \n",
       "3                          0                      0   \n",
       "4                          0                      0   \n",
       "...                      ...                    ...   \n",
       "15538                      0                      0   \n",
       "15539                      0                      0   \n",
       "15540                      0                      0   \n",
       "15541                      0                      0   \n",
       "15542                      0                      0   \n",
       "\n",
       "       Location_IP_Address_1stParty  Location_IP_Address_3rdParty  \\\n",
       "0                                 0                             0   \n",
       "1                                 0                             0   \n",
       "2                                 0                             0   \n",
       "3                                 0                             0   \n",
       "4                                 0                             0   \n",
       "...                             ...                           ...   \n",
       "15538                             0                             0   \n",
       "15539                             0                             0   \n",
       "15540                             0                             0   \n",
       "15541                             0                             0   \n",
       "15542                             0                             0   \n",
       "\n",
       "       Location_WiFi_1stParty  Location_WiFi_3rdParty  \n",
       "0                           0                       0  \n",
       "1                           0                       0  \n",
       "2                           0                       0  \n",
       "3                           0                       0  \n",
       "4                           0                       0  \n",
       "...                       ...                     ...  \n",
       "15538                       0                       0  \n",
       "15539                       0                       0  \n",
       "15540                       0                       0  \n",
       "15541                       0                       0  \n",
       "15542                       0                       0  \n",
       "\n",
       "[15543 rows x 65 columns]"
      ]
     },
     "execution_count": 29,
     "metadata": {},
     "output_type": "execute_result"
    }
   ],
   "source": [
    "segment_annotations"
   ]
  },
  {
   "cell_type": "code",
   "execution_count": null,
   "id": "f624a7ec",
   "metadata": {},
   "outputs": [],
   "source": []
  },
  {
   "cell_type": "markdown",
   "id": "3cbcd6db",
   "metadata": {},
   "source": [
    "## Demo EDA"
   ]
  },
  {
   "cell_type": "markdown",
   "id": "575aecd0",
   "metadata": {},
   "source": [
    "Which targets to focus on?\n",
    "\n",
    "                             \n",
    "\n",
    "| Practice  \t| Sentences  \t|\n",
    "|---\t|---\t|\n",
    "|Contact_E_Mail_Address_1stParty   \t|  2113 \t|\n",
    "|Contact_E_Mail_Address_3rdParty  \t|   247\t|\n",
    "|Contact_Address_Book_1stParty  \t|   404\t|\n",
    "|Contact_Postal_Address_3rdParty   \t|   122\t|\n",
    "| Location_1stParty \t|  1514 \t|"
   ]
  },
  {
   "cell_type": "code",
   "execution_count": 38,
   "id": "1bb7c7d1",
   "metadata": {},
   "outputs": [
    {
     "data": {
      "image/png": "[encoded data removed]",
      "text/plain": [
       "<Figure size 2400x1600 with 1 Axes>"
      ]
     },
     "metadata": {},
     "output_type": "display_data"
    }
   ],
   "source": [
    "list_of_test_targets = ['Contact_E_Mail_Address_1stParty', 'Contact_E_Mail_Address_3rdParty', \n",
    "                        'Contact_Address_Book_1stParty', 'Contact_Postal_Address_3rdParty', \n",
    "                        'Location_1stParty']\n",
    "sentences_with_those_annots = [2113, 247, 404, 122, 1514]\n",
    "\n",
    "sns.set(rc={'axes.facecolor':'black', 'figure.facecolor':'black', 'axes.grid' : False})\n",
    "# sns.set_style(\"whitegrid\", {})\n",
    "\n",
    "plt.figure(figsize=(6,4), dpi=400)\n",
    "sns.barplot(x=sentences_with_those_annots, y=list_of_test_targets, color = '#ad744c')\n",
    "plt.yticks(fontsize=12, c='lightgrey')\n",
    "plt.xlabel(\"Frequency in training set\", fontsize=8, c='lightgrey')\n",
    "plt.xticks(fontsize=7, c='lightgrey')\n",
    "plt.title(\"Do we have enough instances to predict these classes?\", c='lightgrey')\n",
    "sns.despine()\n",
    "plt.show()"
   ]
  },
  {
   "cell_type": "markdown",
   "id": "2db3e99e",
   "metadata": {},
   "source": [
    "Top 6 annotations with most sentences:"
   ]
  },
  {
   "cell_type": "code",
   "execution_count": 95,
   "id": "dabf1dd2",
   "metadata": {},
   "outputs": [
    {
     "data": {
      "text/plain": [
       "Identifier_Cookie_or_similar_Tech_1stParty    2118\n",
       "Contact_E_Mail_Address_1stParty               2113\n",
       "Location_1stParty                             1514\n",
       "Identifier_Cookie_or_similar_Tech_3rdParty    1255\n",
       "Identifier_IP_Address_1stParty                1013\n",
       "Contact_Phone_Number_1stParty                  970\n",
       "dtype: int64"
      ]
     },
     "execution_count": 95,
     "metadata": {},
     "output_type": "execute_result"
    }
   ],
   "source": [
    "something = modelling_df.iloc[:,5:].sum()\n",
    "something.sort_values(ascending=False)[:6]"
   ]
  },
  {
   "cell_type": "code",
   "execution_count": 97,
   "id": "b830e139",
   "metadata": {},
   "outputs": [
    {
     "data": {
      "text/plain": [
       "Contact_1stParty                               391\n",
       "Contact_3rdParty                                54\n",
       "Contact_Address_Book_1stParty                  404\n",
       "Contact_Address_Book_3rdParty                   17\n",
       "Contact_City_1stParty                          128\n",
       "Contact_City_3rdParty                           24\n",
       "Contact_E_Mail_Address_1stParty               2113\n",
       "Contact_E_Mail_Address_3rdParty                247\n",
       "Contact_Password_1stParty                      399\n",
       "Contact_Password_3rdParty                       33\n",
       "Contact_Phone_Number_1stParty                  970\n",
       "Contact_Phone_Number_3rdParty                  105\n",
       "Contact_Postal_Address_1stParty                597\n",
       "Contact_Postal_Address_3rdParty                122\n",
       "Contact_ZIP_1stParty                           179\n",
       "Contact_ZIP_3rdParty                            34\n",
       "Demographic_1stParty                           264\n",
       "Demographic_3rdParty                           143\n",
       "Demographic_Age_1stParty                       429\n",
       "Demographic_Age_3rdParty                        87\n",
       "Demographic_Gender_1stParty                    341\n",
       "Demographic_Gender_3rdParty                     68\n",
       "SSO                                            504\n",
       "Facebook_SSO                                   372\n",
       "Identifier_1stParty                            178\n",
       "Identifier_3rdParty                             72\n",
       "Identifier_Ad_ID_1stParty                      252\n",
       "Identifier_Ad_ID_3rdParty                      193\n",
       "Identifier_Cookie_or_similar_Tech_1stParty    2118\n",
       "Identifier_Cookie_or_similar_Tech_3rdParty    1255\n",
       "Identifier_Device_ID_1stParty                  697\n",
       "Identifier_Device_ID_3rdParty                  293\n",
       "Identifier_IMEI_1stParty                        98\n",
       "Identifier_IMEI_3rdParty                        44\n",
       "Identifier_IMSI_1stParty                        13\n",
       "Identifier_IMSI_3rdParty                         4\n",
       "Identifier_IP_Address_1stParty                1013\n",
       "Identifier_IP_Address_3rdParty                 403\n",
       "Identifier_MAC_1stParty                        185\n",
       "Identifier_MAC_3rdParty                         84\n",
       "Identifier_Mobile_Carrier_1stParty             155\n",
       "Identifier_Mobile_Carrier_3rdParty              35\n",
       "Identifier_SIM_Serial_1stParty                  41\n",
       "Identifier_SIM_Serial_3rdParty                   5\n",
       "Identifier_SSID_BSSID_1stParty                  33\n",
       "Identifier_SSID_BSSID_3rdParty                   2\n",
       "Location_1stParty                             1514\n",
       "Location_3rdParty                              374\n",
       "Location_Bluetooth_1stParty                    214\n",
       "Location_Bluetooth_3rdParty                     66\n",
       "Location_Cell_Tower_1stParty                   208\n",
       "Location_Cell_Tower_3rdParty                    82\n",
       "Location_GPS_1stParty                          384\n",
       "Location_GPS_3rdParty                           99\n",
       "Location_IP_Address_1stParty                   240\n",
       "Location_IP_Address_3rdParty                   104\n",
       "Location_WiFi_1stParty                         292\n",
       "Location_WiFi_3rdParty                          88\n",
       "dtype: int64"
      ]
     },
     "execution_count": 97,
     "metadata": {},
     "output_type": "execute_result"
    }
   ],
   "source": [
    "something"
   ]
  },
  {
   "cell_type": "markdown",
   "id": "9acb7d9c",
   "metadata": {},
   "source": [
    "# Modelling"
   ]
  },
  {
   "cell_type": "code",
   "execution_count": 78,
   "id": "b541c3a1",
   "metadata": {},
   "outputs": [
    {
     "data": {
      "text/plain": [
       "[{'practice': 'Identifier_Cookie_or_similar_Tech_1stParty',\n",
       "  'modality': 'PERFORMED'},\n",
       " {'practice': 'Identifier_IP_Address_1stParty', 'modality': 'PERFORMED'}]"
      ]
     },
     "execution_count": 78,
     "metadata": {},
     "output_type": "execute_result"
    }
   ],
   "source": [
    "all_annot_sentence_df_annots.loc[0,'annotations']"
   ]
  },
  {
   "cell_type": "code",
   "execution_count": 79,
   "id": "58a2dd2b",
   "metadata": {},
   "outputs": [],
   "source": [
    "modelling_df = all_annot_sentence_df_annots.drop(columns=['annotations']) \n",
    "# note that I am dropping the modality information"
   ]
  },
  {
   "cell_type": "code",
   "execution_count": 80,
   "id": "2d667543",
   "metadata": {},
   "outputs": [
    {
     "data": {
      "text/html": [
       "<div>\n",
       "<style scoped>\n",
       "    .dataframe tbody tr th:only-of-type {\n",
       "        vertical-align: middle;\n",
       "    }\n",
       "\n",
       "    .dataframe tbody tr th {\n",
       "        vertical-align: top;\n",
       "    }\n",
       "\n",
       "    .dataframe thead th {\n",
       "        text-align: right;\n",
       "    }\n",
       "</style>\n",
       "<table border=\"1\" class=\"dataframe\">\n",
       "  <thead>\n",
       "    <tr style=\"text-align: right;\">\n",
       "      <th></th>\n",
       "      <th>source_policy_number</th>\n",
       "      <th>policy_type</th>\n",
       "      <th>contains_synthetic</th>\n",
       "      <th>policy_segment_id</th>\n",
       "      <th>sentence_text</th>\n",
       "      <th>Contact_1stParty</th>\n",
       "      <th>Contact_3rdParty</th>\n",
       "      <th>Contact_Address_Book_1stParty</th>\n",
       "      <th>Contact_Address_Book_3rdParty</th>\n",
       "      <th>Contact_City_1stParty</th>\n",
       "      <th>...</th>\n",
       "      <th>Location_Bluetooth_1stParty</th>\n",
       "      <th>Location_Bluetooth_3rdParty</th>\n",
       "      <th>Location_Cell_Tower_1stParty</th>\n",
       "      <th>Location_Cell_Tower_3rdParty</th>\n",
       "      <th>Location_GPS_1stParty</th>\n",
       "      <th>Location_GPS_3rdParty</th>\n",
       "      <th>Location_IP_Address_1stParty</th>\n",
       "      <th>Location_IP_Address_3rdParty</th>\n",
       "      <th>Location_WiFi_1stParty</th>\n",
       "      <th>Location_WiFi_3rdParty</th>\n",
       "    </tr>\n",
       "  </thead>\n",
       "  <tbody>\n",
       "    <tr>\n",
       "      <th>0</th>\n",
       "      <td>1</td>\n",
       "      <td>TEST</td>\n",
       "      <td>False</td>\n",
       "      <td>2</td>\n",
       "      <td>IP ADDRESS, COOKIES, AND WEB BEACONS</td>\n",
       "      <td>0</td>\n",
       "      <td>0</td>\n",
       "      <td>0</td>\n",
       "      <td>0</td>\n",
       "      <td>0</td>\n",
       "      <td>...</td>\n",
       "      <td>0</td>\n",
       "      <td>0</td>\n",
       "      <td>0</td>\n",
       "      <td>0</td>\n",
       "      <td>0</td>\n",
       "      <td>0</td>\n",
       "      <td>0</td>\n",
       "      <td>0</td>\n",
       "      <td>0</td>\n",
       "      <td>0</td>\n",
       "    </tr>\n",
       "    <tr>\n",
       "      <th>1</th>\n",
       "      <td>1</td>\n",
       "      <td>TEST</td>\n",
       "      <td>False</td>\n",
       "      <td>2</td>\n",
       "      <td>IP addresses will be collected, along with inf...</td>\n",
       "      <td>0</td>\n",
       "      <td>0</td>\n",
       "      <td>0</td>\n",
       "      <td>0</td>\n",
       "      <td>0</td>\n",
       "      <td>...</td>\n",
       "      <td>0</td>\n",
       "      <td>0</td>\n",
       "      <td>0</td>\n",
       "      <td>0</td>\n",
       "      <td>0</td>\n",
       "      <td>0</td>\n",
       "      <td>0</td>\n",
       "      <td>0</td>\n",
       "      <td>0</td>\n",
       "      <td>0</td>\n",
       "    </tr>\n",
       "    <tr>\n",
       "      <th>2</th>\n",
       "      <td>1</td>\n",
       "      <td>TEST</td>\n",
       "      <td>False</td>\n",
       "      <td>2</td>\n",
       "      <td>The information that our products collect incl...</td>\n",
       "      <td>0</td>\n",
       "      <td>0</td>\n",
       "      <td>0</td>\n",
       "      <td>0</td>\n",
       "      <td>0</td>\n",
       "      <td>...</td>\n",
       "      <td>0</td>\n",
       "      <td>0</td>\n",
       "      <td>0</td>\n",
       "      <td>0</td>\n",
       "      <td>0</td>\n",
       "      <td>0</td>\n",
       "      <td>0</td>\n",
       "      <td>0</td>\n",
       "      <td>0</td>\n",
       "      <td>0</td>\n",
       "    </tr>\n",
       "  </tbody>\n",
       "</table>\n",
       "<p>3 rows × 63 columns</p>\n",
       "</div>"
      ],
      "text/plain": [
       "   source_policy_number policy_type  contains_synthetic  policy_segment_id  \\\n",
       "0                     1        TEST               False                  2   \n",
       "1                     1        TEST               False                  2   \n",
       "2                     1        TEST               False                  2   \n",
       "\n",
       "                                       sentence_text  Contact_1stParty  \\\n",
       "0               IP ADDRESS, COOKIES, AND WEB BEACONS                 0   \n",
       "1  IP addresses will be collected, along with inf...                 0   \n",
       "2  The information that our products collect incl...                 0   \n",
       "\n",
       "   Contact_3rdParty  Contact_Address_Book_1stParty  \\\n",
       "0                 0                              0   \n",
       "1                 0                              0   \n",
       "2                 0                              0   \n",
       "\n",
       "   Contact_Address_Book_3rdParty  Contact_City_1stParty  ...  \\\n",
       "0                              0                      0  ...   \n",
       "1                              0                      0  ...   \n",
       "2                              0                      0  ...   \n",
       "\n",
       "   Location_Bluetooth_1stParty  Location_Bluetooth_3rdParty  \\\n",
       "0                            0                            0   \n",
       "1                            0                            0   \n",
       "2                            0                            0   \n",
       "\n",
       "   Location_Cell_Tower_1stParty  Location_Cell_Tower_3rdParty  \\\n",
       "0                             0                             0   \n",
       "1                             0                             0   \n",
       "2                             0                             0   \n",
       "\n",
       "   Location_GPS_1stParty  Location_GPS_3rdParty  Location_IP_Address_1stParty  \\\n",
       "0                      0                      0                             0   \n",
       "1                      0                      0                             0   \n",
       "2                      0                      0                             0   \n",
       "\n",
       "   Location_IP_Address_3rdParty  Location_WiFi_1stParty  \\\n",
       "0                             0                       0   \n",
       "1                             0                       0   \n",
       "2                             0                       0   \n",
       "\n",
       "   Location_WiFi_3rdParty  \n",
       "0                       0  \n",
       "1                       0  \n",
       "2                       0  \n",
       "\n",
       "[3 rows x 63 columns]"
      ]
     },
     "execution_count": 80,
     "metadata": {},
     "output_type": "execute_result"
    }
   ],
   "source": [
    "modelling_df.head(3)"
   ]
  },
  {
   "cell_type": "code",
   "execution_count": 81,
   "id": "acdb9a10",
   "metadata": {},
   "outputs": [
    {
     "data": {
      "text/plain": [
       "(8398, 63)"
      ]
     },
     "execution_count": 81,
     "metadata": {},
     "output_type": "execute_result"
    }
   ],
   "source": [
    "modelling_df.shape"
   ]
  },
  {
   "cell_type": "code",
   "execution_count": 107,
   "id": "89a16646",
   "metadata": {},
   "outputs": [
    {
     "data": {
      "text/plain": [
       "1611"
      ]
     },
     "execution_count": 107,
     "metadata": {},
     "output_type": "execute_result"
    }
   ],
   "source": [
    "modelling_df[modelling_df['Location_1stParty']==1].iloc[:,-11:].sum().sum()\n",
    "# -> 1611 this shows that most (1611 vs 1514) of the 1514 sentences with 'location' also have one of the sub-location annotations."
   ]
  },
  {
   "cell_type": "markdown",
   "id": "e0447374",
   "metadata": {},
   "source": [
    "### Saving df to csv"
   ]
  },
  {
   "cell_type": "code",
   "execution_count": 125,
   "id": "0bc6cec8",
   "metadata": {},
   "outputs": [],
   "source": [
    "modelling_df.to_csv('modelling_df.csv', sep = \"ª\", index=False)"
   ]
  },
  {
   "cell_type": "code",
   "execution_count": 126,
   "id": "4b195a73",
   "metadata": {},
   "outputs": [],
   "source": [
    "new_df = pd.read_csv('modelling_df.csv', sep = \"ª\", engine='python')"
   ]
  },
  {
   "cell_type": "code",
   "execution_count": 127,
   "id": "0b367593",
   "metadata": {},
   "outputs": [
    {
     "data": {
      "text/plain": [
       "True"
      ]
     },
     "execution_count": 127,
     "metadata": {},
     "output_type": "execute_result"
    }
   ],
   "source": [
    "new_df.equals(modelling_df)"
   ]
  },
  {
   "cell_type": "code",
   "execution_count": null,
   "id": "e92388c8",
   "metadata": {},
   "outputs": [],
   "source": []
  }
 ],
 "metadata": {
  "kernelspec": {
   "display_name": "Python 3 (ipykernel)",
   "language": "python",
   "name": "python3"
  },
  "language_info": {
   "codemirror_mode": {
    "name": "ipython",
    "version": 3
   },
   "file_extension": ".py",
   "mimetype": "text/x-python",
   "name": "python",
   "nbconvert_exporter": "python",
   "pygments_lexer": "ipython3",
   "version": "3.9.12"
  },
  "toc": {
   "base_numbering": 1,
   "nav_menu": {},
   "number_sections": true,
   "sideBar": true,
   "skip_h1_title": false,
   "title_cell": "Table of Contents",
   "title_sidebar": "Contents",
   "toc_cell": false,
   "toc_position": {},
   "toc_section_display": true,
   "toc_window_display": false
  }
 },
 "nbformat": 4,
 "nbformat_minor": 5
}
