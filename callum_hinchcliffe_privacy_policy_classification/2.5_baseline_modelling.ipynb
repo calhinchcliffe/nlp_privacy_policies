{
 "cells": [
  {
   "cell_type": "code",
   "execution_count": 2,
   "id": "9cad82af",
   "metadata": {},
   "outputs": [],
   "source": [
    "import pandas as pd\n",
    "from pandas import json_normalize\n",
    "import yaml\n",
    "import numpy as np\n",
    "\n",
    "import matplotlib.pyplot as plt\n",
    "%matplotlib inline\n",
    "\n",
    "import seaborn as sns\n",
    "from scipy import stats\n",
    "from scipy.stats import norm\n",
    "import statsmodels.api as sm\n",
    "\n",
    "import nltk\n",
    "\n",
    "import sys\n",
    "from collections import defaultdict\n",
    "from collections import Counter\n",
    "\n",
    "import ds_utils_callum\n",
    "import priv_policy_manipulation_functions as priv_pol_funcs"
   ]
  },
  {
   "cell_type": "code",
   "execution_count": 3,
   "id": "14956633",
   "metadata": {},
   "outputs": [],
   "source": [
    "modelling_df = pd.read_csv('modelling_df.csv', sep = \"ª\", engine='python')"
   ]
  },
  {
   "cell_type": "code",
   "execution_count": 4,
   "id": "ced9bf0a",
   "metadata": {},
   "outputs": [
    {
     "data": {
      "text/html": [
       "<div>\n",
       "<style scoped>\n",
       "    .dataframe tbody tr th:only-of-type {\n",
       "        vertical-align: middle;\n",
       "    }\n",
       "\n",
       "    .dataframe tbody tr th {\n",
       "        vertical-align: top;\n",
       "    }\n",
       "\n",
       "    .dataframe thead th {\n",
       "        text-align: right;\n",
       "    }\n",
       "</style>\n",
       "<table border=\"1\" class=\"dataframe\">\n",
       "  <thead>\n",
       "    <tr style=\"text-align: right;\">\n",
       "      <th></th>\n",
       "      <th>source_policy_number</th>\n",
       "      <th>policy_type</th>\n",
       "      <th>contains_synthetic</th>\n",
       "      <th>policy_segment_id</th>\n",
       "      <th>sentence_text</th>\n",
       "      <th>Contact_1stParty</th>\n",
       "      <th>Contact_3rdParty</th>\n",
       "      <th>Contact_Address_Book_1stParty</th>\n",
       "      <th>Contact_Address_Book_3rdParty</th>\n",
       "      <th>Contact_City_1stParty</th>\n",
       "      <th>...</th>\n",
       "      <th>Location_Bluetooth_1stParty</th>\n",
       "      <th>Location_Bluetooth_3rdParty</th>\n",
       "      <th>Location_Cell_Tower_1stParty</th>\n",
       "      <th>Location_Cell_Tower_3rdParty</th>\n",
       "      <th>Location_GPS_1stParty</th>\n",
       "      <th>Location_GPS_3rdParty</th>\n",
       "      <th>Location_IP_Address_1stParty</th>\n",
       "      <th>Location_IP_Address_3rdParty</th>\n",
       "      <th>Location_WiFi_1stParty</th>\n",
       "      <th>Location_WiFi_3rdParty</th>\n",
       "    </tr>\n",
       "  </thead>\n",
       "  <tbody>\n",
       "    <tr>\n",
       "      <th>0</th>\n",
       "      <td>1</td>\n",
       "      <td>TEST</td>\n",
       "      <td>False</td>\n",
       "      <td>2</td>\n",
       "      <td>IP ADDRESS, COOKIES, AND WEB BEACONS</td>\n",
       "      <td>0</td>\n",
       "      <td>0</td>\n",
       "      <td>0</td>\n",
       "      <td>0</td>\n",
       "      <td>0</td>\n",
       "      <td>...</td>\n",
       "      <td>0</td>\n",
       "      <td>0</td>\n",
       "      <td>0</td>\n",
       "      <td>0</td>\n",
       "      <td>0</td>\n",
       "      <td>0</td>\n",
       "      <td>0</td>\n",
       "      <td>0</td>\n",
       "      <td>0</td>\n",
       "      <td>0</td>\n",
       "    </tr>\n",
       "    <tr>\n",
       "      <th>1</th>\n",
       "      <td>1</td>\n",
       "      <td>TEST</td>\n",
       "      <td>False</td>\n",
       "      <td>2</td>\n",
       "      <td>IP addresses will be collected, along with inf...</td>\n",
       "      <td>0</td>\n",
       "      <td>0</td>\n",
       "      <td>0</td>\n",
       "      <td>0</td>\n",
       "      <td>0</td>\n",
       "      <td>...</td>\n",
       "      <td>0</td>\n",
       "      <td>0</td>\n",
       "      <td>0</td>\n",
       "      <td>0</td>\n",
       "      <td>0</td>\n",
       "      <td>0</td>\n",
       "      <td>0</td>\n",
       "      <td>0</td>\n",
       "      <td>0</td>\n",
       "      <td>0</td>\n",
       "    </tr>\n",
       "    <tr>\n",
       "      <th>2</th>\n",
       "      <td>1</td>\n",
       "      <td>TEST</td>\n",
       "      <td>False</td>\n",
       "      <td>2</td>\n",
       "      <td>The information that our products collect incl...</td>\n",
       "      <td>0</td>\n",
       "      <td>0</td>\n",
       "      <td>0</td>\n",
       "      <td>0</td>\n",
       "      <td>0</td>\n",
       "      <td>...</td>\n",
       "      <td>0</td>\n",
       "      <td>0</td>\n",
       "      <td>0</td>\n",
       "      <td>0</td>\n",
       "      <td>0</td>\n",
       "      <td>0</td>\n",
       "      <td>0</td>\n",
       "      <td>0</td>\n",
       "      <td>0</td>\n",
       "      <td>0</td>\n",
       "    </tr>\n",
       "    <tr>\n",
       "      <th>3</th>\n",
       "      <td>1</td>\n",
       "      <td>TEST</td>\n",
       "      <td>False</td>\n",
       "      <td>2</td>\n",
       "      <td>When you visit our products, our servers autom...</td>\n",
       "      <td>0</td>\n",
       "      <td>0</td>\n",
       "      <td>0</td>\n",
       "      <td>0</td>\n",
       "      <td>0</td>\n",
       "      <td>...</td>\n",
       "      <td>0</td>\n",
       "      <td>0</td>\n",
       "      <td>0</td>\n",
       "      <td>0</td>\n",
       "      <td>0</td>\n",
       "      <td>0</td>\n",
       "      <td>0</td>\n",
       "      <td>0</td>\n",
       "      <td>0</td>\n",
       "      <td>0</td>\n",
       "    </tr>\n",
       "    <tr>\n",
       "      <th>4</th>\n",
       "      <td>1</td>\n",
       "      <td>TEST</td>\n",
       "      <td>False</td>\n",
       "      <td>2</td>\n",
       "      <td>IP ADDRESS, COOKIES, AND WEB BEACONS</td>\n",
       "      <td>0</td>\n",
       "      <td>0</td>\n",
       "      <td>0</td>\n",
       "      <td>0</td>\n",
       "      <td>0</td>\n",
       "      <td>...</td>\n",
       "      <td>0</td>\n",
       "      <td>0</td>\n",
       "      <td>0</td>\n",
       "      <td>0</td>\n",
       "      <td>0</td>\n",
       "      <td>0</td>\n",
       "      <td>0</td>\n",
       "      <td>0</td>\n",
       "      <td>0</td>\n",
       "      <td>0</td>\n",
       "    </tr>\n",
       "  </tbody>\n",
       "</table>\n",
       "<p>5 rows × 63 columns</p>\n",
       "</div>"
      ],
      "text/plain": [
       "   source_policy_number policy_type  contains_synthetic  policy_segment_id  \\\n",
       "0                     1        TEST               False                  2   \n",
       "1                     1        TEST               False                  2   \n",
       "2                     1        TEST               False                  2   \n",
       "3                     1        TEST               False                  2   \n",
       "4                     1        TEST               False                  2   \n",
       "\n",
       "                                       sentence_text  Contact_1stParty  \\\n",
       "0               IP ADDRESS, COOKIES, AND WEB BEACONS                 0   \n",
       "1  IP addresses will be collected, along with inf...                 0   \n",
       "2  The information that our products collect incl...                 0   \n",
       "3  When you visit our products, our servers autom...                 0   \n",
       "4               IP ADDRESS, COOKIES, AND WEB BEACONS                 0   \n",
       "\n",
       "   Contact_3rdParty  Contact_Address_Book_1stParty  \\\n",
       "0                 0                              0   \n",
       "1                 0                              0   \n",
       "2                 0                              0   \n",
       "3                 0                              0   \n",
       "4                 0                              0   \n",
       "\n",
       "   Contact_Address_Book_3rdParty  Contact_City_1stParty  ...  \\\n",
       "0                              0                      0  ...   \n",
       "1                              0                      0  ...   \n",
       "2                              0                      0  ...   \n",
       "3                              0                      0  ...   \n",
       "4                              0                      0  ...   \n",
       "\n",
       "   Location_Bluetooth_1stParty  Location_Bluetooth_3rdParty  \\\n",
       "0                            0                            0   \n",
       "1                            0                            0   \n",
       "2                            0                            0   \n",
       "3                            0                            0   \n",
       "4                            0                            0   \n",
       "\n",
       "   Location_Cell_Tower_1stParty  Location_Cell_Tower_3rdParty  \\\n",
       "0                             0                             0   \n",
       "1                             0                             0   \n",
       "2                             0                             0   \n",
       "3                             0                             0   \n",
       "4                             0                             0   \n",
       "\n",
       "   Location_GPS_1stParty  Location_GPS_3rdParty  Location_IP_Address_1stParty  \\\n",
       "0                      0                      0                             0   \n",
       "1                      0                      0                             0   \n",
       "2                      0                      0                             0   \n",
       "3                      0                      0                             0   \n",
       "4                      0                      0                             0   \n",
       "\n",
       "   Location_IP_Address_3rdParty  Location_WiFi_1stParty  \\\n",
       "0                             0                       0   \n",
       "1                             0                       0   \n",
       "2                             0                       0   \n",
       "3                             0                       0   \n",
       "4                             0                       0   \n",
       "\n",
       "   Location_WiFi_3rdParty  \n",
       "0                       0  \n",
       "1                       0  \n",
       "2                       0  \n",
       "3                       0  \n",
       "4                       0  \n",
       "\n",
       "[5 rows x 63 columns]"
      ]
     },
     "execution_count": 4,
     "metadata": {},
     "output_type": "execute_result"
    }
   ],
   "source": [
    "modelling_df.head()"
   ]
  },
  {
   "cell_type": "code",
   "execution_count": 5,
   "id": "6627866a",
   "metadata": {},
   "outputs": [
    {
     "data": {
      "text/plain": [
       "False    4479\n",
       "True     3919\n",
       "Name: contains_synthetic, dtype: int64"
      ]
     },
     "execution_count": 5,
     "metadata": {},
     "output_type": "execute_result"
    }
   ],
   "source": [
    "modelling_df['contains_synthetic'].value_counts()"
   ]
  },
  {
   "cell_type": "markdown",
   "id": "981a29f8",
   "metadata": {},
   "source": [
    "# Preprocessing"
   ]
  },
  {
   "cell_type": "markdown",
   "id": "da60f6d3",
   "metadata": {},
   "source": [
    "### Baseline train/test split"
   ]
  },
  {
   "cell_type": "code",
   "execution_count": 6,
   "id": "496b545f",
   "metadata": {},
   "outputs": [
    {
     "data": {
      "text/plain": [
       "TRAINING      4264\n",
       "TEST          2400\n",
       "VALIDATION    1734\n",
       "Name: policy_type, dtype: int64"
      ]
     },
     "execution_count": 6,
     "metadata": {},
     "output_type": "execute_result"
    }
   ],
   "source": [
    "modelling_df['policy_type'].value_counts()"
   ]
  },
  {
   "cell_type": "code",
   "execution_count": 75,
   "id": "7104ade0",
   "metadata": {},
   "outputs": [
    {
     "data": {
      "text/plain": [
       "TRAINING      0.507740\n",
       "TEST          0.285782\n",
       "VALIDATION    0.206478\n",
       "Name: policy_type, dtype: float64"
      ]
     },
     "execution_count": 75,
     "metadata": {},
     "output_type": "execute_result"
    }
   ],
   "source": [
    "modelling_df['policy_type'].value_counts(True)"
   ]
  },
  {
   "cell_type": "code",
   "execution_count": 7,
   "id": "c35169f8",
   "metadata": {},
   "outputs": [
    {
     "data": {
      "text/html": [
       "<div>\n",
       "<style scoped>\n",
       "    .dataframe tbody tr th:only-of-type {\n",
       "        vertical-align: middle;\n",
       "    }\n",
       "\n",
       "    .dataframe tbody tr th {\n",
       "        vertical-align: top;\n",
       "    }\n",
       "\n",
       "    .dataframe thead th {\n",
       "        text-align: right;\n",
       "    }\n",
       "</style>\n",
       "<table border=\"1\" class=\"dataframe\">\n",
       "  <thead>\n",
       "    <tr style=\"text-align: right;\">\n",
       "      <th></th>\n",
       "      <th>source_policy_number</th>\n",
       "      <th>policy_type</th>\n",
       "      <th>contains_synthetic</th>\n",
       "      <th>policy_segment_id</th>\n",
       "      <th>sentence_text</th>\n",
       "      <th>Contact_1stParty</th>\n",
       "      <th>Contact_3rdParty</th>\n",
       "      <th>Contact_Address_Book_1stParty</th>\n",
       "      <th>Contact_Address_Book_3rdParty</th>\n",
       "      <th>Contact_City_1stParty</th>\n",
       "      <th>...</th>\n",
       "      <th>Location_Bluetooth_1stParty</th>\n",
       "      <th>Location_Bluetooth_3rdParty</th>\n",
       "      <th>Location_Cell_Tower_1stParty</th>\n",
       "      <th>Location_Cell_Tower_3rdParty</th>\n",
       "      <th>Location_GPS_1stParty</th>\n",
       "      <th>Location_GPS_3rdParty</th>\n",
       "      <th>Location_IP_Address_1stParty</th>\n",
       "      <th>Location_IP_Address_3rdParty</th>\n",
       "      <th>Location_WiFi_1stParty</th>\n",
       "      <th>Location_WiFi_3rdParty</th>\n",
       "    </tr>\n",
       "  </thead>\n",
       "  <tbody>\n",
       "    <tr>\n",
       "      <th>0</th>\n",
       "      <td>1</td>\n",
       "      <td>TEST</td>\n",
       "      <td>False</td>\n",
       "      <td>2</td>\n",
       "      <td>IP ADDRESS, COOKIES, AND WEB BEACONS</td>\n",
       "      <td>0</td>\n",
       "      <td>0</td>\n",
       "      <td>0</td>\n",
       "      <td>0</td>\n",
       "      <td>0</td>\n",
       "      <td>...</td>\n",
       "      <td>0</td>\n",
       "      <td>0</td>\n",
       "      <td>0</td>\n",
       "      <td>0</td>\n",
       "      <td>0</td>\n",
       "      <td>0</td>\n",
       "      <td>0</td>\n",
       "      <td>0</td>\n",
       "      <td>0</td>\n",
       "      <td>0</td>\n",
       "    </tr>\n",
       "    <tr>\n",
       "      <th>1</th>\n",
       "      <td>1</td>\n",
       "      <td>TEST</td>\n",
       "      <td>False</td>\n",
       "      <td>2</td>\n",
       "      <td>IP addresses will be collected, along with inf...</td>\n",
       "      <td>0</td>\n",
       "      <td>0</td>\n",
       "      <td>0</td>\n",
       "      <td>0</td>\n",
       "      <td>0</td>\n",
       "      <td>...</td>\n",
       "      <td>0</td>\n",
       "      <td>0</td>\n",
       "      <td>0</td>\n",
       "      <td>0</td>\n",
       "      <td>0</td>\n",
       "      <td>0</td>\n",
       "      <td>0</td>\n",
       "      <td>0</td>\n",
       "      <td>0</td>\n",
       "      <td>0</td>\n",
       "    </tr>\n",
       "    <tr>\n",
       "      <th>2</th>\n",
       "      <td>1</td>\n",
       "      <td>TEST</td>\n",
       "      <td>False</td>\n",
       "      <td>2</td>\n",
       "      <td>The information that our products collect incl...</td>\n",
       "      <td>0</td>\n",
       "      <td>0</td>\n",
       "      <td>0</td>\n",
       "      <td>0</td>\n",
       "      <td>0</td>\n",
       "      <td>...</td>\n",
       "      <td>0</td>\n",
       "      <td>0</td>\n",
       "      <td>0</td>\n",
       "      <td>0</td>\n",
       "      <td>0</td>\n",
       "      <td>0</td>\n",
       "      <td>0</td>\n",
       "      <td>0</td>\n",
       "      <td>0</td>\n",
       "      <td>0</td>\n",
       "    </tr>\n",
       "    <tr>\n",
       "      <th>3</th>\n",
       "      <td>1</td>\n",
       "      <td>TEST</td>\n",
       "      <td>False</td>\n",
       "      <td>2</td>\n",
       "      <td>When you visit our products, our servers autom...</td>\n",
       "      <td>0</td>\n",
       "      <td>0</td>\n",
       "      <td>0</td>\n",
       "      <td>0</td>\n",
       "      <td>0</td>\n",
       "      <td>...</td>\n",
       "      <td>0</td>\n",
       "      <td>0</td>\n",
       "      <td>0</td>\n",
       "      <td>0</td>\n",
       "      <td>0</td>\n",
       "      <td>0</td>\n",
       "      <td>0</td>\n",
       "      <td>0</td>\n",
       "      <td>0</td>\n",
       "      <td>0</td>\n",
       "    </tr>\n",
       "    <tr>\n",
       "      <th>4</th>\n",
       "      <td>1</td>\n",
       "      <td>TEST</td>\n",
       "      <td>False</td>\n",
       "      <td>2</td>\n",
       "      <td>IP ADDRESS, COOKIES, AND WEB BEACONS</td>\n",
       "      <td>0</td>\n",
       "      <td>0</td>\n",
       "      <td>0</td>\n",
       "      <td>0</td>\n",
       "      <td>0</td>\n",
       "      <td>...</td>\n",
       "      <td>0</td>\n",
       "      <td>0</td>\n",
       "      <td>0</td>\n",
       "      <td>0</td>\n",
       "      <td>0</td>\n",
       "      <td>0</td>\n",
       "      <td>0</td>\n",
       "      <td>0</td>\n",
       "      <td>0</td>\n",
       "      <td>0</td>\n",
       "    </tr>\n",
       "    <tr>\n",
       "      <th>...</th>\n",
       "      <td>...</td>\n",
       "      <td>...</td>\n",
       "      <td>...</td>\n",
       "      <td>...</td>\n",
       "      <td>...</td>\n",
       "      <td>...</td>\n",
       "      <td>...</td>\n",
       "      <td>...</td>\n",
       "      <td>...</td>\n",
       "      <td>...</td>\n",
       "      <td>...</td>\n",
       "      <td>...</td>\n",
       "      <td>...</td>\n",
       "      <td>...</td>\n",
       "      <td>...</td>\n",
       "      <td>...</td>\n",
       "      <td>...</td>\n",
       "      <td>...</td>\n",
       "      <td>...</td>\n",
       "      <td>...</td>\n",
       "      <td>...</td>\n",
       "    </tr>\n",
       "    <tr>\n",
       "      <th>2395</th>\n",
       "      <td>100</td>\n",
       "      <td>TEST</td>\n",
       "      <td>False</td>\n",
       "      <td>53</td>\n",
       "      <td>You can disable pixel tags by changing your br...</td>\n",
       "      <td>0</td>\n",
       "      <td>0</td>\n",
       "      <td>0</td>\n",
       "      <td>0</td>\n",
       "      <td>0</td>\n",
       "      <td>...</td>\n",
       "      <td>0</td>\n",
       "      <td>0</td>\n",
       "      <td>0</td>\n",
       "      <td>0</td>\n",
       "      <td>0</td>\n",
       "      <td>0</td>\n",
       "      <td>0</td>\n",
       "      <td>0</td>\n",
       "      <td>0</td>\n",
       "      <td>0</td>\n",
       "    </tr>\n",
       "    <tr>\n",
       "      <th>2396</th>\n",
       "      <td>100</td>\n",
       "      <td>TEST</td>\n",
       "      <td>False</td>\n",
       "      <td>56</td>\n",
       "      <td>Location Based Services.</td>\n",
       "      <td>0</td>\n",
       "      <td>0</td>\n",
       "      <td>0</td>\n",
       "      <td>0</td>\n",
       "      <td>0</td>\n",
       "      <td>...</td>\n",
       "      <td>0</td>\n",
       "      <td>0</td>\n",
       "      <td>0</td>\n",
       "      <td>0</td>\n",
       "      <td>0</td>\n",
       "      <td>0</td>\n",
       "      <td>0</td>\n",
       "      <td>0</td>\n",
       "      <td>0</td>\n",
       "      <td>0</td>\n",
       "    </tr>\n",
       "    <tr>\n",
       "      <th>2397</th>\n",
       "      <td>100</td>\n",
       "      <td>TEST</td>\n",
       "      <td>False</td>\n",
       "      <td>56</td>\n",
       "      <td>You may opt-out of location-based services at ...</td>\n",
       "      <td>0</td>\n",
       "      <td>0</td>\n",
       "      <td>0</td>\n",
       "      <td>0</td>\n",
       "      <td>0</td>\n",
       "      <td>...</td>\n",
       "      <td>0</td>\n",
       "      <td>0</td>\n",
       "      <td>0</td>\n",
       "      <td>0</td>\n",
       "      <td>0</td>\n",
       "      <td>0</td>\n",
       "      <td>0</td>\n",
       "      <td>0</td>\n",
       "      <td>0</td>\n",
       "      <td>0</td>\n",
       "    </tr>\n",
       "    <tr>\n",
       "      <th>2398</th>\n",
       "      <td>100</td>\n",
       "      <td>TEST</td>\n",
       "      <td>False</td>\n",
       "      <td>59</td>\n",
       "      <td>You represent and warrant that you are the own...</td>\n",
       "      <td>0</td>\n",
       "      <td>0</td>\n",
       "      <td>0</td>\n",
       "      <td>0</td>\n",
       "      <td>0</td>\n",
       "      <td>...</td>\n",
       "      <td>0</td>\n",
       "      <td>0</td>\n",
       "      <td>0</td>\n",
       "      <td>0</td>\n",
       "      <td>0</td>\n",
       "      <td>0</td>\n",
       "      <td>0</td>\n",
       "      <td>0</td>\n",
       "      <td>0</td>\n",
       "      <td>0</td>\n",
       "    </tr>\n",
       "    <tr>\n",
       "      <th>2399</th>\n",
       "      <td>100</td>\n",
       "      <td>TEST</td>\n",
       "      <td>False</td>\n",
       "      <td>72</td>\n",
       "      <td>You are ultimately responsible for the securit...</td>\n",
       "      <td>0</td>\n",
       "      <td>0</td>\n",
       "      <td>0</td>\n",
       "      <td>0</td>\n",
       "      <td>0</td>\n",
       "      <td>...</td>\n",
       "      <td>0</td>\n",
       "      <td>0</td>\n",
       "      <td>0</td>\n",
       "      <td>0</td>\n",
       "      <td>0</td>\n",
       "      <td>0</td>\n",
       "      <td>0</td>\n",
       "      <td>0</td>\n",
       "      <td>0</td>\n",
       "      <td>0</td>\n",
       "    </tr>\n",
       "  </tbody>\n",
       "</table>\n",
       "<p>2400 rows × 63 columns</p>\n",
       "</div>"
      ],
      "text/plain": [
       "      source_policy_number policy_type  contains_synthetic  policy_segment_id  \\\n",
       "0                        1        TEST               False                  2   \n",
       "1                        1        TEST               False                  2   \n",
       "2                        1        TEST               False                  2   \n",
       "3                        1        TEST               False                  2   \n",
       "4                        1        TEST               False                  2   \n",
       "...                    ...         ...                 ...                ...   \n",
       "2395                   100        TEST               False                 53   \n",
       "2396                   100        TEST               False                 56   \n",
       "2397                   100        TEST               False                 56   \n",
       "2398                   100        TEST               False                 59   \n",
       "2399                   100        TEST               False                 72   \n",
       "\n",
       "                                          sentence_text  Contact_1stParty  \\\n",
       "0                  IP ADDRESS, COOKIES, AND WEB BEACONS                 0   \n",
       "1     IP addresses will be collected, along with inf...                 0   \n",
       "2     The information that our products collect incl...                 0   \n",
       "3     When you visit our products, our servers autom...                 0   \n",
       "4                  IP ADDRESS, COOKIES, AND WEB BEACONS                 0   \n",
       "...                                                 ...               ...   \n",
       "2395  You can disable pixel tags by changing your br...                 0   \n",
       "2396                           Location Based Services.                 0   \n",
       "2397  You may opt-out of location-based services at ...                 0   \n",
       "2398  You represent and warrant that you are the own...                 0   \n",
       "2399  You are ultimately responsible for the securit...                 0   \n",
       "\n",
       "      Contact_3rdParty  Contact_Address_Book_1stParty  \\\n",
       "0                    0                              0   \n",
       "1                    0                              0   \n",
       "2                    0                              0   \n",
       "3                    0                              0   \n",
       "4                    0                              0   \n",
       "...                ...                            ...   \n",
       "2395                 0                              0   \n",
       "2396                 0                              0   \n",
       "2397                 0                              0   \n",
       "2398                 0                              0   \n",
       "2399                 0                              0   \n",
       "\n",
       "      Contact_Address_Book_3rdParty  Contact_City_1stParty  ...  \\\n",
       "0                                 0                      0  ...   \n",
       "1                                 0                      0  ...   \n",
       "2                                 0                      0  ...   \n",
       "3                                 0                      0  ...   \n",
       "4                                 0                      0  ...   \n",
       "...                             ...                    ...  ...   \n",
       "2395                              0                      0  ...   \n",
       "2396                              0                      0  ...   \n",
       "2397                              0                      0  ...   \n",
       "2398                              0                      0  ...   \n",
       "2399                              0                      0  ...   \n",
       "\n",
       "      Location_Bluetooth_1stParty  Location_Bluetooth_3rdParty  \\\n",
       "0                               0                            0   \n",
       "1                               0                            0   \n",
       "2                               0                            0   \n",
       "3                               0                            0   \n",
       "4                               0                            0   \n",
       "...                           ...                          ...   \n",
       "2395                            0                            0   \n",
       "2396                            0                            0   \n",
       "2397                            0                            0   \n",
       "2398                            0                            0   \n",
       "2399                            0                            0   \n",
       "\n",
       "      Location_Cell_Tower_1stParty  Location_Cell_Tower_3rdParty  \\\n",
       "0                                0                             0   \n",
       "1                                0                             0   \n",
       "2                                0                             0   \n",
       "3                                0                             0   \n",
       "4                                0                             0   \n",
       "...                            ...                           ...   \n",
       "2395                             0                             0   \n",
       "2396                             0                             0   \n",
       "2397                             0                             0   \n",
       "2398                             0                             0   \n",
       "2399                             0                             0   \n",
       "\n",
       "      Location_GPS_1stParty  Location_GPS_3rdParty  \\\n",
       "0                         0                      0   \n",
       "1                         0                      0   \n",
       "2                         0                      0   \n",
       "3                         0                      0   \n",
       "4                         0                      0   \n",
       "...                     ...                    ...   \n",
       "2395                      0                      0   \n",
       "2396                      0                      0   \n",
       "2397                      0                      0   \n",
       "2398                      0                      0   \n",
       "2399                      0                      0   \n",
       "\n",
       "      Location_IP_Address_1stParty  Location_IP_Address_3rdParty  \\\n",
       "0                                0                             0   \n",
       "1                                0                             0   \n",
       "2                                0                             0   \n",
       "3                                0                             0   \n",
       "4                                0                             0   \n",
       "...                            ...                           ...   \n",
       "2395                             0                             0   \n",
       "2396                             0                             0   \n",
       "2397                             0                             0   \n",
       "2398                             0                             0   \n",
       "2399                             0                             0   \n",
       "\n",
       "      Location_WiFi_1stParty  Location_WiFi_3rdParty  \n",
       "0                          0                       0  \n",
       "1                          0                       0  \n",
       "2                          0                       0  \n",
       "3                          0                       0  \n",
       "4                          0                       0  \n",
       "...                      ...                     ...  \n",
       "2395                       0                       0  \n",
       "2396                       0                       0  \n",
       "2397                       0                       0  \n",
       "2398                       0                       0  \n",
       "2399                       0                       0  \n",
       "\n",
       "[2400 rows x 63 columns]"
      ]
     },
     "execution_count": 7,
     "metadata": {},
     "output_type": "execute_result"
    }
   ],
   "source": [
    "modelling_df[modelling_df['policy_type'] == \"TEST\"]"
   ]
  },
  {
   "cell_type": "code",
   "execution_count": 8,
   "id": "78e307ef",
   "metadata": {},
   "outputs": [],
   "source": [
    "test_df = modelling_df[modelling_df['policy_type'] == \"TEST\"].copy()"
   ]
  },
  {
   "cell_type": "code",
   "execution_count": 9,
   "id": "4b24b0d5",
   "metadata": {},
   "outputs": [],
   "source": [
    "baseline_train_df = modelling_df[\n",
    "    (modelling_df['policy_type'] == \"TRAINING\") | (modelling_df['policy_type'] == \"VALIDATION\")].copy()"
   ]
  },
  {
   "cell_type": "code",
   "execution_count": 10,
   "id": "5eea6488",
   "metadata": {
    "scrolled": true
   },
   "outputs": [
    {
     "data": {
      "text/plain": [
       "TRAINING      4264\n",
       "VALIDATION    1734\n",
       "Name: policy_type, dtype: int64"
      ]
     },
     "execution_count": 10,
     "metadata": {},
     "output_type": "execute_result"
    }
   ],
   "source": [
    "baseline_train_df['policy_type'].value_counts()"
   ]
  },
  {
   "cell_type": "code",
   "execution_count": 11,
   "id": "3d65cadc",
   "metadata": {},
   "outputs": [
    {
     "data": {
      "text/plain": [
       "(5998, 63)"
      ]
     },
     "execution_count": 11,
     "metadata": {},
     "output_type": "execute_result"
    }
   ],
   "source": [
    "baseline_train_df.shape"
   ]
  },
  {
   "cell_type": "code",
   "execution_count": 50,
   "id": "c0d49043",
   "metadata": {},
   "outputs": [],
   "source": [
    "baseline_train_target = baseline_train_df[\n",
    "    ['Contact_E_Mail_Address_1stParty', 'Contact_E_Mail_Address_3rdParty', 'Contact_Address_Book_1stParty', \n",
    "     'Contact_Postal_Address_3rdParty', 'Location_1stParty']\n",
    "].copy() # selecting the current target columns, aka, practices, of interest"
   ]
  },
  {
   "cell_type": "code",
   "execution_count": 51,
   "id": "3eca7855",
   "metadata": {},
   "outputs": [
    {
     "data": {
      "text/plain": [
       "(5998, 5)"
      ]
     },
     "execution_count": 51,
     "metadata": {},
     "output_type": "execute_result"
    }
   ],
   "source": [
    "baseline_train_target.shape"
   ]
  },
  {
   "cell_type": "code",
   "execution_count": 52,
   "id": "764b9b39",
   "metadata": {},
   "outputs": [
    {
     "data": {
      "text/html": [
       "<div>\n",
       "<style scoped>\n",
       "    .dataframe tbody tr th:only-of-type {\n",
       "        vertical-align: middle;\n",
       "    }\n",
       "\n",
       "    .dataframe tbody tr th {\n",
       "        vertical-align: top;\n",
       "    }\n",
       "\n",
       "    .dataframe thead th {\n",
       "        text-align: right;\n",
       "    }\n",
       "</style>\n",
       "<table border=\"1\" class=\"dataframe\">\n",
       "  <thead>\n",
       "    <tr style=\"text-align: right;\">\n",
       "      <th></th>\n",
       "      <th>Contact_E_Mail_Address_1stParty</th>\n",
       "      <th>Contact_E_Mail_Address_3rdParty</th>\n",
       "      <th>Contact_Address_Book_1stParty</th>\n",
       "      <th>Contact_Postal_Address_3rdParty</th>\n",
       "      <th>Location_1stParty</th>\n",
       "    </tr>\n",
       "  </thead>\n",
       "  <tbody>\n",
       "    <tr>\n",
       "      <th>2400</th>\n",
       "      <td>0</td>\n",
       "      <td>0</td>\n",
       "      <td>0</td>\n",
       "      <td>0</td>\n",
       "      <td>0</td>\n",
       "    </tr>\n",
       "    <tr>\n",
       "      <th>2401</th>\n",
       "      <td>1</td>\n",
       "      <td>0</td>\n",
       "      <td>0</td>\n",
       "      <td>0</td>\n",
       "      <td>0</td>\n",
       "    </tr>\n",
       "    <tr>\n",
       "      <th>2402</th>\n",
       "      <td>0</td>\n",
       "      <td>0</td>\n",
       "      <td>0</td>\n",
       "      <td>0</td>\n",
       "      <td>0</td>\n",
       "    </tr>\n",
       "  </tbody>\n",
       "</table>\n",
       "</div>"
      ],
      "text/plain": [
       "      Contact_E_Mail_Address_1stParty  Contact_E_Mail_Address_3rdParty  \\\n",
       "2400                                0                                0   \n",
       "2401                                1                                0   \n",
       "2402                                0                                0   \n",
       "\n",
       "      Contact_Address_Book_1stParty  Contact_Postal_Address_3rdParty  \\\n",
       "2400                              0                                0   \n",
       "2401                              0                                0   \n",
       "2402                              0                                0   \n",
       "\n",
       "      Location_1stParty  \n",
       "2400                  0  \n",
       "2401                  0  \n",
       "2402                  0  "
      ]
     },
     "execution_count": 52,
     "metadata": {},
     "output_type": "execute_result"
    }
   ],
   "source": [
    "baseline_train_target.head(3)"
   ]
  },
  {
   "cell_type": "code",
   "execution_count": 53,
   "id": "d20100f1",
   "metadata": {},
   "outputs": [],
   "source": [
    "y_train_Contact_E_Mail_Address_1stParty = baseline_train_target.iloc[:,0]"
   ]
  },
  {
   "cell_type": "code",
   "execution_count": 54,
   "id": "c21aedf2",
   "metadata": {},
   "outputs": [],
   "source": [
    "y_train_Contact_E_Mail_Address_3rdParty = baseline_train_target.iloc[:,1]"
   ]
  },
  {
   "cell_type": "code",
   "execution_count": 55,
   "id": "de230ab6",
   "metadata": {},
   "outputs": [],
   "source": [
    "y_train_Contact_Address_Book_1stParty = baseline_train_target.iloc[:,2]"
   ]
  },
  {
   "cell_type": "code",
   "execution_count": 56,
   "id": "c14c3ae8",
   "metadata": {},
   "outputs": [],
   "source": [
    "y_train_Contact_Postal_Address_3rdParty = baseline_train_target.iloc[:,3]"
   ]
  },
  {
   "cell_type": "code",
   "execution_count": 57,
   "id": "5512a61c",
   "metadata": {},
   "outputs": [],
   "source": [
    "y_train_Location_1stParty = baseline_train_target.iloc[:,4]"
   ]
  },
  {
   "cell_type": "code",
   "execution_count": 95,
   "id": "59ece05d",
   "metadata": {},
   "outputs": [],
   "source": [
    "list_of_train_targets = [y_train_Contact_E_Mail_Address_1stParty, y_train_Contact_E_Mail_Address_3rdParty, \n",
    "                         y_train_Contact_Address_Book_1stParty, y_train_Contact_Postal_Address_3rdParty, \n",
    "                         y_train_Location_1stParty]"
   ]
  },
  {
   "cell_type": "code",
   "execution_count": 58,
   "id": "ca274dfa",
   "metadata": {},
   "outputs": [],
   "source": [
    "test_target = test_df[\n",
    "    ['Contact_E_Mail_Address_1stParty', 'Contact_E_Mail_Address_3rdParty', 'Contact_Address_Book_1stParty', \n",
    "     'Contact_Postal_Address_3rdParty', 'Location_1stParty']\n",
    "].copy()"
   ]
  },
  {
   "cell_type": "code",
   "execution_count": 61,
   "id": "a0dc08d0",
   "metadata": {},
   "outputs": [],
   "source": [
    "y_test_Contact_E_Mail_Address_1stParty = test_target.iloc[:,0]\n",
    "y_test_Contact_E_Mail_Address_3rdParty = test_target.iloc[:,1]\n",
    "y_test_Contact_Address_Book_1stParty = test_target.iloc[:,2]\n",
    "y_test_Contact_Postal_Address_3rdParty = test_target.iloc[:,3]\n",
    "y_test_Location_1stParty = test_target.iloc[:,4]\n",
    "list_of_test_targets = ['y_test_Contact_E_Mail_Address_1stParty', 'y_test_Contact_E_Mail_Address_3rdParty', \n",
    "                        'y_test_Contact_Address_Book_1stParty', 'y_test_Contact_Postal_Address_3rdParty', \n",
    "                        'y_test_Location_1stParty']"
   ]
  },
  {
   "cell_type": "code",
   "execution_count": 98,
   "id": "a7c9ead8",
   "metadata": {},
   "outputs": [],
   "source": [
    "list_of_target_variables = [y_test_Contact_E_Mail_Address_1stParty, y_test_Contact_E_Mail_Address_3rdParty, \n",
    "                           y_test_Contact_Address_Book_1stParty, y_test_Contact_Postal_Address_3rdParty, \n",
    "                           y_test_Location_1stParty]"
   ]
  },
  {
   "cell_type": "markdown",
   "id": "e75e4602",
   "metadata": {},
   "source": [
    "### Tokenize & Vectorize"
   ]
  },
  {
   "cell_type": "code",
   "execution_count": 15,
   "id": "826f261b",
   "metadata": {},
   "outputs": [],
   "source": [
    "from sklearn.feature_extraction.text import CountVectorizer"
   ]
  },
  {
   "cell_type": "code",
   "execution_count": 16,
   "id": "b1b406d4",
   "metadata": {},
   "outputs": [],
   "source": [
    "# nltk.download('stopwords') # must download the stopwords if not already done so\n",
    "from nltk.corpus import stopwords \n",
    "nltkstopwords = stopwords.words('english')"
   ]
  },
  {
   "cell_type": "code",
   "execution_count": 17,
   "id": "4de92892",
   "metadata": {},
   "outputs": [],
   "source": [
    "stemmer = nltk.stem.PorterStemmer()"
   ]
  },
  {
   "cell_type": "code",
   "execution_count": 18,
   "id": "8b5ac5d2",
   "metadata": {},
   "outputs": [],
   "source": [
    "bagofwords = CountVectorizer(stop_words=nltkstopwords,\n",
    "                            tokenizer=lambda sentence: [ stemmer.stem(word) for word in sentence.split(' ') ])"
   ]
  },
  {
   "cell_type": "code",
   "execution_count": 66,
   "id": "58fe93c6",
   "metadata": {},
   "outputs": [
    {
     "name": "stderr",
     "output_type": "stream",
     "text": [
      "/Users/chinchcliffe/opt/anaconda3/lib/python3.9/site-packages/sklearn/feature_extraction/text.py:516: UserWarning: The parameter 'token_pattern' will not be used since 'tokenizer' is not None'\n",
      "  warnings.warn(\n"
     ]
    },
    {
     "name": "stdout",
     "output_type": "stream",
     "text": [
      "(5998, 6965)\n",
      "<class 'scipy.sparse.csr.csr_matrix'>\n",
      "(2400, 6965)\n"
     ]
    }
   ],
   "source": [
    "bagofwords.fit(baseline_train_df['sentence_text'])\n",
    "baseline_train_tokens = bagofwords.transform(baseline_train_df['sentence_text']) \n",
    "test_tokens = bagofwords.transform(test_df['sentence_text']) \n",
    "print(baseline_train_tokens.shape)\n",
    "print(type(baseline_train_tokens))\n",
    "print(test_tokens.shape)"
   ]
  },
  {
   "cell_type": "markdown",
   "id": "faccfdc4",
   "metadata": {},
   "source": [
    "### Fit logistic regression"
   ]
  },
  {
   "cell_type": "code",
   "execution_count": 20,
   "id": "c5fa5101",
   "metadata": {},
   "outputs": [],
   "source": [
    "from sklearn.linear_model import LogisticRegression "
   ]
  },
  {
   "cell_type": "code",
   "execution_count": 21,
   "id": "6d7b6042",
   "metadata": {},
   "outputs": [],
   "source": [
    "logistic_regression_model = LogisticRegression(max_iter = 2000, multi_class='ovr')"
   ]
  },
  {
   "cell_type": "code",
   "execution_count": 32,
   "id": "749e286b",
   "metadata": {},
   "outputs": [
    {
     "data": {
      "text/plain": [
       "LogisticRegression(max_iter=2000, multi_class='ovr')"
      ]
     },
     "execution_count": 32,
     "metadata": {},
     "output_type": "execute_result"
    }
   ],
   "source": [
    "logistic_regression_model.fit(baseline_train_tokens, y_train_Contact_E_Mail_Address_1stParty) # class 1"
   ]
  },
  {
   "cell_type": "code",
   "execution_count": 33,
   "id": "6ccd2536",
   "metadata": {},
   "outputs": [
    {
     "data": {
      "text/plain": [
       "0.9514838279426475"
      ]
     },
     "execution_count": 33,
     "metadata": {},
     "output_type": "execute_result"
    }
   ],
   "source": [
    "logistic_regression_model.score(baseline_train_tokens, y_train_Contact_E_Mail_Address_1stParty) # class 1\n",
    "# logistic_regression_model.score(X_test, y_test)"
   ]
  },
  {
   "cell_type": "code",
   "execution_count": 37,
   "id": "99b6df0d",
   "metadata": {},
   "outputs": [
    {
     "data": {
      "text/html": [
       "<div>\n",
       "<style scoped>\n",
       "    .dataframe tbody tr th:only-of-type {\n",
       "        vertical-align: middle;\n",
       "    }\n",
       "\n",
       "    .dataframe tbody tr th {\n",
       "        vertical-align: top;\n",
       "    }\n",
       "\n",
       "    .dataframe thead th {\n",
       "        text-align: right;\n",
       "    }\n",
       "</style>\n",
       "<table border=\"1\" class=\"dataframe\">\n",
       "  <thead>\n",
       "    <tr style=\"text-align: right;\">\n",
       "      <th></th>\n",
       "      <th>Predicted Negative</th>\n",
       "      <th>Predicted Positive</th>\n",
       "    </tr>\n",
       "  </thead>\n",
       "  <tbody>\n",
       "    <tr>\n",
       "      <th>True Negative</th>\n",
       "      <td>4412</td>\n",
       "      <td>48</td>\n",
       "    </tr>\n",
       "    <tr>\n",
       "      <th>True Positive</th>\n",
       "      <td>243</td>\n",
       "      <td>1295</td>\n",
       "    </tr>\n",
       "  </tbody>\n",
       "</table>\n",
       "</div>"
      ],
      "text/plain": [
       "               Predicted Negative  Predicted Positive\n",
       "True Negative                4412                  48\n",
       "True Positive                 243                1295"
      ]
     },
     "execution_count": 37,
     "metadata": {},
     "output_type": "execute_result"
    }
   ],
   "source": [
    "y_predictions = logistic_regression_model.predict(baseline_train_tokens)\n",
    "from sklearn.metrics import plot_confusion_matrix, confusion_matrix\n",
    "cf_matrix = confusion_matrix(y_train_Contact_E_Mail_Address_1stParty, y_predictions)\n",
    "cf_df = pd.DataFrame(\n",
    "    cf_matrix, columns=[\"Predicted Negative\", \"Predicted Positive\"], index=[\"True Negative\", \"True Positive\"])\n",
    "cf_df"
   ]
  },
  {
   "cell_type": "code",
   "execution_count": 35,
   "id": "39014912",
   "metadata": {},
   "outputs": [
    {
     "name": "stdout",
     "output_type": "stream",
     "text": [
      "              precision    recall  f1-score   support\n",
      "\n",
      "           0       0.95      0.99      0.97      4460\n",
      "           1       0.96      0.84      0.90      1538\n",
      "\n",
      "    accuracy                           0.95      5998\n",
      "   macro avg       0.96      0.92      0.93      5998\n",
      "weighted avg       0.95      0.95      0.95      5998\n",
      "\n"
     ]
    }
   ],
   "source": [
    "from sklearn.metrics import classification_report\n",
    "print(classification_report(y_train_Contact_E_Mail_Address_1stParty, y_predictions))"
   ]
  },
  {
   "cell_type": "code",
   "execution_count": 36,
   "id": "514d34a8",
   "metadata": {},
   "outputs": [
    {
     "data": {
      "text/plain": [
       "array([[ 0.93831349, -0.18798157, -0.09399079, ...,  0.51225195,\n",
       "        -0.15180708, -0.10868898]])"
      ]
     },
     "execution_count": 36,
     "metadata": {},
     "output_type": "execute_result"
    }
   ],
   "source": [
    "logistic_regression_model.coef_"
   ]
  },
  {
   "cell_type": "markdown",
   "id": "ac9d000c",
   "metadata": {},
   "source": [
    "**Classes are all imbalanced so I'm especially interested in recall since it is likely to perform lower, but precision would be good too since I don't want it to say there is a practice when there isn't!**"
   ]
  },
  {
   "cell_type": "code",
   "execution_count": 69,
   "id": "589af328",
   "metadata": {},
   "outputs": [],
   "source": [
    "y_test_email_1st_preds = logistic_regression_model.predict(test_tokens)"
   ]
  },
  {
   "cell_type": "code",
   "execution_count": 70,
   "id": "50510608",
   "metadata": {},
   "outputs": [
    {
     "data": {
      "text/plain": [
       "0.87375"
      ]
     },
     "execution_count": 70,
     "metadata": {},
     "output_type": "execute_result"
    }
   ],
   "source": [
    "logistic_regression_model.score(test_tokens, y_test_Contact_E_Mail_Address_1stParty)"
   ]
  },
  {
   "cell_type": "code",
   "execution_count": 71,
   "id": "c05f3980",
   "metadata": {},
   "outputs": [
    {
     "name": "stdout",
     "output_type": "stream",
     "text": [
      "              precision    recall  f1-score   support\n",
      "\n",
      "           0       0.89      0.95      0.92      1825\n",
      "           1       0.80      0.63      0.70       575\n",
      "\n",
      "    accuracy                           0.87      2400\n",
      "   macro avg       0.85      0.79      0.81      2400\n",
      "weighted avg       0.87      0.87      0.87      2400\n",
      "\n"
     ]
    }
   ],
   "source": [
    "print(classification_report(y_test_Contact_E_Mail_Address_1stParty, y_test_email_1st_preds))"
   ]
  },
  {
   "cell_type": "code",
   "execution_count": 79,
   "id": "c4ca73ff",
   "metadata": {},
   "outputs": [
    {
     "name": "stdout",
     "output_type": "stream",
     "text": [
      "Email Address Recall: 0.6278260869565218\n",
      "0.8022222222222222\n"
     ]
    }
   ],
   "source": [
    "from sklearn.metrics import recall_score, precision_score\n",
    "print(f\"Email Address Recall: {recall_score(y_test_Contact_E_Mail_Address_1stParty, y_test_email_1st_preds)}\")\n",
    "print(precision_score(y_test_Contact_E_Mail_Address_1stParty, y_test_email_1st_preds))"
   ]
  },
  {
   "cell_type": "code",
   "execution_count": null,
   "id": "be8734fe",
   "metadata": {},
   "outputs": [],
   "source": [
    "def run_model_and_evaluate()"
   ]
  },
  {
   "cell_type": "code",
   "execution_count": 93,
   "id": "7cf4253c",
   "metadata": {},
   "outputs": [
    {
     "data": {
      "text/plain": [
       "['y_test_Contact_E_Mail_Address_1stParty',\n",
       " 'y_test_Contact_E_Mail_Address_3rdParty',\n",
       " 'y_test_Contact_Address_Book_1stParty',\n",
       " 'y_test_Contact_Postal_Address_3rdParty',\n",
       " 'y_test_Location_1stParty']"
      ]
     },
     "execution_count": 93,
     "metadata": {},
     "output_type": "execute_result"
    }
   ],
   "source": [
    "list_of_test_targets"
   ]
  },
  {
   "cell_type": "code",
   "execution_count": null,
   "id": "b984db5a",
   "metadata": {},
   "outputs": [],
   "source": [
    "def get_predictions(target):\n",
    "    \n",
    "    logistic_regression_model.fit(baseline_train_tokens, y_train_Contact_E_Mail_Address_1stParty)\n",
    "    \n",
    "    return logistic_regression_model.predict(test_tokens)"
   ]
  },
  {
   "cell_type": "code",
   "execution_count": 97,
   "id": "ca382b84",
   "metadata": {},
   "outputs": [
    {
     "data": {
      "text/plain": [
       "2400    0\n",
       "2401    0\n",
       "2402    0\n",
       "2403    0\n",
       "2404    0\n",
       "       ..\n",
       "8393    0\n",
       "8394    0\n",
       "8395    0\n",
       "8396    0\n",
       "8397    0\n",
       "Name: Contact_E_Mail_Address_3rdParty, Length: 5998, dtype: int64"
      ]
     },
     "execution_count": 97,
     "metadata": {},
     "output_type": "execute_result"
    }
   ],
   "source": [
    "list_of_train_targets[1]"
   ]
  },
  {
   "cell_type": "code",
   "execution_count": 108,
   "id": "1c4da7a4",
   "metadata": {},
   "outputs": [],
   "source": [
    "precision_list = []\n",
    "recall_list = []\n",
    "for i in range(5):\n",
    "    logistic_regression_model.fit(baseline_train_tokens, list_of_train_targets[i])\n",
    "    predics = logistic_regression_model.predict(test_tokens)\n",
    "    prec = precision_score(list_of_target_variables[i], predics)\n",
    "    recs = recall_score(list_of_target_variables[i], predics)\n",
    "    precision_list.append(prec)\n",
    "    recall_list.append(recs)"
   ]
  },
  {
   "cell_type": "code",
   "execution_count": 121,
   "id": "244ab20d",
   "metadata": {},
   "outputs": [
    {
     "data": {
      "text/plain": [
       "[0.802, 0.706, 0.66, 0.857, 0.796]"
      ]
     },
     "execution_count": 121,
     "metadata": {},
     "output_type": "execute_result"
    }
   ],
   "source": [
    "precision_list = [round(item, 3) for item in precision_list]\n",
    "precision_list"
   ]
  },
  {
   "cell_type": "code",
   "execution_count": 109,
   "id": "3c8aa6c2",
   "metadata": {},
   "outputs": [
    {
     "data": {
      "text/plain": [
       "[0.628, 0.197, 0.376, 0.162, 0.558]"
      ]
     },
     "execution_count": 109,
     "metadata": {},
     "output_type": "execute_result"
    }
   ],
   "source": [
    "recall_list = [round(item, 3) for item in recall_list]\n",
    "recall_list"
   ]
  },
  {
   "cell_type": "code",
   "execution_count": null,
   "id": "97171be1",
   "metadata": {},
   "outputs": [],
   "source": [
    "recall_list = []\n",
    "for i in range(5):\n",
    "    logistic_regression_model.fit(baseline_train_tokens, list_of_train_targets[i])\n",
    "    predics = logistic_regression_model.predict(test_tokens)\n",
    "    prec = precision_score(list_of_target_variables[i], predics)\n",
    "    precision_list.append(prec)"
   ]
  },
  {
   "cell_type": "code",
   "execution_count": 122,
   "id": "4af2e826",
   "metadata": {},
   "outputs": [],
   "source": [
    "prec_rec = np.array([precision_list, recall_list])"
   ]
  },
  {
   "cell_type": "code",
   "execution_count": 123,
   "id": "85aa06bb",
   "metadata": {},
   "outputs": [
    {
     "data": {
      "text/plain": [
       "array([[0.802, 0.628],\n",
       "       [0.706, 0.197],\n",
       "       [0.66 , 0.376],\n",
       "       [0.857, 0.162],\n",
       "       [0.796, 0.558]])"
      ]
     },
     "execution_count": 123,
     "metadata": {},
     "output_type": "execute_result"
    }
   ],
   "source": [
    "prec_rec.T"
   ]
  },
  {
   "cell_type": "code",
   "execution_count": 124,
   "id": "04295b34",
   "metadata": {},
   "outputs": [],
   "source": [
    "eval_scores = pd.DataFrame(columns=['Precision', 'Recall'], index=list_of_targets_again, data=prec_rec.T )"
   ]
  },
  {
   "cell_type": "code",
   "execution_count": 125,
   "id": "1f417c34",
   "metadata": {},
   "outputs": [
    {
     "data": {
      "text/html": [
       "<div>\n",
       "<style scoped>\n",
       "    .dataframe tbody tr th:only-of-type {\n",
       "        vertical-align: middle;\n",
       "    }\n",
       "\n",
       "    .dataframe tbody tr th {\n",
       "        vertical-align: top;\n",
       "    }\n",
       "\n",
       "    .dataframe thead th {\n",
       "        text-align: right;\n",
       "    }\n",
       "</style>\n",
       "<table border=\"1\" class=\"dataframe\">\n",
       "  <thead>\n",
       "    <tr style=\"text-align: right;\">\n",
       "      <th></th>\n",
       "      <th>Precision</th>\n",
       "      <th>Recall</th>\n",
       "    </tr>\n",
       "  </thead>\n",
       "  <tbody>\n",
       "    <tr>\n",
       "      <th>Contact_E_Mail_Address_1stParty</th>\n",
       "      <td>0.802</td>\n",
       "      <td>0.628</td>\n",
       "    </tr>\n",
       "    <tr>\n",
       "      <th>Contact_E_Mail_Address_3rdParty</th>\n",
       "      <td>0.706</td>\n",
       "      <td>0.197</td>\n",
       "    </tr>\n",
       "    <tr>\n",
       "      <th>Contact_Address_Book_1stParty</th>\n",
       "      <td>0.660</td>\n",
       "      <td>0.376</td>\n",
       "    </tr>\n",
       "    <tr>\n",
       "      <th>Contact_Postal_Address_3rdParty</th>\n",
       "      <td>0.857</td>\n",
       "      <td>0.162</td>\n",
       "    </tr>\n",
       "    <tr>\n",
       "      <th>Location_1stParty</th>\n",
       "      <td>0.796</td>\n",
       "      <td>0.558</td>\n",
       "    </tr>\n",
       "  </tbody>\n",
       "</table>\n",
       "</div>"
      ],
      "text/plain": [
       "                                 Precision  Recall\n",
       "Contact_E_Mail_Address_1stParty      0.802   0.628\n",
       "Contact_E_Mail_Address_3rdParty      0.706   0.197\n",
       "Contact_Address_Book_1stParty        0.660   0.376\n",
       "Contact_Postal_Address_3rdParty      0.857   0.162\n",
       "Location_1stParty                    0.796   0.558"
      ]
     },
     "execution_count": 125,
     "metadata": {},
     "output_type": "execute_result"
    }
   ],
   "source": [
    "eval_scores"
   ]
  },
  {
   "cell_type": "code",
   "execution_count": null,
   "id": "f7f01728",
   "metadata": {},
   "outputs": [],
   "source": []
  }
 ],
 "metadata": {
  "kernelspec": {
   "display_name": "Python 3 (ipykernel)",
   "language": "python",
   "name": "python3"
  },
  "language_info": {
   "codemirror_mode": {
    "name": "ipython",
    "version": 3
   },
   "file_extension": ".py",
   "mimetype": "text/x-python",
   "name": "python",
   "nbconvert_exporter": "python",
   "pygments_lexer": "ipython3",
   "version": "3.9.12"
  },
  "toc": {
   "base_numbering": 1,
   "nav_menu": {},
   "number_sections": true,
   "sideBar": true,
   "skip_h1_title": false,
   "title_cell": "Table of Contents",
   "title_sidebar": "Contents",
   "toc_cell": false,
   "toc_position": {},
   "toc_section_display": true,
   "toc_window_display": false
  }
 },
 "nbformat": 4,
 "nbformat_minor": 5
}
