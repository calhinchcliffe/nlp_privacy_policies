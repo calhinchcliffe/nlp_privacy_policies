{
 "cells": [
  {
   "cell_type": "markdown",
   "id": "cb32d037",
   "metadata": {},
   "source": [
    "<h1> Modelling <span class=\"tocSkip\"></span></h1>\n",
    "\n",
    "**This notebook has changed significantly since I completed the BrainStation bootcamp.**  I improved the pipeline significantly and got new results. Previously, I had discussed the old results in some length which I have now removed.\n",
    "\n",
    "**The most important improvements I would make** were I to continue this project would be to:\n",
    "\n",
    "- Separate this notebook out into two shorter ones\n",
    "- Add graphs clarifying the steps and showcasing model results\n",
    "- Add more descriptions of why I am doing each step\n",
    "\n",
    "---\n",
    "\n",
    "Having ran a baseline model, and having conducted further preprocessing, I would now like to see whether I can replicate similar steps to Story et al. and see how different preprocessing steps affect the performance of models.\n",
    "\n",
    "I will begin by replicating their steps, but just training a single classifier.  Then I will evaluate the results. This will be section 1 of this notebook.\n",
    "\n",
    "Then, in section 2, having demonstrated the steps, I will build functions for training models to use to train multiple classifiers.\n",
    "\n",
    "This will give results for all classifiers that I can then discuss.\n",
    "\n",
    "Finally I can run my most promising models on the test set."
   ]
  },
  {
   "cell_type": "markdown",
   "id": "3475bb91",
   "metadata": {
    "toc": true
   },
   "source": [
    "<h1>Table of Contents<span class=\"tocSkip\"></span></h1>\n",
    "<div class=\"toc\"><ul class=\"toc-item\"><li><span><a href=\"#Crafted-Features-and-Sentence-Filtering\" data-toc-modified-id=\"Crafted-Features-and-Sentence-Filtering-1\"><span class=\"toc-item-num\">1&nbsp;&nbsp;</span>Crafted Features and Sentence Filtering</a></span></li><li><span><a href=\"#Section-1\" data-toc-modified-id=\"Section-1-2\"><span class=\"toc-item-num\">2&nbsp;&nbsp;</span>Section 1</a></span><ul class=\"toc-item\"><li><span><a href=\"#Loading-data-and-splitting-into-train/validate/test\" data-toc-modified-id=\"Loading-data-and-splitting-into-train/validate/test-2.1\"><span class=\"toc-item-num\">2.1&nbsp;&nbsp;</span>Loading data and splitting into train/validate/test</a></span></li></ul></li><li><span><a href=\"#Step-1:-select-classifier:-&quot;1st_party&quot;\" data-toc-modified-id=\"Step-1:-select-classifier:-&quot;1st_party&quot;-3\"><span class=\"toc-item-num\">3&nbsp;&nbsp;</span>Step 1: select classifier: \"1st_party\"</a></span></li><li><span><a href=\"#Step-2:-Separate-into-X-and-y\" data-toc-modified-id=\"Step-2:-Separate-into-X-and-y-4\"><span class=\"toc-item-num\">4&nbsp;&nbsp;</span>Step 2: Separate into X and y</a></span></li><li><span><a href=\"#Step-3:-Set-up-filter-for-sentence-filtering-to-use-in-Pipeline\" data-toc-modified-id=\"Step-3:-Set-up-filter-for-sentence-filtering-to-use-in-Pipeline-5\"><span class=\"toc-item-num\">5&nbsp;&nbsp;</span>Step 3: Set up filter for sentence filtering to use in Pipeline</a></span></li><li><span><a href=\"#Step-4:-Set-up-for-tf-idf-matrix-to-use-in-Pipeline\" data-toc-modified-id=\"Step-4:-Set-up-for-tf-idf-matrix-to-use-in-Pipeline-6\"><span class=\"toc-item-num\">6&nbsp;&nbsp;</span>Step 4: Set up for tf-idf matrix to use in Pipeline</a></span></li><li><span><a href=\"#Step-5:-5-fold-CV-Grid-Search\" data-toc-modified-id=\"Step-5:-5-fold-CV-Grid-Search-7\"><span class=\"toc-item-num\">7&nbsp;&nbsp;</span>Step 5: 5-fold CV Grid Search</a></span></li><li><span><a href=\"#Evaluation-on-Train-dataset\" data-toc-modified-id=\"Evaluation-on-Train-dataset-8\"><span class=\"toc-item-num\">8&nbsp;&nbsp;</span>Evaluation on Train dataset</a></span></li><li><span><a href=\"#Evaluation-on-Validation-dataset\" data-toc-modified-id=\"Evaluation-on-Validation-dataset-9\"><span class=\"toc-item-num\">9&nbsp;&nbsp;</span>Evaluation on Validation dataset</a></span></li><li><span><a href=\"#Section-2:-modelling-pipeline\" data-toc-modified-id=\"Section-2:-modelling-pipeline-10\"><span class=\"toc-item-num\">10&nbsp;&nbsp;</span>Section 2: modelling pipeline</a></span><ul class=\"toc-item\"><li><span><a href=\"#Requirements-for-modelling-pipeline\" data-toc-modified-id=\"Requirements-for-modelling-pipeline-10.1\"><span class=\"toc-item-num\">10.1&nbsp;&nbsp;</span>Requirements for modelling pipeline</a></span></li><li><span><a href=\"#Demonstrating-how-we-can-view-the-results\" data-toc-modified-id=\"Demonstrating-how-we-can-view-the-results-10.2\"><span class=\"toc-item-num\">10.2&nbsp;&nbsp;</span>Demonstrating how we can view the results</a></span></li></ul></li><li><span><a href=\"#Discussing-results\" data-toc-modified-id=\"Discussing-results-11\"><span class=\"toc-item-num\">11&nbsp;&nbsp;</span>Discussing results</a></span><ul class=\"toc-item\"><li><span><a href=\"#Strong-negative-F1-score\" data-toc-modified-id=\"Strong-negative-F1-score-11.1\"><span class=\"toc-item-num\">11.1&nbsp;&nbsp;</span>Strong negative F1 score</a></span></li><li><span><a href=\"#Varied-positive-F1-score\" data-toc-modified-id=\"Varied-positive-F1-score-11.2\"><span class=\"toc-item-num\">11.2&nbsp;&nbsp;</span>Varied positive F1 score</a></span></li><li><span><a href=\"#Lowest-score---'Identifier_Mobile_Carrier'\" data-toc-modified-id=\"Lowest-score---'Identifier_Mobile_Carrier'-11.3\"><span class=\"toc-item-num\">11.3&nbsp;&nbsp;</span>Lowest score - 'Identifier_Mobile_Carrier'</a></span></li><li><span><a href=\"#Comparison-to-results-from-the-paper\" data-toc-modified-id=\"Comparison-to-results-from-the-paper-11.4\"><span class=\"toc-item-num\">11.4&nbsp;&nbsp;</span>Comparison to results from the paper</a></span></li><li><span><a href=\"#Effects-of-Differing-pre-processing-techniques-and-models\" data-toc-modified-id=\"Effects-of-Differing-pre-processing-techniques-and-models-11.5\"><span class=\"toc-item-num\">11.5&nbsp;&nbsp;</span>Effects of Differing pre-processing techniques and models</a></span></li></ul></li><li><span><a href=\"#Final-model-performance-on-test-set\" data-toc-modified-id=\"Final-model-performance-on-test-set-12\"><span class=\"toc-item-num\">12&nbsp;&nbsp;</span>Final model performance on test set</a></span></li><li><span><a href=\"#Further-work\" data-toc-modified-id=\"Further-work-13\"><span class=\"toc-item-num\">13&nbsp;&nbsp;</span>Further work</a></span></li></ul></div>"
   ]
  },
  {
   "cell_type": "markdown",
   "id": "8719e140",
   "metadata": {},
   "source": [
    "The steps in this notebook are:\n",
    "\n",
    "<font size= \"4\"> **Section 1** </font>\n",
    "\n",
    "- Load data and split into Train/Validate/Test\n",
    "\n",
    "    - For demonstrative purposes I will begin by running through the modelling steps for just a single classifier: 1st Party\n",
    "    \n",
    "\n",
    "- Separating into X and y\n",
    "  - X, the input data to the model, is a union of the crafted features columns and a tf-idf matrix\n",
    "\n",
    "\n",
    "- 5-fold cross-validation grid search\n",
    "  - Over Sentence Filtering, whether to include bigrams in the tf-idf matrix and the hyperparameters for SVM model and  as performed by Story et al.\n",
    "  - Additionally I opt to search over a default logistic regression classifier for comparison\n",
    "\n",
    "\n",
    "- Evaluation on train dataset\n",
    "\n",
    "\n",
    "- Evaluation on validation set and review.\n",
    "\n",
    "<font size= \"4\"> **Section 2** </font>\n",
    "\n",
    "Having demonstrated the steps for model construction for one classifier, I move to create a pipeline to train multiple classifiers.\n",
    "\n",
    "The full pipeline consists of a series of functions that allows me to train a classifier for each of the 18 targets of interest. The steps are:\n",
    "\n",
    "- Listing the requirements for the pipeline\n",
    "\n",
    "- Functions for the pipeline\n",
    "  - These correspond to the steps executed above for ‘1st party’\n",
    "\n",
    "- Display of all model scores\n",
    "\n",
    "- Discussion of some zero scores\n",
    "\n",
    "- Further discussion\n",
    "\n",
    "- Final model performance"
   ]
  },
  {
   "cell_type": "markdown",
   "id": "254a7078",
   "metadata": {},
   "source": [
    "# Crafted Features and Sentence Filtering\n",
    "\n",
    "I have discussed this in previous notebooks but will include it here for completion.\n",
    "\n",
    "To try to improve classifier performance, Story et al. apply a preprocessing technique that they call Sentence Filtering. This involves filtering the data to only train a classifier on segments that contain a relevant feature for the target.  For example a short segment about location data wouldn't be used to train an email classifier because it wouldn't contain keywords such as \"Email\" or \"Contact\".\n",
    "\n",
    "They do not explicitly specify that these features are equivalent to the crafted features but I am inferring that they are.\n",
    "\n",
    "The effect of applying sentence filtering is that instead of a model being trained on all the data and there being class imbalance in favour of the negative class, a much greater proportion of the training data features the target being classified. The effect is similar to downsampling.\n",
    "\n",
    "This will be a moderate approximation for a replication of most of their work. The main missing element will be better text pre-processing to get better results from the crafted features and sentence filtering."
   ]
  },
  {
   "cell_type": "code",
   "execution_count": 3,
   "id": "86a733d8",
   "metadata": {},
   "outputs": [],
   "source": [
    "import pandas as pd\n",
    "from pandas import json_normalize\n",
    "import yaml\n",
    "import numpy as np\n",
    "\n",
    "import matplotlib.pyplot as plt\n",
    "%matplotlib inline\n",
    "\n",
    "import seaborn as sns\n",
    "from scipy import stats\n",
    "from scipy.stats import norm\n",
    "\n",
    "import sys\n",
    "import time\n",
    "from collections import defaultdict\n",
    "from collections import Counter\n",
    "\n",
    "import priv_policy_manipulation_functions as priv_pol_funcs\n",
    "\n",
    "# pre-processing\n",
    "from sklearn.feature_extraction.text import TfidfVectorizer\n",
    "from scipy.sparse import csr_matrix, hstack\n",
    "\n",
    "# modelling\n",
    "from sklearn.svm import LinearSVC\n",
    "from sklearn.svm import SVC\n",
    "from sklearn.linear_model import LogisticRegression\n",
    "\n",
    "# modelling pipeline\n",
    "from tempfile import mkdtemp\n",
    "# from sklearn.pipeline import Pipeline # not required since using imbalanced learn\n",
    "from imblearn.pipeline import Pipeline \n",
    "    # Using the pipeline from the imbalanced learn library since it allows for sampling\n",
    "from imblearn import FunctionSampler\n",
    "from sklearn.compose import ColumnTransformer\n",
    "from sklearn.model_selection import GridSearchCV\n",
    "\n",
    "# modelling evaluation\n",
    "from sklearn.metrics import accuracy_score, confusion_matrix\n",
    "from sklearn.metrics import recall_score\n",
    "from sklearn.metrics import classification_report\n",
    "from sklearn.metrics import f1_score"
   ]
  },
  {
   "cell_type": "markdown",
   "id": "f5eae328",
   "metadata": {},
   "source": [
    "# Section 1\n",
    "## Loading data and splitting into train/validate/test"
   ]
  },
  {
   "cell_type": "markdown",
   "id": "fb1d5d3a",
   "metadata": {},
   "source": [
    "**Creating Train, Validate and Test dataframes to use.** <br/> Story et al. already randomly split them into training, validation and test. They do not explain that this split was stratified by any classifier.  The proportions of the splits that they use seem standard for common data science practice – above a 25% test split.  \n",
    "\n",
    "I am suspicious that there is not enough data in this domain to train some classifiers so I would have preferred this proportion to be lower, closer to 25% or perhaps slightly below.  (But I think this would have been difficult for Story et al. to know in advance and they may have had an idea already since they were building on earlier work.)"
   ]
  },
  {
   "cell_type": "code",
   "execution_count": 2,
   "id": "c1d24f66",
   "metadata": {},
   "outputs": [],
   "source": [
    "# Load the data\n",
    "df_for_pipelining = pd.read_pickle(\"objects/crafted_features_df.pkl\")\n",
    "\n",
    "# Create separate dataframes for each group\n",
    "df_for_pipelining_train = df_for_pipelining.loc[df_for_pipelining['policy_type'] == 'TRAINING' ].copy()\n",
    "df_for_pipelining_val = df_for_pipelining.loc[df_for_pipelining['policy_type'] == 'VALIDATION' ].copy()\n",
    "df_for_pipelining_test = df_for_pipelining.loc[df_for_pipelining['policy_type'] == 'TEST' ].copy()\n",
    "\n",
    "# now that I have used the 'policy type' column for referring to train/validate/test, \n",
    "# I can delete that column along with other unneccesary columns.\n",
    "for dataframe in [df_for_pipelining_train, df_for_pipelining_val, df_for_pipelining_test]:\n",
    "    dataframe.drop(columns=['source_policy_number', 'policy_type', 'contains_synthetic',\n",
    "           'policy_segment_id', 'annotations', 'sentences'], inplace=True)\n",
    "    dataframe.reset_index(inplace=True, drop=True)"
   ]
  },
  {
   "cell_type": "markdown",
   "id": "347a7e54",
   "metadata": {},
   "source": [
    "Sanity Check – Seeing the shapes of the dataframe – number of observations and confirming the number of columns"
   ]
  },
  {
   "cell_type": "code",
   "execution_count": 3,
   "id": "b34e9bdb",
   "metadata": {},
   "outputs": [
    {
     "name": "stdout",
     "output_type": "stream",
     "text": [
      "(8068, 511)\n",
      "(2651, 511)\n",
      "(4824, 511)\n"
     ]
    }
   ],
   "source": [
    "print(df_for_pipelining_train.shape)\n",
    "print(df_for_pipelining_val.shape)\n",
    "print(df_for_pipelining_test.shape)"
   ]
  },
  {
   "cell_type": "code",
   "execution_count": 4,
   "id": "414ab815",
   "metadata": {},
   "outputs": [],
   "source": [
    "# annotation features to use for sentence filtering later\n",
    "clean_annotation_features = pd.read_pickle(\"objects/clean_annotation_features.pkl\")"
   ]
  },
  {
   "cell_type": "markdown",
   "id": "18c2db48",
   "metadata": {},
   "source": [
    "# Step 1: select classifier: \"1st_party\"\n",
    "\n",
    "Let's start with 1st Party as an example."
   ]
  },
  {
   "cell_type": "code",
   "execution_count": 5,
   "id": "565514c5",
   "metadata": {},
   "outputs": [],
   "source": [
    "classifier = \"1st_party\""
   ]
  },
  {
   "cell_type": "markdown",
   "id": "0e4e3f6d",
   "metadata": {},
   "source": [
    "# Step 2: Separate into X and y\n",
    "\n"
   ]
  },
  {
   "cell_type": "code",
   "execution_count": 6,
   "id": "b70967ba",
   "metadata": {},
   "outputs": [
    {
     "name": "stdout",
     "output_type": "stream",
     "text": [
      "Should be left with the 476 different crafted features (CFs), plus one segment text column.\n",
      "X shape is: (8068, 477)\n"
     ]
    }
   ],
   "source": [
    "# Separate into X and y\n",
    "# the crafted features columns happen to be all those after and including 'contact info', so I \n",
    "# use every column after and including the first crafted feature, which happens to be 'contact info'\n",
    "X = pd.concat(\n",
    "    [df_for_pipelining_train['segment_text'], \n",
    "     df_for_pipelining_train.loc[:,'contact info':]],\n",
    "    axis=1\n",
    ").copy()\n",
    "\n",
    "print(\"Should be left with the 476 different crafted features (CFs), plus one segment text column.\")\n",
    "print(f\"X shape is: {X.shape}\")\n",
    "\n",
    "y = df_for_pipelining_train[classifier]"
   ]
  },
  {
   "cell_type": "markdown",
   "id": "9d0a935e",
   "metadata": {},
   "source": [
    "Now we have our input data and target ready to pass into our model."
   ]
  },
  {
   "cell_type": "markdown",
   "id": "9fe67851",
   "metadata": {},
   "source": [
    "# Step 3: Set up filter for sentence filtering to use in Pipeline"
   ]
  },
  {
   "cell_type": "markdown",
   "id": "2c5e6492",
   "metadata": {},
   "source": [
    "Retrieving the crafted features for 1st Party to use for sentence filtering:"
   ]
  },
  {
   "cell_type": "code",
   "execution_count": 7,
   "id": "a9d7b7f1",
   "metadata": {},
   "outputs": [
    {
     "data": {
      "text/plain": [
       "['we', 'you', 'us', 'our', 'the app', 'the software']"
      ]
     },
     "execution_count": 7,
     "metadata": {},
     "output_type": "execute_result"
    }
   ],
   "source": [
    "# filtering the table to get the list object from the same row that lists the classifier\n",
    "classifier_features = clean_annotation_features[ clean_annotation_features['annotation'] == classifier ]     \\\n",
    "                        .reset_index().at[0,'features']\n",
    "\n",
    "classifier_features"
   ]
  },
  {
   "cell_type": "markdown",
   "id": "259a750a",
   "metadata": {},
   "source": [
    "Filter for the dataframe to get rows where any of those features is 1:"
   ]
  },
  {
   "cell_type": "code",
   "execution_count": 8,
   "id": "256c2a2d",
   "metadata": {},
   "outputs": [],
   "source": [
    "# true/false boolean series for sentence filtering:\n",
    "sf_filter = ((X[classifier_features] > 0)\\\n",
    "                 .sum(axis=1) > 0 )"
   ]
  },
  {
   "cell_type": "markdown",
   "id": "3df43b84",
   "metadata": {},
   "source": [
    "Filter for the dataframe to conduct balanced downsize filtering. This is a feature of my sentence_filtering function to filter less stringently if there is not enough data left after using the sf_filter."
   ]
  },
  {
   "cell_type": "code",
   "execution_count": 9,
   "id": "1e5e418f",
   "metadata": {},
   "outputs": [],
   "source": [
    "# true/false boolean series for balanced downsizing filter:\n",
    "positive_rows = (y == 1)\n",
    "negative_rows = (y == 0)\n",
    "balanced_downsize_filter = (\n",
    "    positive_rows |\n",
    "    negative_rows.where(negative_rows == True).dropna().sample(n=positive_rows.sum(), replace=False)\n",
    ")"
   ]
  },
  {
   "cell_type": "markdown",
   "id": "a56a3e8d",
   "metadata": {},
   "source": [
    "These arguments will be passed into the sentence filtering function during the pipeline"
   ]
  },
  {
   "cell_type": "code",
   "execution_count": 10,
   "id": "dfa107c1",
   "metadata": {},
   "outputs": [],
   "source": [
    "sf_kw_args = {'df_filter': sf_filter, 'sf_filter': sf_filter, 'balanced_downsize_filter': balanced_downsize_filter}"
   ]
  },
  {
   "cell_type": "markdown",
   "id": "5c2c2029",
   "metadata": {},
   "source": [
    "# Step 4: Set up for tf-idf matrix to use in Pipeline"
   ]
  },
  {
   "cell_type": "markdown",
   "id": "c98eba40",
   "metadata": {},
   "source": [
    "Using 'column transformer' in the pipeline, and by creating the tf-idf objects in advance, we don't need to manually create the tf-idf matrix, fit it to the data, or transform the data with it, or combine the resulting sparse matrix with the crafted features dataframe."
   ]
  },
  {
   "cell_type": "code",
   "execution_count": 11,
   "id": "11331edc",
   "metadata": {},
   "outputs": [],
   "source": [
    "# tf-idf functions to use\n",
    "tfidf_unigrams = TfidfVectorizer(ngram_range=(1,1), stop_words='english', binary=True)\n",
    "tfidf_withbigrams = TfidfVectorizer(ngram_range=(1,2), stop_words='english', binary=True)\n",
    "\n",
    "# Create the column transformations list with columns to apply to (for the column transformer)\n",
    "col_transform_unigrams = [('unigrams_only', tfidf_unigrams, 'segment_text')]\n",
    "col_transform_withbigrams = [('with_bigrams', tfidf_withbigrams, 'segment_text')]"
   ]
  },
  {
   "cell_type": "markdown",
   "id": "7927efab",
   "metadata": {},
   "source": [
    "# Step 5: 5-fold CV Grid Search"
   ]
  },
  {
   "cell_type": "markdown",
   "id": "161595e9",
   "metadata": {},
   "source": [
    "There are multiple things going on here that are worth explaining:\n",
    "- 5-fold CV (cross-validation)\n",
    "- Model of choice: SVM\n",
    "- Hyperparameter Grid Search\n",
    "- A note on scoring\n",
    "\n",
    "**5-fold Cross Validation**\n",
    "\n",
    "The technique involves partitioning the dataset into five folds, each of which is used in turn as a test set while the remaining folds are used as training data for a model. This process is repeated a number of times, with each fold being used as a test set once. The average performance across all test sets is then used to judge the model's performance.\n",
    "\n",
    "This means that each different model being tested in the grid search is trained and tested 5 times. This approach can be computationally intensive, but it often results in a more accurate estimate of the model's true performance, because each model is being tested on data that it hasn't seen.\n",
    "\n",
    "**Model of Choice: SVM (Support Vector Machines)**\n",
    "\n",
    "Of all possible machine learning models, Story et al. exclusively mention SVM. I presume that other models were not discussed because:\n",
    "- they were building on earlier work informing them of how to find success with SVM in this domain, or\n",
    "- neglected to explain all the other model searching they conducted\n",
    "\n",
    "SVM is a supervised machine learning algorithm that can be used for both classification and regression tasks. In the n-dimensional space of training datapoints, the SVM algorithm finds the hyperplane that maximizes the margin between the data of the two classes (i.e. the decision boundary). The margin is defined as the distance between the hyperplane and the closest data points.  The closest data points to the margin are used to construct the hyperplane and are thus called the 'support vectors'. This image helps demonstrate the idea. The Kernel is a transformation to help separate the classes.\n",
    "\n",
    "<img src=\"https://www.analytixlabs.co.in/blog/wp-content/uploads/2021/07/Blog-08-1-1536x832.jpg\" alt=\"An example of SVM. Image from analytixlabs\" width=700/>\n",
    "\n",
    "*Image source: analytixlabs*\n",
    "\n",
    "The SVM algorithm has a number of advantages, including its ability to handle non-linear decision boundaries, its robustness to overfitting, and its efficiency in high-dimensional spaces such as with text data.\n",
    "\n",
    "In general the time complexity for support vector machines is between O(m * n^2) and O(m * n^3), where m is the number of features and n is the number of training examples, but it is more complex than this and can be specific to different kernels.  I find greatly increasing training time with more observations. But with this small dataset, given the width of the data, the training times are very manageable.\n",
    "\n",
    "I recommend [Sci-kit Learn's page](https://scikit-learn.org/stable/modules/svm.html) to learn more.\n",
    "\n",
    "**SVM: Which hyperparameters can be tuned?**\n",
    "\n",
    "Story et al. state: \"we use scikit-learn’s SVC (Support Vector Classification) implementation (scikit-learn developers 2016b). We train those with a linear kernel (kernel=’linear’), balanced class weights (class weight=’balanced’), and a grid search with five-fold cross-validation over the penalty (C=[0.1, 1, 10]) and gamma (gamma=[0.001, 0.01, 0.1]) parameters.\n",
    "\n",
    "- The Kernel function for transformation, e.g. rbf, polynomial, linear. Having decided that Linear is suitable for this problem, Story et al. only consider a linear kernel, which is known to perform well on text data.\n",
    "- C. Decreasing C corresponds to more regularization. The C parameter adds a penalty for each incorrect classification, so a smaller C value results in a decision boundary with a larger margin, but may also result in a higher number of misclassifications.\n",
    "- Gamma. This is not relevant for linear kernels so I'm unsure why they have included it. (See the [documentation](https://scikit-learn.org/stable/modules/generated/sklearn.svm.SVC.html) ). It is possible that it was left there as an error after the researchers tried different kernels. The code runs either way.  Although I want to include it in case the researchers had some reason, to save computation time I will not include it in my grid search.\n",
    "\n",
    "**Grid Search**\n",
    "To find the best model for each target, we want to find the combination of pre-processing steps and hyperparameters that gives the best results. So for each classifier, we train and evaluate models for each different combination of pre-processing steps and hyperparameters. Effectively, this 'grid' of steps and hyperparameters is searched over to find the best model.\n",
    "\n",
    "In this case, we are searching over:\n",
    "\n",
    "- Sentence filtering or not\n",
    "- tfidf with only unigrams or unigrams and bigrams\n",
    "- SVC with C=[0.1, 1, 10], OR\n",
    "- if not SVC, logistic regression.\n",
    "\n",
    "**Scoring**\n",
    "\n",
    "I am electing to assess each model's performance by the F1 score (harmonic mean of precision and recall). The F1 metric is an important metric for Story et al.'s work so this will help me compare."
   ]
  },
  {
   "cell_type": "code",
   "execution_count": 12,
   "id": "34da8b72",
   "metadata": {},
   "outputs": [],
   "source": [
    "# cachedir = mkdtemp() # Optional memory dump to help with processing\n",
    "\n",
    "# In the pipeline_sequences list, the syntax requires that each step is named and some value is provided,\n",
    "# but that value will be changed as each different option is looped through in the parameter grid.\n",
    "pipeline_sequences = [\n",
    "    ('sentence_filtering', FunctionSampler(func=priv_pol_funcs.sentence_filtering, validate=False, kw_args=sf_kw_args)),\n",
    "    ('tfidf', ColumnTransformer(col_transform_withbigrams, remainder='passthrough')), \n",
    "    ('model', LogisticRegression(random_state=1, max_iter=1000))\n",
    "]\n",
    "\n",
    "pipe = Pipeline(pipeline_sequences) #, memory = cachedir)\n",
    "\n",
    "param_grid = [\n",
    "    {\n",
    "        'model': [LogisticRegression(random_state=1, max_iter=1000)],\n",
    "        'sentence_filtering': [FunctionSampler(func=priv_pol_funcs.sentence_filtering, validate=False, kw_args=sf_kw_args), \n",
    "                               None],\n",
    "        'tfidf': [ColumnTransformer(col_transform_withbigrams, remainder='passthrough'),\n",
    "                  ColumnTransformer(col_transform_unigrams, remainder='passthrough')]\n",
    "    },\n",
    "    {\n",
    "        'model': [SVC(kernel='linear', class_weight='balanced', random_state=1)],\n",
    "        'model__C': [0.1, 1, 10],\n",
    "        'sentence_filtering': [FunctionSampler(func=priv_pol_funcs.sentence_filtering, validate=False, kw_args=sf_kw_args), \n",
    "                               None],\n",
    "        'tfidf': [ColumnTransformer(col_transform_withbigrams, remainder='passthrough'),\n",
    "                  ColumnTransformer(col_transform_unigrams, remainder='passthrough')]\n",
    "    }\n",
    "]\n",
    "\n",
    "# Create grid search object\n",
    "grid_search_object = GridSearchCV(estimator=pipe, param_grid = param_grid, cv = 5, verbose=1, n_jobs=-1, scoring='f1')\n"
   ]
  },
  {
   "cell_type": "code",
   "execution_count": 13,
   "id": "f1f9b273",
   "metadata": {
    "scrolled": true
   },
   "outputs": [
    {
     "name": "stdout",
     "output_type": "stream",
     "text": [
      "Fitting 5 folds for each of 16 candidates, totalling 80 fits\n"
     ]
    },
    {
     "name": "stderr",
     "output_type": "stream",
     "text": [
      "/Users/chinchcliffe/opt/anaconda3/envs/priv_pol_nlp/lib/python3.10/site-packages/imblearn/pipeline.py:240: UserWarning: Persisting input arguments took 1.09s to run.\n",
      "If this happens often in your code, it can cause performance problems \n",
      "(results will be correct in all cases). \n",
      "The reason for this is probably some large input arguments for a wrapped\n",
      " function (e.g. large strings).\n",
      "THIS IS A JOBLIB ISSUE. If you can, kindly provide the joblib's team with an\n",
      " example so that they can fix the problem.\n",
      "  X, fitted_transformer = fit_transform_one_cached(\n",
      "/Users/chinchcliffe/opt/anaconda3/envs/priv_pol_nlp/lib/python3.10/site-packages/imblearn/pipeline.py:240: UserWarning: Persisting input arguments took 1.15s to run.\n",
      "If this happens often in your code, it can cause performance problems \n",
      "(results will be correct in all cases). \n",
      "The reason for this is probably some large input arguments for a wrapped\n",
      " function (e.g. large strings).\n",
      "THIS IS A JOBLIB ISSUE. If you can, kindly provide the joblib's team with an\n",
      " example so that they can fix the problem.\n",
      "  X, fitted_transformer = fit_transform_one_cached(\n",
      "/Users/chinchcliffe/opt/anaconda3/envs/priv_pol_nlp/lib/python3.10/site-packages/imblearn/pipeline.py:240: UserWarning: Persisting input arguments took 1.13s to run.\n",
      "If this happens often in your code, it can cause performance problems \n",
      "(results will be correct in all cases). \n",
      "The reason for this is probably some large input arguments for a wrapped\n",
      " function (e.g. large strings).\n",
      "THIS IS A JOBLIB ISSUE. If you can, kindly provide the joblib's team with an\n",
      " example so that they can fix the problem.\n",
      "  X, fitted_transformer = fit_transform_one_cached(\n",
      "/Users/chinchcliffe/opt/anaconda3/envs/priv_pol_nlp/lib/python3.10/site-packages/imblearn/pipeline.py:240: UserWarning: Persisting input arguments took 1.14s to run.\n",
      "If this happens often in your code, it can cause performance problems \n",
      "(results will be correct in all cases). \n",
      "The reason for this is probably some large input arguments for a wrapped\n",
      " function (e.g. large strings).\n",
      "THIS IS A JOBLIB ISSUE. If you can, kindly provide the joblib's team with an\n",
      " example so that they can fix the problem.\n",
      "  X, fitted_transformer = fit_transform_one_cached(\n",
      "/Users/chinchcliffe/opt/anaconda3/envs/priv_pol_nlp/lib/python3.10/site-packages/imblearn/pipeline.py:240: UserWarning: Persisting input arguments took 1.15s to run.\n",
      "If this happens often in your code, it can cause performance problems \n",
      "(results will be correct in all cases). \n",
      "The reason for this is probably some large input arguments for a wrapped\n",
      " function (e.g. large strings).\n",
      "THIS IS A JOBLIB ISSUE. If you can, kindly provide the joblib's team with an\n",
      " example so that they can fix the problem.\n",
      "  X, fitted_transformer = fit_transform_one_cached(\n",
      "/Users/chinchcliffe/opt/anaconda3/envs/priv_pol_nlp/lib/python3.10/site-packages/imblearn/pipeline.py:240: UserWarning: Persisting input arguments took 1.64s to run.\n",
      "If this happens often in your code, it can cause performance problems \n",
      "(results will be correct in all cases). \n",
      "The reason for this is probably some large input arguments for a wrapped\n",
      " function (e.g. large strings).\n",
      "THIS IS A JOBLIB ISSUE. If you can, kindly provide the joblib's team with an\n",
      " example so that they can fix the problem.\n",
      "  X, fitted_transformer = fit_transform_one_cached(\n",
      "/Users/chinchcliffe/opt/anaconda3/envs/priv_pol_nlp/lib/python3.10/site-packages/imblearn/pipeline.py:240: UserWarning: Persisting input arguments took 1.27s to run.\n",
      "If this happens often in your code, it can cause performance problems \n",
      "(results will be correct in all cases). \n",
      "The reason for this is probably some large input arguments for a wrapped\n",
      " function (e.g. large strings).\n",
      "THIS IS A JOBLIB ISSUE. If you can, kindly provide the joblib's team with an\n",
      " example so that they can fix the problem.\n",
      "  X, fitted_transformer = fit_transform_one_cached(\n",
      "/Users/chinchcliffe/opt/anaconda3/envs/priv_pol_nlp/lib/python3.10/site-packages/imblearn/pipeline.py:240: UserWarning: Persisting input arguments took 1.31s to run.\n",
      "If this happens often in your code, it can cause performance problems \n",
      "(results will be correct in all cases). \n",
      "The reason for this is probably some large input arguments for a wrapped\n",
      " function (e.g. large strings).\n",
      "THIS IS A JOBLIB ISSUE. If you can, kindly provide the joblib's team with an\n",
      " example so that they can fix the problem.\n",
      "  X, fitted_transformer = fit_transform_one_cached(\n",
      "/Users/chinchcliffe/opt/anaconda3/envs/priv_pol_nlp/lib/python3.10/site-packages/imblearn/pipeline.py:240: UserWarning: Persisting input arguments took 1.20s to run.\n",
      "If this happens often in your code, it can cause performance problems \n",
      "(results will be correct in all cases). \n",
      "The reason for this is probably some large input arguments for a wrapped\n",
      " function (e.g. large strings).\n",
      "THIS IS A JOBLIB ISSUE. If you can, kindly provide the joblib's team with an\n",
      " example so that they can fix the problem.\n",
      "  X, fitted_transformer = fit_transform_one_cached(\n",
      "/Users/chinchcliffe/opt/anaconda3/envs/priv_pol_nlp/lib/python3.10/site-packages/imblearn/pipeline.py:240: UserWarning: Persisting input arguments took 1.16s to run.\n",
      "If this happens often in your code, it can cause performance problems \n",
      "(results will be correct in all cases). \n",
      "The reason for this is probably some large input arguments for a wrapped\n",
      " function (e.g. large strings).\n",
      "THIS IS A JOBLIB ISSUE. If you can, kindly provide the joblib's team with an\n",
      " example so that they can fix the problem.\n",
      "  X, fitted_transformer = fit_transform_one_cached(\n",
      "/Users/chinchcliffe/opt/anaconda3/envs/priv_pol_nlp/lib/python3.10/site-packages/imblearn/pipeline.py:240: UserWarning: Persisting input arguments took 0.60s to run.\n",
      "If this happens often in your code, it can cause performance problems \n",
      "(results will be correct in all cases). \n",
      "The reason for this is probably some large input arguments for a wrapped\n",
      " function (e.g. large strings).\n",
      "THIS IS A JOBLIB ISSUE. If you can, kindly provide the joblib's team with an\n",
      " example so that they can fix the problem.\n",
      "  X, fitted_transformer = fit_transform_one_cached(\n"
     ]
    },
    {
     "name": "stdout",
     "output_type": "stream",
     "text": [
      "CPU times: user 11.3 s, sys: 397 ms, total: 11.7 s\n",
      "Wall time: 1min 31s\n"
     ]
    }
   ],
   "source": [
    "%%time\n",
    "fitted_search = grid_search_object.fit(X, y)"
   ]
  },
  {
   "cell_type": "markdown",
   "id": "c92dc002",
   "metadata": {},
   "source": [
    "# Evaluation on Train dataset"
   ]
  },
  {
   "cell_type": "code",
   "execution_count": 14,
   "id": "2bd8f77e",
   "metadata": {},
   "outputs": [
    {
     "name": "stdout",
     "output_type": "stream",
     "text": [
      "              precision    recall  f1-score   support\n",
      "\n",
      "           0       1.00      0.98      0.99      6235\n",
      "           1       0.93      1.00      0.96      1833\n",
      "\n",
      "    accuracy                           0.98      8068\n",
      "   macro avg       0.97      0.99      0.98      8068\n",
      "weighted avg       0.98      0.98      0.98      8068\n",
      "\n"
     ]
    }
   ],
   "source": [
    "classifier_prediction = fitted_search.predict(X)\n",
    "print(classification_report(y, classifier_prediction))"
   ]
  },
  {
   "cell_type": "markdown",
   "id": "577d0f22",
   "metadata": {},
   "source": [
    "These seem like healthy scores across the board but they are all quite high so there is a risk of overfitting.  I will discuss the results once evaluating the score on the validation set, which allows me to compare to Story et al."
   ]
  },
  {
   "cell_type": "markdown",
   "id": "a26df140",
   "metadata": {},
   "source": [
    "# Evaluation on Validation dataset"
   ]
  },
  {
   "cell_type": "markdown",
   "id": "77946625",
   "metadata": {},
   "source": [
    "Loading the X and y data"
   ]
  },
  {
   "cell_type": "code",
   "execution_count": 15,
   "id": "97f4a208",
   "metadata": {},
   "outputs": [],
   "source": [
    "Xval = pd.concat(\n",
    "    [df_for_pipelining_val['segment_text'], \n",
    "     df_for_pipelining_val.loc[:,'contact info':]],\n",
    "    axis=1\n",
    ").copy()\n",
    "\n",
    "yval = df_for_pipelining_val[classifier]"
   ]
  },
  {
   "cell_type": "markdown",
   "id": "370e3cec",
   "metadata": {},
   "source": [
    "**Storing the model results** \n",
    "\n",
    "I create a series to store the results for each classifier I could make.\n",
    "\n",
    "For each model, I will create a list with 3 values: the fitted search object, the y values and the y predictions. Then each of those lists is stored in a series where the index is the classifier."
   ]
  },
  {
   "cell_type": "code",
   "execution_count": 16,
   "id": "8578222a",
   "metadata": {},
   "outputs": [],
   "source": [
    "list_of_18_classifiers = ['Contact', 'Contact_E_Mail_Address', 'Contact_Phone_Number', \n",
    "                       'Identifier_Cookie_or_similar_Tech', 'Identifier_Device_ID', 'Identifier_IMEI',\n",
    "                        'Identifier_MAC', 'Identifier_Mobile_Carrier',\n",
    "                        'Location', 'Location_Cell_Tower', 'Location_GPS', 'Location_WiFi',\n",
    "                        'SSO', 'Facebook_SSO',\n",
    "                        '1st_party', '3rd_party',\n",
    "                        'PERFORMED', 'NOT_PERFORMED'] # cross-checked from table on pg 4 of the paper\n",
    "\n",
    "model_results = pd.Series(range(len(list_of_18_classifiers)),\n",
    "                          index=list_of_18_classifiers, dtype=object)"
   ]
  },
  {
   "cell_type": "markdown",
   "id": "0037c7dc",
   "metadata": {},
   "source": [
    "Running the model and saving the results:"
   ]
  },
  {
   "cell_type": "code",
   "execution_count": 17,
   "id": "927f92bd",
   "metadata": {},
   "outputs": [],
   "source": [
    "# Running the model\n",
    "classifier_val_prediction = fitted_search.predict(Xval)\n",
    "\n",
    "# saving the model results for future use\n",
    "model_results[classifier] = [fitted_search, yval, classifier_val_prediction]\n",
    "model_results.to_pickle(\"objects/model_results.pkl\")"
   ]
  },
  {
   "cell_type": "markdown",
   "id": "0cae27cc",
   "metadata": {},
   "source": [
    "Showing confusion matrix and classification report:"
   ]
  },
  {
   "cell_type": "code",
   "execution_count": 18,
   "id": "26c47c48",
   "metadata": {},
   "outputs": [],
   "source": [
    "def show_confusion_matrix(classifier_y_val, classifier_val_prediction):\n",
    "    \"\"\"\n",
    "    Put the actual y values and the predicted y values into a dataframe with labels and display it\n",
    "    \"\"\"\n",
    "    cf_matrix = confusion_matrix(classifier_y_val, classifier_val_prediction)\n",
    "    cf_df = pd.DataFrame(\n",
    "        cf_matrix, columns=[\"Predicted Negative\", \"Predicted Positive\"], index=[\"True Negative\", \"True Positive\"])\n",
    "    display(cf_df)"
   ]
  },
  {
   "cell_type": "code",
   "execution_count": 19,
   "id": "91b32671",
   "metadata": {},
   "outputs": [
    {
     "data": {
      "text/html": [
       "<div>\n",
       "<style scoped>\n",
       "    .dataframe tbody tr th:only-of-type {\n",
       "        vertical-align: middle;\n",
       "    }\n",
       "\n",
       "    .dataframe tbody tr th {\n",
       "        vertical-align: top;\n",
       "    }\n",
       "\n",
       "    .dataframe thead th {\n",
       "        text-align: right;\n",
       "    }\n",
       "</style>\n",
       "<table border=\"1\" class=\"dataframe\">\n",
       "  <thead>\n",
       "    <tr style=\"text-align: right;\">\n",
       "      <th></th>\n",
       "      <th>Predicted Negative</th>\n",
       "      <th>Predicted Positive</th>\n",
       "    </tr>\n",
       "  </thead>\n",
       "  <tbody>\n",
       "    <tr>\n",
       "      <th>True Negative</th>\n",
       "      <td>1866</td>\n",
       "      <td>108</td>\n",
       "    </tr>\n",
       "    <tr>\n",
       "      <th>True Positive</th>\n",
       "      <td>86</td>\n",
       "      <td>591</td>\n",
       "    </tr>\n",
       "  </tbody>\n",
       "</table>\n",
       "</div>"
      ],
      "text/plain": [
       "               Predicted Negative  Predicted Positive\n",
       "True Negative                1866                 108\n",
       "True Positive                  86                 591"
      ]
     },
     "metadata": {},
     "output_type": "display_data"
    }
   ],
   "source": [
    "show_confusion_matrix(yval, classifier_val_prediction)"
   ]
  },
  {
   "cell_type": "code",
   "execution_count": 20,
   "id": "357fc73e",
   "metadata": {},
   "outputs": [
    {
     "name": "stdout",
     "output_type": "stream",
     "text": [
      "              precision    recall  f1-score   support\n",
      "\n",
      "           0       0.96      0.95      0.95      1974\n",
      "           1       0.85      0.87      0.86       677\n",
      "\n",
      "    accuracy                           0.93      2651\n",
      "   macro avg       0.90      0.91      0.90      2651\n",
      "weighted avg       0.93      0.93      0.93      2651\n",
      "\n"
     ]
    }
   ],
   "source": [
    "print(classification_report(yval, classifier_val_prediction))"
   ]
  },
  {
   "cell_type": "markdown",
   "id": "772055a5",
   "metadata": {},
   "source": [
    "**Scoring**"
   ]
  },
  {
   "cell_type": "markdown",
   "id": "7ab55e38",
   "metadata": {},
   "source": [
    "Only the F1 scores of each classifier is given in the paper (Table 1 pg 4). I assume that this is F1 for class 1, and so we can use that for direct comparison."
   ]
  },
  {
   "cell_type": "markdown",
   "id": "a6cf6285",
   "metadata": {},
   "source": [
    "Looks like this scored okay.  Looking at the scores on both the training and validation data, there is somewhat of a gap between the two which implies some overfitting.\n",
    "\n",
    "Reviewing whether to focus on Positive F1 score or the negative F1 score:\n",
    "\n",
    "\"Negative F-1 score\" is important because it relates to when a policy fails to mention an important practice (relevant for detecting violations, important to Story et al.).  We want to be sure that if a policy fails to mention it, the classifier correctly states that it is not mentioned.\n",
    "\n",
    "Relatedly Negative Recall is the proportion of *When it was not in, did it say that it was not in?*<br>\n",
    "Negative Precision is *When it predicted that it wasn't in, how often was that the case?*\n",
    "\n",
    "Positive recall is *When it was in, what was the chance it was identified?*  <br>\n",
    "Positive precision is *When it was predicted to be in, what was the chance that it was in?*"
   ]
  },
  {
   "cell_type": "markdown",
   "id": "6f1770a1",
   "metadata": {},
   "source": [
    "# Section 2: modelling pipeline\n",
    "\n",
    "Now I can apply the same steps to every classifier to be trained.\n",
    "\n",
    "Firstly, what are the required inputs I need to be ready before training all the classifiers?\n",
    "\n",
    "## Requirements for modelling pipeline\n",
    "\n",
    "1. List of all the different classifiers to train\n",
    "2. Empty table of classifier results to populate\n",
    "3. `df_for_pipelining_train/val/test`. This is the appropriate dataframe with all the X and y data.\n",
    "4. tf-idf column transformers to use in the pipeline.\n",
    "5. Annotation features to use for sentence filtering"
   ]
  },
  {
   "cell_type": "code",
   "execution_count": 17,
   "id": "1cd1fc75",
   "metadata": {},
   "outputs": [],
   "source": [
    "# repeating this list here so that the below cells can all be ran without running any above cells\n",
    "\n",
    "# Requirement 1: List of all the different classifiers to train\n",
    "list_of_18_classifiers = ['Contact', 'Contact_E_Mail_Address', 'Contact_Phone_Number', \n",
    "                       'Identifier_Cookie_or_similar_Tech', 'Identifier_Device_ID', 'Identifier_IMEI',\n",
    "                        'Identifier_MAC', 'Identifier_Mobile_Carrier',\n",
    "                        'Location', 'Location_Cell_Tower', 'Location_GPS', 'Location_WiFi',\n",
    "                        'SSO', 'Facebook_SSO',\n",
    "                        '1st_party', '3rd_party',\n",
    "                        'PERFORMED', 'NOT_PERFORMED'] # cross-checked from table on pg 4 of the paper\n",
    "\n",
    "# Requirement 2: Empty table of classifier results to populate\n",
    "model_results = pd.Series(range(len(list_of_18_classifiers)),\n",
    "                          index=list_of_18_classifiers, dtype=object)"
   ]
  },
  {
   "cell_type": "code",
   "execution_count": 18,
   "id": "77316778",
   "metadata": {},
   "outputs": [],
   "source": [
    "# Requirement 3: Loading the data\n",
    "\n",
    "df_for_pipelining = pd.read_pickle(\"objects/crafted_features_df.pkl\")\n",
    "\n",
    "# Create separate dataframes for each group\n",
    "df_for_pipelining_train = df_for_pipelining.loc[df_for_pipelining['policy_type'] == 'TRAINING' ].copy()\n",
    "df_for_pipelining_val = df_for_pipelining.loc[df_for_pipelining['policy_type'] == 'VALIDATION' ].copy()\n",
    "df_for_pipelining_test = df_for_pipelining.loc[df_for_pipelining['policy_type'] == 'TEST' ].copy()\n",
    "\n",
    "# now that I have used the 'policy type' column for referring to train/validate/test, \n",
    "# I can delete that column along with other unneccesary columns.\n",
    "for dataframe in [df_for_pipelining_train, df_for_pipelining_val, df_for_pipelining_test]:\n",
    "    dataframe.drop(columns=['source_policy_number', 'policy_type', 'contains_synthetic',\n",
    "           'policy_segment_id', 'annotations', 'sentences'], inplace=True)\n",
    "    dataframe.reset_index(inplace=True, drop=True)"
   ]
  },
  {
   "cell_type": "code",
   "execution_count": 19,
   "id": "f606c200",
   "metadata": {},
   "outputs": [],
   "source": [
    "# Requirement 4: tf-idf column transformers to use in the pipeline\n",
    "\n",
    "tfidf_unigrams = TfidfVectorizer(ngram_range=(1,1), stop_words='english', binary=True)\n",
    "tfidf_withbigrams = TfidfVectorizer(ngram_range=(1,2), stop_words='english', binary=True)\n",
    "\n",
    "# Create the column transformations list with columns to apply to (for the column transformer)\n",
    "col_transform_unigrams = [('unigrams_only', tfidf_unigrams, 'segment_text')]\n",
    "col_transform_withbigrams = [('with_bigrams', tfidf_withbigrams, 'segment_text')]"
   ]
  },
  {
   "cell_type": "code",
   "execution_count": 20,
   "id": "6ec12502",
   "metadata": {},
   "outputs": [],
   "source": [
    "# Requirement 5: annotation features for sentence filtering\n",
    "clean_annotation_features = pd.read_pickle(\"objects/clean_annotation_features.pkl\")"
   ]
  },
  {
   "cell_type": "markdown",
   "id": "c94f4da8",
   "metadata": {},
   "source": [
    "Next, what are the required steps that will happen in training and evaluating each different classifier?\n",
    "\n",
    "The steps are:\n",
    "\n",
    "- Select the classifier\n",
    "- Separate the training data into X and y\n",
    "- Set up filter for sentence filtering to use in Pipeline\n",
    "- CV Grid Search\n",
    "- Separate the validation data into X and y, run the model on them and save the results\n",
    "\n",
    "To save space in this notebook, I have put the code blocks into the priv_policy_manipulation_functions file."
   ]
  },
  {
   "cell_type": "markdown",
   "id": "100305c8",
   "metadata": {},
   "source": [
    "Pass every different classifier into the modelling pipeline:\n",
    "\n",
    "**! This takes 10 minutes to run**"
   ]
  },
  {
   "cell_type": "code",
   "execution_count": 21,
   "id": "76899f17",
   "metadata": {},
   "outputs": [],
   "source": [
    "initial_results = model_results.copy()"
   ]
  },
  {
   "cell_type": "code",
   "execution_count": 22,
   "id": "94970d53",
   "metadata": {},
   "outputs": [
    {
     "name": "stdout",
     "output_type": "stream",
     "text": [
      "Running for classifier: Contact\n",
      "Ready for grid search.\n",
      "Fitting 5 folds for each of 16 candidates, totalling 80 fits\n",
      "Ready for evaluation\n",
      "The runtime for Contact was 25.7299\n",
      "\n",
      "Running for classifier: Contact_E_Mail_Address\n",
      "Ready for grid search.\n",
      "Fitting 5 folds for each of 16 candidates, totalling 80 fits\n",
      "Ready for evaluation\n",
      "The runtime for Contact_E_Mail_Address was 34.85763\n",
      "\n",
      "Running for classifier: Contact_Phone_Number\n",
      "Ready for grid search.\n",
      "Fitting 5 folds for each of 16 candidates, totalling 80 fits\n",
      "Ready for evaluation\n",
      "The runtime for Contact_Phone_Number was 33.02646\n",
      "\n",
      "Running for classifier: Identifier_Cookie_or_similar_Tech\n",
      "Ready for grid search.\n",
      "Fitting 5 folds for each of 16 candidates, totalling 80 fits\n",
      "Ready for evaluation\n",
      "The runtime for Identifier_Cookie_or_similar_Tech was 25.79434\n",
      "\n",
      "Running for classifier: Identifier_Device_ID\n",
      "Ready for grid search.\n",
      "Fitting 5 folds for each of 16 candidates, totalling 80 fits\n",
      "Ready for evaluation\n",
      "The runtime for Identifier_Device_ID was 26.0339\n",
      "\n",
      "Running for classifier: Identifier_IMEI\n",
      "Ready for grid search.\n",
      "Fitting 5 folds for each of 16 candidates, totalling 80 fits\n",
      "Ready for evaluation\n",
      "The runtime for Identifier_IMEI was 11.60001\n",
      "\n",
      "Running for classifier: Identifier_MAC\n",
      "Ready for grid search.\n",
      "Fitting 5 folds for each of 16 candidates, totalling 80 fits\n",
      "Ready for evaluation\n",
      "The runtime for Identifier_MAC was 12.49126\n",
      "\n",
      "Running for classifier: Identifier_Mobile_Carrier\n",
      "Ready for grid search.\n",
      "Fitting 5 folds for each of 16 candidates, totalling 80 fits\n",
      "Ready for evaluation\n",
      "The runtime for Identifier_Mobile_Carrier was 15.33995\n",
      "\n",
      "Running for classifier: Location\n",
      "Ready for grid search.\n",
      "Fitting 5 folds for each of 16 candidates, totalling 80 fits\n",
      "Ready for evaluation\n",
      "The runtime for Location was 25.03305\n",
      "\n",
      "Running for classifier: Location_Cell_Tower\n",
      "Ready for grid search.\n",
      "Fitting 5 folds for each of 16 candidates, totalling 80 fits\n",
      "Ready for evaluation\n",
      "The runtime for Location_Cell_Tower was 17.1756\n",
      "\n",
      "Running for classifier: Location_GPS\n",
      "Ready for grid search.\n",
      "Fitting 5 folds for each of 16 candidates, totalling 80 fits\n",
      "Ready for evaluation\n",
      "The runtime for Location_GPS was 20.85248\n",
      "\n",
      "Running for classifier: Location_WiFi\n",
      "Ready for grid search.\n",
      "Fitting 5 folds for each of 16 candidates, totalling 80 fits\n",
      "Ready for evaluation\n",
      "The runtime for Location_WiFi was 21.66668\n",
      "\n",
      "Running for classifier: SSO\n",
      "Ready for grid search.\n",
      "Fitting 5 folds for each of 16 candidates, totalling 80 fits\n",
      "Ready for evaluation\n",
      "The runtime for SSO was 22.30484\n",
      "\n",
      "Running for classifier: Facebook_SSO\n",
      "Ready for grid search.\n",
      "Fitting 5 folds for each of 16 candidates, totalling 80 fits\n",
      "Ready for evaluation\n",
      "The runtime for Facebook_SSO was 13.30736\n",
      "\n",
      "Running for classifier: 1st_party\n",
      "Ready for grid search.\n",
      "Fitting 5 folds for each of 16 candidates, totalling 80 fits\n",
      "Ready for evaluation\n",
      "The runtime for 1st_party was 93.11976\n",
      "\n",
      "Running for classifier: 3rd_party\n",
      "Ready for grid search.\n",
      "Fitting 5 folds for each of 16 candidates, totalling 80 fits\n",
      "Ready for evaluation\n",
      "The runtime for 3rd_party was 53.52139\n",
      "\n",
      "Running for classifier: PERFORMED\n",
      "Ready for grid search.\n",
      "Fitting 5 folds for each of 16 candidates, totalling 80 fits\n",
      "Ready for evaluation\n",
      "The runtime for PERFORMED was 98.50055\n",
      "\n",
      "Running for classifier: NOT_PERFORMED\n",
      "Ready for grid search.\n",
      "Fitting 5 folds for each of 16 candidates, totalling 80 fits\n",
      "Ready for evaluation\n",
      "The runtime for NOT_PERFORMED was 37.58489\n",
      "\n"
     ]
    }
   ],
   "source": [
    "for each_classifier in list_of_18_classifiers:\n",
    "    \n",
    "    priv_pol_funcs.full_modelling_pipeline(classifier=each_classifier, df_for_pipelining=df_for_pipelining_train, \n",
    "                    df_for_evaluation=df_for_pipelining_val, clean_annotation_features=clean_annotation_features,\n",
    "                    model_results_series=initial_results,  \n",
    "                col_transform_unigrams=col_transform_unigrams, col_transform_withbigrams=col_transform_withbigrams)"
   ]
  },
  {
   "cell_type": "code",
   "execution_count": 23,
   "id": "ac81ee97",
   "metadata": {},
   "outputs": [],
   "source": [
    "# Saving the results under a new name\n",
    "validate_results_series = pd.read_pickle(\"objects/model_results.pkl\") \n",
    "validate_results_series.to_pickle(\"objects/validate_results_series.pkl\")"
   ]
  },
  {
   "cell_type": "markdown",
   "id": "c912b1af",
   "metadata": {},
   "source": [
    "## Demonstrating how we can view the results"
   ]
  },
  {
   "cell_type": "markdown",
   "id": "52cc23fc",
   "metadata": {},
   "source": [
    "The results for any classifier can then be retrieved from the results series. The series stores the model and the actual and predicted y-values in the form `[model_object, true_y, predicted_y]`\n",
    "\n",
    "Here is how the best estimator or a classification report could be produced for one of the classifiers."
   ]
  },
  {
   "cell_type": "code",
   "execution_count": 12,
   "id": "74ae2d36",
   "metadata": {},
   "outputs": [
    {
     "data": {
      "text/html": [
       "<style>#sk-container-id-1 {color: black;background-color: white;}#sk-container-id-1 pre{padding: 0;}#sk-container-id-1 div.sk-toggleable {background-color: white;}#sk-container-id-1 label.sk-toggleable__label {cursor: pointer;display: block;width: 100%;margin-bottom: 0;padding: 0.3em;box-sizing: border-box;text-align: center;}#sk-container-id-1 label.sk-toggleable__label-arrow:before {content: \"▸\";float: left;margin-right: 0.25em;color: #696969;}#sk-container-id-1 label.sk-toggleable__label-arrow:hover:before {color: black;}#sk-container-id-1 div.sk-estimator:hover label.sk-toggleable__label-arrow:before {color: black;}#sk-container-id-1 div.sk-toggleable__content {max-height: 0;max-width: 0;overflow: hidden;text-align: left;background-color: #f0f8ff;}#sk-container-id-1 div.sk-toggleable__content pre {margin: 0.2em;color: black;border-radius: 0.25em;background-color: #f0f8ff;}#sk-container-id-1 input.sk-toggleable__control:checked~div.sk-toggleable__content {max-height: 200px;max-width: 100%;overflow: auto;}#sk-container-id-1 input.sk-toggleable__control:checked~label.sk-toggleable__label-arrow:before {content: \"▾\";}#sk-container-id-1 div.sk-estimator input.sk-toggleable__control:checked~label.sk-toggleable__label {background-color: #d4ebff;}#sk-container-id-1 div.sk-label input.sk-toggleable__control:checked~label.sk-toggleable__label {background-color: #d4ebff;}#sk-container-id-1 input.sk-hidden--visually {border: 0;clip: rect(1px 1px 1px 1px);clip: rect(1px, 1px, 1px, 1px);height: 1px;margin: -1px;overflow: hidden;padding: 0;position: absolute;width: 1px;}#sk-container-id-1 div.sk-estimator {font-family: monospace;background-color: #f0f8ff;border: 1px dotted black;border-radius: 0.25em;box-sizing: border-box;margin-bottom: 0.5em;}#sk-container-id-1 div.sk-estimator:hover {background-color: #d4ebff;}#sk-container-id-1 div.sk-parallel-item::after {content: \"\";width: 100%;border-bottom: 1px solid gray;flex-grow: 1;}#sk-container-id-1 div.sk-label:hover label.sk-toggleable__label {background-color: #d4ebff;}#sk-container-id-1 div.sk-serial::before {content: \"\";position: absolute;border-left: 1px solid gray;box-sizing: border-box;top: 0;bottom: 0;left: 50%;z-index: 0;}#sk-container-id-1 div.sk-serial {display: flex;flex-direction: column;align-items: center;background-color: white;padding-right: 0.2em;padding-left: 0.2em;position: relative;}#sk-container-id-1 div.sk-item {position: relative;z-index: 1;}#sk-container-id-1 div.sk-parallel {display: flex;align-items: stretch;justify-content: center;background-color: white;position: relative;}#sk-container-id-1 div.sk-item::before, #sk-container-id-1 div.sk-parallel-item::before {content: \"\";position: absolute;border-left: 1px solid gray;box-sizing: border-box;top: 0;bottom: 0;left: 50%;z-index: -1;}#sk-container-id-1 div.sk-parallel-item {display: flex;flex-direction: column;z-index: 1;position: relative;background-color: white;}#sk-container-id-1 div.sk-parallel-item:first-child::after {align-self: flex-end;width: 50%;}#sk-container-id-1 div.sk-parallel-item:last-child::after {align-self: flex-start;width: 50%;}#sk-container-id-1 div.sk-parallel-item:only-child::after {width: 0;}#sk-container-id-1 div.sk-dashed-wrapped {border: 1px dashed gray;margin: 0 0.4em 0.5em 0.4em;box-sizing: border-box;padding-bottom: 0.4em;background-color: white;}#sk-container-id-1 div.sk-label label {font-family: monospace;font-weight: bold;display: inline-block;line-height: 1.2em;}#sk-container-id-1 div.sk-label-container {text-align: center;}#sk-container-id-1 div.sk-container {/* jupyter's `normalize.less` sets `[hidden] { display: none; }` but bootstrap.min.css set `[hidden] { display: none !important; }` so we also need the `!important` here to be able to override the default hidden behavior on the sphinx rendered scikit-learn.org. See: https://github.com/scikit-learn/scikit-learn/issues/21755 */display: inline-block !important;position: relative;}#sk-container-id-1 div.sk-text-repr-fallback {display: none;}</style><div id=\"sk-container-id-1\" class=\"sk-top-container\"><div class=\"sk-text-repr-fallback\"><pre>Pipeline(steps=[(&#x27;sentence_filtering&#x27;, None),\n",
       "                (&#x27;tfidf&#x27;,\n",
       "                 ColumnTransformer(remainder=&#x27;passthrough&#x27;,\n",
       "                                   transformers=[(&#x27;with_bigrams&#x27;,\n",
       "                                                  TfidfVectorizer(binary=True,\n",
       "                                                                  ngram_range=(1,\n",
       "                                                                               2),\n",
       "                                                                  stop_words=&#x27;english&#x27;),\n",
       "                                                  &#x27;segment_text&#x27;)])),\n",
       "                (&#x27;model&#x27;,\n",
       "                 SVC(C=10, class_weight=&#x27;balanced&#x27;, kernel=&#x27;linear&#x27;,\n",
       "                     random_state=1))])</pre><b>In a Jupyter environment, please rerun this cell to show the HTML representation or trust the notebook. <br />On GitHub, the HTML representation is unable to render, please try loading this page with nbviewer.org.</b></div><div class=\"sk-container\" hidden><div class=\"sk-item sk-dashed-wrapped\"><div class=\"sk-label-container\"><div class=\"sk-label sk-toggleable\"><input class=\"sk-toggleable__control sk-hidden--visually\" id=\"sk-estimator-id-1\" type=\"checkbox\" ><label for=\"sk-estimator-id-1\" class=\"sk-toggleable__label sk-toggleable__label-arrow\">Pipeline</label><div class=\"sk-toggleable__content\"><pre>Pipeline(steps=[(&#x27;sentence_filtering&#x27;, None),\n",
       "                (&#x27;tfidf&#x27;,\n",
       "                 ColumnTransformer(remainder=&#x27;passthrough&#x27;,\n",
       "                                   transformers=[(&#x27;with_bigrams&#x27;,\n",
       "                                                  TfidfVectorizer(binary=True,\n",
       "                                                                  ngram_range=(1,\n",
       "                                                                               2),\n",
       "                                                                  stop_words=&#x27;english&#x27;),\n",
       "                                                  &#x27;segment_text&#x27;)])),\n",
       "                (&#x27;model&#x27;,\n",
       "                 SVC(C=10, class_weight=&#x27;balanced&#x27;, kernel=&#x27;linear&#x27;,\n",
       "                     random_state=1))])</pre></div></div></div><div class=\"sk-serial\"><div class=\"sk-item\"><div class=\"sk-estimator sk-toggleable\"><input class=\"sk-toggleable__control sk-hidden--visually\" id=\"sk-estimator-id-2\" type=\"checkbox\" ><label for=\"sk-estimator-id-2\" class=\"sk-toggleable__label sk-toggleable__label-arrow\">None</label><div class=\"sk-toggleable__content\"><pre>None</pre></div></div></div><div class=\"sk-item sk-dashed-wrapped\"><div class=\"sk-label-container\"><div class=\"sk-label sk-toggleable\"><input class=\"sk-toggleable__control sk-hidden--visually\" id=\"sk-estimator-id-3\" type=\"checkbox\" ><label for=\"sk-estimator-id-3\" class=\"sk-toggleable__label sk-toggleable__label-arrow\">tfidf: ColumnTransformer</label><div class=\"sk-toggleable__content\"><pre>ColumnTransformer(remainder=&#x27;passthrough&#x27;,\n",
       "                  transformers=[(&#x27;with_bigrams&#x27;,\n",
       "                                 TfidfVectorizer(binary=True,\n",
       "                                                 ngram_range=(1, 2),\n",
       "                                                 stop_words=&#x27;english&#x27;),\n",
       "                                 &#x27;segment_text&#x27;)])</pre></div></div></div><div class=\"sk-parallel\"><div class=\"sk-parallel-item\"><div class=\"sk-item\"><div class=\"sk-label-container\"><div class=\"sk-label sk-toggleable\"><input class=\"sk-toggleable__control sk-hidden--visually\" id=\"sk-estimator-id-4\" type=\"checkbox\" ><label for=\"sk-estimator-id-4\" class=\"sk-toggleable__label sk-toggleable__label-arrow\">with_bigrams</label><div class=\"sk-toggleable__content\"><pre>segment_text</pre></div></div></div><div class=\"sk-serial\"><div class=\"sk-item\"><div class=\"sk-estimator sk-toggleable\"><input class=\"sk-toggleable__control sk-hidden--visually\" id=\"sk-estimator-id-5\" type=\"checkbox\" ><label for=\"sk-estimator-id-5\" class=\"sk-toggleable__label sk-toggleable__label-arrow\">TfidfVectorizer</label><div class=\"sk-toggleable__content\"><pre>TfidfVectorizer(binary=True, ngram_range=(1, 2), stop_words=&#x27;english&#x27;)</pre></div></div></div></div></div></div><div class=\"sk-parallel-item\"><div class=\"sk-item\"><div class=\"sk-label-container\"><div class=\"sk-label sk-toggleable\"><input class=\"sk-toggleable__control sk-hidden--visually\" id=\"sk-estimator-id-6\" type=\"checkbox\" ><label for=\"sk-estimator-id-6\" class=\"sk-toggleable__label sk-toggleable__label-arrow\">remainder</label><div class=\"sk-toggleable__content\"><pre>[&#x27;contact info&#x27;, &#x27;contact details&#x27;, &#x27;contact data&#x27;, &#x27;e.g., your name&#x27;, &#x27;contact you&#x27;, &#x27;your contact&#x27;, &#x27;identify, contact&#x27;, &#x27;identifying information&#x27;, &#x27;your name, address, and e-mail address&#x27;, &#x27;including e-mail&#x27;, &#x27;phone book&#x27;, &#x27;phonebook&#x27;, &#x27;contact information in your device&#x27;, &#x27;address book&#x27;, &#x27;contacts&#x27;, &#x27;contact names&#x27;, &#x27;contact list&#x27;, &#x27;contacts list&#x27;, &#x27;phone contacts&#x27;, &#x27;contact entries&#x27;, &#x27;import contacts&#x27;, &#x27;friend list&#x27;, &#x27;friends list&#x27;, &#x27;city&#x27;, &#x27;hometown&#x27;, &#x27;e-mail address&#x27;, &#x27;email address&#x27;, &#x27;e-mail and mailing address&#x27;, &#x27;email and mailing address&#x27;, &#x27;e-mail or mailing address&#x27;, &#x27;email or mailing address&#x27;, &#x27;password&#x27;, &#x27;authentication process&#x27;, &#x27;credential&#x27;, &#x27;authentication token&#x27;, &#x27;phone&#x27;, &#x27;number call&#x27;, &#x27;mailing address&#x27;, &#x27;street address&#x27;, &#x27;address,&#x27;, &#x27;address&#x27;, &#x27;postal address&#x27;, &#x27;billing address&#x27;, &#x27;shipping address&#x27;, &#x27;home or work address&#x27;, &#x27;other address&#x27;, &#x27;physical address&#x27;, &#x27;your address&#x27;, &#x27;home address&#x27;, &#x27;residential address&#x27;, &#x27;area code&#x27;, &#x27;zip code&#x27;, &#x27;zip-code&#x27;, &#x27;postal code&#x27;, &#x27;zip/postal code&#x27;, &#x27;postcode&#x27;, &#x27;post code&#x27;, &#x27;demographic&#x27;, &#x27;age&#x27;, &#x27;birth&#x27;, &#x27;gender&#x27;, &#x27;male&#x27;, &#x27;sex&#x27;, &#x27;login credentials from one of your accounts&#x27;, &#x27;application authentication options&#x27;, &#x27;receives your information from an sns&#x27;, &#x27;accessed on a third party platform or social network&#x27;, &#x27;register using your user credentials to certain social media sites&#x27;, &#x27;allow us to access and/or collect certain information from your third party platform profile/account&#x27;, &#x27;logging in to the application using third party social network&#x27;, &#x27;accessing the services through a social network&#x27;, &#x27;when you choose to connect with those services&#x27;, &#x27;if you choose to register your app account via such social media providers&#x27;, &#x27;third party platform&#x27;, &#x27;identifier&#x27;, &#x27;unique id&#x27;, &#x27;adid&#x27;, &#x27;ad id&#x27;, &#x27;advertising id&#x27;, &#x27;idfa&#x27;, &#x27;identifier for advertis&#x27;, &#x27;identifiers for advertis&#x27;, &#x27;advertisement id&#x27;, &#x27;gaid&#x27;, &#x27;id for advertis&#x27;, &#x27;ids for advertis&#x27;, &#x27;aaid&#x27;, &#x27;cookie&#x27;, &#x27;web beacon&#x27;, &#x27;flash cookie&#x27;, &#x27;local shared object&#x27;, &#x27;pixel tag&#x27;, &#x27;local storage&#x27;, &#x27;tracking technolog&#x27;, &#x27;tracing technolog&#x27;, &#x27;tracking pixel&#x27;, &#x27;similar technolog&#x27;, &#x27;invisible image&#x27;, &#x27;device id&#x27;, &#x27;android id&#x27;, &#x27;udid&#x27;, &#x27;iphone id&#x27;, &#x27;identifier associated with your device&#x27;, &#x27;identifiers associated with your device&#x27;, &#x27;id associated with your device&#x27;, &#x27;ids associated with your device&#x27;, &#x27;mobile id&#x27;, &#x27;device and application id&#x27;, &#x27;identifier for your device&#x27;, &#x27;identifiers for your device&#x27;, &#x27;id for your device&#x27;, &#x27;ids for your device&#x27;, &#x27;id of your device&#x27;, &#x27;ids of your device&#x27;, &#x27;identifier of your device&#x27;, &#x27;identifiers of your device&#x27;, &#x27;id of your mobile device&#x27;, &#x27;ids of your mobile device&#x27;, &#x27;identifier of your mobile device&#x27;, &#x27;identifiers of your mobile device&#x27;, &#x27;id for vendors&#x27;, &#x27;ids for vendors&#x27;, &#x27;identifier for vendors&#x27;, &#x27;identifiers for vendors&#x27;, &#x27;idvf&#x27;, &#x27;odin&#x27;, &#x27;device model number&#x27;, &#x27;imei&#x27;, &#x27;international mobile equipment&#x27;, &#x27;equipment id&#x27;, &#x27;imsi&#x27;, &#x27;international mobile subscriber&#x27;, &#x27;internet protocol&#x27;, &#x27;ip address&#x27;, &#x27;(ip) address&#x27;, &#x27;number that is automatically assigned to your computer when you use the internet&#x27;, &#x27;mac&#x27;, &#x27;media access control&#x27;, &#x27;machine id&#x27;, &#x27;hardware id&#x27;, &#x27;hardware or device id&#x27;, &#x27;hardware-based id&#x27;, &#x27;hardware based id&#x27;, &#x27;mobile network&#x27;, &#x27;mobile carrier&#x27;, &#x27;mobile operator&#x27;, &#x27;device carrier&#x27;, &#x27;carrier provider&#x27;, &#x27;wireless carrier/operator&#x27;, &#x27;wireless carrier&#x27;, &#x27;phone carrier&#x27;, &#x27;mobile service provider&#x27;, &#x27;mobile or internet carrier&#x27;, &#x27;carrier detail&#x27;, &#x27;serial number&#x27;, &#x27;sim&#x27;, &#x27;subscriber identification module&#x27;, &#x27;iccid&#x27;, &#x27;serial no&#x27;, &#x27;wifi name&#x27;, &#x27;wi-fi name&#x27;, &#x27;names of wifi&#x27;, &#x27;names of wi-fi&#x27;, &#x27;name of wifi&#x27;, &#x27;name of wi-fi&#x27;, &#x27;names of connected wifi&#x27;, &#x27;names of connected wi-fi&#x27;, &#x27;name of connected wifi&#x27;, &#x27;name of connected wi-fi&#x27;, &#x27;names of your wifi&#x27;, &#x27;names of your wi-fi&#x27;, &#x27;name of your wifi&#x27;, &#x27;name of your wi-fi&#x27;, &#x27;wifi networks used&#x27;, &#x27;wi-fi networks used&#x27;, &#x27;wifi network used&#x27;, &#x27;wi-fi network used&#x27;, &#x27;bssid&#x27;, &#x27;ssid&#x27;, &#x27;service set id&#x27;, &#x27;locat&#x27;, &#x27;geo&#x27;, &#x27;devices beacon&#x27;, &#x27;device beacon&#x27;, &#x27;bluetooth&#x27;, &#x27;precise location&#x27;, &#x27;precise geo&#x27;, &#x27;precise device location&#x27;, &#x27;precise device geo&#x27;, &#x27;specific location&#x27;, &#x27;specific geo&#x27;, &#x27;specific device location&#x27;, &#x27;specific device geo&#x27;, &#x27;exact location&#x27;, &#x27;exact geo&#x27;, &#x27;exact device location&#x27;, &#x27;exact device geo&#x27;, &#x27;detailed location&#x27;, &#x27;detailed geo&#x27;, &#x27;detailed device location&#x27;, &#x27;detailed device geo&#x27;, &#x27;accurate location&#x27;, &#x27;accurate geo&#x27;, &#x27;accurate device location&#x27;, &#x27;accurate device geo&#x27;, &#x27;precise information about the location&#x27;, &#x27;precise information about the geo&#x27;, &#x27;precise information about the device location&#x27;, &#x27;precise information about the device geo&#x27;, &#x27;base station&#x27;, &#x27;cell tower&#x27;, &#x27;cell id&#x27;, &#x27;network-based&#x27;, &#x27;network based&#x27;, &#x27;cellular network location&#x27;, &#x27;approximate location&#x27;, &#x27;approximate geo&#x27;, &#x27;approximate device location&#x27;, &#x27;approximate device geo&#x27;, &#x27;approximate a location&#x27;, &#x27;coarse location&#x27;, &#x27;coarse geo&#x27;, &#x27;coarse device location&#x27;, &#x27;coarse device geo&#x27;, &#x27;rough location&#x27;, &#x27;rough geo&#x27;, &#x27;rough device location&#x27;, &#x27;rough device geo&#x27;, &#x27;imprecise location&#x27;, &#x27;imprecise geo&#x27;, &#x27;imprecise device location&#x27;, &#x27;imprecise device geo&#x27;, &#x27;located with less precision&#x27;, &#x27;non-precise location&#x27;, &#x27;non-precise geo&#x27;, &#x27;non-precise device location&#x27;, &#x27;non-precise device geo&#x27;, &#x27;non-specific location&#x27;, &#x27;non-specific geo&#x27;, &#x27;non-specific device location&#x27;, &#x27;not-specific device geo&#x27;, &#x27;not-specific location&#x27;, &#x27;not-specific geo&#x27;, &#x27;not-specific device location&#x27;, &#x27;general location&#x27;, &#x27;general geo&#x27;, &#x27;general device location&#x27;, &#x27;general device geo&#x27;, &#x27;generally where you are located&#x27;, &#x27;based on proximity&#x27;, &#x27;gps&#x27;, &#x27;global position&#x27;, &#x27;latitud&#x27;, &#x27;longitud&#x27;, &#x27;wifi signal&#x27;, &#x27;wifi access point&#x27;, &#x27;wifi location&#x27;, &#x27;wifi geo&#x27;, &#x27;location based on gps/wifi/communications&#x27;, &#x27;wi-fi signal&#x27;, &#x27;wi-fi access point&#x27;, &#x27;wi-fi location&#x27;, &#x27;wi-fi geo&#x27;, &#x27;location based on gps/wi-fi/communications&#x27;, &#x27;we&#x27;, &#x27;you&#x27;, &#x27;us&#x27;, &#x27;our&#x27;, &#x27;the app&#x27;, &#x27;the software&#x27;, &#x27;partner&#x27;, &#x27;third part&#x27;, &#x27;third-part&#x27;, &#x27;service provider&#x27;, &#x27;contractor&#x27;, &#x27;vendor&#x27;, &#x27;provider&#x27;, &#x27;supplier&#x27;, &#x27;analytics compan&#x27;, &#x27;advertising compan&#x27;, &#x27;advertiser&#x27;, &#x27;brand owner&#x27;, &#x27;sponsor&#x27;, &#x27;advertising network&#x27;, &#x27;trusted affiliate&#x27;, &#x27;ad serv&#x27;, &#x27;facebook&#x27;, &#x27;ad network&#x27;, &#x27;social&#x27;, &#x27;google&#x27;, &#x27;our behalf&#x27;, &#x27;ad compan&#x27;, &#x27;flurry&#x27;, &#x27;these providers&#x27;, &#x27;these entities&#x27;, &#x27;ad server&#x27;, &#x27;crosswise&#x27;, &#x27;tapad&#x27;, &#x27;agent&#x27;, &#x27;share&#x27;, &#x27;shari&#x27;, &#x27;collect&#x27;, &#x27;consent&#x27;, &#x27;permission&#x27;, &#x27;opt&#x27;, &#x27;access&#x27;, &#x27;gather&#x27;, &#x27;obtain&#x27;, &#x27;require&#x27;, &#x27;use&#x27;, &#x27;receive&#x27;, &#x27;store&#x27;, &#x27;save&#x27;, &#x27;disclose&#x27;, &#x27;automatically&#x27;, &#x27;give&#x27;, &#x27;sell&#x27;, &#x27;allow&#x27;, &#x27;process&#x27;, &#x27;track&#x27;, &#x27;possible&#x27;, &#x27;offer&#x27;, &#x27;employ&#x27;, &#x27;read&#x27;, &#x27;have&#x27;, &#x27;record&#x27;, &#x27;acquire&#x27;, &#x27;get&#x27;, &#x27;view&#x27;, &#x27;locate&#x27;, &#x27;ask&#x27;, &#x27;utilize&#x27;, &#x27;tell&#x27;, &#x27;request&#x27;, &#x27;be transmitted&#x27;, &#x27;be communicated&#x27;, &#x27;not collect&#x27;, &#x27;no longer collect&#x27;, &#x27;not access&#x27;, &#x27;not gather&#x27;, &#x27;not obtain&#x27;, &#x27;not require&#x27;, &#x27;not use&#x27;, &#x27;not receive&#x27;, &#x27;not share&#x27;, &#x27;not store&#x27;, &#x27;not save&#x27;, &#x27;not disclose&#x27;, &#x27;not automatically&#x27;, &#x27;not give&#x27;, &#x27;not sell&#x27;, &#x27;not allow&#x27;, &#x27;not process&#x27;, &#x27;not track&#x27;, &#x27;not possible&#x27;, &#x27;not offer&#x27;, &#x27;not employ&#x27;, &#x27;not read&#x27;, &#x27;not have&#x27;, &#x27;not record&#x27;, &#x27;not acquire&#x27;, &#x27;not get&#x27;, &#x27;not view&#x27;, &#x27;not locate&#x27;, &#x27;not ask&#x27;, &#x27;not utilize&#x27;, &#x27;not tell&#x27;, &#x27;not request&#x27;, &#x27;not communicate&#x27;, &#x27;not transmit&#x27;, &#x27;not be transmitted&#x27;, &#x27;not be communicated&#x27;, &#x27;not provide&#x27;, &#x27;not have to&#x27;, &quot;n&#x27;t&quot;, &#x27;not&#x27;, &#x27;never&#x27;, &#x27;no longer&#x27;, &#x27;will not&#x27;, &quot;n&#x27;t collect&quot;, &quot;n&#x27;t access&quot;, &quot;n&#x27;t gather&quot;, &quot;n&#x27;t obtain&quot;, &quot;n&#x27;t require&quot;, &quot;n&#x27;t use&quot;, &quot;n&#x27;t receive&quot;, &quot;n&#x27;t share&quot;, &quot;n&#x27;t store&quot;, &quot;n&#x27;t save&quot;, &quot;n&#x27;t disclose&quot;, &quot;n&#x27;t automatically&quot;, &quot;n&#x27;t give&quot;, &quot;n&#x27;t sell&quot;, &quot;n&#x27;t allow&quot;, &quot;n&#x27;t process&quot;, &quot;n&#x27;t track&quot;, &quot;n&#x27;t possible&quot;, &quot;n&#x27;t offer&quot;, &quot;n&#x27;t employ&quot;, &quot;n&#x27;t read&quot;, &quot;n&#x27;t have&quot;, &quot;n&#x27;t record&quot;, &quot;n&#x27;t acquire&quot;, &quot;n&#x27;t get&quot;, &quot;n&#x27;t view&quot;, &quot;n&#x27;t locate&quot;, &quot;n&#x27;t ask&quot;, &quot;n&#x27;t utilize&quot;, &quot;n&#x27;t tell&quot;, &quot;n&#x27;t request&quot;, &quot;n&#x27;t be transmitted&quot;, &quot;n&#x27;t be communicated&quot;, &#x27;never collect&#x27;, &#x27;never access&#x27;, &#x27;never gather&#x27;, &#x27;never obtain&#x27;, &#x27;never require&#x27;, &#x27;never use&#x27;, &#x27;never receive&#x27;, &#x27;never share&#x27;, &#x27;never store&#x27;, &#x27;never save&#x27;, &#x27;never disclose&#x27;, &#x27;never automatically&#x27;, &#x27;never give&#x27;, &#x27;never sell&#x27;, &#x27;never allow&#x27;, &#x27;never process&#x27;, &#x27;never track&#x27;, &#x27;never possible&#x27;, &#x27;never offer&#x27;, &#x27;never employ&#x27;, &#x27;never read&#x27;, &#x27;never have&#x27;, &#x27;never record&#x27;, &#x27;never acquire&#x27;, &#x27;never get&#x27;, &#x27;never view&#x27;, &#x27;never locate&#x27;, &#x27;never ask&#x27;, &#x27;never utilize&#x27;, &#x27;never tell&#x27;, &#x27;never request&#x27;, &#x27;never transmit&#x27;, &#x27;never communicate&#x27;, &#x27;never be collected&#x27;, &#x27;never be accessed&#x27;, &#x27;never be gathered&#x27;, &#x27;never be obtained&#x27;, &#x27;never be required&#x27;, &#x27;never be used&#x27;, &#x27;never be received&#x27;, &#x27;never be shared&#x27;, &#x27;never be stored&#x27;, &#x27;never be saved&#x27;, &#x27;never be disclosed&#x27;, &#x27;never be automatically&#x27;, &#x27;never be given&#x27;, &#x27;never be sold&#x27;, &#x27;never be allowed&#x27;, &#x27;never be processed&#x27;, &#x27;never be tracked&#x27;, &#x27;never be offered&#x27;, &#x27;never be employed&#x27;, &#x27;never be read&#x27;, &#x27;never be recorded&#x27;, &#x27;never be acquired&#x27;, &#x27;never be viewed&#x27;, &#x27;never be located&#x27;, &#x27;never be asked&#x27;, &#x27;never be utilized&#x27;, &#x27;never be requested&#x27;, &#x27;never be transmitted&#x27;, &#x27;never be communicated&#x27;, &#x27;nor do we collect&#x27;, &#x27;does not tell us&#x27;]</pre></div></div></div><div class=\"sk-serial\"><div class=\"sk-item\"><div class=\"sk-estimator sk-toggleable\"><input class=\"sk-toggleable__control sk-hidden--visually\" id=\"sk-estimator-id-7\" type=\"checkbox\" ><label for=\"sk-estimator-id-7\" class=\"sk-toggleable__label sk-toggleable__label-arrow\">passthrough</label><div class=\"sk-toggleable__content\"><pre>passthrough</pre></div></div></div></div></div></div></div></div><div class=\"sk-item\"><div class=\"sk-estimator sk-toggleable\"><input class=\"sk-toggleable__control sk-hidden--visually\" id=\"sk-estimator-id-8\" type=\"checkbox\" ><label for=\"sk-estimator-id-8\" class=\"sk-toggleable__label sk-toggleable__label-arrow\">SVC</label><div class=\"sk-toggleable__content\"><pre>SVC(C=10, class_weight=&#x27;balanced&#x27;, kernel=&#x27;linear&#x27;, random_state=1)</pre></div></div></div></div></div></div></div>"
      ],
      "text/plain": [
       "Pipeline(steps=[('sentence_filtering', None),\n",
       "                ('tfidf',\n",
       "                 ColumnTransformer(remainder='passthrough',\n",
       "                                   transformers=[('with_bigrams',\n",
       "                                                  TfidfVectorizer(binary=True,\n",
       "                                                                  ngram_range=(1,\n",
       "                                                                               2),\n",
       "                                                                  stop_words='english'),\n",
       "                                                  'segment_text')])),\n",
       "                ('model',\n",
       "                 SVC(C=10, class_weight='balanced', kernel='linear',\n",
       "                     random_state=1))])"
      ]
     },
     "execution_count": 12,
     "metadata": {},
     "output_type": "execute_result"
    }
   ],
   "source": [
    "initial_results['Identifier_Device_ID'][0].best_estimator_"
   ]
  },
  {
   "cell_type": "code",
   "execution_count": 13,
   "id": "0c91e873",
   "metadata": {
    "scrolled": true
   },
   "outputs": [
    {
     "name": "stdout",
     "output_type": "stream",
     "text": [
      "              precision    recall  f1-score   support\n",
      "\n",
      "           0       0.98      1.00      0.99      2429\n",
      "           1       0.95      0.75      0.84       222\n",
      "\n",
      "    accuracy                           0.98      2651\n",
      "   macro avg       0.96      0.87      0.91      2651\n",
      "weighted avg       0.98      0.98      0.97      2651\n",
      "\n"
     ]
    }
   ],
   "source": [
    "print(classification_report(model_results_series['Contact_E_Mail_Address'][1] , \n",
    "                            model_results_series['Contact_E_Mail_Address'][2]))"
   ]
  },
  {
   "cell_type": "markdown",
   "id": "22a12042",
   "metadata": {},
   "source": [
    "We can use the model results we have saved to populate a results table showing whatever statistics we want."
   ]
  },
  {
   "cell_type": "code",
   "execution_count": 24,
   "id": "538ae413",
   "metadata": {},
   "outputs": [],
   "source": [
    "model_results_series = pd.read_pickle(\"objects/validate_results_series.pkl\") \n",
    "# Loading the model results allows us to populate the table without having to run the grid searches again\n",
    "\n",
    "full_results_table = pd.DataFrame(model_results_series, columns=[\"Frequency in train set\"]).copy()\n",
    "\n",
    "for classifier in model_results_series.index:\n",
    "    \n",
    "    fitted_search = model_results_series[classifier][0]\n",
    "\n",
    "    # Total instances in dataset\n",
    "    full_results_table.loc[classifier, \"Frequency in train set\"] = \\\n",
    "        df_for_pipelining_train[classifier].sum()\n",
    "\n",
    "    # Neg F1\n",
    "    full_results_table.loc[classifier, \"Neg F1\"] = \\\n",
    "        f1_score(model_results_series[classifier][1].copy(), model_results_series[classifier][2].copy(), pos_label=0)\n",
    "\n",
    "    # Pos F1\n",
    "    full_results_table.loc[classifier, \"Pos F1\"] = \\\n",
    "        f1_score(model_results_series[classifier][1].copy(), model_results_series[classifier][2].copy(), pos_label=1)\n",
    "\n",
    "    # Sentence Filtering\n",
    "    full_results_table.loc[classifier, \"Sentence Filtering\"] = \\\n",
    "        str(fitted_search.best_estimator_.steps[0][1])\n",
    "\n",
    "    # Including Bigrams or not\n",
    "    full_results_table.loc[classifier, \"including bigrams or not\"] = \\\n",
    "        fitted_search.best_estimator_.named_steps[\"tfidf\"].get_params()[\"transformers\"][0][0]\n",
    "\n",
    "    # Model type\n",
    "    full_results_table.loc[classifier, \"SVM or Logistic Regression\"] = \\\n",
    "        fitted_search.best_estimator_.named_steps[\"model\"]"
   ]
  },
  {
   "cell_type": "code",
   "execution_count": 9,
   "id": "4ea45570",
   "metadata": {},
   "outputs": [
    {
     "data": {
      "text/html": [
       "<div>\n",
       "<style scoped>\n",
       "    .dataframe tbody tr th:only-of-type {\n",
       "        vertical-align: middle;\n",
       "    }\n",
       "\n",
       "    .dataframe tbody tr th {\n",
       "        vertical-align: top;\n",
       "    }\n",
       "\n",
       "    .dataframe thead th {\n",
       "        text-align: right;\n",
       "    }\n",
       "</style>\n",
       "<table border=\"1\" class=\"dataframe\">\n",
       "  <thead>\n",
       "    <tr style=\"text-align: right;\">\n",
       "      <th></th>\n",
       "      <th>Frequency in train set</th>\n",
       "      <th>Neg F1</th>\n",
       "      <th>Pos F1</th>\n",
       "      <th>Sentence Filtering</th>\n",
       "      <th>including bigrams or not</th>\n",
       "      <th>SVM or Logistic Regression</th>\n",
       "    </tr>\n",
       "  </thead>\n",
       "  <tbody>\n",
       "    <tr>\n",
       "      <th>Contact</th>\n",
       "      <td>128</td>\n",
       "      <td>0.992875</td>\n",
       "      <td>0.660550</td>\n",
       "      <td>None</td>\n",
       "      <td>with_bigrams</td>\n",
       "      <td>SVC(C=0.1, class_weight='balanced', kernel='li...</td>\n",
       "    </tr>\n",
       "    <tr>\n",
       "      <th>Contact_E_Mail_Address</th>\n",
       "      <td>662</td>\n",
       "      <td>0.986949</td>\n",
       "      <td>0.839196</td>\n",
       "      <td>None</td>\n",
       "      <td>unigrams_only</td>\n",
       "      <td>LogisticRegression(max_iter=1000, random_state=1)</td>\n",
       "    </tr>\n",
       "    <tr>\n",
       "      <th>Contact_Phone_Number</th>\n",
       "      <td>346</td>\n",
       "      <td>0.991876</td>\n",
       "      <td>0.839216</td>\n",
       "      <td>None</td>\n",
       "      <td>with_bigrams</td>\n",
       "      <td>SVC(C=1, class_weight='balanced', kernel='line...</td>\n",
       "    </tr>\n",
       "    <tr>\n",
       "      <th>Identifier_Cookie_or_similar_Tech</th>\n",
       "      <td>596</td>\n",
       "      <td>0.990924</td>\n",
       "      <td>0.903084</td>\n",
       "      <td>None</td>\n",
       "      <td>with_bigrams</td>\n",
       "      <td>SVC(C=1, class_weight='balanced', kernel='line...</td>\n",
       "    </tr>\n",
       "    <tr>\n",
       "      <th>Identifier_Device_ID</th>\n",
       "      <td>332</td>\n",
       "      <td>0.994713</td>\n",
       "      <td>0.861538</td>\n",
       "      <td>None</td>\n",
       "      <td>with_bigrams</td>\n",
       "      <td>SVC(C=10, class_weight='balanced', kernel='lin...</td>\n",
       "    </tr>\n",
       "    <tr>\n",
       "      <th>Identifier_IMEI</th>\n",
       "      <td>50</td>\n",
       "      <td>0.999620</td>\n",
       "      <td>0.937500</td>\n",
       "      <td>None</td>\n",
       "      <td>with_bigrams</td>\n",
       "      <td>SVC(C=0.1, class_weight='balanced', kernel='li...</td>\n",
       "    </tr>\n",
       "    <tr>\n",
       "      <th>Identifier_MAC</th>\n",
       "      <td>85</td>\n",
       "      <td>0.998669</td>\n",
       "      <td>0.837209</td>\n",
       "      <td>None</td>\n",
       "      <td>unigrams_only</td>\n",
       "      <td>SVC(C=1, class_weight='balanced', kernel='line...</td>\n",
       "    </tr>\n",
       "    <tr>\n",
       "      <th>Identifier_Mobile_Carrier</th>\n",
       "      <td>60</td>\n",
       "      <td>0.996014</td>\n",
       "      <td>0.363636</td>\n",
       "      <td>None</td>\n",
       "      <td>with_bigrams</td>\n",
       "      <td>SVC(C=1, class_weight='balanced', kernel='line...</td>\n",
       "    </tr>\n",
       "    <tr>\n",
       "      <th>Location</th>\n",
       "      <td>537</td>\n",
       "      <td>0.986813</td>\n",
       "      <td>0.825737</td>\n",
       "      <td>None</td>\n",
       "      <td>unigrams_only</td>\n",
       "      <td>LogisticRegression(max_iter=1000, random_state=1)</td>\n",
       "    </tr>\n",
       "    <tr>\n",
       "      <th>Location_Cell_Tower</th>\n",
       "      <td>89</td>\n",
       "      <td>0.995615</td>\n",
       "      <td>0.596491</td>\n",
       "      <td>None</td>\n",
       "      <td>with_bigrams</td>\n",
       "      <td>SVC(C=1, class_weight='balanced', kernel='line...</td>\n",
       "    </tr>\n",
       "    <tr>\n",
       "      <th>Location_GPS</th>\n",
       "      <td>142</td>\n",
       "      <td>0.996728</td>\n",
       "      <td>0.841121</td>\n",
       "      <td>None</td>\n",
       "      <td>with_bigrams</td>\n",
       "      <td>SVC(C=1, class_weight='balanced', kernel='line...</td>\n",
       "    </tr>\n",
       "    <tr>\n",
       "      <th>Location_WiFi</th>\n",
       "      <td>126</td>\n",
       "      <td>0.996352</td>\n",
       "      <td>0.795699</td>\n",
       "      <td>None</td>\n",
       "      <td>with_bigrams</td>\n",
       "      <td>SVC(C=1, class_weight='balanced', kernel='line...</td>\n",
       "    </tr>\n",
       "    <tr>\n",
       "      <th>SSO</th>\n",
       "      <td>146</td>\n",
       "      <td>0.995004</td>\n",
       "      <td>0.734694</td>\n",
       "      <td>None</td>\n",
       "      <td>with_bigrams</td>\n",
       "      <td>SVC(C=1, class_weight='balanced', kernel='line...</td>\n",
       "    </tr>\n",
       "    <tr>\n",
       "      <th>Facebook_SSO</th>\n",
       "      <td>109</td>\n",
       "      <td>0.997318</td>\n",
       "      <td>0.829268</td>\n",
       "      <td>None</td>\n",
       "      <td>unigrams_only</td>\n",
       "      <td>SVC(C=1, class_weight='balanced', kernel='line...</td>\n",
       "    </tr>\n",
       "    <tr>\n",
       "      <th>1st_party</th>\n",
       "      <td>1833</td>\n",
       "      <td>0.950586</td>\n",
       "      <td>0.859012</td>\n",
       "      <td>None</td>\n",
       "      <td>with_bigrams</td>\n",
       "      <td>SVC(C=1, class_weight='balanced', kernel='line...</td>\n",
       "    </tr>\n",
       "    <tr>\n",
       "      <th>3rd_party</th>\n",
       "      <td>530</td>\n",
       "      <td>0.972808</td>\n",
       "      <td>0.641711</td>\n",
       "      <td>None</td>\n",
       "      <td>with_bigrams</td>\n",
       "      <td>SVC(C=1, class_weight='balanced', kernel='line...</td>\n",
       "    </tr>\n",
       "    <tr>\n",
       "      <th>PERFORMED</th>\n",
       "      <td>1681</td>\n",
       "      <td>0.945706</td>\n",
       "      <td>0.824000</td>\n",
       "      <td>None</td>\n",
       "      <td>with_bigrams</td>\n",
       "      <td>SVC(C=1, class_weight='balanced', kernel='line...</td>\n",
       "    </tr>\n",
       "    <tr>\n",
       "      <th>NOT_PERFORMED</th>\n",
       "      <td>551</td>\n",
       "      <td>0.981420</td>\n",
       "      <td>0.803493</td>\n",
       "      <td>None</td>\n",
       "      <td>unigrams_only</td>\n",
       "      <td>SVC(C=1, class_weight='balanced', kernel='line...</td>\n",
       "    </tr>\n",
       "  </tbody>\n",
       "</table>\n",
       "</div>"
      ],
      "text/plain": [
       "                                  Frequency in train set    Neg F1    Pos F1  \\\n",
       "Contact                                              128  0.992875  0.660550   \n",
       "Contact_E_Mail_Address                               662  0.986949  0.839196   \n",
       "Contact_Phone_Number                                 346  0.991876  0.839216   \n",
       "Identifier_Cookie_or_similar_Tech                    596  0.990924  0.903084   \n",
       "Identifier_Device_ID                                 332  0.994713  0.861538   \n",
       "Identifier_IMEI                                       50  0.999620  0.937500   \n",
       "Identifier_MAC                                        85  0.998669  0.837209   \n",
       "Identifier_Mobile_Carrier                             60  0.996014  0.363636   \n",
       "Location                                             537  0.986813  0.825737   \n",
       "Location_Cell_Tower                                   89  0.995615  0.596491   \n",
       "Location_GPS                                         142  0.996728  0.841121   \n",
       "Location_WiFi                                        126  0.996352  0.795699   \n",
       "SSO                                                  146  0.995004  0.734694   \n",
       "Facebook_SSO                                         109  0.997318  0.829268   \n",
       "1st_party                                           1833  0.950586  0.859012   \n",
       "3rd_party                                            530  0.972808  0.641711   \n",
       "PERFORMED                                           1681  0.945706  0.824000   \n",
       "NOT_PERFORMED                                        551  0.981420  0.803493   \n",
       "\n",
       "                                  Sentence Filtering including bigrams or not  \\\n",
       "Contact                                         None             with_bigrams   \n",
       "Contact_E_Mail_Address                          None            unigrams_only   \n",
       "Contact_Phone_Number                            None             with_bigrams   \n",
       "Identifier_Cookie_or_similar_Tech               None             with_bigrams   \n",
       "Identifier_Device_ID                            None             with_bigrams   \n",
       "Identifier_IMEI                                 None             with_bigrams   \n",
       "Identifier_MAC                                  None            unigrams_only   \n",
       "Identifier_Mobile_Carrier                       None             with_bigrams   \n",
       "Location                                        None            unigrams_only   \n",
       "Location_Cell_Tower                             None             with_bigrams   \n",
       "Location_GPS                                    None             with_bigrams   \n",
       "Location_WiFi                                   None             with_bigrams   \n",
       "SSO                                             None             with_bigrams   \n",
       "Facebook_SSO                                    None            unigrams_only   \n",
       "1st_party                                       None             with_bigrams   \n",
       "3rd_party                                       None             with_bigrams   \n",
       "PERFORMED                                       None             with_bigrams   \n",
       "NOT_PERFORMED                                   None            unigrams_only   \n",
       "\n",
       "                                                          SVM or Logistic Regression  \n",
       "Contact                            SVC(C=0.1, class_weight='balanced', kernel='li...  \n",
       "Contact_E_Mail_Address             LogisticRegression(max_iter=1000, random_state=1)  \n",
       "Contact_Phone_Number               SVC(C=1, class_weight='balanced', kernel='line...  \n",
       "Identifier_Cookie_or_similar_Tech  SVC(C=1, class_weight='balanced', kernel='line...  \n",
       "Identifier_Device_ID               SVC(C=10, class_weight='balanced', kernel='lin...  \n",
       "Identifier_IMEI                    SVC(C=0.1, class_weight='balanced', kernel='li...  \n",
       "Identifier_MAC                     SVC(C=1, class_weight='balanced', kernel='line...  \n",
       "Identifier_Mobile_Carrier          SVC(C=1, class_weight='balanced', kernel='line...  \n",
       "Location                           LogisticRegression(max_iter=1000, random_state=1)  \n",
       "Location_Cell_Tower                SVC(C=1, class_weight='balanced', kernel='line...  \n",
       "Location_GPS                       SVC(C=1, class_weight='balanced', kernel='line...  \n",
       "Location_WiFi                      SVC(C=1, class_weight='balanced', kernel='line...  \n",
       "SSO                                SVC(C=1, class_weight='balanced', kernel='line...  \n",
       "Facebook_SSO                       SVC(C=1, class_weight='balanced', kernel='line...  \n",
       "1st_party                          SVC(C=1, class_weight='balanced', kernel='line...  \n",
       "3rd_party                          SVC(C=1, class_weight='balanced', kernel='line...  \n",
       "PERFORMED                          SVC(C=1, class_weight='balanced', kernel='line...  \n",
       "NOT_PERFORMED                      SVC(C=1, class_weight='balanced', kernel='line...  "
      ]
     },
     "execution_count": 9,
     "metadata": {},
     "output_type": "execute_result"
    }
   ],
   "source": [
    "full_results_table"
   ]
  },
  {
   "cell_type": "code",
   "execution_count": 11,
   "id": "9aa1004a",
   "metadata": {},
   "outputs": [
    {
     "name": "stdout",
     "output_type": "stream",
     "text": [
      "Negative F1 mean: 0.9872217712600695\n",
      "Positive F1 mean: 0.7773976302357587\n"
     ]
    }
   ],
   "source": [
    "print(f\"Negative F1 mean: {full_results_table['Neg F1'].mean()}\")\n",
    "print(f\"Positive F1 mean: {full_results_table['Pos F1'].mean()}\")"
   ]
  },
  {
   "cell_type": "markdown",
   "id": "300450a0",
   "metadata": {},
   "source": [
    "# Discussing results"
   ]
  },
  {
   "cell_type": "markdown",
   "id": "f0cc43b9",
   "metadata": {},
   "source": [
    "There is much to discuss here and were I to extend this project I would discuss more.  I will touch on these elements:\n",
    "\n",
    "- Strong negative F1 score\n",
    "- Varied positive F1 score\n",
    "- Lowest score – 'Identifier_Mobile_Carrier'\n",
    "- Comparison to results from paper\n",
    "- Effects of differing pre-processing techniques and models"
   ]
  },
  {
   "cell_type": "markdown",
   "id": "01ea62c0",
   "metadata": {},
   "source": [
    "## Strong negative F1 score\n",
    "\n",
    "The negative F1 score refers to the harmonic mean of precision and recall for predicting instances when the class of interest is not present. In other words, it's a measure of *how well the classifier is able to correctly identify instances when the class is not present.*  A high negative F1 score suggests that the classifier is making very few false positives, i.e. it is not classifying negative instances as positive instances very often.\n",
    "\n",
    "With many caveats, the score of 0.987 is very high.\n",
    "\n",
    "**Imbalance in data**\n",
    "\n",
    "It's worth noting that because of the imbalance in the training data, the classifiers likely have a bias towards predicting the majority class (i.e. the negative class in this case), which can artificially inflate the F1 score. Improvements were attempted to be made and are discussed in the section on the positive F1 score.\n",
    "\n",
    "**Other evaluation metric**\n",
    "\n",
    "I have not looked deeper into other evaluation metrics for identifying when the class is not present. Story et al. only discussed F1 scores and I have followed suit, but were I to extend this project, I would evaluate other performance metrics as well, like precision, recall and AUC-ROC to have a better understanding of the performance of the classifiers.\n",
    "\n",
    "It is also important to evaluate the performance of the classifier on test set to get a realistic picture of the performance."
   ]
  },
  {
   "cell_type": "markdown",
   "id": "e0690379",
   "metadata": {},
   "source": [
    "## Varied positive F1 score\n",
    "\n",
    "The positive F1 score specifically refers to the harmonic mean of precision and recall for predicting instances when the class of interest is present. In other words, it's a measure of *how well the classifier is able to correctly identify instances when the class is present.*\n",
    "\n",
    "A high positive F1 score suggests that the classifier is able to correctly identify positive instances while keeping the number of false negatives low. In other words, the classifier is able to identify the majority of instances of the positive class, while also keeping the number of instances that were actually positive but were not identified as such (false negatives) low.\n",
    "\n",
    "The mean positive F1 score of 0.777 is relatively moderate performance and means that the classifiers are making more false negatives than false positives.\n",
    "\n",
    "Despite evaluating the best model from the grid search based on positive F1 score, the negative F1 score is far higher than the positive F1 score.\n",
    "\n",
    "It's likely that the imbalance in the training data is affecting the classifiers' ability to identify instances of the positive class. Sentence filtering was supposed to help with this, but as we can see from the table, it improved none of the classifiers. Other ways to improve this could be by upsampling the minority class, or using methods such as different ML models and weight balancing during training.\n",
    "\n",
    "Another possible explanation for lower positive F1 score is that the positive class is more difficult to predict than the negative class, meaning that there is more noise in the positive class, more variations or more feature dependencies, which makes it harder for the classifier to identify positive instances.\n",
    "\n",
    "As mentioned earlier, if I were to continue this project, I would dig deeper and also consider other performance metrics."
   ]
  },
  {
   "cell_type": "markdown",
   "id": "4fa35400",
   "metadata": {},
   "source": [
    "## Lowest score - 'Identifier_Mobile_Carrier'\n",
    "\n",
    "A segment is annotated with 'Identifier_Mobile_Carrier' if the segment describes collection of the user's mobile carrier name or other mobile carrier identifier. Story et al. thought that relevant key words for this (Crafted Features) include\n",
    "\n",
    "      - mobile network\n",
    "      - mobile carrier\n",
    "      - mobile operator\n",
    "      - device carrier\n",
    "      - carrier provider\n",
    "      - wireless carrier/operator\n",
    "      - wireless carrier\n",
    "      - phone carrier\n",
    "      - mobile service provider\n",
    "      - mobile or internet carrier\n",
    "      - carrier detail\n",
    "      \n",
    "Companies can use this data as a way of identifying the user, hence the 'Identifier' prefix on the annotation.\n",
    "\n",
    "From looking at the table, there is extremely little training data (only 60 instances in training dataset).  Although some classifiers performed better with similar amounts of data, more data is almost always going to be helpful.\n",
    "\n",
    "Let's also look at the confusion matrix."
   ]
  },
  {
   "cell_type": "code",
   "execution_count": 13,
   "id": "593b82ab",
   "metadata": {},
   "outputs": [
    {
     "data": {
      "text/html": [
       "<div>\n",
       "<style scoped>\n",
       "    .dataframe tbody tr th:only-of-type {\n",
       "        vertical-align: middle;\n",
       "    }\n",
       "\n",
       "    .dataframe tbody tr th {\n",
       "        vertical-align: top;\n",
       "    }\n",
       "\n",
       "    .dataframe thead th {\n",
       "        text-align: right;\n",
       "    }\n",
       "</style>\n",
       "<table border=\"1\" class=\"dataframe\">\n",
       "  <thead>\n",
       "    <tr style=\"text-align: right;\">\n",
       "      <th></th>\n",
       "      <th>Predicted Negative</th>\n",
       "      <th>Predicted Positive</th>\n",
       "    </tr>\n",
       "  </thead>\n",
       "  <tbody>\n",
       "    <tr>\n",
       "      <th>True Negative</th>\n",
       "      <td>2624</td>\n",
       "      <td>4</td>\n",
       "    </tr>\n",
       "    <tr>\n",
       "      <th>True Positive</th>\n",
       "      <td>17</td>\n",
       "      <td>6</td>\n",
       "    </tr>\n",
       "  </tbody>\n",
       "</table>\n",
       "</div>"
      ],
      "text/plain": [
       "               Predicted Negative  Predicted Positive\n",
       "True Negative                2624                   4\n",
       "True Positive                  17                   6"
      ]
     },
     "metadata": {},
     "output_type": "display_data"
    }
   ],
   "source": [
    "show_confusion_matrix(model_results_series['Identifier_Mobile_Carrier'][1].copy(), \n",
    "                      model_results_series['Identifier_Mobile_Carrier'][2].copy())"
   ]
  },
  {
   "cell_type": "markdown",
   "id": "f46203dd",
   "metadata": {},
   "source": [
    "In the validation dataset, there were only 23 positive examples. Such a small number of examples means that our results may not be representative of the model's average performance.\n",
    "\n",
    "It may also be the case that neither the features nor the words in the segment are particularly indicative of whether the segment describes mobile carrier information.  \n",
    "\n",
    "If I was to look more thoroughly, I would look at the examples that the model predicted as positive and at the factors that they had. "
   ]
  },
  {
   "cell_type": "markdown",
   "id": "76ac2d6d",
   "metadata": {},
   "source": [
    "**Training this many classifiers**\n",
    "\n",
    "Given the large number of different classifiers being trained, there is a chance that at least one of them is poorly represented in the training set by chance of the random split, or other random factors in the validation data."
   ]
  },
  {
   "cell_type": "markdown",
   "id": "6fb61c7e",
   "metadata": {},
   "source": [
    "## Comparison to results from the paper\n",
    "\n",
    "Story et al. only discuss positive F1 scores for how well a classifier predicts the existence of a class in a single segment, which is comparable to my work.  They discuss in more detail scores for predicting the existence of a class across an entire policy, which was outside the scope of my project.\n",
    "\n",
    "Looking at the former, the table on [page 4](https://usableprivacy.org/static/files/story_pal_2019.pdf#page=4) of the paper shows that their baseline model results were quite high relative to mine.  This may have been due to different preprocessing and training techniques, since they did not go into much detail into these.\n",
    "\n",
    "My scores did exceed theirs for a number of classifiers. Some of this appears to be due to using tf-idf with unigrams only when it improved performance for the classifier.  Differences in technique, along with some random elements, may also have affected our results."
   ]
  },
  {
   "cell_type": "markdown",
   "id": "7bde6694",
   "metadata": {},
   "source": [
    "## Effects of Differing pre-processing techniques and models"
   ]
  },
  {
   "cell_type": "markdown",
   "id": "0393e974",
   "metadata": {},
   "source": [
    "Only two of the 18 classifiers performed better using logistic regression than SVC. it makes sense that the majority of best classifiers used SVC because:\n",
    "\n",
    "- SVC is known to perform well on text data. Reasons include linear SVC's ability to handle high dimensionality and sparse data.\n",
    "- the researchers suggested a specific implementation of SVC based on their previous work which I used\n",
    "- I didn't search over any range of hyperparameters for logistic regression\n",
    "\n",
    "But I was interested to see that this baseline model (logistic regression) improved over tuned SVC in some cases.\n",
    "\n",
    "5 of the 18 classifiers performed better when trained without including bigrams (including the two logistic regression classifiers). Generally I would expect that including bigrams would improve performance as it allows the model to take into account more context so I am not surprised that most models were improved with the inclusion of bigrams. Some of the reasons for the other 5 classifiers could be:\n",
    "- For the two logistic regression models: logistic regression may not perform well when handling high dimensional data, so performance may increase when bigrams are excluded.\n",
    "- Redundancy: Some bigrams may be very similar to the unigrams they are composed of, so including bigrams may add redundant information that does not improve the classifier's performance.\n",
    "- Noise: Bigrams can also capture random combinations of words, which may add noise to the data and make it more difficult for the classifier to identify the important features.\n",
    "- Overfitting: Bigrams increase the dimensionality of the data, which can lead to overfitting when the dataset is not large enough, which could be a problem with this dataset.\n",
    "\n",
    "It is worth noting that these were just some approaches to feature selection and model selection. Further experimentation on different combinations of models, hyperparameters and feature selection could be done to check if the performance can be improved further."
   ]
  },
  {
   "cell_type": "markdown",
   "id": "5d978f00",
   "metadata": {},
   "source": [
    "# Final model performance on test set\n",
    "\n",
    "Let's now evaluate the classifiers on an unseen test set to see how they generalize from unseen data.  I will train all classifiers using the Train and Validate data sets combined and test the score on the test set."
   ]
  },
  {
   "cell_type": "code",
   "execution_count": 8,
   "id": "81016d73",
   "metadata": {},
   "outputs": [],
   "source": [
    "final_results = pd.Series(range(len(list_of_18_classifiers)),\n",
    "                          index=list_of_18_classifiers, dtype=object)"
   ]
  },
  {
   "cell_type": "code",
   "execution_count": 9,
   "id": "baf170b2",
   "metadata": {},
   "outputs": [],
   "source": [
    "df_for_pipelining = pd.read_pickle(\"objects/crafted_features_df.pkl\")\n",
    "\n",
    "df_for_pipelining_train_val = df_for_pipelining.loc[\n",
    "    (df_for_pipelining['policy_type'] == 'TRAINING') | (df_for_pipelining['policy_type'] == 'VALIDATION')\n",
    "].copy()\n",
    "df_for_pipelining_test = df_for_pipelining.loc[df_for_pipelining['policy_type'] == 'TEST' ].copy()\n",
    "\n",
    "for dataframe in [df_for_pipelining_train_val, df_for_pipelining_test]:\n",
    "    dataframe.drop(columns=['source_policy_number', 'policy_type', 'contains_synthetic',\n",
    "           'policy_segment_id', 'annotations', 'sentences'], inplace=True)\n",
    "    dataframe.reset_index(inplace=True, drop=True)"
   ]
  },
  {
   "cell_type": "code",
   "execution_count": 10,
   "id": "ee0d699b",
   "metadata": {},
   "outputs": [
    {
     "data": {
      "text/plain": [
       "(10719, 511)"
      ]
     },
     "execution_count": 10,
     "metadata": {},
     "output_type": "execute_result"
    }
   ],
   "source": [
    "# sanity check\n",
    "df_for_pipelining_train_val.shape"
   ]
  },
  {
   "cell_type": "markdown",
   "id": "70298d22",
   "metadata": {},
   "source": [
    "Running modelling pipeline for all classifiers\n",
    "\n",
    "**! This could take some time to run:**"
   ]
  },
  {
   "cell_type": "code",
   "execution_count": 11,
   "id": "67f30b60",
   "metadata": {},
   "outputs": [
    {
     "name": "stdout",
     "output_type": "stream",
     "text": [
      "Running for classifier: Contact\n",
      "Ready for grid search.\n",
      "Fitting 5 folds for each of 16 candidates, totalling 80 fits\n",
      "Ready for evaluation\n",
      "The runtime for Contact was 38.52312\n",
      "\n",
      "Running for classifier: Contact_E_Mail_Address\n",
      "Ready for grid search.\n",
      "Fitting 5 folds for each of 16 candidates, totalling 80 fits\n",
      "Ready for evaluation\n",
      "The runtime for Contact_E_Mail_Address was 73.43276\n",
      "\n",
      "Running for classifier: Contact_Phone_Number\n",
      "Ready for grid search.\n",
      "Fitting 5 folds for each of 16 candidates, totalling 80 fits\n",
      "Ready for evaluation\n",
      "The runtime for Contact_Phone_Number was 48.84092\n",
      "\n",
      "Running for classifier: Identifier_Cookie_or_similar_Tech\n",
      "Ready for grid search.\n",
      "Fitting 5 folds for each of 16 candidates, totalling 80 fits\n",
      "Ready for evaluation\n",
      "The runtime for Identifier_Cookie_or_similar_Tech was 41.73223\n",
      "\n",
      "Running for classifier: Identifier_Device_ID\n",
      "Ready for grid search.\n",
      "Fitting 5 folds for each of 16 candidates, totalling 80 fits\n",
      "Ready for evaluation\n",
      "The runtime for Identifier_Device_ID was 41.76838\n",
      "\n",
      "Running for classifier: Identifier_IMEI\n",
      "Ready for grid search.\n",
      "Fitting 5 folds for each of 16 candidates, totalling 80 fits\n",
      "Ready for evaluation\n",
      "The runtime for Identifier_IMEI was 16.59766\n",
      "\n",
      "Running for classifier: Identifier_MAC\n",
      "Ready for grid search.\n",
      "Fitting 5 folds for each of 16 candidates, totalling 80 fits\n",
      "Ready for evaluation\n",
      "The runtime for Identifier_MAC was 17.86852\n",
      "\n",
      "Running for classifier: Identifier_Mobile_Carrier\n",
      "Ready for grid search.\n",
      "Fitting 5 folds for each of 16 candidates, totalling 80 fits\n",
      "Ready for evaluation\n",
      "The runtime for Identifier_Mobile_Carrier was 27.36535\n",
      "\n",
      "Running for classifier: Location\n",
      "Ready for grid search.\n",
      "Fitting 5 folds for each of 16 candidates, totalling 80 fits\n",
      "Ready for evaluation\n",
      "The runtime for Location was 40.70228\n",
      "\n",
      "Running for classifier: Location_Cell_Tower\n",
      "Ready for grid search.\n",
      "Fitting 5 folds for each of 16 candidates, totalling 80 fits\n",
      "Ready for evaluation\n",
      "The runtime for Location_Cell_Tower was 24.99595\n",
      "\n",
      "Running for classifier: Location_GPS\n",
      "Ready for grid search.\n",
      "Fitting 5 folds for each of 16 candidates, totalling 80 fits\n",
      "Ready for evaluation\n",
      "The runtime for Location_GPS was 33.46221\n",
      "\n",
      "Running for classifier: Location_WiFi\n",
      "Ready for grid search.\n",
      "Fitting 5 folds for each of 16 candidates, totalling 80 fits\n",
      "Ready for evaluation\n",
      "The runtime for Location_WiFi was 31.00286\n",
      "\n",
      "Running for classifier: SSO\n",
      "Ready for grid search.\n",
      "Fitting 5 folds for each of 16 candidates, totalling 80 fits\n",
      "Ready for evaluation\n",
      "The runtime for SSO was 36.0167\n",
      "\n",
      "Running for classifier: Facebook_SSO\n",
      "Ready for grid search.\n",
      "Fitting 5 folds for each of 16 candidates, totalling 80 fits\n",
      "Ready for evaluation\n",
      "The runtime for Facebook_SSO was 19.86994\n",
      "\n",
      "Running for classifier: 1st_party\n",
      "Ready for grid search.\n",
      "Fitting 5 folds for each of 16 candidates, totalling 80 fits\n",
      "Ready for evaluation\n",
      "The runtime for 1st_party was 162.38549\n",
      "\n",
      "Running for classifier: 3rd_party\n",
      "Ready for grid search.\n",
      "Fitting 5 folds for each of 16 candidates, totalling 80 fits\n",
      "Ready for evaluation\n",
      "The runtime for 3rd_party was 95.78037\n",
      "\n",
      "Running for classifier: PERFORMED\n",
      "Ready for grid search.\n",
      "Fitting 5 folds for each of 16 candidates, totalling 80 fits\n",
      "Ready for evaluation\n",
      "The runtime for PERFORMED was 172.18236\n",
      "\n",
      "Running for classifier: NOT_PERFORMED\n",
      "Ready for grid search.\n",
      "Fitting 5 folds for each of 16 candidates, totalling 80 fits\n",
      "Ready for evaluation\n",
      "The runtime for NOT_PERFORMED was 66.17168\n",
      "\n"
     ]
    }
   ],
   "source": [
    "for each_classifier in list_of_18_classifiers:\n",
    "    \n",
    "    priv_pol_funcs.full_modelling_pipeline(classifier = each_classifier, \n",
    "                                           df_for_pipelining = df_for_pipelining_train_val, \n",
    "                                           df_for_evaluation = df_for_pipelining_test, \n",
    "                                           clean_annotation_features = clean_annotation_features,\n",
    "                                           model_results_series = final_results,  \n",
    "                                           col_transform_unigrams = col_transform_unigrams, \n",
    "                                           col_transform_withbigrams = col_transform_withbigrams)"
   ]
  },
  {
   "cell_type": "code",
   "execution_count": 12,
   "id": "3437a541",
   "metadata": {},
   "outputs": [],
   "source": [
    "final_model_results = pd.read_pickle(\"objects/model_results.pkl\")"
   ]
  },
  {
   "cell_type": "code",
   "execution_count": 13,
   "id": "18c632a6",
   "metadata": {},
   "outputs": [],
   "source": [
    "final_results_table = pd.DataFrame(final_model_results, columns=[\"Frequency in train set\"]).copy()\n",
    "\n",
    "for classifier in final_model_results.index:\n",
    "    \n",
    "    fitted_search = final_model_results[classifier][0]\n",
    "\n",
    "    # Total instances in dataset\n",
    "    final_results_table.loc[classifier, \"Frequency in train set\"] = \\\n",
    "        df_for_pipelining_train_val[classifier].sum()\n",
    "\n",
    "    # Neg F1\n",
    "    final_results_table.loc[classifier, \"Neg F1\"] = \\\n",
    "        f1_score(final_model_results[classifier][1].copy(), final_model_results[classifier][2].copy(), pos_label=0)\n",
    "\n",
    "    # Pos F1\n",
    "    final_results_table.loc[classifier, \"Pos F1\"] = \\\n",
    "        f1_score(final_model_results[classifier][1].copy(), final_model_results[classifier][2].copy(), pos_label=1)\n",
    "\n",
    "    # Sentence Filtering\n",
    "    final_results_table.loc[classifier, \"Sentence Filtering\"] = \\\n",
    "        str(fitted_search.best_estimator_.steps[0][1])\n",
    "\n",
    "    # Including Bigrams or not\n",
    "    final_results_table.loc[classifier, \"including bigrams or not\"] = \\\n",
    "        fitted_search.best_estimator_.named_steps[\"tfidf\"].get_params()[\"transformers\"][0][0]\n",
    "\n",
    "    # Model type\n",
    "    final_results_table.loc[classifier, \"SVM or Logistic Regression\"] = \\\n",
    "        fitted_search.best_estimator_.named_steps[\"model\"]"
   ]
  },
  {
   "cell_type": "code",
   "execution_count": 15,
   "id": "3f7250a1",
   "metadata": {},
   "outputs": [
    {
     "data": {
      "text/html": [
       "<div>\n",
       "<style scoped>\n",
       "    .dataframe tbody tr th:only-of-type {\n",
       "        vertical-align: middle;\n",
       "    }\n",
       "\n",
       "    .dataframe tbody tr th {\n",
       "        vertical-align: top;\n",
       "    }\n",
       "\n",
       "    .dataframe thead th {\n",
       "        text-align: right;\n",
       "    }\n",
       "</style>\n",
       "<table border=\"1\" class=\"dataframe\">\n",
       "  <thead>\n",
       "    <tr style=\"text-align: right;\">\n",
       "      <th></th>\n",
       "      <th>Frequency in train set</th>\n",
       "      <th>Neg F1</th>\n",
       "      <th>Pos F1</th>\n",
       "      <th>Sentence Filtering</th>\n",
       "      <th>including bigrams or not</th>\n",
       "      <th>SVM or Logistic Regression</th>\n",
       "    </tr>\n",
       "  </thead>\n",
       "  <tbody>\n",
       "    <tr>\n",
       "      <th>Contact</th>\n",
       "      <td>169</td>\n",
       "      <td>0.993997</td>\n",
       "      <td>0.627451</td>\n",
       "      <td>None</td>\n",
       "      <td>with_bigrams</td>\n",
       "      <td>SVC(C=0.1, class_weight='balanced', kernel='li...</td>\n",
       "    </tr>\n",
       "    <tr>\n",
       "      <th>Contact_E_Mail_Address</th>\n",
       "      <td>884</td>\n",
       "      <td>0.985018</td>\n",
       "      <td>0.788069</td>\n",
       "      <td>None</td>\n",
       "      <td>with_bigrams</td>\n",
       "      <td>SVC(C=1, class_weight='balanced', kernel='line...</td>\n",
       "    </tr>\n",
       "    <tr>\n",
       "      <th>Contact_Phone_Number</th>\n",
       "      <td>476</td>\n",
       "      <td>0.993601</td>\n",
       "      <td>0.779412</td>\n",
       "      <td>None</td>\n",
       "      <td>with_bigrams</td>\n",
       "      <td>SVC(C=1, class_weight='balanced', kernel='line...</td>\n",
       "    </tr>\n",
       "    <tr>\n",
       "      <th>Identifier_Cookie_or_similar_Tech</th>\n",
       "      <td>818</td>\n",
       "      <td>0.992395</td>\n",
       "      <td>0.903683</td>\n",
       "      <td>None</td>\n",
       "      <td>with_bigrams</td>\n",
       "      <td>SVC(C=1, class_weight='balanced', kernel='line...</td>\n",
       "    </tr>\n",
       "    <tr>\n",
       "      <th>Identifier_Device_ID</th>\n",
       "      <td>430</td>\n",
       "      <td>0.994027</td>\n",
       "      <td>0.794118</td>\n",
       "      <td>None</td>\n",
       "      <td>with_bigrams</td>\n",
       "      <td>SVC(C=1, class_weight='balanced', kernel='line...</td>\n",
       "    </tr>\n",
       "    <tr>\n",
       "      <th>Identifier_IMEI</th>\n",
       "      <td>66</td>\n",
       "      <td>0.999270</td>\n",
       "      <td>0.885246</td>\n",
       "      <td>None</td>\n",
       "      <td>with_bigrams</td>\n",
       "      <td>SVC(C=0.1, class_weight='balanced', kernel='li...</td>\n",
       "    </tr>\n",
       "    <tr>\n",
       "      <th>Identifier_MAC</th>\n",
       "      <td>109</td>\n",
       "      <td>0.998853</td>\n",
       "      <td>0.800000</td>\n",
       "      <td>None</td>\n",
       "      <td>unigrams_only</td>\n",
       "      <td>LogisticRegression(max_iter=1000, random_state=1)</td>\n",
       "    </tr>\n",
       "    <tr>\n",
       "      <th>Identifier_Mobile_Carrier</th>\n",
       "      <td>83</td>\n",
       "      <td>0.998542</td>\n",
       "      <td>0.708333</td>\n",
       "      <td>None</td>\n",
       "      <td>with_bigrams</td>\n",
       "      <td>SVC(C=1, class_weight='balanced', kernel='line...</td>\n",
       "    </tr>\n",
       "    <tr>\n",
       "      <th>Location</th>\n",
       "      <td>722</td>\n",
       "      <td>0.992630</td>\n",
       "      <td>0.838863</td>\n",
       "      <td>None</td>\n",
       "      <td>unigrams_only</td>\n",
       "      <td>LogisticRegression(max_iter=1000, random_state=1)</td>\n",
       "    </tr>\n",
       "    <tr>\n",
       "      <th>Location_Cell_Tower</th>\n",
       "      <td>124</td>\n",
       "      <td>0.998959</td>\n",
       "      <td>0.782609</td>\n",
       "      <td>None</td>\n",
       "      <td>unigrams_only</td>\n",
       "      <td>SVC(C=1, class_weight='balanced', kernel='line...</td>\n",
       "    </tr>\n",
       "    <tr>\n",
       "      <th>Location_GPS</th>\n",
       "      <td>194</td>\n",
       "      <td>0.997694</td>\n",
       "      <td>0.796296</td>\n",
       "      <td>None</td>\n",
       "      <td>with_bigrams</td>\n",
       "      <td>SVC(C=1, class_weight='balanced', kernel='line...</td>\n",
       "    </tr>\n",
       "    <tr>\n",
       "      <th>Location_WiFi</th>\n",
       "      <td>170</td>\n",
       "      <td>0.997811</td>\n",
       "      <td>0.618182</td>\n",
       "      <td>None</td>\n",
       "      <td>with_bigrams</td>\n",
       "      <td>SVC(C=1, class_weight='balanced', kernel='line...</td>\n",
       "    </tr>\n",
       "    <tr>\n",
       "      <th>SSO</th>\n",
       "      <td>198</td>\n",
       "      <td>0.992838</td>\n",
       "      <td>0.558442</td>\n",
       "      <td>None</td>\n",
       "      <td>with_bigrams</td>\n",
       "      <td>SVC(C=1, class_weight='balanced', kernel='line...</td>\n",
       "    </tr>\n",
       "    <tr>\n",
       "      <th>Facebook_SSO</th>\n",
       "      <td>145</td>\n",
       "      <td>0.994747</td>\n",
       "      <td>0.615385</td>\n",
       "      <td>None</td>\n",
       "      <td>unigrams_only</td>\n",
       "      <td>SVC(C=1, class_weight='balanced', kernel='line...</td>\n",
       "    </tr>\n",
       "    <tr>\n",
       "      <th>1st_party</th>\n",
       "      <td>2510</td>\n",
       "      <td>0.962497</td>\n",
       "      <td>0.843179</td>\n",
       "      <td>FunctionSampler(func=&lt;function sentence_filter...</td>\n",
       "      <td>with_bigrams</td>\n",
       "      <td>SVC(C=1, class_weight='balanced', kernel='line...</td>\n",
       "    </tr>\n",
       "    <tr>\n",
       "      <th>3rd_party</th>\n",
       "      <td>720</td>\n",
       "      <td>0.980263</td>\n",
       "      <td>0.659091</td>\n",
       "      <td>None</td>\n",
       "      <td>with_bigrams</td>\n",
       "      <td>SVC(C=1, class_weight='balanced', kernel='line...</td>\n",
       "    </tr>\n",
       "    <tr>\n",
       "      <th>PERFORMED</th>\n",
       "      <td>2287</td>\n",
       "      <td>0.959483</td>\n",
       "      <td>0.851762</td>\n",
       "      <td>None</td>\n",
       "      <td>with_bigrams</td>\n",
       "      <td>SVC(C=1, class_weight='balanced', kernel='line...</td>\n",
       "    </tr>\n",
       "    <tr>\n",
       "      <th>NOT_PERFORMED</th>\n",
       "      <td>782</td>\n",
       "      <td>0.993083</td>\n",
       "      <td>0.377358</td>\n",
       "      <td>None</td>\n",
       "      <td>with_bigrams</td>\n",
       "      <td>SVC(C=10, class_weight='balanced', kernel='lin...</td>\n",
       "    </tr>\n",
       "  </tbody>\n",
       "</table>\n",
       "</div>"
      ],
      "text/plain": [
       "                                  Frequency in train set    Neg F1    Pos F1  \\\n",
       "Contact                                              169  0.993997  0.627451   \n",
       "Contact_E_Mail_Address                               884  0.985018  0.788069   \n",
       "Contact_Phone_Number                                 476  0.993601  0.779412   \n",
       "Identifier_Cookie_or_similar_Tech                    818  0.992395  0.903683   \n",
       "Identifier_Device_ID                                 430  0.994027  0.794118   \n",
       "Identifier_IMEI                                       66  0.999270  0.885246   \n",
       "Identifier_MAC                                       109  0.998853  0.800000   \n",
       "Identifier_Mobile_Carrier                             83  0.998542  0.708333   \n",
       "Location                                             722  0.992630  0.838863   \n",
       "Location_Cell_Tower                                  124  0.998959  0.782609   \n",
       "Location_GPS                                         194  0.997694  0.796296   \n",
       "Location_WiFi                                        170  0.997811  0.618182   \n",
       "SSO                                                  198  0.992838  0.558442   \n",
       "Facebook_SSO                                         145  0.994747  0.615385   \n",
       "1st_party                                           2510  0.962497  0.843179   \n",
       "3rd_party                                            720  0.980263  0.659091   \n",
       "PERFORMED                                           2287  0.959483  0.851762   \n",
       "NOT_PERFORMED                                        782  0.993083  0.377358   \n",
       "\n",
       "                                                                  Sentence Filtering  \\\n",
       "Contact                                                                         None   \n",
       "Contact_E_Mail_Address                                                          None   \n",
       "Contact_Phone_Number                                                            None   \n",
       "Identifier_Cookie_or_similar_Tech                                               None   \n",
       "Identifier_Device_ID                                                            None   \n",
       "Identifier_IMEI                                                                 None   \n",
       "Identifier_MAC                                                                  None   \n",
       "Identifier_Mobile_Carrier                                                       None   \n",
       "Location                                                                        None   \n",
       "Location_Cell_Tower                                                             None   \n",
       "Location_GPS                                                                    None   \n",
       "Location_WiFi                                                                   None   \n",
       "SSO                                                                             None   \n",
       "Facebook_SSO                                                                    None   \n",
       "1st_party                          FunctionSampler(func=<function sentence_filter...   \n",
       "3rd_party                                                                       None   \n",
       "PERFORMED                                                                       None   \n",
       "NOT_PERFORMED                                                                   None   \n",
       "\n",
       "                                  including bigrams or not  \\\n",
       "Contact                                       with_bigrams   \n",
       "Contact_E_Mail_Address                        with_bigrams   \n",
       "Contact_Phone_Number                          with_bigrams   \n",
       "Identifier_Cookie_or_similar_Tech             with_bigrams   \n",
       "Identifier_Device_ID                          with_bigrams   \n",
       "Identifier_IMEI                               with_bigrams   \n",
       "Identifier_MAC                               unigrams_only   \n",
       "Identifier_Mobile_Carrier                     with_bigrams   \n",
       "Location                                     unigrams_only   \n",
       "Location_Cell_Tower                          unigrams_only   \n",
       "Location_GPS                                  with_bigrams   \n",
       "Location_WiFi                                 with_bigrams   \n",
       "SSO                                           with_bigrams   \n",
       "Facebook_SSO                                 unigrams_only   \n",
       "1st_party                                     with_bigrams   \n",
       "3rd_party                                     with_bigrams   \n",
       "PERFORMED                                     with_bigrams   \n",
       "NOT_PERFORMED                                 with_bigrams   \n",
       "\n",
       "                                                          SVM or Logistic Regression  \n",
       "Contact                            SVC(C=0.1, class_weight='balanced', kernel='li...  \n",
       "Contact_E_Mail_Address             SVC(C=1, class_weight='balanced', kernel='line...  \n",
       "Contact_Phone_Number               SVC(C=1, class_weight='balanced', kernel='line...  \n",
       "Identifier_Cookie_or_similar_Tech  SVC(C=1, class_weight='balanced', kernel='line...  \n",
       "Identifier_Device_ID               SVC(C=1, class_weight='balanced', kernel='line...  \n",
       "Identifier_IMEI                    SVC(C=0.1, class_weight='balanced', kernel='li...  \n",
       "Identifier_MAC                     LogisticRegression(max_iter=1000, random_state=1)  \n",
       "Identifier_Mobile_Carrier          SVC(C=1, class_weight='balanced', kernel='line...  \n",
       "Location                           LogisticRegression(max_iter=1000, random_state=1)  \n",
       "Location_Cell_Tower                SVC(C=1, class_weight='balanced', kernel='line...  \n",
       "Location_GPS                       SVC(C=1, class_weight='balanced', kernel='line...  \n",
       "Location_WiFi                      SVC(C=1, class_weight='balanced', kernel='line...  \n",
       "SSO                                SVC(C=1, class_weight='balanced', kernel='line...  \n",
       "Facebook_SSO                       SVC(C=1, class_weight='balanced', kernel='line...  \n",
       "1st_party                          SVC(C=1, class_weight='balanced', kernel='line...  \n",
       "3rd_party                          SVC(C=1, class_weight='balanced', kernel='line...  \n",
       "PERFORMED                          SVC(C=1, class_weight='balanced', kernel='line...  \n",
       "NOT_PERFORMED                      SVC(C=10, class_weight='balanced', kernel='lin...  "
      ]
     },
     "execution_count": 15,
     "metadata": {},
     "output_type": "execute_result"
    }
   ],
   "source": [
    "final_results_table"
   ]
  },
  {
   "cell_type": "markdown",
   "id": "72b486f3",
   "metadata": {},
   "source": [
    "If I were to work on this project further, I would make the table more easily readable for describing the model type and whether sentence filtering is included."
   ]
  },
  {
   "cell_type": "code",
   "execution_count": 14,
   "id": "5292adbb",
   "metadata": {},
   "outputs": [
    {
     "name": "stdout",
     "output_type": "stream",
     "text": [
      "Negative F1 mean: 0.9903170275875532\n",
      "Positive F1 mean: 0.734859898551982\n"
     ]
    }
   ],
   "source": [
    "print(f\"Negative F1 mean: {final_results_table['Neg F1'].mean()}\")\n",
    "print(f\"Positive F1 mean: {final_results_table['Pos F1'].mean()}\")"
   ]
  },
  {
   "cell_type": "markdown",
   "id": "152eac1e",
   "metadata": {},
   "source": [
    "By comparison:\n",
    "\n",
    "**Average F1 scores** <br/>\n",
    "For comparison: <br/>\n",
    "- Validate Negative F1 mean: 0.987\n",
    "- Validate Positive F1 mean: 0.777\n",
    "\n",
    "F1 scores were slightly higher for negative F1 but 0.04 lower for positive F1. Perhaps the greater amount of data emphasised the effect of the class imbalance, or any number of other factors.\n",
    "\n",
    "Looking at both scores, one conclusion could be that by increasing the amount of data being used, the model performance has not really increased, meaning that the limiting factors are probably in the model creation.\n",
    "\n",
    "**Negative F1 Scores for individual classifiers**<br/>\n",
    "On both the validation and test data, the lowest scoring classifiers were \"1st Party\" and \"Performed\", which are the two classifiers with the most examples and thus least class imbalance. \n",
    "\n",
    "**Positive F1 Scores for individual classifiers**<br/>\n",
    "It is easier to see the differences with a graph"
   ]
  },
  {
   "cell_type": "code",
   "execution_count": 71,
   "id": "44dc3d16",
   "metadata": {},
   "outputs": [
    {
     "data": {
      "image/png": "[encoded data removed]",
      "text/plain": [
       "<Figure size 500x1300 with 1 Axes>"
      ]
     },
     "metadata": {},
     "output_type": "display_data"
    }
   ],
   "source": [
    "# Create the figure and axes\n",
    "fig, ax = plt.subplots(figsize=(5, 13))\n",
    "\n",
    "# Create the bar chart\n",
    "bar_width = 0.30\n",
    "bar1 = ax.barh(np.arange(len(final_results_table)), final_results_table['Pos F1'].loc[::-1], bar_width, label='Test')\n",
    "bar2 = ax.barh(np.arange(len(full_results_table)) + bar_width, full_results_table['Pos F1'].loc[::-1], bar_width, label='Validate')\n",
    "\n",
    "# Adding the legend and labels\n",
    "ax.legend()\n",
    "ax.set_ylabel('Targets')\n",
    "ax.set_xlabel('Positive F1 scores')\n",
    "\n",
    "# Set the xticks\n",
    "ax.set_yticks(np.arange(len(full_results_table)) + bar_width/2)\n",
    "ax.set_yticklabels(list(full_results_table.index)[::-1])\n",
    "\n",
    "# Show the plot\n",
    "plt.show()\n"
   ]
  },
  {
   "cell_type": "markdown",
   "id": "3f13a7a7",
   "metadata": {},
   "source": [
    "There were good improvements for Identifier_mobile_carrier and location_cell_tower, but moderate drops in score for location_WiFi, SSO, Facebook_SSO, and especially NOT_PERFORMED.  These could be for many different reasons that I could explore were I to continue this project."
   ]
  },
  {
   "cell_type": "markdown",
   "id": "b2afeeea",
   "metadata": {},
   "source": [
    "**Sentence Filtering**\n",
    "\n",
    "As before, sentence filtering was not popular amongst the classifiers, but it is interesting to see that it is now preferred by \"1st Party\", which has the most examples.  Perhaps once a certain quantity of examples is reached, sentence filtering can become useful.\n",
    "\n",
    "**Uni and bigrams**\n",
    "\n",
    "Four classifiers preferred only using unigrams, down from 5, with some of the same classifiers preferring unigrams, so similar results here but it would be interesting to explore why these differences have arrived for the classifiers where there are differences.\n",
    "\n",
    "**SVC or Logistic Regression**\n",
    "\n",
    "As before, only two classifiers prefer logistic regression and both use unigrams only, but one of the specific classifiers is different.\n",
    "\n"
   ]
  },
  {
   "cell_type": "markdown",
   "id": "3c124fd8",
   "metadata": {},
   "source": [
    "# Further work\n",
    "\n",
    "- It would be insightful to explore why different preprocessing steps or why different models have different effects on different classifiers when trained on this dataset\n",
    "- Try training with data at the sentence level, as suggested by Story et al\n",
    "- Improve the sentence filtering to include segments featuring any word from that classifier phrase, as this may improve the performance of the sentence filtering\n",
    "- Try different models, e.g. naive bayes classifier\n",
    "- Apply scaling. Every column is between 0 and 1 anyway so the effect would be small but it could have big effect for some classifiers\n",
    "- Search over a wider range of hyperparameters\n",
    "\n",
    "**Thanks for reading!**"
   ]
  },
  {
   "cell_type": "markdown",
   "id": "c7038d04",
   "metadata": {},
   "source": [
    "---\n",
    "\n",
    "---"
   ]
  }
 ],
 "metadata": {
  "kernelspec": {
   "display_name": "priv_pol_nlp",
   "language": "python",
   "name": "priv_pol_nlp"
  },
  "language_info": {
   "codemirror_mode": {
    "name": "ipython",
    "version": 3
   },
   "file_extension": ".py",
   "mimetype": "text/x-python",
   "name": "python",
   "nbconvert_exporter": "python",
   "pygments_lexer": "ipython3",
   "version": "3.10.6"
  },
  "toc": {
   "base_numbering": 1,
   "nav_menu": {},
   "number_sections": true,
   "sideBar": true,
   "skip_h1_title": false,
   "title_cell": "Table of Contents",
   "title_sidebar": "Contents",
   "toc_cell": true,
   "toc_position": {},
   "toc_section_display": true,
   "toc_window_display": false
  }
 },
 "nbformat": 4,
 "nbformat_minor": 5
}
